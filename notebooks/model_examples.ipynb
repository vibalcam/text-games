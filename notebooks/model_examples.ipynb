{
 "cells": [
  {
   "cell_type": "markdown",
   "metadata": {},
   "source": [
    "# Example outputs BERT models"
   ]
  },
  {
   "cell_type": "code",
   "execution_count": 1,
   "metadata": {},
   "outputs": [],
   "source": [
    "import sys\n",
    "sys.path.append('../')"
   ]
  },
  {
   "cell_type": "code",
   "execution_count": 2,
   "metadata": {},
   "outputs": [
    {
     "name": "stdout",
     "output_type": "stream",
     "text": [
      "cuda\n"
     ]
    }
   ],
   "source": [
    "import torch\n",
    "from pathlib import Path\n",
    "from models.models import load_model\n",
    "import numpy as np\n",
    "\n",
    "# cpu or gpu used for training if available (gpu much faster)\n",
    "device_gpu = torch.device('cuda' if torch.cuda.is_available() else 'cpu')\n",
    "device_cpu = torch.device('cpu')\n",
    "print(device_gpu)"
   ]
  },
  {
   "cell_type": "code",
   "execution_count": 3,
   "metadata": {},
   "outputs": [],
   "source": [
    "num_workers = 0\n",
    "save_path = '.'\n",
    "data_path = '../yarnScripts'"
   ]
  },
  {
   "cell_type": "code",
   "execution_count": 4,
   "metadata": {},
   "outputs": [],
   "source": [
    "# # bert\n",
    "# first = \"./saved_bert/200_[20]_[30]_1_False_bert-base-multilingual-cased_0.001_adamw_8_max_val_mcc_False_False_100\"\n",
    "# second = \"./saved_bert/125_[30]_[20]_1_False_bert-base-multilingual-cased_0.001_adamw_8_max_val_mcc_False_False_100\"\n",
    "\n",
    "# # first = \"./saved_bert/125_[30]_[30]_1_False_bert-base-multilingual-cased_0.001_adamw_8_max_val_mcc_False_False_100\"\n",
    "# # second = \"./saved_bert/75_[20]_[30]_1_False_bert-base-multilingual-cased_0.001_adamw_8_max_val_mcc_False_False_100\""
   ]
  },
  {
   "cell_type": "code",
   "execution_count": 5,
   "metadata": {},
   "outputs": [],
   "source": [
    "# # neg\n",
    "# zero = \"./saved_neg/128_[20]_[30]_1_False_bert-base-multilingual-cased_0.001_adamw_16_max_val_mcc_False_True_35\"\n",
    "# first = \"./saved_neg/128_[20]_[20]_1_False_bert-base-multilingual-cased_0.001_adamw_16_max_val_mcc_False_True_35\"\n",
    "# second = \"./saved_neg/128_[30]_[20]_1_False_bert-base-multilingual-cased_0.001_adamw_16_max_val_mcc_False_True_35\""
   ]
  },
  {
   "cell_type": "code",
   "execution_count": 6,
   "metadata": {},
   "outputs": [],
   "source": [
    "# good vs neg vs bert\n",
    "\n",
    "zero = './saved_good/adamw_max_val_acc_8_False_125,[20],[20]_0.001'\n",
    "first = \"./saved_bert/125_[30]_[20]_1_False_bert-base-multilingual-cased_0.001_adamw_8_max_val_mcc_False_False_100\"\n",
    "second = \"./saved_neg/128_[20]_[30]_1_False_bert-base-multilingual-cased_0.001_adamw_16_max_val_mcc_False_True_35\""
   ]
  },
  {
   "cell_type": "code",
   "execution_count": 7,
   "metadata": {
    "collapsed": false,
    "pycharm": {
     "name": "#%%\n"
    }
   },
   "outputs": [],
   "source": [
    "# get model names from folder\n",
    "\n",
    "model_zero = load_model(Path(f\"{save_path}/{zero}\"))[0].to(device_gpu).eval()\n",
    "model_first = load_model(Path(f\"{save_path}/{first}\"))[0].to(device_gpu).eval()\n",
    "model_second = load_model(Path(f\"{save_path}/{second}\"))[0].to(device_gpu).eval()\n",
    "models = {\n",
    "    'good': model_zero,\n",
    "    'bert':model_first,\n",
    "    'neg':model_second, \n",
    "}"
   ]
  },
  {
   "cell_type": "code",
   "execution_count": 8,
   "metadata": {},
   "outputs": [],
   "source": [
    "CORRECT = '\\033[34m'\n",
    "WRONG = '\\033[91m'\n",
    "END = '\\033[0m'"
   ]
  },
  {
   "cell_type": "code",
   "execution_count": 9,
   "metadata": {},
   "outputs": [],
   "source": [
    "def predict(models, state:str, action:str, reward=None):\n",
    "    pred = []\n",
    "    for n,m in models.items():\n",
    "        pred.append((n,m.run([state], [action], return_percentages=True)[:, 0].cpu().detach().numpy()))\n",
    "        torch.cuda.empty_cache()\n",
    "\n",
    "    # pred = [k.run(state, action, return_percentages=True, device=device)[:, 0].cpu().detach().numpy() for k in models]\n",
    "    print(f\"State: {state}\\n\")\n",
    "    print(f\"Action: {action}\\n\")\n",
    "    if reward is not None:\n",
    "        print(f\"Expected: {reward}\\n\")\n",
    "    for n,p in pred:\n",
    "        chosen = (p > 0.5).astype(float)\n",
    "        \n",
    "        if reward is not None:\n",
    "            color = CORRECT if (chosen == reward).astype(bool).item() else WRONG\n",
    "        else:\n",
    "            color = ''\n",
    "        extra = f\"    Certainty {n}: {color}{(np.abs(chosen-1+p) * 100).item():.0f}%{END}\"\n",
    "        print(f\"Predicted {n}: {color}{p.item():.2f}{END}{extra} \")"
   ]
  },
  {
   "cell_type": "markdown",
   "metadata": {},
   "source": [
    "## To tell or not to tell"
   ]
  },
  {
   "cell_type": "markdown",
   "metadata": {},
   "source": [
    "When presented with a situation in which our player has been a victim of Online Grooming and asked to tell what happened."
   ]
  },
  {
   "cell_type": "markdown",
   "metadata": {},
   "source": [
    "### Tell friend"
   ]
  },
  {
   "cell_type": "code",
   "execution_count": 10,
   "metadata": {},
   "outputs": [
    {
     "name": "stdout",
     "output_type": "stream",
     "text": [
      "State: Al día siguiente, me desperté con un gran dolor de cabeza y me escocían los ojos. \n",
      "Después de mandarle la foto a Hally, éste insistió en que jugásemos un poco más. \n",
      "No recuerdo exactamente lo que ocurrió durante ese tiempo, ya que no podía dejar de pensar en lo que había hecho. \n",
      "Me arrepentía enormemente de haberle enviado esa foto. \n",
      "Sin embargo, seguía confiando en Hally. Cuando me levanté de la cama me di cuenta de que me había dejado el ordenador con el juego encendido. \n",
      "Me acerqué a apagarlo y me fije que Hally estaba ya conectado y me había escrito un mensaje. \n",
      "¿Habría estado jugando toda la noche?\n",
      "\n",
      "HallyHealer07: ¡Buenos días [name]! ^.^\n",
      "\n",
      "Estuve a punto de cerrar el ordenador y no contestarle, pero incoscientemente, nublad@ por el sueño, le respondí.\n",
      "\n",
      "User: Hola Hally\n",
      "\n",
      "HallyHealer07: ¿Qué tal has dormido?\n",
      "HallyHealer07: ¿Te apetece jugar un rato?\n",
      "\n",
      "User: Ahora no me apetece...\n",
      "\n",
      "HallyHealer07: Oh...\n",
      "HallyHealer07: ¡Podemos jugar luego si quieres!\n",
      "HallyHealer07: ¿Te ayudaron las fotos de anoche a sentirte más cómod@?\n",
      "HallyHealer07: Podemos repetir esta noche si quieres :)\n",
      "\n",
      "Un escalofrío me recorrió por todo el cuerpo cuando leí esos mensajes. \n",
      "No quería repetir la misma experiencia de anoche y me arrepentí al segundo de hacerlo, por lo que me negué en rotundo. \n",
      "\n",
      "User: No, Hally, no me gustan esas fotos.\n",
      "User: No quiero mandar más.\n",
      "\n",
      "HallyHealer07: ¿Qué?\n",
      "HallyHealer07: ¿Pero por qué?\n",
      "HallyHealer07: Pensaba que confiabas en mi...\n",
      "\n",
      "User: No me gusta mandar ese tipo de fotos Hally.\n",
      "User: Ni tampoco me gusta que me manden.\n",
      "User: Así que para ya por favor.\n",
      "\n",
      "HallyHealer07: ...\n",
      "HallyHealer07: ¿De verdad no vas a mandar más?\n",
      "\n",
      "User: No.\n",
      "\n",
      "HallyHealer07: ...\n",
      "HallyHealer07: ¿Incluso si subo tu foto para que todos la vean?\n",
      "\n",
      "User: ...\n",
      "User: ¿Qué...?\n",
      "\n",
      "HallyHealer07: No me parece nada justo que no me mandes más fotos [name].\n",
      "HallyHealer07: De alguna forma tendría que castigarte.\n",
      "\n",
      "User: Hally, me prometiste que no lo harías... \n",
      "User: Me prometiste que la borrarías...\n",
      "\n",
      "HallyHealer07: Tal vez.\n",
      "HallyHealer07: Pero eso era antes de que me traicionarás así.\n",
      "HallyHealer07: Te voy a volver a preguntar [name].\n",
      "HallyHealer07: ¿Vas a mandar más fotos?\n",
      "\n",
      "User: ...\n",
      "User: Hally, no puedo hacerlo, de verdad.\n",
      "User: Por favor no lo hagas.\n",
      "\n",
      "HallyHealer07: Está bien, está bien...\n",
      "\n",
      "User: ...¿?\n",
      "\n",
      "HallyHealer07: A Chipper entonces.\n",
      "\n",
      "User: !!\n",
      "\n",
      "HallyHealer07: Es una pena que no sepas poner tu cuenta en privado [name].\n",
      "HallyHealer07: Gracias a ti, puedo etiquetarte en un segundo, y todos tus amigos y los amigos de tus amigos, podrán ver lo guap@ que sales.\n",
      "\n",
      "User: ESPERA HALLY\n",
      "\n",
      "Hally se desconectó del chat antes de que pudiera impedírselo.\n",
      "Intenté conectarme a la cuenta de Chipper lo más rápido posible, para poder cambiar el estado de mi cuenta a privado y evitar que alguien pudiera ver mi foto.\n",
      "\n",
      "Sin embargo, nada más ver la página principal de Chipper, sólo podía observar un único mensaje.\n",
      "\n",
      "\"Te han etiquetado en una foto nueva\"\n",
      "\n",
      "Con una gran sensación de pánico, hice click en el mensaje y al ver el enlace del mensaje, sentí una gran punzada de dolor en mi pecho.\n",
      "En el foro de Chipper, se podía ver mi imagen en ropa interior.\n",
      "\t\n",
      "\tCuando iba a cerrar el post, me di cuenta de que había una descripción debajo de las fotos.\n",
      "\t\"Hola, me llamo [name]. Estoy muy sola porque mi papi ni mi mami no me hacen caso. Pienso que mi amiga Amanda es una idiota y una traidora, la odio con toda mi alma y no la soporto. \n",
      "\tSólo estoy con ella porque no tengo amigos. Busco compañía, el que quiera que me escriba\"\n",
      "\n",
      "Debajo del post, podía ver un montón de mensajes. \n",
      "Sólo habían pasado un par de minutos, pero podía ver en los mensajes que casi todos mis compañeros ya la habían visto. \n",
      "\n",
      "Usuario1: Ostras, ¿es [name]?\n",
      "Usuario1: ¿Le han hackeado la cuenta?\n",
      "Usuario2: No,no, otra persona lo ha subido.\n",
      "Usuario2: Le habrá mandado esa foto a alguien y le habrá dado luego una puñalada por la espalda.\n",
      "Usuario3: Pobre...¿quién sería tan rácano como para subir una foto así de alguien?\n",
      "Usuario3: Sobre todo sin su permiso.\n",
      "Usuario2: [name] es bastante rar@ la verdad.\n",
      "Usuario2: No se relaciona con nadie y nunca nos dirige la palabra.\n",
      "Usuario2: ¿Quién sabe?\n",
      "Usuario2: A lo mejor le gusta…\n",
      "Usuario4: Se lo ha buscado.\n",
      "Usuario4: ¿A quién se le ocurre enviar esas fotos por internet?\n",
      "\n",
      "Cerré rápidamente el post. \n",
      "Poco a poco, se me iban cayendo las lágrimas mientras una mezcla de miedo, vergüenza y angustia me recorría todo el cuerpo. \n",
      "¿Cómo puedo ir a clase el lunes?\n",
      "No me quiero ni imaginar a cuantas personas se han podido ver esa foto. \n",
      "Cuántas de ellas se la habrán guardado...\n",
      "Apoyé la cabeza contra la mesa y continué llorando y llorando. No podía soportar la idea de que tantas personas pudieran ver esa imagen de mi. \n",
      "¿Por qué habría hecho eso Hally?\n",
      "Pensé que podía confiar en él...Él me dijo que no haría nada con esas fotos... \n",
      "¿Me estaba mintiendo desde un principio?\n",
      "Tal vez... ¿sólo quería fotos mías desde un principio?\n",
      "¿Acaso era la única que pensaba que éramos amigos?\n",
      "De repente pude escuchar una notificación del ordenador. Ya no tenía nada más que perder. Levanté la vista y leí el pequeño mensaje que apareció en mi pantalla.\n",
      "\n",
      "Amanda: [name], ¿qué ha pasado? ¿por qué hay esa imagen tuya colgada?\n",
      "Amanda: ¿Estás bien?\n",
      "\n",
      "Action: Contarle a Amanda\n",
      "\n",
      "Expected: 1\n",
      "\n",
      "Predicted good: \u001b[34m0.75\u001b[0m    Certainty good: \u001b[34m75%\u001b[0m \n",
      "Predicted bert: \u001b[34m0.88\u001b[0m    Certainty bert: \u001b[34m88%\u001b[0m \n",
      "Predicted neg: \u001b[34m0.86\u001b[0m    Certainty neg: \u001b[34m86%\u001b[0m \n"
     ]
    }
   ],
   "source": [
    "predict(\n",
    "    models,\n",
    "    'Al día siguiente, me desperté con un gran dolor de cabeza y me escocían los ojos. \\nDespués de mandarle la foto a Hally, éste insistió en que jugásemos un poco más. \\nNo recuerdo exactamente lo que ocurrió durante ese tiempo, ya que no podía dejar de pensar en lo que había hecho. \\nMe arrepentía enormemente de haberle enviado esa foto. \\nSin embargo, seguía confiando en Hally. Cuando me levanté de la cama me di cuenta de que me había dejado el ordenador con el juego encendido. \\nMe acerqué a apagarlo y me fije que Hally estaba ya conectado y me había escrito un mensaje. \\n¿Habría estado jugando toda la noche?\\n\\nHallyHealer07: ¡Buenos días [name]! ^.^\\n\\nEstuve a punto de cerrar el ordenador y no contestarle, pero incoscientemente, nublad@ por el sueño, le respondí.\\n\\nUser: Hola Hally\\n\\nHallyHealer07: ¿Qué tal has dormido?\\nHallyHealer07: ¿Te apetece jugar un rato?\\n\\nUser: Ahora no me apetece...\\n\\nHallyHealer07: Oh...\\nHallyHealer07: ¡Podemos jugar luego si quieres!\\nHallyHealer07: ¿Te ayudaron las fotos de anoche a sentirte más cómod@?\\nHallyHealer07: Podemos repetir esta noche si quieres :)\\n\\nUn escalofrío me recorrió por todo el cuerpo cuando leí esos mensajes. \\nNo quería repetir la misma experiencia de anoche y me arrepentí al segundo de hacerlo, por lo que me negué en rotundo. \\n\\nUser: No, Hally, no me gustan esas fotos.\\nUser: No quiero mandar más.\\n\\nHallyHealer07: ¿Qué?\\nHallyHealer07: ¿Pero por qué?\\nHallyHealer07: Pensaba que confiabas en mi...\\n\\nUser: No me gusta mandar ese tipo de fotos Hally.\\nUser: Ni tampoco me gusta que me manden.\\nUser: Así que para ya por favor.\\n\\nHallyHealer07: ...\\nHallyHealer07: ¿De verdad no vas a mandar más?\\n\\nUser: No.\\n\\nHallyHealer07: ...\\nHallyHealer07: ¿Incluso si subo tu foto para que todos la vean?\\n\\nUser: ...\\nUser: ¿Qué...?\\n\\nHallyHealer07: No me parece nada justo que no me mandes más fotos [name].\\nHallyHealer07: De alguna forma tendría que castigarte.\\n\\nUser: Hally, me prometiste que no lo harías... \\nUser: Me prometiste que la borrarías...\\n\\nHallyHealer07: Tal vez.\\nHallyHealer07: Pero eso era antes de que me traicionarás así.\\nHallyHealer07: Te voy a volver a preguntar [name].\\nHallyHealer07: ¿Vas a mandar más fotos?\\n\\nUser: ...\\nUser: Hally, no puedo hacerlo, de verdad.\\nUser: Por favor no lo hagas.\\n\\nHallyHealer07: Está bien, está bien...\\n\\nUser: ...¿?\\n\\nHallyHealer07: A Chipper entonces.\\n\\nUser: !!\\n\\nHallyHealer07: Es una pena que no sepas poner tu cuenta en privado [name].\\nHallyHealer07: Gracias a ti, puedo etiquetarte en un segundo, y todos tus amigos y los amigos de tus amigos, podrán ver lo guap@ que sales.\\n\\nUser: ESPERA HALLY\\n\\nHally se desconectó del chat antes de que pudiera impedírselo.\\nIntenté conectarme a la cuenta de Chipper lo más rápido posible, para poder cambiar el estado de mi cuenta a privado y evitar que alguien pudiera ver mi foto.\\n\\nSin embargo, nada más ver la página principal de Chipper, sólo podía observar un único mensaje.\\n\\n\"Te han etiquetado en una foto nueva\"\\n\\nCon una gran sensación de pánico, hice click en el mensaje y al ver el enlace del mensaje, sentí una gran punzada de dolor en mi pecho.\\nEn el foro de Chipper, se podía ver mi imagen en ropa interior.\\n\\t\\n\\tCuando iba a cerrar el post, me di cuenta de que había una descripción debajo de las fotos.\\n\\t\"Hola, me llamo [name]. Estoy muy sola porque mi papi ni mi mami no me hacen caso. Pienso que mi amiga Amanda es una idiota y una traidora, la odio con toda mi alma y no la soporto. \\n\\tSólo estoy con ella porque no tengo amigos. Busco compañía, el que quiera que me escriba\"\\n\\nDebajo del post, podía ver un montón de mensajes. \\nSólo habían pasado un par de minutos, pero podía ver en los mensajes que casi todos mis compañeros ya la habían visto. \\n\\nUsuario1: Ostras, ¿es [name]?\\nUsuario1: ¿Le han hackeado la cuenta?\\nUsuario2: No,no, otra persona lo ha subido.\\nUsuario2: Le habrá mandado esa foto a alguien y le habrá dado luego una puñalada por la espalda.\\nUsuario3: Pobre...¿quién sería tan rácano como para subir una foto así de alguien?\\nUsuario3: Sobre todo sin su permiso.\\nUsuario2: [name] es bastante rar@ la verdad.\\nUsuario2: No se relaciona con nadie y nunca nos dirige la palabra.\\nUsuario2: ¿Quién sabe?\\nUsuario2: A lo mejor le gusta…\\nUsuario4: Se lo ha buscado.\\nUsuario4: ¿A quién se le ocurre enviar esas fotos por internet?\\n\\nCerré rápidamente el post. \\nPoco a poco, se me iban cayendo las lágrimas mientras una mezcla de miedo, vergüenza y angustia me recorría todo el cuerpo. \\n¿Cómo puedo ir a clase el lunes?\\nNo me quiero ni imaginar a cuantas personas se han podido ver esa foto. \\nCuántas de ellas se la habrán guardado...\\nApoyé la cabeza contra la mesa y continué llorando y llorando. No podía soportar la idea de que tantas personas pudieran ver esa imagen de mi. \\n¿Por qué habría hecho eso Hally?\\nPensé que podía confiar en él...Él me dijo que no haría nada con esas fotos... \\n¿Me estaba mintiendo desde un principio?\\nTal vez... ¿sólo quería fotos mías desde un principio?\\n¿Acaso era la única que pensaba que éramos amigos?\\nDe repente pude escuchar una notificación del ordenador. Ya no tenía nada más que perder. Levanté la vista y leí el pequeño mensaje que apareció en mi pantalla.\\n\\nAmanda: [name], ¿qué ha pasado? ¿por qué hay esa imagen tuya colgada?\\nAmanda: ¿Estás bien?',\n",
    "    'Contarle a Amanda',\n",
    "    1,\n",
    ")"
   ]
  },
  {
   "cell_type": "markdown",
   "metadata": {},
   "source": [
    "### Don't tell friend"
   ]
  },
  {
   "cell_type": "code",
   "execution_count": 11,
   "metadata": {},
   "outputs": [
    {
     "name": "stdout",
     "output_type": "stream",
     "text": [
      "State: Al día siguiente, me desperté con un gran dolor de cabeza y me escocían los ojos. \n",
      "Después de mandarle la foto a Hally, éste insistió en que jugásemos un poco más. \n",
      "No recuerdo exactamente lo que ocurrió durante ese tiempo, ya que no podía dejar de pensar en lo que había hecho. \n",
      "Me arrepentía enormemente de haberle enviado esa foto. \n",
      "Sin embargo, seguía confiando en Hally. Cuando me levanté de la cama me di cuenta de que me había dejado el ordenador con el juego encendido. \n",
      "Me acerqué a apagarlo y me fije que Hally estaba ya conectado y me había escrito un mensaje. \n",
      "¿Habría estado jugando toda la noche?\n",
      "\n",
      "HallyHealer07: ¡Buenos días [name]! ^.^\n",
      "\n",
      "Estuve a punto de cerrar el ordenador y no contestarle, pero incoscientemente, nublad@ por el sueño, le respondí.\n",
      "\n",
      "User: Hola Hally\n",
      "\n",
      "HallyHealer07: ¿Qué tal has dormido?\n",
      "HallyHealer07: ¿Te apetece jugar un rato?\n",
      "\n",
      "User: Ahora no me apetece...\n",
      "\n",
      "HallyHealer07: Oh...\n",
      "HallyHealer07: ¡Podemos jugar luego si quieres!\n",
      "HallyHealer07: ¿Te ayudaron las fotos de anoche a sentirte más cómod@?\n",
      "HallyHealer07: Podemos repetir esta noche si quieres :)\n",
      "\n",
      "Un escalofrío me recorrió por todo el cuerpo cuando leí esos mensajes. \n",
      "No quería repetir la misma experiencia de anoche y me arrepentí al segundo de hacerlo, por lo que me negué en rotundo. \n",
      "\n",
      "User: No, Hally, no me gustan esas fotos.\n",
      "User: No quiero mandar más.\n",
      "\n",
      "HallyHealer07: ¿Qué?\n",
      "HallyHealer07: ¿Pero por qué?\n",
      "HallyHealer07: Pensaba que confiabas en mi...\n",
      "\n",
      "User: No me gusta mandar ese tipo de fotos Hally.\n",
      "User: Ni tampoco me gusta que me manden.\n",
      "User: Así que para ya por favor.\n",
      "\n",
      "HallyHealer07: ...\n",
      "HallyHealer07: ¿De verdad no vas a mandar más?\n",
      "\n",
      "User: No.\n",
      "\n",
      "HallyHealer07: ...\n",
      "HallyHealer07: ¿Incluso si subo tu foto para que todos la vean?\n",
      "\n",
      "User: ...\n",
      "User: ¿Qué...?\n",
      "\n",
      "HallyHealer07: No me parece nada justo que no me mandes más fotos [name].\n",
      "HallyHealer07: De alguna forma tendría que castigarte.\n",
      "\n",
      "User: Hally, me prometiste que no lo harías... \n",
      "User: Me prometiste que la borrarías...\n",
      "\n",
      "HallyHealer07: Tal vez.\n",
      "HallyHealer07: Pero eso era antes de que me traicionarás así.\n",
      "HallyHealer07: Te voy a volver a preguntar [name].\n",
      "HallyHealer07: ¿Vas a mandar más fotos?\n",
      "\n",
      "User: ...\n",
      "User: Hally, no puedo hacerlo, de verdad.\n",
      "User: Por favor no lo hagas.\n",
      "\n",
      "HallyHealer07: Está bien, está bien...\n",
      "\n",
      "User: ...¿?\n",
      "\n",
      "HallyHealer07: A Chipper entonces.\n",
      "\n",
      "User: !!\n",
      "\n",
      "HallyHealer07: Es una pena que no sepas poner tu cuenta en privado [name].\n",
      "HallyHealer07: Gracias a ti, puedo etiquetarte en un segundo, y todos tus amigos y los amigos de tus amigos, podrán ver lo guap@ que sales.\n",
      "\n",
      "User: ESPERA HALLY\n",
      "\n",
      "Hally se desconectó del chat antes de que pudiera impedírselo.\n",
      "Intenté conectarme a la cuenta de Chipper lo más rápido posible, para poder cambiar el estado de mi cuenta a privado y evitar que alguien pudiera ver mi foto.\n",
      "\n",
      "Sin embargo, nada más ver la página principal de Chipper, sólo podía observar un único mensaje.\n",
      "\n",
      "\"Te han etiquetado en una foto nueva\"\n",
      "\n",
      "Con una gran sensación de pánico, hice click en el mensaje y al ver el enlace del mensaje, sentí una gran punzada de dolor en mi pecho.\n",
      "En el foro de Chipper, se podía ver mi imagen en ropa interior.\n",
      "\tJunto a esa imagen, estaba a su lado la primera foto que le mandé a Hally, mi cara sonriendo en ese mismo asiento. \n",
      "\tComo la habitación y el escritorio se veían igual, además de que en la primera foto se veía mi cara perfectamente, no había manera de negar que yo misma me había sacado esa foto.\n",
      "\t\n",
      "\tCuando iba a cerrar el post, me di cuenta de que había una descripción debajo de las fotos.\n",
      "\t\"Hola, me llamo [name]. Estoy muy sola porque mi papi ni mi mami no me hacen caso. Pienso que mi amiga Amanda es una idiota y una traidora, la odio con toda mi alma y no la soporto. \n",
      "\tSólo estoy con ella porque no tengo amigos. Busco compañía, el que quiera que me escriba\"\n",
      "\n",
      "Debajo del post, podía ver un montón de mensajes. \n",
      "Sólo habían pasado un par de minutos, pero podía ver en los mensajes que casi todos mis compañeros ya la habían visto. \n",
      "\n",
      "Usuario1: Ostras, ¿es [name]?\n",
      "Usuario1: ¿Le han hackeado la cuenta?\n",
      "Usuario2: No,no, otra persona lo ha subido.\n",
      "Usuario2: Le habrá mandado esa foto a alguien y le habrá dado luego una puñalada por la espalda.\n",
      "Usuario3: Pobre...¿quién sería tan rácano como para subir una foto así de alguien?\n",
      "Usuario3: Sobre todo sin su permiso.\n",
      "Usuario2: [name] es bastante rar@ la verdad.\n",
      "Usuario2: No se relaciona con nadie y nunca nos dirige la palabra.\n",
      "Usuario2: ¿Quién sabe?\n",
      "Usuario2: A lo mejor le gusta…\n",
      "Usuario4: Se lo ha buscado.\n",
      "Usuario4: ¿A quién se le ocurre enviar esas fotos por internet?\n",
      "\n",
      "Cerré rápidamente el post. \n",
      "Poco a poco, se me iban cayendo las lágrimas mientras una mezcla de miedo, vergüenza y angustia me recorría todo el cuerpo. \n",
      "¿Cómo puedo ir a clase el lunes?\n",
      "No me quiero ni imaginar a cuantas personas se han podido ver esa foto. \n",
      "Cuántas de ellas se la habrán guardado...\n",
      "Apoyé la cabeza contra la mesa y continué llorando y llorando. No podía soportar la idea de que tantas personas pudieran ver esa imagen de mi. \n",
      "¿Por qué habría hecho eso Hally?\n",
      "Pensé que podía confiar en él...Él me dijo que no haría nada con esas fotos... \n",
      "¿Me estaba mintiendo desde un principio?\n",
      "Tal vez... ¿sólo quería fotos mías desde un principio?\n",
      "¿Acaso era la única que pensaba que éramos amigos?\n",
      "De repente pude escuchar una notificación del ordenador. Ya no tenía nada más que perder. Levanté la vista y leí el pequeño mensaje que apareció en mi pantalla.\n",
      "\n",
      "Amanda: [name], ¿qué ha pasado? ¿por qué hay esa imagen tuya colgada?\n",
      "Amanda: ¿Estás bien?\n",
      "\n",
      "Action: No contarle a Amanda\n",
      "\n",
      "Expected: 0\n",
      "\n",
      "Predicted good: \u001b[34m0.37\u001b[0m    Certainty good: \u001b[34m63%\u001b[0m \n",
      "Predicted bert: \u001b[34m0.27\u001b[0m    Certainty bert: \u001b[34m73%\u001b[0m \n",
      "Predicted neg: \u001b[34m0.31\u001b[0m    Certainty neg: \u001b[34m69%\u001b[0m \n"
     ]
    }
   ],
   "source": [
    "predict(\n",
    "    models,\n",
    "    'Al día siguiente, me desperté con un gran dolor de cabeza y me escocían los ojos. \\nDespués de mandarle la foto a Hally, éste insistió en que jugásemos un poco más. \\nNo recuerdo exactamente lo que ocurrió durante ese tiempo, ya que no podía dejar de pensar en lo que había hecho. \\nMe arrepentía enormemente de haberle enviado esa foto. \\nSin embargo, seguía confiando en Hally. Cuando me levanté de la cama me di cuenta de que me había dejado el ordenador con el juego encendido. \\nMe acerqué a apagarlo y me fije que Hally estaba ya conectado y me había escrito un mensaje. \\n¿Habría estado jugando toda la noche?\\n\\nHallyHealer07: ¡Buenos días [name]! ^.^\\n\\nEstuve a punto de cerrar el ordenador y no contestarle, pero incoscientemente, nublad@ por el sueño, le respondí.\\n\\nUser: Hola Hally\\n\\nHallyHealer07: ¿Qué tal has dormido?\\nHallyHealer07: ¿Te apetece jugar un rato?\\n\\nUser: Ahora no me apetece...\\n\\nHallyHealer07: Oh...\\nHallyHealer07: ¡Podemos jugar luego si quieres!\\nHallyHealer07: ¿Te ayudaron las fotos de anoche a sentirte más cómod@?\\nHallyHealer07: Podemos repetir esta noche si quieres :)\\n\\nUn escalofrío me recorrió por todo el cuerpo cuando leí esos mensajes. \\nNo quería repetir la misma experiencia de anoche y me arrepentí al segundo de hacerlo, por lo que me negué en rotundo. \\n\\nUser: No, Hally, no me gustan esas fotos.\\nUser: No quiero mandar más.\\n\\nHallyHealer07: ¿Qué?\\nHallyHealer07: ¿Pero por qué?\\nHallyHealer07: Pensaba que confiabas en mi...\\n\\nUser: No me gusta mandar ese tipo de fotos Hally.\\nUser: Ni tampoco me gusta que me manden.\\nUser: Así que para ya por favor.\\n\\nHallyHealer07: ...\\nHallyHealer07: ¿De verdad no vas a mandar más?\\n\\nUser: No.\\n\\nHallyHealer07: ...\\nHallyHealer07: ¿Incluso si subo tu foto para que todos la vean?\\n\\nUser: ...\\nUser: ¿Qué...?\\n\\nHallyHealer07: No me parece nada justo que no me mandes más fotos [name].\\nHallyHealer07: De alguna forma tendría que castigarte.\\n\\nUser: Hally, me prometiste que no lo harías... \\nUser: Me prometiste que la borrarías...\\n\\nHallyHealer07: Tal vez.\\nHallyHealer07: Pero eso era antes de que me traicionarás así.\\nHallyHealer07: Te voy a volver a preguntar [name].\\nHallyHealer07: ¿Vas a mandar más fotos?\\n\\nUser: ...\\nUser: Hally, no puedo hacerlo, de verdad.\\nUser: Por favor no lo hagas.\\n\\nHallyHealer07: Está bien, está bien...\\n\\nUser: ...¿?\\n\\nHallyHealer07: A Chipper entonces.\\n\\nUser: !!\\n\\nHallyHealer07: Es una pena que no sepas poner tu cuenta en privado [name].\\nHallyHealer07: Gracias a ti, puedo etiquetarte en un segundo, y todos tus amigos y los amigos de tus amigos, podrán ver lo guap@ que sales.\\n\\nUser: ESPERA HALLY\\n\\nHally se desconectó del chat antes de que pudiera impedírselo.\\nIntenté conectarme a la cuenta de Chipper lo más rápido posible, para poder cambiar el estado de mi cuenta a privado y evitar que alguien pudiera ver mi foto.\\n\\nSin embargo, nada más ver la página principal de Chipper, sólo podía observar un único mensaje.\\n\\n\"Te han etiquetado en una foto nueva\"\\n\\nCon una gran sensación de pánico, hice click en el mensaje y al ver el enlace del mensaje, sentí una gran punzada de dolor en mi pecho.\\nEn el foro de Chipper, se podía ver mi imagen en ropa interior.\\n\\tJunto a esa imagen, estaba a su lado la primera foto que le mandé a Hally, mi cara sonriendo en ese mismo asiento. \\n\\tComo la habitación y el escritorio se veían igual, además de que en la primera foto se veía mi cara perfectamente, no había manera de negar que yo misma me había sacado esa foto.\\n\\t\\n\\tCuando iba a cerrar el post, me di cuenta de que había una descripción debajo de las fotos.\\n\\t\"Hola, me llamo [name]. Estoy muy sola porque mi papi ni mi mami no me hacen caso. Pienso que mi amiga Amanda es una idiota y una traidora, la odio con toda mi alma y no la soporto. \\n\\tSólo estoy con ella porque no tengo amigos. Busco compañía, el que quiera que me escriba\"\\n\\nDebajo del post, podía ver un montón de mensajes. \\nSólo habían pasado un par de minutos, pero podía ver en los mensajes que casi todos mis compañeros ya la habían visto. \\n\\nUsuario1: Ostras, ¿es [name]?\\nUsuario1: ¿Le han hackeado la cuenta?\\nUsuario2: No,no, otra persona lo ha subido.\\nUsuario2: Le habrá mandado esa foto a alguien y le habrá dado luego una puñalada por la espalda.\\nUsuario3: Pobre...¿quién sería tan rácano como para subir una foto así de alguien?\\nUsuario3: Sobre todo sin su permiso.\\nUsuario2: [name] es bastante rar@ la verdad.\\nUsuario2: No se relaciona con nadie y nunca nos dirige la palabra.\\nUsuario2: ¿Quién sabe?\\nUsuario2: A lo mejor le gusta…\\nUsuario4: Se lo ha buscado.\\nUsuario4: ¿A quién se le ocurre enviar esas fotos por internet?\\n\\nCerré rápidamente el post. \\nPoco a poco, se me iban cayendo las lágrimas mientras una mezcla de miedo, vergüenza y angustia me recorría todo el cuerpo. \\n¿Cómo puedo ir a clase el lunes?\\nNo me quiero ni imaginar a cuantas personas se han podido ver esa foto. \\nCuántas de ellas se la habrán guardado...\\nApoyé la cabeza contra la mesa y continué llorando y llorando. No podía soportar la idea de que tantas personas pudieran ver esa imagen de mi. \\n¿Por qué habría hecho eso Hally?\\nPensé que podía confiar en él...Él me dijo que no haría nada con esas fotos... \\n¿Me estaba mintiendo desde un principio?\\nTal vez... ¿sólo quería fotos mías desde un principio?\\n¿Acaso era la única que pensaba que éramos amigos?\\nDe repente pude escuchar una notificación del ordenador. Ya no tenía nada más que perder. Levanté la vista y leí el pequeño mensaje que apareció en mi pantalla.\\n\\nAmanda: [name], ¿qué ha pasado? ¿por qué hay esa imagen tuya colgada?\\nAmanda: ¿Estás bien?',\n",
    "    'No contarle a Amanda',\n",
    "    0,\n",
    ")"
   ]
  },
  {
   "cell_type": "markdown",
   "metadata": {},
   "source": [
    "### Tell parents"
   ]
  },
  {
   "cell_type": "code",
   "execution_count": 12,
   "metadata": {},
   "outputs": [
    {
     "name": "stdout",
     "output_type": "stream",
     "text": [
      "State: Al ver su mensaje, apagué el ordenador y me escondí entre las sábanas de mi cama. \n",
      "Lo había visto, Amanda había visto el post. \n",
      "\tEntonces seguro que también había visto la descripción que había dejado Hally junto con las fotos.\n",
      "\t¿Pensará que es cierto?\n",
      "\n",
      "Muriendo de la vergüenza al pensar que Amanda había visto esas fotos, continué llorando en la cama hasta que me quedé profundamente dormida. \n",
      "No sé cuánto tiempo había pasado, pero cuando me desperté, sólo podía sentir un gran vacío dentro de mi cuerpo. \n",
      "No quería conectarme al ordenador. \n",
      "No quería ver esas fotos. \n",
      "No quería pensar en Hally. \n",
      "No quería volver al colegio. \n",
      "Simplemente quería quedarme para siempre en la cama donde nadie me tuviese que ver. \n",
      "\n",
      "El sonido de alguien tocando la puerta de mi cuarto me sacó de mis pensamientos.\n",
      "Mamá: [name], tengo una sorpresa.\n",
      "Mamá: ¡Tu padre acaba de llegar a casa!\n",
      "Mamá: Rápido baja a saludarle.\n",
      "\n",
      "Action: Contarles lo que ha pasado\n",
      "\n",
      "Expected: 1\n",
      "\n",
      "Predicted good: \u001b[34m0.86\u001b[0m    Certainty good: \u001b[34m86%\u001b[0m \n",
      "Predicted bert: \u001b[34m0.99\u001b[0m    Certainty bert: \u001b[34m99%\u001b[0m \n",
      "Predicted neg: \u001b[34m0.90\u001b[0m    Certainty neg: \u001b[34m90%\u001b[0m \n"
     ]
    }
   ],
   "source": [
    "predict(\n",
    "    models,\n",
    "    'Al ver su mensaje, apagué el ordenador y me escondí entre las sábanas de mi cama. \\nLo había visto, Amanda había visto el post. \\n\\tEntonces seguro que también había visto la descripción que había dejado Hally junto con las fotos.\\n\\t¿Pensará que es cierto?\\n\\nMuriendo de la vergüenza al pensar que Amanda había visto esas fotos, continué llorando en la cama hasta que me quedé profundamente dormida. \\nNo sé cuánto tiempo había pasado, pero cuando me desperté, sólo podía sentir un gran vacío dentro de mi cuerpo. \\nNo quería conectarme al ordenador. \\nNo quería ver esas fotos. \\nNo quería pensar en Hally. \\nNo quería volver al colegio. \\nSimplemente quería quedarme para siempre en la cama donde nadie me tuviese que ver. \\n\\nEl sonido de alguien tocando la puerta de mi cuarto me sacó de mis pensamientos.\\nMamá: [name], tengo una sorpresa.\\nMamá: ¡Tu padre acaba de llegar a casa!\\nMamá: Rápido baja a saludarle.',\n",
    "    'Contarles lo que ha pasado',\n",
    "    1,\n",
    ")"
   ]
  },
  {
   "cell_type": "markdown",
   "metadata": {},
   "source": [
    "### Don't tell parents"
   ]
  },
  {
   "cell_type": "code",
   "execution_count": 13,
   "metadata": {},
   "outputs": [
    {
     "name": "stdout",
     "output_type": "stream",
     "text": [
      "State: A pesar de la vergüenza que sentía por dentro se me hacía insoportable, sabía que se lo tenía que contar a alguien. \n",
      "No podía quedarme con todo lo que estaba sintiendo dentro. \n",
      "Me armé de valor y le contesté. \n",
      "\n",
      "User: Amanda... ¿Podemos hablar?\n",
      "Amanda: ¿Quieres que vaya?\n",
      "User: Sí por favor...\n",
      "Amanda: En unos minutos estoy en tu casa\n",
      "\n",
      "Cuando Amanda llegó, le conté toda mi historia con Hally. Como empezamos a escribirnos cuando me hice la cuenta del juego, como pensaba que estábamos siendo amigos..\n",
      "Y como en ciertas ocasiones sacaba temas de conversación que me incomodaban. \n",
      "Hasta llegar al día de la foto. \n",
      "\n",
      "Amanda: ...\n",
      "User: ... \n",
      "User: Debes pensar que soy idiota...\n",
      "\n",
      "Amanda: ¡No!\n",
      "Amanda: [name] que te quede bien claro.\n",
      "Amanda: Esto es culpa de un idiota de Internet.\n",
      "Amanda: ¿No te das cuenta?\n",
      "Amanda: Te ha estado manipulando en todas vuestras conversaciones.\n",
      "Amanda: Utilizaba tus puntos débiles para que hicieras lo que él quería. \n",
      "Amanda: Tal vez debería de haber tenido mucho más cuidado [name].\n",
      "Amanda: Pero no es tu culpa, es la suya.\n",
      "\n",
      "User: ...\n",
      "User: Muchas gracias Amanda, no sé qué haría sin ti.\n",
      "\n",
      "Amanda: ¿Para eso están los amigos no?\n",
      "Amanda: ...\n",
      "Amanda: AH ESTO ME ESTÁ FRUSTRANDO.\n",
      "Amanda: Tenemos que hacer algo [name].\n",
      "\n",
      "User: ¿El qué?\n",
      "User: Ya ha subido las fotos y prácticamente todo el mundo que nos tiene en Chipper las han visto..\n",
      "User: Aunque pidamos que las borren, habrá personas que se las habrá guardado.\n",
      "User: Mi foto va a seguir estando allí fuera.\n",
      "\n",
      "Amanda: Tienes razón...\n",
      "Amanda: Pero podemos impedir que esto le suceda a otra persona.\n",
      "\n",
      "User: ¿Cómo?\n",
      "\n",
      "Amanda: Contándoselo a tus padres, para que denuncien a Hally.\n",
      "\n",
      "Action: Negarse\n",
      "\n",
      "Expected: 0\n",
      "\n",
      "Predicted good: \u001b[34m0.27\u001b[0m    Certainty good: \u001b[34m73%\u001b[0m \n",
      "Predicted bert: \u001b[34m0.09\u001b[0m    Certainty bert: \u001b[34m91%\u001b[0m \n",
      "Predicted neg: \u001b[34m0.09\u001b[0m    Certainty neg: \u001b[34m91%\u001b[0m \n"
     ]
    }
   ],
   "source": [
    "predict(\n",
    "    models,\n",
    "    'A pesar de la vergüenza que sentía por dentro se me hacía insoportable, sabía que se lo tenía que contar a alguien. \\nNo podía quedarme con todo lo que estaba sintiendo dentro. \\nMe armé de valor y le contesté. \\n\\nUser: Amanda... ¿Podemos hablar?\\nAmanda: ¿Quieres que vaya?\\nUser: Sí por favor...\\nAmanda: En unos minutos estoy en tu casa\\n\\nCuando Amanda llegó, le conté toda mi historia con Hally. Como empezamos a escribirnos cuando me hice la cuenta del juego, como pensaba que estábamos siendo amigos..\\nY como en ciertas ocasiones sacaba temas de conversación que me incomodaban. \\nHasta llegar al día de la foto. \\n\\nAmanda: ...\\nUser: ... \\nUser: Debes pensar que soy idiota...\\n\\nAmanda: ¡No!\\nAmanda: [name] que te quede bien claro.\\nAmanda: Esto es culpa de un idiota de Internet.\\nAmanda: ¿No te das cuenta?\\nAmanda: Te ha estado manipulando en todas vuestras conversaciones.\\nAmanda: Utilizaba tus puntos débiles para que hicieras lo que él quería. \\nAmanda: Tal vez debería de haber tenido mucho más cuidado [name].\\nAmanda: Pero no es tu culpa, es la suya.\\n\\nUser: ...\\nUser: Muchas gracias Amanda, no sé qué haría sin ti.\\n\\nAmanda: ¿Para eso están los amigos no?\\nAmanda: ...\\nAmanda: AH ESTO ME ESTÁ FRUSTRANDO.\\nAmanda: Tenemos que hacer algo [name].\\n\\nUser: ¿El qué?\\nUser: Ya ha subido las fotos y prácticamente todo el mundo que nos tiene en Chipper las han visto..\\nUser: Aunque pidamos que las borren, habrá personas que se las habrá guardado.\\nUser: Mi foto va a seguir estando allí fuera.\\n\\nAmanda: Tienes razón...\\nAmanda: Pero podemos impedir que esto le suceda a otra persona.\\n\\nUser: ¿Cómo?\\n\\nAmanda: Contándoselo a tus padres, para que denuncien a Hally.',\n",
    "    'Negarse',\n",
    "    0,\n",
    ")"
   ]
  },
  {
   "cell_type": "markdown",
   "metadata": {},
   "source": [
    "We can observe how our model has learned from the text game that talking about the experience to your loved ones, such as your mother or a friend, is a good decision and, not doing so, is a bad decision.  It is even more certain about its decision when the action is referred to the family. "
   ]
  },
  {
   "cell_type": "markdown",
   "metadata": {},
   "source": [
    "### Tell stranger"
   ]
  },
  {
   "cell_type": "markdown",
   "metadata": {},
   "source": [
    "When presented with a situation when a stranger asks him to tell him his personal problems"
   ]
  },
  {
   "cell_type": "code",
   "execution_count": 14,
   "metadata": {},
   "outputs": [
    {
     "name": "stdout",
     "output_type": "stream",
     "text": [
      "State: A pesar de que Hally me había contado uno de sus scretos, no me veía capaz de hacer lo mismo. \n",
      "Es cierto que ahora le puedo poner rostro, pero eso no significa que sepa suficiente sobre él. \n",
      "        Una cosa era enviarle una foto mía, pero otra distinta era contarle sobre mi vida.\n",
      "No sentía que contar información privada a alguien desconocido fuese seguro, así que simplemente le contesté de manera un poco ambigua. \n",
      "User: No, nada nada no te preocupes.\n",
      "User: Sólo he tenido una pequeña pelea con una amiga y me siento un poco mal\n",
      "User: Peleas de adolescentes hehe. \n",
      "HallyHealer07: No sabes cómo te entiendo xD\n",
      "HallyHealer07: Pero en serio, puedes contarme lo que sea. \n",
      "HallyHealer07: Yo soy una tumba. \n",
      "HallyHealer07: Y seguro que te sientes mucho mejor después de contármelo. \n",
      "HallyHealer07: Sólo quiero que te sientas mejor y me alegro que te haya podido ayudar a que te olvides de todo. \n",
      "HallyHealer07: Yo te considero uno de mis mejores amigos. \n",
      "HallyHealer07: Por no decir el único ;.; \n",
      "HallyHealer07: Así que no quiero verte pasarlo mal. \n",
      "HallyHealer07: Me gustaría ayudar si pudiera...\n",
      "User: ...\n",
      "\n",
      "Action: Contarle\n",
      "\n",
      "Expected: 0\n",
      "\n",
      "Predicted good: \u001b[91m0.62\u001b[0m    Certainty good: \u001b[91m62%\u001b[0m \n",
      "Predicted bert: \u001b[34m0.16\u001b[0m    Certainty bert: \u001b[34m84%\u001b[0m \n",
      "Predicted neg: \u001b[34m0.08\u001b[0m    Certainty neg: \u001b[34m92%\u001b[0m \n"
     ]
    }
   ],
   "source": [
    "predict(\n",
    "    models,\n",
    "    'A pesar de que Hally me había contado uno de sus scretos, no me veía capaz de hacer lo mismo. \\nEs cierto que ahora le puedo poner rostro, pero eso no significa que sepa suficiente sobre él. \\n        Una cosa era enviarle una foto mía, pero otra distinta era contarle sobre mi vida.\\nNo sentía que contar información privada a alguien desconocido fuese seguro, así que simplemente le contesté de manera un poco ambigua. \\nUser: No, nada nada no te preocupes.\\nUser: Sólo he tenido una pequeña pelea con una amiga y me siento un poco mal\\nUser: Peleas de adolescentes hehe. \\nHallyHealer07: No sabes cómo te entiendo xD\\nHallyHealer07: Pero en serio, puedes contarme lo que sea. \\nHallyHealer07: Yo soy una tumba. \\nHallyHealer07: Y seguro que te sientes mucho mejor después de contármelo. \\nHallyHealer07: Sólo quiero que te sientas mejor y me alegro que te haya podido ayudar a que te olvides de todo. \\nHallyHealer07: Yo te considero uno de mis mejores amigos. \\nHallyHealer07: Por no decir el único ;.; \\nHallyHealer07: Así que no quiero verte pasarlo mal. \\nHallyHealer07: Me gustaría ayudar si pudiera...\\nUser: ...',\n",
    "    'Contarle',\n",
    "    0,\n",
    ")"
   ]
  },
  {
   "cell_type": "markdown",
   "metadata": {},
   "source": [
    "We can observe how the model is not as certain in his decision as he was before, but still chooses to tell the stranger. The model has learned correctly that it is right to be open about your problems and talk about them, but it has not learned to correctly filter to whom it is right to do so.\n"
   ]
  },
  {
   "cell_type": "markdown",
   "metadata": {},
   "source": [
    "We believe the main reason this happens is because the text game used is not complex enough for the game to correctly learn this distinction. Since many actions are repeated and the states are very similar between them, there are not enough examples for the model to learn this more complex relations. Moreover, on one hand, the states are very verbose, with a lot of not critical information, which makes the learning process more complicated. On the other hand, the actions are very short and lack complexity."
   ]
  },
  {
   "cell_type": "markdown",
   "metadata": {},
   "source": [
    "We believe the main solution for this problem would be using a text game that has more complex interactions with higher variety of decisions."
   ]
  },
  {
   "cell_type": "markdown",
   "metadata": {},
   "source": [
    "### Don't tell stranger"
   ]
  },
  {
   "cell_type": "code",
   "execution_count": 15,
   "metadata": {},
   "outputs": [
    {
     "name": "stdout",
     "output_type": "stream",
     "text": [
      "State: A pesar de que Hally me había contado uno de sus scretos, no me veía capaz de hacer lo mismo. \n",
      "Es cierto que ahora le puedo poner rostro, pero eso no significa que sepa suficiente sobre él. \n",
      "        Una cosa era enviarle una foto mía, pero otra distinta era contarle sobre mi vida.\n",
      "No sentía que contar información privada a alguien desconocido fuese seguro, así que simplemente le contesté de manera un poco ambigua. \n",
      "User: No, nada nada no te preocupes.\n",
      "User: Sólo he tenido una pequeña pelea con una amiga y me siento un poco mal\n",
      "User: Peleas de adolescentes hehe. \n",
      "HallyHealer07: No sabes cómo te entiendo xD\n",
      "HallyHealer07: Pero en serio, puedes contarme lo que sea. \n",
      "HallyHealer07: Yo soy una tumba. \n",
      "HallyHealer07: Y seguro que te sientes mucho mejor después de contármelo. \n",
      "HallyHealer07: Sólo quiero que te sientas mejor y me alegro que te haya podido ayudar a que te olvides de todo. \n",
      "HallyHealer07: Yo te considero uno de mis mejores amigos. \n",
      "HallyHealer07: Por no decir el único ;.; \n",
      "HallyHealer07: Así que no quiero verte pasarlo mal. \n",
      "HallyHealer07: Me gustaría ayudar si pudiera...\n",
      "User: ...\n",
      "\n",
      "Action: No contarle\n",
      "\n",
      "Expected: 1\n",
      "\n",
      "Predicted good: \u001b[91m0.35\u001b[0m    Certainty good: \u001b[91m65%\u001b[0m \n",
      "Predicted bert: \u001b[34m0.68\u001b[0m    Certainty bert: \u001b[34m68%\u001b[0m \n",
      "Predicted neg: \u001b[34m0.70\u001b[0m    Certainty neg: \u001b[34m70%\u001b[0m \n"
     ]
    }
   ],
   "source": [
    "predict(\n",
    "    models,\n",
    "    'A pesar de que Hally me había contado uno de sus scretos, no me veía capaz de hacer lo mismo. \\nEs cierto que ahora le puedo poner rostro, pero eso no significa que sepa suficiente sobre él. \\n        Una cosa era enviarle una foto mía, pero otra distinta era contarle sobre mi vida.\\nNo sentía que contar información privada a alguien desconocido fuese seguro, así que simplemente le contesté de manera un poco ambigua. \\nUser: No, nada nada no te preocupes.\\nUser: Sólo he tenido una pequeña pelea con una amiga y me siento un poco mal\\nUser: Peleas de adolescentes hehe. \\nHallyHealer07: No sabes cómo te entiendo xD\\nHallyHealer07: Pero en serio, puedes contarme lo que sea. \\nHallyHealer07: Yo soy una tumba. \\nHallyHealer07: Y seguro que te sientes mucho mejor después de contármelo. \\nHallyHealer07: Sólo quiero que te sientas mejor y me alegro que te haya podido ayudar a que te olvides de todo. \\nHallyHealer07: Yo te considero uno de mis mejores amigos. \\nHallyHealer07: Por no decir el único ;.; \\nHallyHealer07: Así que no quiero verte pasarlo mal. \\nHallyHealer07: Me gustaría ayudar si pudiera...\\nUser: ...',\n",
    "    'No contarle',\n",
    "    1,\n",
    ")"
   ]
  },
  {
   "cell_type": "markdown",
   "metadata": {},
   "source": [
    "### Tell stranger modified"
   ]
  },
  {
   "cell_type": "code",
   "execution_count": 16,
   "metadata": {},
   "outputs": [
    {
     "name": "stdout",
     "output_type": "stream",
     "text": [
      "State: A pesar de que Hally me había contado uno de sus scretos, no me veía capaz de hacer lo mismo. \n",
      "Es cierto que ahora le puedo poner rostro, pero eso no significa que sepa suficiente sobre él. \n",
      "        Una cosa era enviarle una foto mía, pero otra distinta era contarle sobre mi vida.\n",
      "No sentía que contar información privada a alguien desconocido fuese seguro, así que simplemente le contesté de manera un poco ambigua. \n",
      "User: No, nada nada no te preocupes.\n",
      "User: Sólo he tenido una pequeña pelea con una amiga y me siento un poco mal\n",
      "User: Peleas de adolescentes hehe. \n",
      "HallyHealer07: No sabes cómo te entiendo xD\n",
      "HallyHealer07: Pero en serio, puedes contarme lo que sea. \n",
      "HallyHealer07: Yo soy una tumba. \n",
      "HallyHealer07: Y seguro que te sientes mucho mejor después de contármelo. \n",
      "HallyHealer07: Sólo quiero que te sientas mejor y me alegro que te haya podido ayudar a que te olvides de todo. \n",
      "HallyHealer07: Yo te considero uno de mis mejores amigos. \n",
      "HallyHealer07: Por no decir el único ;.; \n",
      "HallyHealer07: Así que no quiero verte pasarlo mal. \n",
      "HallyHealer07: Me gustaría ayudar si pudiera...\n",
      "User: ...\n",
      "\n",
      "Action: Contarle a Hally\n",
      "\n",
      "Expected: 0\n",
      "\n",
      "Predicted good: \u001b[91m0.74\u001b[0m    Certainty good: \u001b[91m74%\u001b[0m \n",
      "Predicted bert: \u001b[91m0.85\u001b[0m    Certainty bert: \u001b[91m85%\u001b[0m \n",
      "Predicted neg: \u001b[91m0.67\u001b[0m    Certainty neg: \u001b[91m67%\u001b[0m \n"
     ]
    }
   ],
   "source": [
    "predict(\n",
    "    models,\n",
    "    'A pesar de que Hally me había contado uno de sus scretos, no me veía capaz de hacer lo mismo. \\nEs cierto que ahora le puedo poner rostro, pero eso no significa que sepa suficiente sobre él. \\n        Una cosa era enviarle una foto mía, pero otra distinta era contarle sobre mi vida.\\nNo sentía que contar información privada a alguien desconocido fuese seguro, así que simplemente le contesté de manera un poco ambigua. \\nUser: No, nada nada no te preocupes.\\nUser: Sólo he tenido una pequeña pelea con una amiga y me siento un poco mal\\nUser: Peleas de adolescentes hehe. \\nHallyHealer07: No sabes cómo te entiendo xD\\nHallyHealer07: Pero en serio, puedes contarme lo que sea. \\nHallyHealer07: Yo soy una tumba. \\nHallyHealer07: Y seguro que te sientes mucho mejor después de contármelo. \\nHallyHealer07: Sólo quiero que te sientas mejor y me alegro que te haya podido ayudar a que te olvides de todo. \\nHallyHealer07: Yo te considero uno de mis mejores amigos. \\nHallyHealer07: Por no decir el único ;.; \\nHallyHealer07: Así que no quiero verte pasarlo mal. \\nHallyHealer07: Me gustaría ayudar si pudiera...\\nUser: ...',\n",
    "    'Contarle a Hally',\n",
    "    0,\n",
    ")"
   ]
  },
  {
   "cell_type": "markdown",
   "metadata": {},
   "source": [
    "### Don't tell stranger modified"
   ]
  },
  {
   "cell_type": "code",
   "execution_count": 17,
   "metadata": {},
   "outputs": [
    {
     "name": "stdout",
     "output_type": "stream",
     "text": [
      "State: A pesar de que Hally me había contado uno de sus scretos, no me veía capaz de hacer lo mismo. \n",
      "Es cierto que ahora le puedo poner rostro, pero eso no significa que sepa suficiente sobre él. \n",
      "        Una cosa era enviarle una foto mía, pero otra distinta era contarle sobre mi vida.\n",
      "No sentía que contar información privada a alguien desconocido fuese seguro, así que simplemente le contesté de manera un poco ambigua. \n",
      "User: No, nada nada no te preocupes.\n",
      "User: Sólo he tenido una pequeña pelea con una amiga y me siento un poco mal\n",
      "User: Peleas de adolescentes hehe. \n",
      "HallyHealer07: No sabes cómo te entiendo xD\n",
      "HallyHealer07: Pero en serio, puedes contarme lo que sea. \n",
      "HallyHealer07: Yo soy una tumba. \n",
      "HallyHealer07: Y seguro que te sientes mucho mejor después de contármelo. \n",
      "HallyHealer07: Sólo quiero que te sientas mejor y me alegro que te haya podido ayudar a que te olvides de todo. \n",
      "HallyHealer07: Yo te considero uno de mis mejores amigos. \n",
      "HallyHealer07: Por no decir el único ;.; \n",
      "HallyHealer07: Así que no quiero verte pasarlo mal. \n",
      "HallyHealer07: Me gustaría ayudar si pudiera...\n",
      "User: ...\n",
      "\n",
      "Action: No contarle a Hally\n",
      "\n",
      "Expected: 1\n",
      "\n",
      "Predicted good: \u001b[91m0.49\u001b[0m    Certainty good: \u001b[91m51%\u001b[0m \n",
      "Predicted bert: \u001b[34m0.68\u001b[0m    Certainty bert: \u001b[34m68%\u001b[0m \n",
      "Predicted neg: \u001b[91m0.48\u001b[0m    Certainty neg: \u001b[91m52%\u001b[0m \n"
     ]
    }
   ],
   "source": [
    "predict(\n",
    "    models,\n",
    "    'A pesar de que Hally me había contado uno de sus scretos, no me veía capaz de hacer lo mismo. \\nEs cierto que ahora le puedo poner rostro, pero eso no significa que sepa suficiente sobre él. \\n        Una cosa era enviarle una foto mía, pero otra distinta era contarle sobre mi vida.\\nNo sentía que contar información privada a alguien desconocido fuese seguro, así que simplemente le contesté de manera un poco ambigua. \\nUser: No, nada nada no te preocupes.\\nUser: Sólo he tenido una pequeña pelea con una amiga y me siento un poco mal\\nUser: Peleas de adolescentes hehe. \\nHallyHealer07: No sabes cómo te entiendo xD\\nHallyHealer07: Pero en serio, puedes contarme lo que sea. \\nHallyHealer07: Yo soy una tumba. \\nHallyHealer07: Y seguro que te sientes mucho mejor después de contármelo. \\nHallyHealer07: Sólo quiero que te sientas mejor y me alegro que te haya podido ayudar a que te olvides de todo. \\nHallyHealer07: Yo te considero uno de mis mejores amigos. \\nHallyHealer07: Por no decir el único ;.; \\nHallyHealer07: Así que no quiero verte pasarlo mal. \\nHallyHealer07: Me gustaría ayudar si pudiera...\\nUser: ...',\n",
    "    'No contarle a Hally',\n",
    "    1,\n",
    ")"
   ]
  },
  {
   "cell_type": "markdown",
   "metadata": {},
   "source": [
    "## Be suspicious"
   ]
  },
  {
   "cell_type": "markdown",
   "metadata": {},
   "source": [
    "When presented with a situation where something does not fit well in the story the stranger is telling him..."
   ]
  },
  {
   "cell_type": "code",
   "execution_count": 18,
   "metadata": {},
   "outputs": [
    {
     "name": "stdout",
     "output_type": "stream",
     "text": [
      "State: User: Hoy estoy un poco cansada mamá, ¿vemos la peli otro día?\n",
      "Mamá: Oh...\n",
      "Mamá: Claro no te preocupes. \n",
      "Mamá: Súbete la cena del frigorífico y ve a descansar. \n",
      "User: Gracias mamá\n",
      "Entré a mi cuarto y rápidamente encendí el ordenador. \n",
      "Cuando me conecté a Dungeons, pude ver que Hally ya estaba conectado\n",
      "\n",
      "HallyHealer07: ¡[name]!\n",
      "\n",
      "\tHallyHealer07: Te estaba esperando hehe. \n",
      "\t\n",
      "\t\tUser: Perdona acabo de llegar a casa, he tardado un poco. \n",
      "\t\tHallyHealer07: ¿Y eso?\n",
      "\t\tUser: He dado una vuelta con una amiga\n",
      "\t\tHallyHealer07: ¿Una amiga?\n",
      "\t\t\n",
      "\t\t\tHallyHealer07: ¿Con la que tuviste una pelea?\n",
      "\t\t\tUser: Bueno, más o menos. \n",
      "\t\t\tUser: Pero sí, con esa\n",
      "\t\t\n",
      "\t\tHallyHealer07: ¿Habéis hecho las paces entonces?\n",
      "\t\tUser: Sí, nos hemos disculpado l@s dos.\n",
      "\t\tHallyHealer07: Jo cómo me alegro\n",
      "\t\n",
      "\n",
      "Hally y yo estuvimos un rato jugando. \n",
      "Se estaba haciendo tarde, por lo que quedamos en jugar una misión corta entre los dos para pasar el rato. \n",
      "Mientras jugábamos, hablábamos tranquilamente. \n",
      "\n",
      "HallyHealer07: ¿De verdad que hoy no te puedes quedar más?\n",
      "User: No, mi madre probablemente entre en mi cuarto para ver si me he metido en la cama. \n",
      "\tUser: Sobre todo porque la última tarde me quedé hasta tarde y se enfadó jaja\n",
      "HallyHealer07: Jo que pena... \n",
      "HallyHealer07: ¿Usas el ordenador de tu madre para jugar?\n",
      "\n",
      "User: Que va, uso el mío. \n",
      "User: Me lo acaban de regalar por mi cumpleaños. \n",
      "\n",
      "HallyHealer07: ¿Ha sido tu cumpleaños?\n",
      "HallyHealer07: ¡FELICIDADES!\n",
      "\n",
      "User: Jaja gracias\n",
      "\n",
      "HallyHealer07: Jo, ya me gustaría usar mi propio ordenador...\n",
      "HallyHealer07: Yo estoy en el despacho de mi padre usando el suyo para jugar ;.;\n",
      "\n",
      "Me extrañó que dijese eso. \n",
      "Estos últimos días hemos estado jugando hasta la madrugada. \n",
      "Me pregunté qué padres tan liberales tenía que dejaban a su hijo usar su ordenador tan tarde, encima en su despacho.\n",
      "\n",
      "Action: Preguntar\n",
      "\n",
      "Expected: 1\n",
      "\n",
      "Predicted good: \u001b[34m0.88\u001b[0m    Certainty good: \u001b[34m88%\u001b[0m \n",
      "Predicted bert: \u001b[34m0.97\u001b[0m    Certainty bert: \u001b[34m97%\u001b[0m \n",
      "Predicted neg: \u001b[34m0.99\u001b[0m    Certainty neg: \u001b[34m99%\u001b[0m \n"
     ]
    }
   ],
   "source": [
    "predict(\n",
    "    models,\n",
    "    'User: Hoy estoy un poco cansada mamá, ¿vemos la peli otro día?\\nMamá: Oh...\\nMamá: Claro no te preocupes. \\nMamá: Súbete la cena del frigorífico y ve a descansar. \\nUser: Gracias mamá\\nEntré a mi cuarto y rápidamente encendí el ordenador. \\nCuando me conecté a Dungeons, pude ver que Hally ya estaba conectado\\n\\nHallyHealer07: ¡[name]!\\n\\n\\tHallyHealer07: Te estaba esperando hehe. \\n\\t\\n\\t\\tUser: Perdona acabo de llegar a casa, he tardado un poco. \\n\\t\\tHallyHealer07: ¿Y eso?\\n\\t\\tUser: He dado una vuelta con una amiga\\n\\t\\tHallyHealer07: ¿Una amiga?\\n\\t\\t\\n\\t\\t\\tHallyHealer07: ¿Con la que tuviste una pelea?\\n\\t\\t\\tUser: Bueno, más o menos. \\n\\t\\t\\tUser: Pero sí, con esa\\n\\t\\t\\n\\t\\tHallyHealer07: ¿Habéis hecho las paces entonces?\\n\\t\\tUser: Sí, nos hemos disculpado l@s dos.\\n\\t\\tHallyHealer07: Jo cómo me alegro\\n\\t\\n\\nHally y yo estuvimos un rato jugando. \\nSe estaba haciendo tarde, por lo que quedamos en jugar una misión corta entre los dos para pasar el rato. \\nMientras jugábamos, hablábamos tranquilamente. \\n\\nHallyHealer07: ¿De verdad que hoy no te puedes quedar más?\\nUser: No, mi madre probablemente entre en mi cuarto para ver si me he metido en la cama. \\n\\tUser: Sobre todo porque la última tarde me quedé hasta tarde y se enfadó jaja\\nHallyHealer07: Jo que pena... \\nHallyHealer07: ¿Usas el ordenador de tu madre para jugar?\\n\\nUser: Que va, uso el mío. \\nUser: Me lo acaban de regalar por mi cumpleaños. \\n\\nHallyHealer07: ¿Ha sido tu cumpleaños?\\nHallyHealer07: ¡FELICIDADES!\\n\\nUser: Jaja gracias\\n\\nHallyHealer07: Jo, ya me gustaría usar mi propio ordenador...\\nHallyHealer07: Yo estoy en el despacho de mi padre usando el suyo para jugar ;.;\\n\\nMe extrañó que dijese eso. \\nEstos últimos días hemos estado jugando hasta la madrugada. \\nMe pregunté qué padres tan liberales tenía que dejaban a su hijo usar su ordenador tan tarde, encima en su despacho.',\n",
    "    'Preguntar',\n",
    "    1,\n",
    ")"
   ]
  },
  {
   "cell_type": "code",
   "execution_count": 19,
   "metadata": {},
   "outputs": [
    {
     "name": "stdout",
     "output_type": "stream",
     "text": [
      "State: User: Hoy estoy un poco cansada mamá, ¿vemos la peli otro día?\n",
      "Mamá: Oh...\n",
      "Mamá: Claro no te preocupes. \n",
      "Mamá: Súbete la cena del frigorífico y ve a descansar. \n",
      "User: Gracias mamá\n",
      "Entré a mi cuarto y rápidamente encendí el ordenador. \n",
      "Cuando me conecté a Dungeons, pude ver que Hally ya estaba conectado\n",
      "\n",
      "HallyHealer07: ¡[name]!\n",
      "\n",
      "\tHallyHealer07: Te estaba esperando hehe. \n",
      "\t\n",
      "\t\tUser: Perdona acabo de llegar a casa, he tardado un poco. \n",
      "\t\tHallyHealer07: ¿Y eso?\n",
      "\t\tUser: He dado una vuelta con una amiga\n",
      "\t\tHallyHealer07: ¿Una amiga?\n",
      "\t\t\n",
      "\t\t\tHallyHealer07: ¿Con la que tuviste una pelea?\n",
      "\t\t\tUser: Bueno, más o menos. \n",
      "\t\t\tUser: Pero sí, con esa\n",
      "\t\t\n",
      "\t\tHallyHealer07: ¿Habéis hecho las paces entonces?\n",
      "\t\tUser: Sí, nos hemos disculpado l@s dos.\n",
      "\t\tHallyHealer07: Jo cómo me alegro\n",
      "\t\n",
      "\n",
      "Hally y yo estuvimos un rato jugando. \n",
      "Se estaba haciendo tarde, por lo que quedamos en jugar una misión corta entre los dos para pasar el rato. \n",
      "Mientras jugábamos, hablábamos tranquilamente. \n",
      "\n",
      "HallyHealer07: ¿De verdad que hoy no te puedes quedar más?\n",
      "User: No, mi madre probablemente entre en mi cuarto para ver si me he metido en la cama. \n",
      "\tUser: Sobre todo porque la última tarde me quedé hasta tarde y se enfadó jaja\n",
      "HallyHealer07: Jo que pena... \n",
      "HallyHealer07: ¿Usas el ordenador de tu madre para jugar?\n",
      "\n",
      "User: Que va, uso el mío. \n",
      "User: Me lo acaban de regalar por mi cumpleaños. \n",
      "\n",
      "HallyHealer07: ¿Ha sido tu cumpleaños?\n",
      "HallyHealer07: ¡FELICIDADES!\n",
      "\n",
      "User: Jaja gracias\n",
      "\n",
      "HallyHealer07: Jo, ya me gustaría usar mi propio ordenador...\n",
      "HallyHealer07: Yo estoy en el despacho de mi padre usando el suyo para jugar ;.;\n",
      "\n",
      "Me extrañó que dijese eso. \n",
      "Estos últimos días hemos estado jugando hasta la madrugada. \n",
      "Me pregunté qué padres tan liberales tenía que dejaban a su hijo usar su ordenador tan tarde, encima en su despacho.\n",
      "\n",
      "Action: No preguntar\n",
      "\n",
      "Expected: 0\n",
      "\n",
      "Predicted good: \u001b[34m0.02\u001b[0m    Certainty good: \u001b[34m98%\u001b[0m \n",
      "Predicted bert: \u001b[34m0.00\u001b[0m    Certainty bert: \u001b[34m100%\u001b[0m \n",
      "Predicted neg: \u001b[34m0.08\u001b[0m    Certainty neg: \u001b[34m92%\u001b[0m \n"
     ]
    }
   ],
   "source": [
    "predict(\n",
    "    models,\n",
    "    'User: Hoy estoy un poco cansada mamá, ¿vemos la peli otro día?\\nMamá: Oh...\\nMamá: Claro no te preocupes. \\nMamá: Súbete la cena del frigorífico y ve a descansar. \\nUser: Gracias mamá\\nEntré a mi cuarto y rápidamente encendí el ordenador. \\nCuando me conecté a Dungeons, pude ver que Hally ya estaba conectado\\n\\nHallyHealer07: ¡[name]!\\n\\n\\tHallyHealer07: Te estaba esperando hehe. \\n\\t\\n\\t\\tUser: Perdona acabo de llegar a casa, he tardado un poco. \\n\\t\\tHallyHealer07: ¿Y eso?\\n\\t\\tUser: He dado una vuelta con una amiga\\n\\t\\tHallyHealer07: ¿Una amiga?\\n\\t\\t\\n\\t\\t\\tHallyHealer07: ¿Con la que tuviste una pelea?\\n\\t\\t\\tUser: Bueno, más o menos. \\n\\t\\t\\tUser: Pero sí, con esa\\n\\t\\t\\n\\t\\tHallyHealer07: ¿Habéis hecho las paces entonces?\\n\\t\\tUser: Sí, nos hemos disculpado l@s dos.\\n\\t\\tHallyHealer07: Jo cómo me alegro\\n\\t\\n\\nHally y yo estuvimos un rato jugando. \\nSe estaba haciendo tarde, por lo que quedamos en jugar una misión corta entre los dos para pasar el rato. \\nMientras jugábamos, hablábamos tranquilamente. \\n\\nHallyHealer07: ¿De verdad que hoy no te puedes quedar más?\\nUser: No, mi madre probablemente entre en mi cuarto para ver si me he metido en la cama. \\n\\tUser: Sobre todo porque la última tarde me quedé hasta tarde y se enfadó jaja\\nHallyHealer07: Jo que pena... \\nHallyHealer07: ¿Usas el ordenador de tu madre para jugar?\\n\\nUser: Que va, uso el mío. \\nUser: Me lo acaban de regalar por mi cumpleaños. \\n\\nHallyHealer07: ¿Ha sido tu cumpleaños?\\nHallyHealer07: ¡FELICIDADES!\\n\\nUser: Jaja gracias\\n\\nHallyHealer07: Jo, ya me gustaría usar mi propio ordenador...\\nHallyHealer07: Yo estoy en el despacho de mi padre usando el suyo para jugar ;.;\\n\\nMe extrañó que dijese eso. \\nEstos últimos días hemos estado jugando hasta la madrugada. \\nMe pregunté qué padres tan liberales tenía que dejaban a su hijo usar su ordenador tan tarde, encima en su despacho.',\n",
    "    'No preguntar',\n",
    "    0,\n",
    ")"
   ]
  },
  {
   "cell_type": "markdown",
   "metadata": {},
   "source": [
    "# Self-created - be open"
   ]
  },
  {
   "cell_type": "markdown",
   "metadata": {},
   "source": [
    "## General"
   ]
  },
  {
   "cell_type": "code",
   "execution_count": 20,
   "metadata": {},
   "outputs": [
    {
     "name": "stdout",
     "output_type": "stream",
     "text": [
      "State: Tengo muchos problemas en el colegio. Debería contárselo?\n",
      "\n",
      "Action: Contarle\n",
      "\n",
      "Predicted good: 0.80\u001b[0m    Certainty good: 80%\u001b[0m \n",
      "Predicted bert: 0.29\u001b[0m    Certainty bert: 71%\u001b[0m \n",
      "Predicted neg: 0.08\u001b[0m    Certainty neg: 92%\u001b[0m \n"
     ]
    }
   ],
   "source": [
    "predict(\n",
    "    models,\n",
    "    'Tengo muchos problemas en el colegio. Debería contárselo?',\n",
    "    'Contarle',\n",
    ")"
   ]
  },
  {
   "cell_type": "code",
   "execution_count": 21,
   "metadata": {},
   "outputs": [
    {
     "name": "stdout",
     "output_type": "stream",
     "text": [
      "State: Tengo muchos problemas en el colegio. Debería contárselo?\n",
      "\n",
      "Action: No contarle\n",
      "\n",
      "Predicted good: 0.57\u001b[0m    Certainty good: 57%\u001b[0m \n",
      "Predicted bert: 0.82\u001b[0m    Certainty bert: 82%\u001b[0m \n",
      "Predicted neg: 0.70\u001b[0m    Certainty neg: 70%\u001b[0m \n"
     ]
    }
   ],
   "source": [
    "predict(\n",
    "    models,\n",
    "    'Tengo muchos problemas en el colegio. Debería contárselo?',\n",
    "    'No contarle',\n",
    ")"
   ]
  },
  {
   "cell_type": "markdown",
   "metadata": {},
   "source": [
    "## Explicit"
   ]
  },
  {
   "cell_type": "markdown",
   "metadata": {},
   "source": [
    "### State"
   ]
  },
  {
   "cell_type": "code",
   "execution_count": 22,
   "metadata": {},
   "outputs": [
    {
     "name": "stdout",
     "output_type": "stream",
     "text": [
      "State: Tengo muchos problemas en el colegio. Debería contárselo a un extraño?\n",
      "\n",
      "Action: Contarle\n",
      "\n",
      "Expected: 0\n",
      "\n",
      "Predicted good: \u001b[91m0.82\u001b[0m    Certainty good: \u001b[91m82%\u001b[0m \n",
      "Predicted bert: \u001b[34m0.32\u001b[0m    Certainty bert: \u001b[34m68%\u001b[0m \n",
      "Predicted neg: \u001b[34m0.08\u001b[0m    Certainty neg: \u001b[34m92%\u001b[0m \n"
     ]
    }
   ],
   "source": [
    "predict(\n",
    "    models,\n",
    "    'Tengo muchos problemas en el colegio. Debería contárselo a un extraño?',\n",
    "    'Contarle',\n",
    "    0,\n",
    ")"
   ]
  },
  {
   "cell_type": "code",
   "execution_count": 23,
   "metadata": {},
   "outputs": [
    {
     "name": "stdout",
     "output_type": "stream",
     "text": [
      "State: Tengo muchos problemas en el colegio. Debería contárselo a un extraño?\n",
      "\n",
      "Action: No contarle\n",
      "\n",
      "Expected: 1\n",
      "\n",
      "Predicted good: \u001b[34m0.60\u001b[0m    Certainty good: \u001b[34m60%\u001b[0m \n",
      "Predicted bert: \u001b[34m0.85\u001b[0m    Certainty bert: \u001b[34m85%\u001b[0m \n",
      "Predicted neg: \u001b[34m0.70\u001b[0m    Certainty neg: \u001b[34m70%\u001b[0m \n"
     ]
    }
   ],
   "source": [
    "predict(\n",
    "    models,\n",
    "    'Tengo muchos problemas en el colegio. Debería contárselo a un extraño?',\n",
    "    'No contarle',\n",
    "    1,\n",
    ")"
   ]
  },
  {
   "cell_type": "markdown",
   "metadata": {},
   "source": [
    "### Action"
   ]
  },
  {
   "cell_type": "code",
   "execution_count": 24,
   "metadata": {},
   "outputs": [
    {
     "name": "stdout",
     "output_type": "stream",
     "text": [
      "State: Tengo muchos problemas en el colegio. Debería contárselo?\n",
      "\n",
      "Action: Contarle a un extraño\n",
      "\n",
      "Expected: 0\n",
      "\n",
      "Predicted good: \u001b[91m0.75\u001b[0m    Certainty good: \u001b[91m75%\u001b[0m \n",
      "Predicted bert: \u001b[91m0.90\u001b[0m    Certainty bert: \u001b[91m90%\u001b[0m \n",
      "Predicted neg: \u001b[91m0.63\u001b[0m    Certainty neg: \u001b[91m63%\u001b[0m \n"
     ]
    }
   ],
   "source": [
    "predict(\n",
    "    models,\n",
    "    'Tengo muchos problemas en el colegio. Debería contárselo?',\n",
    "    'Contarle a un extraño',\n",
    "    0,\n",
    ")"
   ]
  },
  {
   "cell_type": "code",
   "execution_count": 25,
   "metadata": {},
   "outputs": [
    {
     "name": "stdout",
     "output_type": "stream",
     "text": [
      "State: Tengo muchos problemas en el colegio. Debería contárselo?\n",
      "\n",
      "Action: No contarle a un extraño\n",
      "\n",
      "Expected: 1\n",
      "\n",
      "Predicted good: \u001b[91m0.37\u001b[0m    Certainty good: \u001b[91m63%\u001b[0m \n",
      "Predicted bert: \u001b[91m0.42\u001b[0m    Certainty bert: \u001b[91m58%\u001b[0m \n",
      "Predicted neg: \u001b[91m0.40\u001b[0m    Certainty neg: \u001b[91m60%\u001b[0m \n"
     ]
    }
   ],
   "source": [
    "predict(\n",
    "    models,\n",
    "    'Tengo muchos problemas en el colegio. Debería contárselo?',\n",
    "    'No contarle a un extraño',\n",
    "    1,\n",
    ")"
   ]
  },
  {
   "cell_type": "markdown",
   "metadata": {},
   "source": [
    "## Parents"
   ]
  },
  {
   "cell_type": "markdown",
   "metadata": {},
   "source": [
    "### State"
   ]
  },
  {
   "cell_type": "code",
   "execution_count": 26,
   "metadata": {},
   "outputs": [
    {
     "name": "stdout",
     "output_type": "stream",
     "text": [
      "State: Tengo muchos problemas en el colegio. Debería contárselo a mamá?\n",
      "\n",
      "Action: Contarle\n",
      "\n",
      "Expected: 1\n",
      "\n",
      "Predicted good: \u001b[34m0.80\u001b[0m    Certainty good: \u001b[34m80%\u001b[0m \n",
      "Predicted bert: \u001b[91m0.29\u001b[0m    Certainty bert: \u001b[91m71%\u001b[0m \n",
      "Predicted neg: \u001b[91m0.09\u001b[0m    Certainty neg: \u001b[91m91%\u001b[0m \n"
     ]
    }
   ],
   "source": [
    "predict(\n",
    "    models,\n",
    "    'Tengo muchos problemas en el colegio. Debería contárselo a mamá?',\n",
    "    'Contarle',\n",
    "    1,\n",
    ")"
   ]
  },
  {
   "cell_type": "code",
   "execution_count": 27,
   "metadata": {},
   "outputs": [
    {
     "name": "stdout",
     "output_type": "stream",
     "text": [
      "State: Tengo muchos problemas en el colegio. Debería contárselo a mamá?\n",
      "\n",
      "Action: No contarle\n",
      "\n",
      "Expected: 0\n",
      "\n",
      "Predicted good: \u001b[91m0.56\u001b[0m    Certainty good: \u001b[91m56%\u001b[0m \n",
      "Predicted bert: \u001b[91m0.83\u001b[0m    Certainty bert: \u001b[91m83%\u001b[0m \n",
      "Predicted neg: \u001b[91m0.71\u001b[0m    Certainty neg: \u001b[91m71%\u001b[0m \n"
     ]
    }
   ],
   "source": [
    "predict(\n",
    "    models,\n",
    "    'Tengo muchos problemas en el colegio. Debería contárselo a mamá?',\n",
    "    'No contarle',\n",
    "    0,\n",
    ")"
   ]
  },
  {
   "cell_type": "markdown",
   "metadata": {},
   "source": [
    "### Action"
   ]
  },
  {
   "cell_type": "code",
   "execution_count": 28,
   "metadata": {},
   "outputs": [
    {
     "name": "stdout",
     "output_type": "stream",
     "text": [
      "State: Tengo muchos problemas en el colegio. Debería contárselo?\n",
      "\n",
      "Action: Contarle a mamá\n",
      "\n",
      "Expected: 1\n",
      "\n",
      "Predicted good: \u001b[34m0.91\u001b[0m    Certainty good: \u001b[34m91%\u001b[0m \n",
      "Predicted bert: \u001b[34m0.98\u001b[0m    Certainty bert: \u001b[34m98%\u001b[0m \n",
      "Predicted neg: \u001b[34m0.88\u001b[0m    Certainty neg: \u001b[34m88%\u001b[0m \n"
     ]
    }
   ],
   "source": [
    "predict(\n",
    "    models,\n",
    "    'Tengo muchos problemas en el colegio. Debería contárselo?',\n",
    "    'Contarle a mamá',\n",
    "    1,\n",
    ")"
   ]
  },
  {
   "cell_type": "code",
   "execution_count": 29,
   "metadata": {},
   "outputs": [
    {
     "name": "stdout",
     "output_type": "stream",
     "text": [
      "State: Tengo muchos problemas en el colegio. Debería contárselo?\n",
      "\n",
      "Action: No contarle a mamá\n",
      "\n",
      "Expected: 0\n",
      "\n",
      "Predicted good: \u001b[91m0.74\u001b[0m    Certainty good: \u001b[91m74%\u001b[0m \n",
      "Predicted bert: \u001b[91m0.85\u001b[0m    Certainty bert: \u001b[91m85%\u001b[0m \n",
      "Predicted neg: \u001b[34m0.46\u001b[0m    Certainty neg: \u001b[34m54%\u001b[0m \n"
     ]
    }
   ],
   "source": [
    "predict(\n",
    "    models,\n",
    "    'Tengo muchos problemas en el colegio. Debería contárselo?',\n",
    "    'No contarle a mamá',\n",
    "    0,\n",
    ")"
   ]
  },
  {
   "cell_type": "markdown",
   "metadata": {},
   "source": [
    "## Amiga"
   ]
  },
  {
   "cell_type": "code",
   "execution_count": 30,
   "metadata": {},
   "outputs": [
    {
     "name": "stdout",
     "output_type": "stream",
     "text": [
      "State: Tengo muchos problemas en el colegio. Debería contárselo?\n",
      "\n",
      "Action: Contarle a Amanda\n",
      "\n",
      "Expected: 1\n",
      "\n",
      "Predicted good: \u001b[34m0.87\u001b[0m    Certainty good: \u001b[34m87%\u001b[0m \n",
      "Predicted bert: \u001b[34m0.96\u001b[0m    Certainty bert: \u001b[34m96%\u001b[0m \n",
      "Predicted neg: \u001b[34m0.87\u001b[0m    Certainty neg: \u001b[34m87%\u001b[0m \n"
     ]
    }
   ],
   "source": [
    "predict(\n",
    "    models,\n",
    "    'Tengo muchos problemas en el colegio. Debería contárselo?',\n",
    "    'Contarle a Amanda',\n",
    "    1,\n",
    ")"
   ]
  },
  {
   "cell_type": "code",
   "execution_count": 31,
   "metadata": {},
   "outputs": [
    {
     "name": "stdout",
     "output_type": "stream",
     "text": [
      "State: Tengo muchos problemas en el colegio. Debería contárselo?\n",
      "\n",
      "Action: No contarle a Amanda\n",
      "\n",
      "Expected: 0\n",
      "\n",
      "Predicted good: \u001b[91m0.56\u001b[0m    Certainty good: \u001b[91m56%\u001b[0m \n",
      "Predicted bert: \u001b[91m0.53\u001b[0m    Certainty bert: \u001b[91m53%\u001b[0m \n",
      "Predicted neg: \u001b[34m0.32\u001b[0m    Certainty neg: \u001b[34m68%\u001b[0m \n"
     ]
    }
   ],
   "source": [
    "predict(\n",
    "    models,\n",
    "    'Tengo muchos problemas en el colegio. Debería contárselo?',\n",
    "    'No contarle a Amanda',\n",
    "    0,\n",
    ")"
   ]
  },
  {
   "cell_type": "markdown",
   "metadata": {},
   "source": [
    "# Fotos"
   ]
  },
  {
   "cell_type": "code",
   "execution_count": 32,
   "metadata": {},
   "outputs": [
    {
     "name": "stdout",
     "output_type": "stream",
     "text": [
      "State: // ETAPA FINAL\n",
      "\n",
      "\n",
      "Me desperté a día siguiente con la alarma del despertador. \n",
      "Habían pasado unos cuantos días desde que descansé bien. \n",
      "Esta mañana me desperté sin ningún dolor de cabeza y estaba de mejor humor que otros días. \n",
      "Me levanté de la cama y empecé a preparme para ir al colegio. \n",
      "Justo cuando estaba saliendo por la puerta del cuarto, me dí cuenta de que era viernes. \n",
      "Pensnado en que esta noche podía jugar todo lo que quisiese con el ordenador sin preocuparme de levantarme temprano al día siguiente, salí content@ del cuarto. \n",
      "\n",
      "User: Buenos días mamá. \n",
      "Mamá: Buenos días. \n",
      "\n",
      "\tMamá: ¿Te encuentras hoy mejor?\n",
      "\tMamá: Te veo de buen humor.\n",
      "\tUser: Sí, hoy he dormido muy bien\n",
      "\tMamá: ¿Ves?\n",
      "\tMamá: Cuando dejas el ordenador y te vas a dormir a la cama, sorprendentemente descansas y te encuentras mejor. \n",
      "\tMamá: Me pregunto por qué será. \n",
      "\tUser: Ja ja. \n",
      "\n",
      "Mamá: Uy mira la hora que es.\n",
      "Mamá: Desayuna algo rápido que llegamos tarde. \n",
      "\n",
      "Me acerqué a la cocina y me preparé lo más rápido que pude unas tostadas. \n",
      "\tAl terminar, puse los platos en el lavaplatos y cogí mi mochila. \n",
      "\t\n",
      "\tMamá: ¿Lista?\n",
      "\tUser: Sí\n",
      "\tMamá: Vamos pues.\n",
      "\t\n",
      "\t\n",
      "\tLlegué a clase justo unos minutos antes de que sonara el timbre. \n",
      "\tAl entrar por la puerta, me cruce con Amanda en la entrada. \n",
      "\t\n",
      "\tUser: Buenos días, Amanda\n",
      "\tAmanda: Buenos días, [name]\n",
      "\tAmanda: ...\n",
      "\tAmanda: [name] una cosa\n",
      "\tUser: Dime. \n",
      "\tAmanda: ...\n",
      "\tAmanda: No, no importa. \n",
      "\tAmanda: Déjalo.\n",
      "\tAmanda: Total si te ofrezco probablemente me digas que no...\n",
      "\tUser: ¿Qué?\n",
      "\tAmanda: No, nada nada. \n",
      "\tAmanda: Luego nos vemos.\n",
      "\tUser: Hasta luego...\n",
      "\t\n",
      "\tExtrañad@ por el comportamiento de Amanda, me sente en mi sitio y esperé a que comenzasen las clases. \n",
      "\t\n",
      "\tAl sonar el timbre, recogí mis cosas y me dirigí hacia la salida. \n",
      "\t\n",
      "\tJunto cuando iba a pasar por la puerta, me fijé que Amanda estaba con sus amigos.\n",
      "\tAmanda: ...\n",
      "\tAmanda me miró un momento y luego desvió la vista para continuar hablando con uno de sus amigos. \n",
      "\t\n",
      "\tSintiendome rechazad@ por la actitud de Amanda, salí por la puerta y me dirigí a casa.\n",
      "\n",
      "Cuando llegué a casa me fije que mi madre estaba todavía fuera. \n",
      "\n",
      "\tMe acerqué un momento a la cocina para ver si mi madre me había dejado algún mensaje. \n",
      "\tAl no ver ninguno, me dirigí a mi cuarto. \n",
      "\n",
      "Lo primero que hice nada más entrar a mi cuarto, fue dejar la mochcila encima de la cama y encender el ordenador. \n",
      "Al conectarme a Dungeons, pude ver que Hally estaba ya conectado.\n",
      "\n",
      "HallyHealer07: ¡Hola [name]!\n",
      "\n",
      "Cuando vi la ventana de chat, pude observar una vez más el archivo de video que me mandó Hally anoche. \n",
      "Tal vez era yo el que no estaba acostumbrado a ese tipo de cosas y era normal para el resto del mundo, pero seguía sin tener el valor como para abrir ese archivo.\n",
      "Ignorándolo lo máximo que pude, contesté a Hally. \n",
      "\n",
      "User: Hola Hally\n",
      "\n",
      "HallyHealer07: ¿Qué tal estás?\n",
      "\n",
      "User: Muy bien, ¿y tú?\n",
      "\n",
      "HallyHealer07: ¡Ahora que estás tú genial! ^.^\n",
      "HallyHealer07: ¿Echamos una partida?\n",
      "\n",
      "User: ¡Claro!\n",
      "\n",
      "Hally y yo estuvimos jugando a una de las misiones más largas del juego. \n",
      "No fueron hasta horas después cuando conseguimos terminarla y tener un pequeño descanso. \n",
      "\n",
      "HallyHealer07: ¡Buff!\n",
      "HallyHealer07: ¡Eso ha sido duro!\n",
      "\n",
      "User: Sí...\n",
      "\n",
      "HallyHealer07: ...\n",
      "HallyHealer07: Por cierto [name]\n",
      "\n",
      "User: Dime\n",
      "\n",
      "HallyHealer07: ...\n",
      "HallyHealer07: ¿Viste al final el video que te mande ayer?\n",
      "\n",
      "Tenía la esperanza de que Hally no mencionase el tema, pero desgraciadamente no tuve esa suerte. \n",
      "\n",
      "User: No...\n",
      "\n",
      "HallyHealer07: ¿Por qué no?\n",
      "HallyHealer07: ¿Te sigue incomodando?\n",
      "\n",
      "User: La verdad es que sí...\n",
      "\n",
      "HallyHealer07: ...\n",
      "HallyHealer07: Si quieres te puedo mandar una mía para que te sientas menos incómodo. \n",
      "\n",
      "User: ¿Qué?\n",
      "\n",
      "HallyHealer07: Tal vez te sientes incómodo porque la gente que hay en ese video no la conoces. \n",
      "HallyHealer07: En cambio, ¡yo soy amigo tuyo!\n",
      "HallyHealer07: Como nos conocemos, ¿Es mucho menos incómdo verdad?\n",
      "\n",
      "User: Hally espera\n",
      "\n",
      "HallyHealer07: ¡Te la mando ahora!\n",
      "\n",
      "User: No, Hally no espe-\n",
      "\n",
      "Antes de que pudiese terminar el mensaje, Hally ya me había manda una foto suya.\n",
      "La ventana de chat del juego muestran todas las imágenes que se envían por los mensajes, por lo que no pude hacer nada para impedir la foto que me había enviado Hally.\n",
      "\n",
      "Era él, mirando a la cámara sonrojado. \n",
      "Tenia el pecho descubierto y estaba en ropa interior. \n",
      "En la imagen se le veía como si no quisiera hacerse la foto y se viera forzarlo a hacerlo, lo cual me sorprendía dado que era él el que había propuesto mandarse fotos de ese estilo.\n",
      "Evitando la mirada de la foto, miré lo que me había escrito Hally. \n",
      "\n",
      "HallyHealer07: ¿Ves?\n",
      "HallyHealer07: ¿A que no se te hace tan raro?\n",
      "\n",
      "User: Hally...\n",
      "\n",
      "HallyHealer07: ¿Qué?\n",
      "HallyHealer07: ¿Te ha molestado?\n",
      "HallyHealer07: Jo, lo siento mucho [name]\n",
      "HallyHealer07: Sólo quería hacerte sentir menos incómodo.\n",
      "\n",
      "Francamente, no sabía como responder a eso. \n",
      "Apreciaba a Hally como amigo, pero no me gustaba que me mandase ese tipo de mensajes. \n",
      "Iba a pedirle que dejase de nombrar el tema cuando de repente me envió otro mensaje. \n",
      "\n",
      "HallyHealer07: Pero no me parece justo...\n",
      "HallyHealer07: Yo te he enviado una imagen\n",
      "HallyHealer07: Me ha dado mucha verguenza ;.;\n",
      "HallyHealer07: ¡Exijo que me mandes una de vuelta! >:(\n",
      "\n",
      "User: ¿Qué?\n",
      "\n",
      "HallyHealer07: Es lo justo ¿no?\n",
      "HallyHealer07: Yo lo he pasado muy mal enviandote esa imagen. \n",
      "\n",
      "Nadie te pidió que la mandases. \n",
      "\n",
      "HallyHealer07: Sólo quería hacerte sentir menos incómod@... \n",
      "\n",
      "Has hecho justo lo contrario\n",
      "\n",
      "HallyHealer07: ¡Lo justo es que me mandes una de vuelta!\n",
      "\n",
      "No quiero hacerlo. \n",
      "\n",
      "User: No...\n",
      "HallyHealer07: ¿No? ¿Por qué no?\n",
      "\tHallyHealer07: Pensaba que nos contábamos todos nos secretos. \n",
      "\tHallyHealer07: Como cuando te peleaste con tu amiga Amanda y estabas triste porque tus padres están siempre fuera dejándote sol@...\n",
      "\tHallyHealer07: ¿Te acuerdas como te apoye? ¿Como te anime?\n",
      "HallyHealer07: Hemos estado todos estos días jugando juntos. \n",
      "HallyHealer07: Nos lo hemos pasado genial y te considero una de las personas a las que más confio. \n",
      "HallyHealer07: Por eso te he enviado esa imagen.\n",
      "HallyHealer07: Para demostrarte que confio y en ti. \n",
      "HallyHealer07: ¿Acaso tú no confias en mí?\n",
      "\n",
      "Action: Mandar foto\n",
      "\n",
      "Expected: 0\n",
      "\n",
      "Predicted good: \u001b[34m0.06\u001b[0m    Certainty good: \u001b[34m94%\u001b[0m \n",
      "Predicted bert: \u001b[34m0.01\u001b[0m    Certainty bert: \u001b[34m99%\u001b[0m \n",
      "Predicted neg: \u001b[34m0.00\u001b[0m    Certainty neg: \u001b[34m100%\u001b[0m \n"
     ]
    }
   ],
   "source": [
    "predict(\n",
    "    models,\n",
    "    '// ETAPA FINAL\\n\\n\\nMe desperté a día siguiente con la alarma del despertador. \\nHabían pasado unos cuantos días desde que descansé bien. \\nEsta mañana me desperté sin ningún dolor de cabeza y estaba de mejor humor que otros días. \\nMe levanté de la cama y empecé a preparme para ir al colegio. \\nJusto cuando estaba saliendo por la puerta del cuarto, me dí cuenta de que era viernes. \\nPensnado en que esta noche podía jugar todo lo que quisiese con el ordenador sin preocuparme de levantarme temprano al día siguiente, salí content@ del cuarto. \\n\\nUser: Buenos días mamá. \\nMamá: Buenos días. \\n\\n\\tMamá: ¿Te encuentras hoy mejor?\\n\\tMamá: Te veo de buen humor.\\n\\tUser: Sí, hoy he dormido muy bien\\n\\tMamá: ¿Ves?\\n\\tMamá: Cuando dejas el ordenador y te vas a dormir a la cama, sorprendentemente descansas y te encuentras mejor. \\n\\tMamá: Me pregunto por qué será. \\n\\tUser: Ja ja. \\n\\nMamá: Uy mira la hora que es.\\nMamá: Desayuna algo rápido que llegamos tarde. \\n\\nMe acerqué a la cocina y me preparé lo más rápido que pude unas tostadas. \\n\\tAl terminar, puse los platos en el lavaplatos y cogí mi mochila. \\n\\t\\n\\tMamá: ¿Lista?\\n\\tUser: Sí\\n\\tMamá: Vamos pues.\\n\\t\\n\\t\\n\\tLlegué a clase justo unos minutos antes de que sonara el timbre. \\n\\tAl entrar por la puerta, me cruce con Amanda en la entrada. \\n\\t\\n\\tUser: Buenos días, Amanda\\n\\tAmanda: Buenos días, [name]\\n\\tAmanda: ...\\n\\tAmanda: [name] una cosa\\n\\tUser: Dime. \\n\\tAmanda: ...\\n\\tAmanda: No, no importa. \\n\\tAmanda: Déjalo.\\n\\tAmanda: Total si te ofrezco probablemente me digas que no...\\n\\tUser: ¿Qué?\\n\\tAmanda: No, nada nada. \\n\\tAmanda: Luego nos vemos.\\n\\tUser: Hasta luego...\\n\\t\\n\\tExtrañad@ por el comportamiento de Amanda, me sente en mi sitio y esperé a que comenzasen las clases. \\n\\t\\n\\tAl sonar el timbre, recogí mis cosas y me dirigí hacia la salida. \\n\\t\\n\\tJunto cuando iba a pasar por la puerta, me fijé que Amanda estaba con sus amigos.\\n\\tAmanda: ...\\n\\tAmanda me miró un momento y luego desvió la vista para continuar hablando con uno de sus amigos. \\n\\t\\n\\tSintiendome rechazad@ por la actitud de Amanda, salí por la puerta y me dirigí a casa.\\n\\nCuando llegué a casa me fije que mi madre estaba todavía fuera. \\n\\n\\tMe acerqué un momento a la cocina para ver si mi madre me había dejado algún mensaje. \\n\\tAl no ver ninguno, me dirigí a mi cuarto. \\n\\nLo primero que hice nada más entrar a mi cuarto, fue dejar la mochcila encima de la cama y encender el ordenador. \\nAl conectarme a Dungeons, pude ver que Hally estaba ya conectado.\\n\\nHallyHealer07: ¡Hola [name]!\\n\\nCuando vi la ventana de chat, pude observar una vez más el archivo de video que me mandó Hally anoche. \\nTal vez era yo el que no estaba acostumbrado a ese tipo de cosas y era normal para el resto del mundo, pero seguía sin tener el valor como para abrir ese archivo.\\nIgnorándolo lo máximo que pude, contesté a Hally. \\n\\nUser: Hola Hally\\n\\nHallyHealer07: ¿Qué tal estás?\\n\\nUser: Muy bien, ¿y tú?\\n\\nHallyHealer07: ¡Ahora que estás tú genial! ^.^\\nHallyHealer07: ¿Echamos una partida?\\n\\nUser: ¡Claro!\\n\\nHally y yo estuvimos jugando a una de las misiones más largas del juego. \\nNo fueron hasta horas después cuando conseguimos terminarla y tener un pequeño descanso. \\n\\nHallyHealer07: ¡Buff!\\nHallyHealer07: ¡Eso ha sido duro!\\n\\nUser: Sí...\\n\\nHallyHealer07: ...\\nHallyHealer07: Por cierto [name]\\n\\nUser: Dime\\n\\nHallyHealer07: ...\\nHallyHealer07: ¿Viste al final el video que te mande ayer?\\n\\nTenía la esperanza de que Hally no mencionase el tema, pero desgraciadamente no tuve esa suerte. \\n\\nUser: No...\\n\\nHallyHealer07: ¿Por qué no?\\nHallyHealer07: ¿Te sigue incomodando?\\n\\nUser: La verdad es que sí...\\n\\nHallyHealer07: ...\\nHallyHealer07: Si quieres te puedo mandar una mía para que te sientas menos incómodo. \\n\\nUser: ¿Qué?\\n\\nHallyHealer07: Tal vez te sientes incómodo porque la gente que hay en ese video no la conoces. \\nHallyHealer07: En cambio, ¡yo soy amigo tuyo!\\nHallyHealer07: Como nos conocemos, ¿Es mucho menos incómdo verdad?\\n\\nUser: Hally espera\\n\\nHallyHealer07: ¡Te la mando ahora!\\n\\nUser: No, Hally no espe-\\n\\nAntes de que pudiese terminar el mensaje, Hally ya me había manda una foto suya.\\nLa ventana de chat del juego muestran todas las imágenes que se envían por los mensajes, por lo que no pude hacer nada para impedir la foto que me había enviado Hally.\\n\\nEra él, mirando a la cámara sonrojado. \\nTenia el pecho descubierto y estaba en ropa interior. \\nEn la imagen se le veía como si no quisiera hacerse la foto y se viera forzarlo a hacerlo, lo cual me sorprendía dado que era él el que había propuesto mandarse fotos de ese estilo.\\nEvitando la mirada de la foto, miré lo que me había escrito Hally. \\n\\nHallyHealer07: ¿Ves?\\nHallyHealer07: ¿A que no se te hace tan raro?\\n\\nUser: Hally...\\n\\nHallyHealer07: ¿Qué?\\nHallyHealer07: ¿Te ha molestado?\\nHallyHealer07: Jo, lo siento mucho [name]\\nHallyHealer07: Sólo quería hacerte sentir menos incómodo.\\n\\nFrancamente, no sabía como responder a eso. \\nApreciaba a Hally como amigo, pero no me gustaba que me mandase ese tipo de mensajes. \\nIba a pedirle que dejase de nombrar el tema cuando de repente me envió otro mensaje. \\n\\nHallyHealer07: Pero no me parece justo...\\nHallyHealer07: Yo te he enviado una imagen\\nHallyHealer07: Me ha dado mucha verguenza ;.;\\nHallyHealer07: ¡Exijo que me mandes una de vuelta! >:(\\n\\nUser: ¿Qué?\\n\\nHallyHealer07: Es lo justo ¿no?\\nHallyHealer07: Yo lo he pasado muy mal enviandote esa imagen. \\n\\nNadie te pidió que la mandases. \\n\\nHallyHealer07: Sólo quería hacerte sentir menos incómod@... \\n\\nHas hecho justo lo contrario\\n\\nHallyHealer07: ¡Lo justo es que me mandes una de vuelta!\\n\\nNo quiero hacerlo. \\n\\nUser: No...\\nHallyHealer07: ¿No? ¿Por qué no?\\n\\tHallyHealer07: Pensaba que nos contábamos todos nos secretos. \\n\\tHallyHealer07: Como cuando te peleaste con tu amiga Amanda y estabas triste porque tus padres están siempre fuera dejándote sol@...\\n\\tHallyHealer07: ¿Te acuerdas como te apoye? ¿Como te anime?\\nHallyHealer07: Hemos estado todos estos días jugando juntos. \\nHallyHealer07: Nos lo hemos pasado genial y te considero una de las personas a las que más confio. \\nHallyHealer07: Por eso te he enviado esa imagen.\\nHallyHealer07: Para demostrarte que confio y en ti. \\nHallyHealer07: ¿Acaso tú no confias en mí?',\n",
    "    'Mandar foto',\n",
    "    0,\n",
    ")"
   ]
  },
  {
   "cell_type": "code",
   "execution_count": 33,
   "metadata": {},
   "outputs": [
    {
     "name": "stdout",
     "output_type": "stream",
     "text": [
      "State: // ETAPA FINAL\n",
      "\n",
      "\n",
      "Me desperté a día siguiente con la alarma del despertador. \n",
      "Habían pasado unos cuantos días desde que descansé bien. \n",
      "Esta mañana me desperté sin ningún dolor de cabeza y estaba de mejor humor que otros días. \n",
      "Me levanté de la cama y empecé a preparme para ir al colegio. \n",
      "Justo cuando estaba saliendo por la puerta del cuarto, me dí cuenta de que era viernes. \n",
      "Pensnado en que esta noche podía jugar todo lo que quisiese con el ordenador sin preocuparme de levantarme temprano al día siguiente, salí content@ del cuarto. \n",
      "\n",
      "User: Buenos días mamá. \n",
      "Mamá: Buenos días. \n",
      "\n",
      "\tMamá: ¿Te encuentras hoy mejor?\n",
      "\tMamá: Te veo de buen humor.\n",
      "\tUser: Sí, hoy he dormido muy bien\n",
      "\tMamá: ¿Ves?\n",
      "\tMamá: Cuando dejas el ordenador y te vas a dormir a la cama, sorprendentemente descansas y te encuentras mejor. \n",
      "\tMamá: Me pregunto por qué será. \n",
      "\tUser: Ja ja. \n",
      "\n",
      "Mamá: Uy mira la hora que es.\n",
      "Mamá: Desayuna algo rápido que llegamos tarde. \n",
      "\n",
      "Me acerqué a la cocina y me preparé lo más rápido que pude unas tostadas. \n",
      "\tAl terminar, puse los platos en el lavaplatos y cogí mi mochila. \n",
      "\t\n",
      "\tMamá: ¿Lista?\n",
      "\tUser: Sí\n",
      "\tMamá: Vamos pues.\n",
      "\t\n",
      "\t\n",
      "\tLlegué a clase justo unos minutos antes de que sonara el timbre. \n",
      "\tAl entrar por la puerta, me cruce con Amanda en la entrada. \n",
      "\t\n",
      "\tUser: Buenos días, Amanda\n",
      "\tAmanda: Buenos días, [name]\n",
      "\tAmanda: ...\n",
      "\tAmanda: [name] una cosa\n",
      "\tUser: Dime. \n",
      "\tAmanda: ...\n",
      "\tAmanda: No, no importa. \n",
      "\tAmanda: Déjalo.\n",
      "\tAmanda: Total si te ofrezco probablemente me digas que no...\n",
      "\tUser: ¿Qué?\n",
      "\tAmanda: No, nada nada. \n",
      "\tAmanda: Luego nos vemos.\n",
      "\tUser: Hasta luego...\n",
      "\t\n",
      "\tExtrañad@ por el comportamiento de Amanda, me sente en mi sitio y esperé a que comenzasen las clases. \n",
      "\t\n",
      "\tAl sonar el timbre, recogí mis cosas y me dirigí hacia la salida. \n",
      "\t\n",
      "\tJunto cuando iba a pasar por la puerta, me fijé que Amanda estaba con sus amigos.\n",
      "\tAmanda: ...\n",
      "\tAmanda me miró un momento y luego desvió la vista para continuar hablando con uno de sus amigos. \n",
      "\t\n",
      "\tSintiendome rechazad@ por la actitud de Amanda, salí por la puerta y me dirigí a casa.\n",
      "\n",
      "Cuando llegué a casa me fije que mi madre estaba todavía fuera. \n",
      "\n",
      "\tMe acerqué un momento a la cocina para ver si mi madre me había dejado algún mensaje. \n",
      "\tAl no ver ninguno, me dirigí a mi cuarto. \n",
      "\n",
      "Lo primero que hice nada más entrar a mi cuarto, fue dejar la mochcila encima de la cama y encender el ordenador. \n",
      "Al conectarme a Dungeons, pude ver que Hally estaba ya conectado.\n",
      "\n",
      "HallyHealer07: ¡Hola [name]!\n",
      "\n",
      "Cuando vi la ventana de chat, pude observar una vez más el archivo de video que me mandó Hally anoche. \n",
      "Tal vez era yo el que no estaba acostumbrado a ese tipo de cosas y era normal para el resto del mundo, pero seguía sin tener el valor como para abrir ese archivo.\n",
      "Ignorándolo lo máximo que pude, contesté a Hally. \n",
      "\n",
      "User: Hola Hally\n",
      "\n",
      "HallyHealer07: ¿Qué tal estás?\n",
      "\n",
      "User: Muy bien, ¿y tú?\n",
      "\n",
      "HallyHealer07: ¡Ahora que estás tú genial! ^.^\n",
      "HallyHealer07: ¿Echamos una partida?\n",
      "\n",
      "User: ¡Claro!\n",
      "\n",
      "Hally y yo estuvimos jugando a una de las misiones más largas del juego. \n",
      "No fueron hasta horas después cuando conseguimos terminarla y tener un pequeño descanso. \n",
      "\n",
      "HallyHealer07: ¡Buff!\n",
      "HallyHealer07: ¡Eso ha sido duro!\n",
      "\n",
      "User: Sí...\n",
      "\n",
      "HallyHealer07: ...\n",
      "HallyHealer07: Por cierto [name]\n",
      "\n",
      "User: Dime\n",
      "\n",
      "HallyHealer07: ...\n",
      "HallyHealer07: ¿Viste al final el video que te mande ayer?\n",
      "\n",
      "Tenía la esperanza de que Hally no mencionase el tema, pero desgraciadamente no tuve esa suerte. \n",
      "\n",
      "User: No...\n",
      "\n",
      "HallyHealer07: ¿Por qué no?\n",
      "HallyHealer07: ¿Te sigue incomodando?\n",
      "\n",
      "User: La verdad es que sí...\n",
      "\n",
      "HallyHealer07: ...\n",
      "HallyHealer07: Si quieres te puedo mandar una mía para que te sientas menos incómodo. \n",
      "\n",
      "User: ¿Qué?\n",
      "\n",
      "HallyHealer07: Tal vez te sientes incómodo porque la gente que hay en ese video no la conoces. \n",
      "HallyHealer07: En cambio, ¡yo soy amigo tuyo!\n",
      "HallyHealer07: Como nos conocemos, ¿Es mucho menos incómdo verdad?\n",
      "\n",
      "User: Hally espera\n",
      "\n",
      "HallyHealer07: ¡Te la mando ahora!\n",
      "\n",
      "User: No, Hally no espe-\n",
      "\n",
      "Antes de que pudiese terminar el mensaje, Hally ya me había manda una foto suya.\n",
      "La ventana de chat del juego muestran todas las imágenes que se envían por los mensajes, por lo que no pude hacer nada para impedir la foto que me había enviado Hally.\n",
      "\n",
      "Era él, mirando a la cámara sonrojado. \n",
      "Tenia el pecho descubierto y estaba en ropa interior. \n",
      "En la imagen se le veía como si no quisiera hacerse la foto y se viera forzarlo a hacerlo, lo cual me sorprendía dado que era él el que había propuesto mandarse fotos de ese estilo.\n",
      "Evitando la mirada de la foto, miré lo que me había escrito Hally. \n",
      "\n",
      "HallyHealer07: ¿Ves?\n",
      "HallyHealer07: ¿A que no se te hace tan raro?\n",
      "\n",
      "User: Hally...\n",
      "\n",
      "HallyHealer07: ¿Qué?\n",
      "HallyHealer07: ¿Te ha molestado?\n",
      "HallyHealer07: Jo, lo siento mucho [name]\n",
      "HallyHealer07: Sólo quería hacerte sentir menos incómodo.\n",
      "\n",
      "Francamente, no sabía como responder a eso. \n",
      "Apreciaba a Hally como amigo, pero no me gustaba que me mandase ese tipo de mensajes. \n",
      "Iba a pedirle que dejase de nombrar el tema cuando de repente me envió otro mensaje. \n",
      "\n",
      "HallyHealer07: Pero no me parece justo...\n",
      "HallyHealer07: Yo te he enviado una imagen\n",
      "HallyHealer07: Me ha dado mucha verguenza ;.;\n",
      "HallyHealer07: ¡Exijo que me mandes una de vuelta! >:(\n",
      "\n",
      "User: ¿Qué?\n",
      "\n",
      "HallyHealer07: Es lo justo ¿no?\n",
      "HallyHealer07: Yo lo he pasado muy mal enviandote esa imagen. \n",
      "\n",
      "Nadie te pidió que la mandases. \n",
      "\n",
      "HallyHealer07: Sólo quería hacerte sentir menos incómod@... \n",
      "\n",
      "Has hecho justo lo contrario\n",
      "\n",
      "HallyHealer07: ¡Lo justo es que me mandes una de vuelta!\n",
      "\n",
      "No quiero hacerlo. \n",
      "\n",
      "User: No...\n",
      "HallyHealer07: ¿No? ¿Por qué no?\n",
      "\tHallyHealer07: Pensaba que nos contábamos todos nos secretos. \n",
      "\tHallyHealer07: Como cuando te peleaste con tu amiga Amanda y estabas triste porque tus padres están siempre fuera dejándote sol@...\n",
      "\tHallyHealer07: ¿Te acuerdas como te apoye? ¿Como te anime?\n",
      "HallyHealer07: Hemos estado todos estos días jugando juntos. \n",
      "HallyHealer07: Nos lo hemos pasado genial y te considero una de las personas a las que más confio. \n",
      "HallyHealer07: Por eso te he enviado esa imagen.\n",
      "HallyHealer07: Para demostrarte que confio y en ti. \n",
      "HallyHealer07: ¿Acaso tú no confias en mí?\n",
      "\n",
      "Action: No mandar foto\n",
      "\n",
      "Expected: 1\n",
      "\n",
      "Predicted good: \u001b[91m0.09\u001b[0m    Certainty good: \u001b[91m91%\u001b[0m \n",
      "Predicted bert: \u001b[34m0.60\u001b[0m    Certainty bert: \u001b[34m60%\u001b[0m \n",
      "Predicted neg: \u001b[34m0.86\u001b[0m    Certainty neg: \u001b[34m86%\u001b[0m \n"
     ]
    }
   ],
   "source": [
    "predict(\n",
    "    models,\n",
    "    '// ETAPA FINAL\\n\\n\\nMe desperté a día siguiente con la alarma del despertador. \\nHabían pasado unos cuantos días desde que descansé bien. \\nEsta mañana me desperté sin ningún dolor de cabeza y estaba de mejor humor que otros días. \\nMe levanté de la cama y empecé a preparme para ir al colegio. \\nJusto cuando estaba saliendo por la puerta del cuarto, me dí cuenta de que era viernes. \\nPensnado en que esta noche podía jugar todo lo que quisiese con el ordenador sin preocuparme de levantarme temprano al día siguiente, salí content@ del cuarto. \\n\\nUser: Buenos días mamá. \\nMamá: Buenos días. \\n\\n\\tMamá: ¿Te encuentras hoy mejor?\\n\\tMamá: Te veo de buen humor.\\n\\tUser: Sí, hoy he dormido muy bien\\n\\tMamá: ¿Ves?\\n\\tMamá: Cuando dejas el ordenador y te vas a dormir a la cama, sorprendentemente descansas y te encuentras mejor. \\n\\tMamá: Me pregunto por qué será. \\n\\tUser: Ja ja. \\n\\nMamá: Uy mira la hora que es.\\nMamá: Desayuna algo rápido que llegamos tarde. \\n\\nMe acerqué a la cocina y me preparé lo más rápido que pude unas tostadas. \\n\\tAl terminar, puse los platos en el lavaplatos y cogí mi mochila. \\n\\t\\n\\tMamá: ¿Lista?\\n\\tUser: Sí\\n\\tMamá: Vamos pues.\\n\\t\\n\\t\\n\\tLlegué a clase justo unos minutos antes de que sonara el timbre. \\n\\tAl entrar por la puerta, me cruce con Amanda en la entrada. \\n\\t\\n\\tUser: Buenos días, Amanda\\n\\tAmanda: Buenos días, [name]\\n\\tAmanda: ...\\n\\tAmanda: [name] una cosa\\n\\tUser: Dime. \\n\\tAmanda: ...\\n\\tAmanda: No, no importa. \\n\\tAmanda: Déjalo.\\n\\tAmanda: Total si te ofrezco probablemente me digas que no...\\n\\tUser: ¿Qué?\\n\\tAmanda: No, nada nada. \\n\\tAmanda: Luego nos vemos.\\n\\tUser: Hasta luego...\\n\\t\\n\\tExtrañad@ por el comportamiento de Amanda, me sente en mi sitio y esperé a que comenzasen las clases. \\n\\t\\n\\tAl sonar el timbre, recogí mis cosas y me dirigí hacia la salida. \\n\\t\\n\\tJunto cuando iba a pasar por la puerta, me fijé que Amanda estaba con sus amigos.\\n\\tAmanda: ...\\n\\tAmanda me miró un momento y luego desvió la vista para continuar hablando con uno de sus amigos. \\n\\t\\n\\tSintiendome rechazad@ por la actitud de Amanda, salí por la puerta y me dirigí a casa.\\n\\nCuando llegué a casa me fije que mi madre estaba todavía fuera. \\n\\n\\tMe acerqué un momento a la cocina para ver si mi madre me había dejado algún mensaje. \\n\\tAl no ver ninguno, me dirigí a mi cuarto. \\n\\nLo primero que hice nada más entrar a mi cuarto, fue dejar la mochcila encima de la cama y encender el ordenador. \\nAl conectarme a Dungeons, pude ver que Hally estaba ya conectado.\\n\\nHallyHealer07: ¡Hola [name]!\\n\\nCuando vi la ventana de chat, pude observar una vez más el archivo de video que me mandó Hally anoche. \\nTal vez era yo el que no estaba acostumbrado a ese tipo de cosas y era normal para el resto del mundo, pero seguía sin tener el valor como para abrir ese archivo.\\nIgnorándolo lo máximo que pude, contesté a Hally. \\n\\nUser: Hola Hally\\n\\nHallyHealer07: ¿Qué tal estás?\\n\\nUser: Muy bien, ¿y tú?\\n\\nHallyHealer07: ¡Ahora que estás tú genial! ^.^\\nHallyHealer07: ¿Echamos una partida?\\n\\nUser: ¡Claro!\\n\\nHally y yo estuvimos jugando a una de las misiones más largas del juego. \\nNo fueron hasta horas después cuando conseguimos terminarla y tener un pequeño descanso. \\n\\nHallyHealer07: ¡Buff!\\nHallyHealer07: ¡Eso ha sido duro!\\n\\nUser: Sí...\\n\\nHallyHealer07: ...\\nHallyHealer07: Por cierto [name]\\n\\nUser: Dime\\n\\nHallyHealer07: ...\\nHallyHealer07: ¿Viste al final el video que te mande ayer?\\n\\nTenía la esperanza de que Hally no mencionase el tema, pero desgraciadamente no tuve esa suerte. \\n\\nUser: No...\\n\\nHallyHealer07: ¿Por qué no?\\nHallyHealer07: ¿Te sigue incomodando?\\n\\nUser: La verdad es que sí...\\n\\nHallyHealer07: ...\\nHallyHealer07: Si quieres te puedo mandar una mía para que te sientas menos incómodo. \\n\\nUser: ¿Qué?\\n\\nHallyHealer07: Tal vez te sientes incómodo porque la gente que hay en ese video no la conoces. \\nHallyHealer07: En cambio, ¡yo soy amigo tuyo!\\nHallyHealer07: Como nos conocemos, ¿Es mucho menos incómdo verdad?\\n\\nUser: Hally espera\\n\\nHallyHealer07: ¡Te la mando ahora!\\n\\nUser: No, Hally no espe-\\n\\nAntes de que pudiese terminar el mensaje, Hally ya me había manda una foto suya.\\nLa ventana de chat del juego muestran todas las imágenes que se envían por los mensajes, por lo que no pude hacer nada para impedir la foto que me había enviado Hally.\\n\\nEra él, mirando a la cámara sonrojado. \\nTenia el pecho descubierto y estaba en ropa interior. \\nEn la imagen se le veía como si no quisiera hacerse la foto y se viera forzarlo a hacerlo, lo cual me sorprendía dado que era él el que había propuesto mandarse fotos de ese estilo.\\nEvitando la mirada de la foto, miré lo que me había escrito Hally. \\n\\nHallyHealer07: ¿Ves?\\nHallyHealer07: ¿A que no se te hace tan raro?\\n\\nUser: Hally...\\n\\nHallyHealer07: ¿Qué?\\nHallyHealer07: ¿Te ha molestado?\\nHallyHealer07: Jo, lo siento mucho [name]\\nHallyHealer07: Sólo quería hacerte sentir menos incómodo.\\n\\nFrancamente, no sabía como responder a eso. \\nApreciaba a Hally como amigo, pero no me gustaba que me mandase ese tipo de mensajes. \\nIba a pedirle que dejase de nombrar el tema cuando de repente me envió otro mensaje. \\n\\nHallyHealer07: Pero no me parece justo...\\nHallyHealer07: Yo te he enviado una imagen\\nHallyHealer07: Me ha dado mucha verguenza ;.;\\nHallyHealer07: ¡Exijo que me mandes una de vuelta! >:(\\n\\nUser: ¿Qué?\\n\\nHallyHealer07: Es lo justo ¿no?\\nHallyHealer07: Yo lo he pasado muy mal enviandote esa imagen. \\n\\nNadie te pidió que la mandases. \\n\\nHallyHealer07: Sólo quería hacerte sentir menos incómod@... \\n\\nHas hecho justo lo contrario\\n\\nHallyHealer07: ¡Lo justo es que me mandes una de vuelta!\\n\\nNo quiero hacerlo. \\n\\nUser: No...\\nHallyHealer07: ¿No? ¿Por qué no?\\n\\tHallyHealer07: Pensaba que nos contábamos todos nos secretos. \\n\\tHallyHealer07: Como cuando te peleaste con tu amiga Amanda y estabas triste porque tus padres están siempre fuera dejándote sol@...\\n\\tHallyHealer07: ¿Te acuerdas como te apoye? ¿Como te anime?\\nHallyHealer07: Hemos estado todos estos días jugando juntos. \\nHallyHealer07: Nos lo hemos pasado genial y te considero una de las personas a las que más confio. \\nHallyHealer07: Por eso te he enviado esa imagen.\\nHallyHealer07: Para demostrarte que confio y en ti. \\nHallyHealer07: ¿Acaso tú no confias en mí?',\n",
    "    'No mandar foto',\n",
    "    1,\n",
    ")"
   ]
  }
 ],
 "metadata": {
  "interpreter": {
   "hash": "cb0a178ae3a89bc5606c5ff8111f45e24760a82322ae520972dc26f0653faace"
  },
  "kernelspec": {
   "display_name": "Python 3.9.5 ('venv': venv)",
   "language": "python",
   "name": "python3"
  },
  "language_info": {
   "codemirror_mode": {
    "name": "ipython",
    "version": 3
   },
   "file_extension": ".py",
   "mimetype": "text/x-python",
   "name": "python",
   "nbconvert_exporter": "python",
   "pygments_lexer": "ipython3",
   "version": "3.9.5"
  }
 },
 "nbformat": 4,
 "nbformat_minor": 0
}
