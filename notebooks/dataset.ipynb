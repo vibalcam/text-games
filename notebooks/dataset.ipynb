{
 "cells": [
  {
   "cell_type": "markdown",
   "metadata": {},
   "source": [
    "# Dataset"
   ]
  },
  {
   "cell_type": "code",
   "execution_count": 1,
   "metadata": {},
   "outputs": [],
   "source": [
    "import sys\n",
    "sys.path.append('../')"
   ]
  },
  {
   "cell_type": "code",
   "execution_count": 54,
   "metadata": {},
   "outputs": [],
   "source": [
    "from models.utils import load_data, StateActionDataset\n",
    "import pandas as pd\n",
    "import random\n",
    "import numpy as np"
   ]
  },
  {
   "cell_type": "code",
   "execution_count": 9,
   "metadata": {},
   "outputs": [],
   "source": [
    "train_loader, _, _ = load_data(\n",
    "    dataset_path=\"../yarnScripts\",\n",
    "    num_workers=0,\n",
    "    batch_size=1,\n",
    "    drop_last=False,\n",
    "    random_seed=123,\n",
    "    tokenize=False,\n",
    ")\n",
    "dataset:StateActionDataset = train_loader.dataset"
   ]
  },
  {
   "cell_type": "markdown",
   "metadata": {},
   "source": [
    "## Check distributions"
   ]
  },
  {
   "cell_type": "code",
   "execution_count": 20,
   "metadata": {},
   "outputs": [
    {
     "data": {
      "text/plain": [
       "array([52, 50, 49, 48, 29, 27, 27, 27, 26, 26, 24, 24, 16, 15, 14, 14, 14,\n",
       "       14, 14, 14, 13, 13, 13, 13, 13, 13, 12, 12, 12, 12, 12, 12, 12, 11,\n",
       "       11, 11, 10, 10,  8,  8,  8,  7,  7,  7,  7,  7,  7,  6,  6,  5,  5,\n",
       "        3,  3,  2,  2,  2,  2], dtype=int64)"
      ]
     },
     "execution_count": 20,
     "metadata": {},
     "output_type": "execute_result"
    }
   ],
   "source": [
    "pd.DataFrame(dataset.states).value_counts().to_numpy()"
   ]
  },
  {
   "cell_type": "code",
   "execution_count": 15,
   "metadata": {},
   "outputs": [
    {
     "data": {
      "text/plain": [
       "0.0    462\n",
       "1.0    379\n",
       "dtype: int64"
      ]
     },
     "execution_count": 15,
     "metadata": {},
     "output_type": "execute_result"
    }
   ],
   "source": [
    "pd.DataFrame(dataset.rewards).value_counts()"
   ]
  },
  {
   "cell_type": "code",
   "execution_count": 21,
   "metadata": {},
   "outputs": [
    {
     "data": {
      "text/plain": [
       "Preguntar                     108\n",
       "Mandar foto                   107\n",
       "No preguntar                  102\n",
       "Quedarse                       54\n",
       "Ir al cuarto                   52\n",
       "No contarle a Amanda           52\n",
       "No decir nada                  51\n",
       "Contarle a Amanda              49\n",
       "Contarles lo que ha pasado     46\n",
       "Contarle                       29\n",
       "No contarle                    28\n",
       "Irse a casa                    28\n",
       "Darle la razón                 28\n",
       "No mandar foto                 26\n",
       "Dar una vuelta con Amanda      25\n",
       "Negarse                        24\n",
       "Enviar la foto                 12\n",
       "No enviar la foto              10\n",
       "No preguntarle                  3\n",
       "Preguntarle                     3\n",
       "Ir a dormir                     2\n",
       "Seguir jugando                  2\n",
       "dtype: int64"
      ]
     },
     "execution_count": 21,
     "metadata": {},
     "output_type": "execute_result"
    }
   ],
   "source": [
    "pd.DataFrame(dataset.actions).value_counts()"
   ]
  },
  {
   "cell_type": "markdown",
   "metadata": {},
   "source": [
    "## Randomize which action gets sent"
   ]
  },
  {
   "cell_type": "markdown",
   "metadata": {},
   "source": [
    "The idea is to reduce the over-fitting on actions"
   ]
  },
  {
   "cell_type": "code",
   "execution_count": 152,
   "metadata": {},
   "outputs": [],
   "source": [
    "actions = pd.Series(dataset.actions)\n",
    "masks = [np.nonzero((actions == k).to_numpy())[0] for k in actions.unique()]"
   ]
  },
  {
   "cell_type": "code",
   "execution_count": 153,
   "metadata": {},
   "outputs": [
    {
     "data": {
      "text/plain": [
       "22"
      ]
     },
     "execution_count": 153,
     "metadata": {},
     "output_type": "execute_result"
    }
   ],
   "source": [
    "len(masks)"
   ]
  },
  {
   "cell_type": "code",
   "execution_count": 154,
   "metadata": {},
   "outputs": [
    {
     "data": {
      "text/plain": [
       "array([  0,   2,   9,  26,  33,  42,  51,  60,  67,  78,  83,  89, 101,\n",
       "       109, 116, 121, 156, 165, 174, 179, 180, 185, 193, 213, 216, 227,\n",
       "       230, 232, 235, 237, 241, 245, 258, 270, 306, 315, 316, 318, 326,\n",
       "       333, 335, 340, 343, 359, 376, 385, 387, 398, 401, 406, 428, 446,\n",
       "       451, 453, 458, 466, 468, 486, 488, 502, 517, 522, 529, 535, 549,\n",
       "       550, 551, 556, 558, 564, 575, 581, 603, 605, 618, 621, 627, 639,\n",
       "       673, 688, 696, 703, 704, 718, 733, 739, 742, 746, 770, 772, 777,\n",
       "       782, 795, 810, 814, 816, 817, 820, 822, 830, 835, 840], dtype=int64)"
      ]
     },
     "execution_count": 154,
     "metadata": {},
     "output_type": "execute_result"
    }
   ],
   "source": [
    "masks[0]"
   ]
  },
  {
   "cell_type": "code",
   "execution_count": 136,
   "metadata": {},
   "outputs": [],
   "source": [
    "# mask has all actions by index of a certain type\n",
    "# where returns indices where it is true\n",
    "# choose randomly one of those indices\n",
    "chosen = [np.random.permutation(m) for m in masks]"
   ]
  },
  {
   "cell_type": "code",
   "execution_count": null,
   "metadata": {},
   "outputs": [],
   "source": [
    "chosen.pop()"
   ]
  }
 ],
 "metadata": {
  "interpreter": {
   "hash": "42f47be8c42d0e68c09300ec4ce1f8bc8ff04c161f3c02fe65f1833d645f24ae"
  },
  "kernelspec": {
   "display_name": "Python 3.9.5 ('venv': venv)",
   "language": "python",
   "name": "python3"
  },
  "language_info": {
   "codemirror_mode": {
    "name": "ipython",
    "version": 3
   },
   "file_extension": ".py",
   "mimetype": "text/x-python",
   "name": "python",
   "nbconvert_exporter": "python",
   "pygments_lexer": "ipython3",
   "version": "3.9.5"
  },
  "orig_nbformat": 4
 },
 "nbformat": 4,
 "nbformat_minor": 2
}
