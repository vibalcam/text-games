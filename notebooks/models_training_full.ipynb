{
 "cells": [
  {
   "cell_type": "markdown",
   "metadata": {},
   "source": [
    "# ONLY USED TO SHOW THE VALUES WHEN TESTING WITHOUT BALANCED ACTIONS"
   ]
  },
  {
   "cell_type": "code",
   "execution_count": 1,
   "metadata": {},
   "outputs": [],
   "source": [
    "import sys\n",
    "sys.path.append('../')"
   ]
  },
  {
   "cell_type": "code",
   "execution_count": 2,
   "metadata": {},
   "outputs": [],
   "source": [
    "# from win10toast import ToastNotifier\n",
    "# toast = ToastNotifier()"
   ]
  },
  {
   "cell_type": "code",
   "execution_count": 3,
   "metadata": {},
   "outputs": [],
   "source": [
    "import torch\n",
    "import itertools\n",
    "import pandas as pd\n",
    "import numpy as np\n",
    "from tqdm.auto import tqdm, trange\n",
    "\n",
    "from models.train import train, test\n",
    "from models.models import StateActionModel\n",
    "from models.utils import set_seed\n",
    "\n",
    "from game.simulator import load_simulator_yarn"
   ]
  },
  {
   "cell_type": "code",
   "execution_count": 4,
   "metadata": {},
   "outputs": [],
   "source": [
    "def pretty(ld, indent=0):\n",
    "    with open('result.txt', 'w', encoding='utf-8') as file:\n",
    "        for d in tqdm(ld):\n",
    "            file.write('{' + '\\n')\n",
    "            for key, value in d.items():\n",
    "                file.write('\\t' * (indent+1) + str(key) + ':' + str(value) + '\\n')\n",
    "                # file.write('\\t' * (indent+1) + str(key) + '\\n')\n",
    "                # file.write('\\t' * (indent+2) + str(value) + '\\n')\n",
    "            file.write('},\\n')"
   ]
  },
  {
   "cell_type": "code",
   "execution_count": 5,
   "metadata": {},
   "outputs": [],
   "source": [
    "do_train = False\n",
    "balanced_actions_test = False\n",
    "n_runs = 20 if balanced_actions_test else 1\n",
    "\n",
    "seed = 4444\n",
    "\n",
    "metric_filter_1 = 'test_mcc'\n",
    "metric_filter_2 = 'val_mcc'\n",
    "\n",
    "data_dir = '../yarnScripts'\n",
    "log_path = './logs'\n",
    "save_path = './saved'\n",
    "\n",
    "graph = load_simulator_yarn('../yarnScripts').graph"
   ]
  },
  {
   "cell_type": "markdown",
   "metadata": {},
   "source": [
    "## BERT Fine-tuned"
   ]
  },
  {
   "cell_type": "code",
   "execution_count": 6,
   "metadata": {},
   "outputs": [],
   "source": [
    "save_model = f'{save_path}_bert'\n",
    "log_dir = f'{log_path}_bert'\n",
    "\n",
    "dict_model = dict(\n",
    "    shared_out_dim=[125,75,200],\n",
    "    state_layers=[[20], [30]],\n",
    "    action_layers=[[20], [30]],\n",
    "    out_features=[1],\n",
    "    lstm_model=[False],\n",
    "    bert_name=[\"bert-base-multilingual-cased\"],\n",
    "    # training parameters\n",
    ")\n",
    "\n",
    "list_model = [dict(zip(dict_model.keys(), k)) for k in itertools.product(*dict_model.values())]"
   ]
  },
  {
   "cell_type": "code",
   "execution_count": 7,
   "metadata": {},
   "outputs": [],
   "source": [
    "if do_train:\n",
    "    for d in tqdm(list_model):\n",
    "        set_seed(seed)\n",
    "        d = d.copy()\n",
    "\n",
    "        train(\n",
    "            model=StateActionModel(**d),\n",
    "            dict_model=d,\n",
    "            log_dir=log_dir,\n",
    "            graph=graph,\n",
    "            save_path=save_model,\n",
    "            lr=1e-3,\n",
    "            optimizer_name=\"adamw\",\n",
    "            n_epochs=80,\n",
    "            batch_size=8,\n",
    "            num_workers=0,\n",
    "            scheduler_mode='max_val_acc',\n",
    "            debug_mode=False,\n",
    "            steps_save=20,\n",
    "            use_cpu=False,\n",
    "            freeze_bert=True,\n",
    "            balanced_actions=False,\n",
    "            scheduler_patience=20,\n",
    "        )"
   ]
  },
  {
   "cell_type": "markdown",
   "metadata": {},
   "source": [
    "#### Results"
   ]
  },
  {
   "cell_type": "code",
   "execution_count": 8,
   "metadata": {},
   "outputs": [
    {
     "name": "stderr",
     "output_type": "stream",
     "text": [
      "100%|██████████| 4/4 [04:11<00:00, 62.95s/it]\n"
     ]
    }
   ],
   "source": [
    "res_bert = test(\n",
    "    graph=graph,\n",
    "    save_path=save_model,\n",
    "    n_runs=n_runs,\n",
    "    batch_size=32,\n",
    "    num_workers=0,\n",
    "    debug_mode=False,\n",
    "    use_cpu=False,\n",
    "    save=True,\n",
    "    balanced_actions=balanced_actions_test,\n",
    ")"
   ]
  },
  {
   "cell_type": "code",
   "execution_count": 9,
   "metadata": {},
   "outputs": [],
   "source": [
    "all = res_bert"
   ]
  },
  {
   "cell_type": "code",
   "execution_count": 10,
   "metadata": {},
   "outputs": [
    {
     "data": {
      "text/plain": [
       "{'shared_out_dim': 125,\n",
       " 'state_layers': [30],\n",
       " 'action_layers': [20],\n",
       " 'out_features': 1,\n",
       " 'lstm_model': False,\n",
       " 'bert_name': 'bert-base-multilingual-cased',\n",
       " 'train_lr': 0.001,\n",
       " 'train_optimizer_name': 'adamw',\n",
       " 'train_batch_size': 8,\n",
       " 'train_scheduler_mode': 'max_val_mcc',\n",
       " 'train_balanced_actions': False,\n",
       " 'train_augment_negative': False,\n",
       " 'epoch': 100,\n",
       " 'train_loss': 0.28085804,\n",
       " 'train_acc': 1.0,\n",
       " 'val_acc': 0.9999998807907104,\n",
       " 'val_mcc': 1.0,\n",
       " 'train_mcc': 1.0,\n",
       " 'test_mcc': 1.0,\n",
       " 'test_acc': 0.9999999403953552,\n",
       " 'path_name': 'saved_bert\\\\125_[30]_[20]_1_False_bert-base-multilingual-cased_0.001_adamw_8_max_val_mcc_False_False_100'}"
      ]
     },
     "execution_count": 10,
     "metadata": {},
     "output_type": "execute_result"
    }
   ],
   "source": [
    "# ascending order\n",
    "sort_idx = np.argsort([k['dict'][metric_filter_1] for k in all])[::-1]\n",
    "all[sort_idx[0]]['dict']"
   ]
  },
  {
   "cell_type": "code",
   "execution_count": 11,
   "metadata": {},
   "outputs": [
    {
     "data": {
      "text/plain": [
       "{'shared_out_dim': 125,\n",
       " 'state_layers': [30],\n",
       " 'action_layers': [20],\n",
       " 'out_features': 1,\n",
       " 'lstm_model': False,\n",
       " 'bert_name': 'bert-base-multilingual-cased',\n",
       " 'train_lr': 0.001,\n",
       " 'train_optimizer_name': 'adamw',\n",
       " 'train_batch_size': 8,\n",
       " 'train_scheduler_mode': 'max_val_mcc',\n",
       " 'train_balanced_actions': False,\n",
       " 'train_augment_negative': False,\n",
       " 'epoch': 100,\n",
       " 'train_loss': 0.28085804,\n",
       " 'train_acc': 1.0,\n",
       " 'val_acc': 0.9999998807907104,\n",
       " 'val_mcc': 1.0,\n",
       " 'train_mcc': 1.0,\n",
       " 'test_mcc': 1.0,\n",
       " 'test_acc': 0.9999999403953552,\n",
       " 'path_name': 'saved_bert\\\\125_[30]_[20]_1_False_bert-base-multilingual-cased_0.001_adamw_8_max_val_mcc_False_False_100'}"
      ]
     },
     "execution_count": 11,
     "metadata": {},
     "output_type": "execute_result"
    }
   ],
   "source": [
    "# ascending order\n",
    "sort_idx = np.argsort([k['dict'][metric_filter_2] for k in all])[::-1]\n",
    "all[sort_idx[0]]['dict']"
   ]
  },
  {
   "cell_type": "markdown",
   "metadata": {},
   "source": [
    "#### df"
   ]
  },
  {
   "cell_type": "code",
   "execution_count": 12,
   "metadata": {},
   "outputs": [
    {
     "data": {
      "text/plain": [
       "'saved_bert\\\\125_[30]_[20]_1_False_bert-base-multilingual-cased_0.001_adamw_8_max_val_mcc_False_False_100'"
      ]
     },
     "execution_count": 12,
     "metadata": {},
     "output_type": "execute_result"
    }
   ],
   "source": [
    "all[sort_idx[0]]['dict']['path_name']"
   ]
  },
  {
   "cell_type": "code",
   "execution_count": 13,
   "metadata": {},
   "outputs": [
    {
     "data": {
      "text/html": [
       "<div>\n",
       "<style scoped>\n",
       "    .dataframe tbody tr th:only-of-type {\n",
       "        vertical-align: middle;\n",
       "    }\n",
       "\n",
       "    .dataframe tbody tr th {\n",
       "        vertical-align: top;\n",
       "    }\n",
       "\n",
       "    .dataframe thead th {\n",
       "        text-align: right;\n",
       "    }\n",
       "</style>\n",
       "<table border=\"1\" class=\"dataframe\">\n",
       "  <thead>\n",
       "    <tr style=\"text-align: right;\">\n",
       "      <th></th>\n",
       "      <th>true</th>\n",
       "      <th>pred</th>\n",
       "      <th>chosen</th>\n",
       "      <th>cert</th>\n",
       "    </tr>\n",
       "  </thead>\n",
       "  <tbody>\n",
       "    <tr>\n",
       "      <th>0</th>\n",
       "      <td>0.0</td>\n",
       "      <td>0.004996</td>\n",
       "      <td>0.0</td>\n",
       "      <td>99.500380</td>\n",
       "    </tr>\n",
       "    <tr>\n",
       "      <th>1</th>\n",
       "      <td>0.0</td>\n",
       "      <td>0.268380</td>\n",
       "      <td>0.0</td>\n",
       "      <td>73.162043</td>\n",
       "    </tr>\n",
       "    <tr>\n",
       "      <th>2</th>\n",
       "      <td>1.0</td>\n",
       "      <td>0.683785</td>\n",
       "      <td>1.0</td>\n",
       "      <td>68.378496</td>\n",
       "    </tr>\n",
       "    <tr>\n",
       "      <th>3</th>\n",
       "      <td>1.0</td>\n",
       "      <td>0.970110</td>\n",
       "      <td>1.0</td>\n",
       "      <td>97.010988</td>\n",
       "    </tr>\n",
       "    <tr>\n",
       "      <th>4</th>\n",
       "      <td>1.0</td>\n",
       "      <td>0.970110</td>\n",
       "      <td>1.0</td>\n",
       "      <td>97.010988</td>\n",
       "    </tr>\n",
       "  </tbody>\n",
       "</table>\n",
       "</div>"
      ],
      "text/plain": [
       "   true      pred  chosen       cert\n",
       "0   0.0  0.004996     0.0  99.500380\n",
       "1   0.0  0.268380     0.0  73.162043\n",
       "2   1.0  0.683785     1.0  68.378496\n",
       "3   1.0  0.970110     1.0  97.010988\n",
       "4   1.0  0.970110     1.0  97.010988"
      ]
     },
     "execution_count": 13,
     "metadata": {},
     "output_type": "execute_result"
    }
   ],
   "source": [
    "df = pd.concat([*all[sort_idx[0]]['train_values'],*all[sort_idx[0]]['val_values'],*all[sort_idx[0]]['test_values']], ignore_index=True)\n",
    "df.head()"
   ]
  },
  {
   "cell_type": "code",
   "execution_count": 15,
   "metadata": {},
   "outputs": [
    {
     "data": {
      "text/plain": [
       "count    1052.000000\n",
       "mean       91.415255\n",
       "std        10.244138\n",
       "min        64.422536\n",
       "25%        88.136625\n",
       "50%        96.728086\n",
       "75%        98.712909\n",
       "max        99.500381\n",
       "Name: cert, dtype: float64"
      ]
     },
     "execution_count": 15,
     "metadata": {},
     "output_type": "execute_result"
    }
   ],
   "source": [
    "df['cert'].describe()"
   ]
  },
  {
   "cell_type": "code",
   "execution_count": 14,
   "metadata": {},
   "outputs": [
    {
     "data": {
      "text/html": [
       "<div>\n",
       "<style scoped>\n",
       "    .dataframe tbody tr th:only-of-type {\n",
       "        vertical-align: middle;\n",
       "    }\n",
       "\n",
       "    .dataframe tbody tr th {\n",
       "        vertical-align: top;\n",
       "    }\n",
       "\n",
       "    .dataframe thead th {\n",
       "        text-align: right;\n",
       "    }\n",
       "</style>\n",
       "<table border=\"1\" class=\"dataframe\">\n",
       "  <thead>\n",
       "    <tr style=\"text-align: right;\">\n",
       "      <th></th>\n",
       "      <th>true</th>\n",
       "      <th>pred</th>\n",
       "      <th>cert</th>\n",
       "    </tr>\n",
       "    <tr>\n",
       "      <th>chosen</th>\n",
       "      <th></th>\n",
       "      <th></th>\n",
       "      <th></th>\n",
       "    </tr>\n",
       "  </thead>\n",
       "  <tbody>\n",
       "    <tr>\n",
       "      <th>0.0</th>\n",
       "      <td>0.0</td>\n",
       "      <td>0.015533</td>\n",
       "      <td>98.446691</td>\n",
       "    </tr>\n",
       "    <tr>\n",
       "      <th>1.0</th>\n",
       "      <td>1.0</td>\n",
       "      <td>0.963738</td>\n",
       "      <td>96.373838</td>\n",
       "    </tr>\n",
       "  </tbody>\n",
       "</table>\n",
       "</div>"
      ],
      "text/plain": [
       "        true      pred       cert\n",
       "chosen                           \n",
       "0.0      0.0  0.015533  98.446691\n",
       "1.0      1.0  0.963738  96.373838"
      ]
     },
     "execution_count": 14,
     "metadata": {},
     "output_type": "execute_result"
    }
   ],
   "source": [
    "df.groupby('chosen').median()"
   ]
  },
  {
   "cell_type": "code",
   "execution_count": 15,
   "metadata": {},
   "outputs": [
    {
     "data": {
      "text/plain": [
       "'saved_bert\\\\75_[20]_[30]_1_False_bert-base-multilingual-cased_0.001_adamw_8_max_val_mcc_False_False_100'"
      ]
     },
     "execution_count": 15,
     "metadata": {},
     "output_type": "execute_result"
    }
   ],
   "source": [
    "all[sort_idx[1]]['dict']['path_name']"
   ]
  },
  {
   "cell_type": "code",
   "execution_count": 16,
   "metadata": {},
   "outputs": [
    {
     "data": {
      "text/html": [
       "<div>\n",
       "<style scoped>\n",
       "    .dataframe tbody tr th:only-of-type {\n",
       "        vertical-align: middle;\n",
       "    }\n",
       "\n",
       "    .dataframe tbody tr th {\n",
       "        vertical-align: top;\n",
       "    }\n",
       "\n",
       "    .dataframe thead th {\n",
       "        text-align: right;\n",
       "    }\n",
       "</style>\n",
       "<table border=\"1\" class=\"dataframe\">\n",
       "  <thead>\n",
       "    <tr style=\"text-align: right;\">\n",
       "      <th></th>\n",
       "      <th>true</th>\n",
       "      <th>pred</th>\n",
       "      <th>chosen</th>\n",
       "      <th>cert</th>\n",
       "    </tr>\n",
       "  </thead>\n",
       "  <tbody>\n",
       "    <tr>\n",
       "      <th>0</th>\n",
       "      <td>1.0</td>\n",
       "      <td>0.955414</td>\n",
       "      <td>1.0</td>\n",
       "      <td>95.541435</td>\n",
       "    </tr>\n",
       "    <tr>\n",
       "      <th>1</th>\n",
       "      <td>0.0</td>\n",
       "      <td>0.199299</td>\n",
       "      <td>0.0</td>\n",
       "      <td>80.070053</td>\n",
       "    </tr>\n",
       "    <tr>\n",
       "      <th>2</th>\n",
       "      <td>1.0</td>\n",
       "      <td>0.389309</td>\n",
       "      <td>0.0</td>\n",
       "      <td>61.069068</td>\n",
       "    </tr>\n",
       "    <tr>\n",
       "      <th>3</th>\n",
       "      <td>1.0</td>\n",
       "      <td>0.951417</td>\n",
       "      <td>1.0</td>\n",
       "      <td>95.141739</td>\n",
       "    </tr>\n",
       "    <tr>\n",
       "      <th>4</th>\n",
       "      <td>0.0</td>\n",
       "      <td>0.482684</td>\n",
       "      <td>0.0</td>\n",
       "      <td>51.731610</td>\n",
       "    </tr>\n",
       "  </tbody>\n",
       "</table>\n",
       "</div>"
      ],
      "text/plain": [
       "   true      pred  chosen       cert\n",
       "0   1.0  0.955414     1.0  95.541435\n",
       "1   0.0  0.199299     0.0  80.070053\n",
       "2   1.0  0.389309     0.0  61.069068\n",
       "3   1.0  0.951417     1.0  95.141739\n",
       "4   0.0  0.482684     0.0  51.731610"
      ]
     },
     "execution_count": 16,
     "metadata": {},
     "output_type": "execute_result"
    }
   ],
   "source": [
    "df = pd.concat([*all[sort_idx[1]]['train_values'],*all[sort_idx[1]]['val_values'],*all[sort_idx[1]]['test_values']], ignore_index=True)\n",
    "df.head()"
   ]
  },
  {
   "cell_type": "code",
   "execution_count": 17,
   "metadata": {},
   "outputs": [
    {
     "data": {
      "text/html": [
       "<div>\n",
       "<style scoped>\n",
       "    .dataframe tbody tr th:only-of-type {\n",
       "        vertical-align: middle;\n",
       "    }\n",
       "\n",
       "    .dataframe tbody tr th {\n",
       "        vertical-align: top;\n",
       "    }\n",
       "\n",
       "    .dataframe thead th {\n",
       "        text-align: right;\n",
       "    }\n",
       "</style>\n",
       "<table border=\"1\" class=\"dataframe\">\n",
       "  <thead>\n",
       "    <tr style=\"text-align: right;\">\n",
       "      <th></th>\n",
       "      <th>true</th>\n",
       "      <th>pred</th>\n",
       "      <th>cert</th>\n",
       "    </tr>\n",
       "    <tr>\n",
       "      <th>chosen</th>\n",
       "      <th></th>\n",
       "      <th></th>\n",
       "      <th></th>\n",
       "    </tr>\n",
       "  </thead>\n",
       "  <tbody>\n",
       "    <tr>\n",
       "      <th>0.0</th>\n",
       "      <td>0.0</td>\n",
       "      <td>0.060083</td>\n",
       "      <td>93.991693</td>\n",
       "    </tr>\n",
       "    <tr>\n",
       "      <th>1.0</th>\n",
       "      <td>1.0</td>\n",
       "      <td>0.951417</td>\n",
       "      <td>95.141739</td>\n",
       "    </tr>\n",
       "  </tbody>\n",
       "</table>\n",
       "</div>"
      ],
      "text/plain": [
       "        true      pred       cert\n",
       "chosen                           \n",
       "0.0      0.0  0.060083  93.991693\n",
       "1.0      1.0  0.951417  95.141739"
      ]
     },
     "execution_count": 17,
     "metadata": {},
     "output_type": "execute_result"
    }
   ],
   "source": [
    "df.groupby('chosen').median()"
   ]
  },
  {
   "cell_type": "code",
   "execution_count": 18,
   "metadata": {},
   "outputs": [
    {
     "data": {
      "text/plain": [
       "'saved_bert\\\\200_[20]_[30]_1_False_bert-base-multilingual-cased_0.001_adamw_8_max_val_mcc_False_False_100'"
      ]
     },
     "execution_count": 18,
     "metadata": {},
     "output_type": "execute_result"
    }
   ],
   "source": [
    "all[sort_idx[2]]['dict']['path_name']"
   ]
  },
  {
   "cell_type": "code",
   "execution_count": 19,
   "metadata": {},
   "outputs": [
    {
     "data": {
      "text/html": [
       "<div>\n",
       "<style scoped>\n",
       "    .dataframe tbody tr th:only-of-type {\n",
       "        vertical-align: middle;\n",
       "    }\n",
       "\n",
       "    .dataframe tbody tr th {\n",
       "        vertical-align: top;\n",
       "    }\n",
       "\n",
       "    .dataframe thead th {\n",
       "        text-align: right;\n",
       "    }\n",
       "</style>\n",
       "<table border=\"1\" class=\"dataframe\">\n",
       "  <thead>\n",
       "    <tr style=\"text-align: right;\">\n",
       "      <th></th>\n",
       "      <th>true</th>\n",
       "      <th>pred</th>\n",
       "      <th>chosen</th>\n",
       "      <th>cert</th>\n",
       "    </tr>\n",
       "  </thead>\n",
       "  <tbody>\n",
       "    <tr>\n",
       "      <th>0</th>\n",
       "      <td>1.0</td>\n",
       "      <td>0.967453</td>\n",
       "      <td>1.0</td>\n",
       "      <td>96.745300</td>\n",
       "    </tr>\n",
       "    <tr>\n",
       "      <th>1</th>\n",
       "      <td>0.0</td>\n",
       "      <td>0.127071</td>\n",
       "      <td>0.0</td>\n",
       "      <td>87.292941</td>\n",
       "    </tr>\n",
       "    <tr>\n",
       "      <th>2</th>\n",
       "      <td>0.0</td>\n",
       "      <td>0.378310</td>\n",
       "      <td>0.0</td>\n",
       "      <td>62.168959</td>\n",
       "    </tr>\n",
       "    <tr>\n",
       "      <th>3</th>\n",
       "      <td>1.0</td>\n",
       "      <td>0.934445</td>\n",
       "      <td>1.0</td>\n",
       "      <td>93.444496</td>\n",
       "    </tr>\n",
       "    <tr>\n",
       "      <th>4</th>\n",
       "      <td>0.0</td>\n",
       "      <td>0.378310</td>\n",
       "      <td>0.0</td>\n",
       "      <td>62.168959</td>\n",
       "    </tr>\n",
       "  </tbody>\n",
       "</table>\n",
       "</div>"
      ],
      "text/plain": [
       "   true      pred  chosen       cert\n",
       "0   1.0  0.967453     1.0  96.745300\n",
       "1   0.0  0.127071     0.0  87.292941\n",
       "2   0.0  0.378310     0.0  62.168959\n",
       "3   1.0  0.934445     1.0  93.444496\n",
       "4   0.0  0.378310     0.0  62.168959"
      ]
     },
     "execution_count": 19,
     "metadata": {},
     "output_type": "execute_result"
    }
   ],
   "source": [
    "df = pd.concat([*all[sort_idx[2]]['train_values'],*all[sort_idx[2]]['val_values'],*all[sort_idx[2]]['test_values']], ignore_index=True)\n",
    "df.head()"
   ]
  },
  {
   "cell_type": "code",
   "execution_count": 20,
   "metadata": {},
   "outputs": [
    {
     "data": {
      "text/html": [
       "<div>\n",
       "<style scoped>\n",
       "    .dataframe tbody tr th:only-of-type {\n",
       "        vertical-align: middle;\n",
       "    }\n",
       "\n",
       "    .dataframe tbody tr th {\n",
       "        vertical-align: top;\n",
       "    }\n",
       "\n",
       "    .dataframe thead th {\n",
       "        text-align: right;\n",
       "    }\n",
       "</style>\n",
       "<table border=\"1\" class=\"dataframe\">\n",
       "  <thead>\n",
       "    <tr style=\"text-align: right;\">\n",
       "      <th></th>\n",
       "      <th>true</th>\n",
       "      <th>pred</th>\n",
       "      <th>cert</th>\n",
       "    </tr>\n",
       "    <tr>\n",
       "      <th>chosen</th>\n",
       "      <th></th>\n",
       "      <th></th>\n",
       "      <th></th>\n",
       "    </tr>\n",
       "  </thead>\n",
       "  <tbody>\n",
       "    <tr>\n",
       "      <th>0.0</th>\n",
       "      <td>0.0</td>\n",
       "      <td>0.030431</td>\n",
       "      <td>96.956936</td>\n",
       "    </tr>\n",
       "    <tr>\n",
       "      <th>1.0</th>\n",
       "      <td>1.0</td>\n",
       "      <td>0.951535</td>\n",
       "      <td>95.153522</td>\n",
       "    </tr>\n",
       "  </tbody>\n",
       "</table>\n",
       "</div>"
      ],
      "text/plain": [
       "        true      pred       cert\n",
       "chosen                           \n",
       "0.0      0.0  0.030431  96.956936\n",
       "1.0      1.0  0.951535  95.153522"
      ]
     },
     "execution_count": 20,
     "metadata": {},
     "output_type": "execute_result"
    }
   ],
   "source": [
    "df.groupby('chosen').median()"
   ]
  },
  {
   "cell_type": "code",
   "execution_count": 21,
   "metadata": {},
   "outputs": [
    {
     "data": {
      "text/plain": [
       "'saved_bert\\\\125_[30]_[30]_1_False_bert-base-multilingual-cased_0.001_adamw_8_max_val_mcc_False_False_100'"
      ]
     },
     "execution_count": 21,
     "metadata": {},
     "output_type": "execute_result"
    }
   ],
   "source": [
    "all[sort_idx[3]]['dict']['path_name']"
   ]
  },
  {
   "cell_type": "code",
   "execution_count": 22,
   "metadata": {},
   "outputs": [
    {
     "data": {
      "text/html": [
       "<div>\n",
       "<style scoped>\n",
       "    .dataframe tbody tr th:only-of-type {\n",
       "        vertical-align: middle;\n",
       "    }\n",
       "\n",
       "    .dataframe tbody tr th {\n",
       "        vertical-align: top;\n",
       "    }\n",
       "\n",
       "    .dataframe thead th {\n",
       "        text-align: right;\n",
       "    }\n",
       "</style>\n",
       "<table border=\"1\" class=\"dataframe\">\n",
       "  <thead>\n",
       "    <tr style=\"text-align: right;\">\n",
       "      <th></th>\n",
       "      <th>true</th>\n",
       "      <th>pred</th>\n",
       "      <th>chosen</th>\n",
       "      <th>cert</th>\n",
       "    </tr>\n",
       "  </thead>\n",
       "  <tbody>\n",
       "    <tr>\n",
       "      <th>0</th>\n",
       "      <td>0.0</td>\n",
       "      <td>0.006999</td>\n",
       "      <td>0.0</td>\n",
       "      <td>99.300105</td>\n",
       "    </tr>\n",
       "    <tr>\n",
       "      <th>1</th>\n",
       "      <td>0.0</td>\n",
       "      <td>0.006999</td>\n",
       "      <td>0.0</td>\n",
       "      <td>99.300105</td>\n",
       "    </tr>\n",
       "    <tr>\n",
       "      <th>2</th>\n",
       "      <td>0.0</td>\n",
       "      <td>0.365243</td>\n",
       "      <td>0.0</td>\n",
       "      <td>63.475674</td>\n",
       "    </tr>\n",
       "    <tr>\n",
       "      <th>3</th>\n",
       "      <td>0.0</td>\n",
       "      <td>0.006999</td>\n",
       "      <td>0.0</td>\n",
       "      <td>99.300105</td>\n",
       "    </tr>\n",
       "    <tr>\n",
       "      <th>4</th>\n",
       "      <td>1.0</td>\n",
       "      <td>0.951378</td>\n",
       "      <td>1.0</td>\n",
       "      <td>95.137799</td>\n",
       "    </tr>\n",
       "  </tbody>\n",
       "</table>\n",
       "</div>"
      ],
      "text/plain": [
       "   true      pred  chosen       cert\n",
       "0   0.0  0.006999     0.0  99.300105\n",
       "1   0.0  0.006999     0.0  99.300105\n",
       "2   0.0  0.365243     0.0  63.475674\n",
       "3   0.0  0.006999     0.0  99.300105\n",
       "4   1.0  0.951378     1.0  95.137799"
      ]
     },
     "execution_count": 22,
     "metadata": {},
     "output_type": "execute_result"
    }
   ],
   "source": [
    "df = pd.concat([*all[sort_idx[3]]['train_values'],*all[sort_idx[3]]['val_values'],*all[sort_idx[3]]['test_values']], ignore_index=True)\n",
    "df.head()"
   ]
  },
  {
   "cell_type": "code",
   "execution_count": 23,
   "metadata": {},
   "outputs": [
    {
     "data": {
      "text/html": [
       "<div>\n",
       "<style scoped>\n",
       "    .dataframe tbody tr th:only-of-type {\n",
       "        vertical-align: middle;\n",
       "    }\n",
       "\n",
       "    .dataframe tbody tr th {\n",
       "        vertical-align: top;\n",
       "    }\n",
       "\n",
       "    .dataframe thead th {\n",
       "        text-align: right;\n",
       "    }\n",
       "</style>\n",
       "<table border=\"1\" class=\"dataframe\">\n",
       "  <thead>\n",
       "    <tr style=\"text-align: right;\">\n",
       "      <th></th>\n",
       "      <th>true</th>\n",
       "      <th>pred</th>\n",
       "      <th>cert</th>\n",
       "    </tr>\n",
       "    <tr>\n",
       "      <th>chosen</th>\n",
       "      <th></th>\n",
       "      <th></th>\n",
       "      <th></th>\n",
       "    </tr>\n",
       "  </thead>\n",
       "  <tbody>\n",
       "    <tr>\n",
       "      <th>0.0</th>\n",
       "      <td>0.0</td>\n",
       "      <td>0.022097</td>\n",
       "      <td>97.790346</td>\n",
       "    </tr>\n",
       "    <tr>\n",
       "      <th>1.0</th>\n",
       "      <td>1.0</td>\n",
       "      <td>0.951378</td>\n",
       "      <td>95.137799</td>\n",
       "    </tr>\n",
       "  </tbody>\n",
       "</table>\n",
       "</div>"
      ],
      "text/plain": [
       "        true      pred       cert\n",
       "chosen                           \n",
       "0.0      0.0  0.022097  97.790346\n",
       "1.0      1.0  0.951378  95.137799"
      ]
     },
     "execution_count": 23,
     "metadata": {},
     "output_type": "execute_result"
    }
   ],
   "source": [
    "df.groupby('chosen').median()"
   ]
  },
  {
   "cell_type": "markdown",
   "metadata": {},
   "source": [
    "#### cm"
   ]
  },
  {
   "cell_type": "code",
   "execution_count": 24,
   "metadata": {},
   "outputs": [],
   "source": [
    "cm = all[sort_idx[0]]['test_cm'][0]"
   ]
  },
  {
   "cell_type": "code",
   "execution_count": 25,
   "metadata": {},
   "outputs": [
    {
     "data": {
      "text/plain": [
       "<module 'matplotlib.pyplot' from 'c:\\\\Users\\\\vibal\\\\PycharmProjects\\\\text-games\\\\venv\\\\lib\\\\site-packages\\\\matplotlib\\\\pyplot.py'>"
      ]
     },
     "execution_count": 25,
     "metadata": {},
     "output_type": "execute_result"
    },
    {
     "data": {
      "image/png": "[encoded data removed]",
      "text/plain": [
       "<Figure size 1080x720 with 2 Axes>"
      ]
     },
     "metadata": {
      "needs_background": "light"
     },
     "output_type": "display_data"
    }
   ],
   "source": [
    "cm.visualize()"
   ]
  },
  {
   "cell_type": "code",
   "execution_count": 26,
   "metadata": {},
   "outputs": [
    {
     "data": {
      "text/plain": [
       "tensor([1.0000, 1.0000])"
      ]
     },
     "execution_count": 26,
     "metadata": {},
     "output_type": "execute_result"
    }
   ],
   "source": [
    "cm.class_accuracy"
   ]
  },
  {
   "cell_type": "markdown",
   "metadata": {},
   "source": [
    "## BERT Fine-tuned augment negatives"
   ]
  },
  {
   "cell_type": "code",
   "execution_count": 27,
   "metadata": {},
   "outputs": [],
   "source": [
    "save_model = f'{save_path}_neg'\n",
    "log_dir = f'{log_path}_neg'\n",
    "\n",
    "dict_model = dict(\n",
    "    shared_out_dim=[128,64,256],\n",
    "    state_layers=[[20], [30]],\n",
    "    action_layers=[[20], [30]],\n",
    "    # shared_out_dim=[75],\n",
    "    # state_layers=[[30]],\n",
    "    # action_layers=[[30]],\n",
    "    out_features=[1],\n",
    "    lstm_model=[False],\n",
    "    bert_name=[\"bert-base-multilingual-cased\"],\n",
    "    # training parameters\n",
    ")\n",
    "\n",
    "list_model = [dict(zip(dict_model.keys(), k)) for k in itertools.product(*dict_model.values())]"
   ]
  },
  {
   "cell_type": "code",
   "execution_count": 28,
   "metadata": {},
   "outputs": [],
   "source": [
    "if do_train:\n",
    "    for d in tqdm(list_model):\n",
    "        set_seed(seed)\n",
    "        d = d.copy()\n",
    "\n",
    "        train(\n",
    "            model=StateActionModel(**d),\n",
    "            dict_model=d,\n",
    "            log_dir=log_dir,\n",
    "            graph=graph,\n",
    "            save_path=save_model,\n",
    "            lr=1e-3,\n",
    "            optimizer_name=\"adamw\",\n",
    "            n_epochs=180,\n",
    "            batch_size=16,\n",
    "            num_workers=0,\n",
    "            scheduler_mode='max_val_mcc',\n",
    "            debug_mode=False,\n",
    "            steps_save=25,\n",
    "            use_cpu=False,\n",
    "            freeze_bert=True,\n",
    "            balanced_actions=False,\n",
    "            augment_negative=True,\n",
    "            scheduler_patience=35,\n",
    "        )"
   ]
  },
  {
   "cell_type": "markdown",
   "metadata": {},
   "source": [
    "#### Results"
   ]
  },
  {
   "cell_type": "code",
   "execution_count": 29,
   "metadata": {},
   "outputs": [
    {
     "name": "stderr",
     "output_type": "stream",
     "text": [
      "100%|██████████| 3/3 [02:32<00:00, 50.94s/it]\n"
     ]
    }
   ],
   "source": [
    "res_neg = test(\n",
    "    graph=graph,\n",
    "    save_path=save_model,\n",
    "    n_runs=n_runs,\n",
    "    batch_size=64,\n",
    "    num_workers=0,\n",
    "    debug_mode=False,\n",
    "    use_cpu=False,\n",
    "    save=True,\n",
    "    balanced_actions=balanced_actions_test,\n",
    ")"
   ]
  },
  {
   "cell_type": "code",
   "execution_count": 30,
   "metadata": {},
   "outputs": [],
   "source": [
    "all = res_neg"
   ]
  },
  {
   "cell_type": "code",
   "execution_count": 31,
   "metadata": {},
   "outputs": [
    {
     "data": {
      "text/plain": [
       "{'shared_out_dim': 128,\n",
       " 'state_layers': [30],\n",
       " 'action_layers': [20],\n",
       " 'out_features': 1,\n",
       " 'lstm_model': False,\n",
       " 'bert_name': 'bert-base-multilingual-cased',\n",
       " 'train_lr': 0.001,\n",
       " 'train_optimizer_name': 'adamw',\n",
       " 'train_batch_size': 16,\n",
       " 'train_scheduler_mode': 'max_val_mcc',\n",
       " 'train_balanced_actions': False,\n",
       " 'train_augment_negative': True,\n",
       " 'train_scheduler_patience': 35,\n",
       " 'val_mcc': 1.0,\n",
       " 'epoch': 131,\n",
       " 'train_loss': 0.50657797,\n",
       " 'train_acc': 1.0,\n",
       " 'val_acc': 0.9999998807907104,\n",
       " 'path_name': 'saved_neg\\\\128_[30]_[20]_1_False_bert-base-multilingual-cased_0.001_adamw_16_max_val_mcc_False_True_35',\n",
       " 'train_mcc': 1.0,\n",
       " 'test_mcc': 1.0,\n",
       " 'test_acc': 0.9999999403953552}"
      ]
     },
     "execution_count": 31,
     "metadata": {},
     "output_type": "execute_result"
    }
   ],
   "source": [
    "# ascending order\n",
    "sort_idx = np.argsort([k['dict'][metric_filter_1] for k in all])[::-1]\n",
    "all[sort_idx[0]]['dict']"
   ]
  },
  {
   "cell_type": "code",
   "execution_count": 32,
   "metadata": {},
   "outputs": [
    {
     "data": {
      "text/plain": [
       "{'shared_out_dim': 128,\n",
       " 'state_layers': [30],\n",
       " 'action_layers': [20],\n",
       " 'out_features': 1,\n",
       " 'lstm_model': False,\n",
       " 'bert_name': 'bert-base-multilingual-cased',\n",
       " 'train_lr': 0.001,\n",
       " 'train_optimizer_name': 'adamw',\n",
       " 'train_batch_size': 16,\n",
       " 'train_scheduler_mode': 'max_val_mcc',\n",
       " 'train_balanced_actions': False,\n",
       " 'train_augment_negative': True,\n",
       " 'train_scheduler_patience': 35,\n",
       " 'val_mcc': 1.0,\n",
       " 'epoch': 131,\n",
       " 'train_loss': 0.50657797,\n",
       " 'train_acc': 1.0,\n",
       " 'val_acc': 0.9999998807907104,\n",
       " 'path_name': 'saved_neg\\\\128_[30]_[20]_1_False_bert-base-multilingual-cased_0.001_adamw_16_max_val_mcc_False_True_35',\n",
       " 'train_mcc': 1.0,\n",
       " 'test_mcc': 1.0,\n",
       " 'test_acc': 0.9999999403953552}"
      ]
     },
     "execution_count": 32,
     "metadata": {},
     "output_type": "execute_result"
    }
   ],
   "source": [
    "# ascending order\n",
    "sort_idx = np.argsort([k['dict'][metric_filter_2] for k in all])[::-1]\n",
    "all[sort_idx[0]]['dict']"
   ]
  },
  {
   "cell_type": "markdown",
   "metadata": {},
   "source": [
    "#### Values"
   ]
  },
  {
   "cell_type": "code",
   "execution_count": 33,
   "metadata": {},
   "outputs": [
    {
     "data": {
      "text/plain": [
       "'saved_neg\\\\128_[30]_[20]_1_False_bert-base-multilingual-cased_0.001_adamw_16_max_val_mcc_False_True_35'"
      ]
     },
     "execution_count": 33,
     "metadata": {},
     "output_type": "execute_result"
    }
   ],
   "source": [
    "all[sort_idx[0]]['dict']['path_name']"
   ]
  },
  {
   "cell_type": "code",
   "execution_count": 34,
   "metadata": {},
   "outputs": [
    {
     "data": {
      "text/html": [
       "<div>\n",
       "<style scoped>\n",
       "    .dataframe tbody tr th:only-of-type {\n",
       "        vertical-align: middle;\n",
       "    }\n",
       "\n",
       "    .dataframe tbody tr th {\n",
       "        vertical-align: top;\n",
       "    }\n",
       "\n",
       "    .dataframe thead th {\n",
       "        text-align: right;\n",
       "    }\n",
       "</style>\n",
       "<table border=\"1\" class=\"dataframe\">\n",
       "  <thead>\n",
       "    <tr style=\"text-align: right;\">\n",
       "      <th></th>\n",
       "      <th>true</th>\n",
       "      <th>pred</th>\n",
       "      <th>chosen</th>\n",
       "      <th>cert</th>\n",
       "    </tr>\n",
       "  </thead>\n",
       "  <tbody>\n",
       "    <tr>\n",
       "      <th>0</th>\n",
       "      <td>0.0</td>\n",
       "      <td>0.489740</td>\n",
       "      <td>0.0</td>\n",
       "      <td>51.025993</td>\n",
       "    </tr>\n",
       "    <tr>\n",
       "      <th>1</th>\n",
       "      <td>1.0</td>\n",
       "      <td>0.653802</td>\n",
       "      <td>1.0</td>\n",
       "      <td>65.380204</td>\n",
       "    </tr>\n",
       "    <tr>\n",
       "      <th>2</th>\n",
       "      <td>1.0</td>\n",
       "      <td>0.758273</td>\n",
       "      <td>1.0</td>\n",
       "      <td>75.827271</td>\n",
       "    </tr>\n",
       "    <tr>\n",
       "      <th>3</th>\n",
       "      <td>1.0</td>\n",
       "      <td>0.740997</td>\n",
       "      <td>1.0</td>\n",
       "      <td>74.099690</td>\n",
       "    </tr>\n",
       "    <tr>\n",
       "      <th>4</th>\n",
       "      <td>1.0</td>\n",
       "      <td>0.682429</td>\n",
       "      <td>1.0</td>\n",
       "      <td>68.242860</td>\n",
       "    </tr>\n",
       "  </tbody>\n",
       "</table>\n",
       "</div>"
      ],
      "text/plain": [
       "   true      pred  chosen       cert\n",
       "0   0.0  0.489740     0.0  51.025993\n",
       "1   1.0  0.653802     1.0  65.380204\n",
       "2   1.0  0.758273     1.0  75.827271\n",
       "3   1.0  0.740997     1.0  74.099690\n",
       "4   1.0  0.682429     1.0  68.242860"
      ]
     },
     "execution_count": 34,
     "metadata": {},
     "output_type": "execute_result"
    }
   ],
   "source": [
    "df = pd.concat([*all[sort_idx[0]]['train_values'],*all[sort_idx[0]]['val_values'],*all[sort_idx[0]]['test_values']], ignore_index=True)\n",
    "df.head()"
   ]
  },
  {
   "cell_type": "code",
   "execution_count": 35,
   "metadata": {},
   "outputs": [
    {
     "data": {
      "text/html": [
       "<div>\n",
       "<style scoped>\n",
       "    .dataframe tbody tr th:only-of-type {\n",
       "        vertical-align: middle;\n",
       "    }\n",
       "\n",
       "    .dataframe tbody tr th {\n",
       "        vertical-align: top;\n",
       "    }\n",
       "\n",
       "    .dataframe thead th {\n",
       "        text-align: right;\n",
       "    }\n",
       "</style>\n",
       "<table border=\"1\" class=\"dataframe\">\n",
       "  <thead>\n",
       "    <tr style=\"text-align: right;\">\n",
       "      <th></th>\n",
       "      <th>true</th>\n",
       "      <th>pred</th>\n",
       "      <th>cert</th>\n",
       "    </tr>\n",
       "    <tr>\n",
       "      <th>chosen</th>\n",
       "      <th></th>\n",
       "      <th></th>\n",
       "      <th></th>\n",
       "    </tr>\n",
       "  </thead>\n",
       "  <tbody>\n",
       "    <tr>\n",
       "      <th>0.0</th>\n",
       "      <td>0.0</td>\n",
       "      <td>0.105004</td>\n",
       "      <td>89.499551</td>\n",
       "    </tr>\n",
       "    <tr>\n",
       "      <th>1.0</th>\n",
       "      <td>1.0</td>\n",
       "      <td>0.682429</td>\n",
       "      <td>68.242860</td>\n",
       "    </tr>\n",
       "  </tbody>\n",
       "</table>\n",
       "</div>"
      ],
      "text/plain": [
       "        true      pred       cert\n",
       "chosen                           \n",
       "0.0      0.0  0.105004  89.499551\n",
       "1.0      1.0  0.682429  68.242860"
      ]
     },
     "execution_count": 35,
     "metadata": {},
     "output_type": "execute_result"
    }
   ],
   "source": [
    "df.groupby('chosen').median()"
   ]
  },
  {
   "cell_type": "code",
   "execution_count": 36,
   "metadata": {},
   "outputs": [
    {
     "data": {
      "text/plain": [
       "'saved_neg\\\\128_[20]_[20]_1_False_bert-base-multilingual-cased_0.001_adamw_16_max_val_mcc_False_True_35'"
      ]
     },
     "execution_count": 36,
     "metadata": {},
     "output_type": "execute_result"
    }
   ],
   "source": [
    "all[sort_idx[1]]['dict']['path_name']"
   ]
  },
  {
   "cell_type": "code",
   "execution_count": 37,
   "metadata": {},
   "outputs": [
    {
     "data": {
      "text/html": [
       "<div>\n",
       "<style scoped>\n",
       "    .dataframe tbody tr th:only-of-type {\n",
       "        vertical-align: middle;\n",
       "    }\n",
       "\n",
       "    .dataframe tbody tr th {\n",
       "        vertical-align: top;\n",
       "    }\n",
       "\n",
       "    .dataframe thead th {\n",
       "        text-align: right;\n",
       "    }\n",
       "</style>\n",
       "<table border=\"1\" class=\"dataframe\">\n",
       "  <thead>\n",
       "    <tr style=\"text-align: right;\">\n",
       "      <th></th>\n",
       "      <th>true</th>\n",
       "      <th>pred</th>\n",
       "      <th>chosen</th>\n",
       "      <th>cert</th>\n",
       "    </tr>\n",
       "  </thead>\n",
       "  <tbody>\n",
       "    <tr>\n",
       "      <th>0</th>\n",
       "      <td>1.0</td>\n",
       "      <td>0.973708</td>\n",
       "      <td>1.0</td>\n",
       "      <td>97.370827</td>\n",
       "    </tr>\n",
       "    <tr>\n",
       "      <th>1</th>\n",
       "      <td>1.0</td>\n",
       "      <td>0.787412</td>\n",
       "      <td>1.0</td>\n",
       "      <td>78.741169</td>\n",
       "    </tr>\n",
       "    <tr>\n",
       "      <th>2</th>\n",
       "      <td>0.0</td>\n",
       "      <td>0.001031</td>\n",
       "      <td>0.0</td>\n",
       "      <td>99.896866</td>\n",
       "    </tr>\n",
       "    <tr>\n",
       "      <th>3</th>\n",
       "      <td>1.0</td>\n",
       "      <td>0.787412</td>\n",
       "      <td>1.0</td>\n",
       "      <td>78.741169</td>\n",
       "    </tr>\n",
       "    <tr>\n",
       "      <th>4</th>\n",
       "      <td>1.0</td>\n",
       "      <td>0.787412</td>\n",
       "      <td>1.0</td>\n",
       "      <td>78.741169</td>\n",
       "    </tr>\n",
       "  </tbody>\n",
       "</table>\n",
       "</div>"
      ],
      "text/plain": [
       "   true      pred  chosen       cert\n",
       "0   1.0  0.973708     1.0  97.370827\n",
       "1   1.0  0.787412     1.0  78.741169\n",
       "2   0.0  0.001031     0.0  99.896866\n",
       "3   1.0  0.787412     1.0  78.741169\n",
       "4   1.0  0.787412     1.0  78.741169"
      ]
     },
     "execution_count": 37,
     "metadata": {},
     "output_type": "execute_result"
    }
   ],
   "source": [
    "df = pd.concat([*all[sort_idx[1]]['train_values'],*all[sort_idx[1]]['val_values'],*all[sort_idx[1]]['test_values']], ignore_index=True)\n",
    "df.head()"
   ]
  },
  {
   "cell_type": "code",
   "execution_count": 38,
   "metadata": {},
   "outputs": [
    {
     "data": {
      "text/html": [
       "<div>\n",
       "<style scoped>\n",
       "    .dataframe tbody tr th:only-of-type {\n",
       "        vertical-align: middle;\n",
       "    }\n",
       "\n",
       "    .dataframe tbody tr th {\n",
       "        vertical-align: top;\n",
       "    }\n",
       "\n",
       "    .dataframe thead th {\n",
       "        text-align: right;\n",
       "    }\n",
       "</style>\n",
       "<table border=\"1\" class=\"dataframe\">\n",
       "  <thead>\n",
       "    <tr style=\"text-align: right;\">\n",
       "      <th></th>\n",
       "      <th>true</th>\n",
       "      <th>pred</th>\n",
       "      <th>cert</th>\n",
       "    </tr>\n",
       "    <tr>\n",
       "      <th>chosen</th>\n",
       "      <th></th>\n",
       "      <th></th>\n",
       "      <th></th>\n",
       "    </tr>\n",
       "  </thead>\n",
       "  <tbody>\n",
       "    <tr>\n",
       "      <th>0.0</th>\n",
       "      <td>0.0</td>\n",
       "      <td>0.059490</td>\n",
       "      <td>94.050962</td>\n",
       "    </tr>\n",
       "    <tr>\n",
       "      <th>1.0</th>\n",
       "      <td>1.0</td>\n",
       "      <td>0.792588</td>\n",
       "      <td>79.258847</td>\n",
       "    </tr>\n",
       "  </tbody>\n",
       "</table>\n",
       "</div>"
      ],
      "text/plain": [
       "        true      pred       cert\n",
       "chosen                           \n",
       "0.0      0.0  0.059490  94.050962\n",
       "1.0      1.0  0.792588  79.258847"
      ]
     },
     "execution_count": 38,
     "metadata": {},
     "output_type": "execute_result"
    }
   ],
   "source": [
    "df.groupby('chosen').median()"
   ]
  },
  {
   "cell_type": "code",
   "execution_count": 39,
   "metadata": {},
   "outputs": [
    {
     "data": {
      "text/plain": [
       "'saved_neg\\\\128_[20]_[30]_1_False_bert-base-multilingual-cased_0.001_adamw_16_max_val_mcc_False_True_35'"
      ]
     },
     "execution_count": 39,
     "metadata": {},
     "output_type": "execute_result"
    }
   ],
   "source": [
    "all[sort_idx[2]]['dict']['path_name']"
   ]
  },
  {
   "cell_type": "code",
   "execution_count": 40,
   "metadata": {},
   "outputs": [
    {
     "data": {
      "text/html": [
       "<div>\n",
       "<style scoped>\n",
       "    .dataframe tbody tr th:only-of-type {\n",
       "        vertical-align: middle;\n",
       "    }\n",
       "\n",
       "    .dataframe tbody tr th {\n",
       "        vertical-align: top;\n",
       "    }\n",
       "\n",
       "    .dataframe thead th {\n",
       "        text-align: right;\n",
       "    }\n",
       "</style>\n",
       "<table border=\"1\" class=\"dataframe\">\n",
       "  <thead>\n",
       "    <tr style=\"text-align: right;\">\n",
       "      <th></th>\n",
       "      <th>true</th>\n",
       "      <th>pred</th>\n",
       "      <th>chosen</th>\n",
       "      <th>cert</th>\n",
       "    </tr>\n",
       "  </thead>\n",
       "  <tbody>\n",
       "    <tr>\n",
       "      <th>0</th>\n",
       "      <td>1.0</td>\n",
       "      <td>0.990001</td>\n",
       "      <td>1.0</td>\n",
       "      <td>99.000120</td>\n",
       "    </tr>\n",
       "    <tr>\n",
       "      <th>1</th>\n",
       "      <td>1.0</td>\n",
       "      <td>0.990001</td>\n",
       "      <td>1.0</td>\n",
       "      <td>99.000120</td>\n",
       "    </tr>\n",
       "    <tr>\n",
       "      <th>2</th>\n",
       "      <td>1.0</td>\n",
       "      <td>0.575619</td>\n",
       "      <td>1.0</td>\n",
       "      <td>57.561946</td>\n",
       "    </tr>\n",
       "    <tr>\n",
       "      <th>3</th>\n",
       "      <td>1.0</td>\n",
       "      <td>0.856147</td>\n",
       "      <td>1.0</td>\n",
       "      <td>85.614729</td>\n",
       "    </tr>\n",
       "    <tr>\n",
       "      <th>4</th>\n",
       "      <td>0.0</td>\n",
       "      <td>0.004282</td>\n",
       "      <td>0.0</td>\n",
       "      <td>99.571757</td>\n",
       "    </tr>\n",
       "  </tbody>\n",
       "</table>\n",
       "</div>"
      ],
      "text/plain": [
       "   true      pred  chosen       cert\n",
       "0   1.0  0.990001     1.0  99.000120\n",
       "1   1.0  0.990001     1.0  99.000120\n",
       "2   1.0  0.575619     1.0  57.561946\n",
       "3   1.0  0.856147     1.0  85.614729\n",
       "4   0.0  0.004282     0.0  99.571757"
      ]
     },
     "execution_count": 40,
     "metadata": {},
     "output_type": "execute_result"
    }
   ],
   "source": [
    "df = pd.concat([*all[sort_idx[2]]['train_values'],*all[sort_idx[2]]['val_values'],*all[sort_idx[2]]['test_values']], ignore_index=True)\n",
    "df.head()"
   ]
  },
  {
   "cell_type": "code",
   "execution_count": 41,
   "metadata": {},
   "outputs": [
    {
     "data": {
      "text/html": [
       "<div>\n",
       "<style scoped>\n",
       "    .dataframe tbody tr th:only-of-type {\n",
       "        vertical-align: middle;\n",
       "    }\n",
       "\n",
       "    .dataframe tbody tr th {\n",
       "        vertical-align: top;\n",
       "    }\n",
       "\n",
       "    .dataframe thead th {\n",
       "        text-align: right;\n",
       "    }\n",
       "</style>\n",
       "<table border=\"1\" class=\"dataframe\">\n",
       "  <thead>\n",
       "    <tr style=\"text-align: right;\">\n",
       "      <th></th>\n",
       "      <th>true</th>\n",
       "      <th>pred</th>\n",
       "      <th>cert</th>\n",
       "    </tr>\n",
       "    <tr>\n",
       "      <th>chosen</th>\n",
       "      <th></th>\n",
       "      <th></th>\n",
       "      <th></th>\n",
       "    </tr>\n",
       "  </thead>\n",
       "  <tbody>\n",
       "    <tr>\n",
       "      <th>0.0</th>\n",
       "      <td>0.0</td>\n",
       "      <td>0.078840</td>\n",
       "      <td>92.116040</td>\n",
       "    </tr>\n",
       "    <tr>\n",
       "      <th>1.0</th>\n",
       "      <td>1.0</td>\n",
       "      <td>0.901928</td>\n",
       "      <td>90.192783</td>\n",
       "    </tr>\n",
       "  </tbody>\n",
       "</table>\n",
       "</div>"
      ],
      "text/plain": [
       "        true      pred       cert\n",
       "chosen                           \n",
       "0.0      0.0  0.078840  92.116040\n",
       "1.0      1.0  0.901928  90.192783"
      ]
     },
     "execution_count": 41,
     "metadata": {},
     "output_type": "execute_result"
    }
   ],
   "source": [
    "df.groupby('chosen').median()"
   ]
  },
  {
   "cell_type": "markdown",
   "metadata": {},
   "source": [
    "#### cm"
   ]
  },
  {
   "cell_type": "code",
   "execution_count": 42,
   "metadata": {},
   "outputs": [],
   "source": [
    "cm = all[sort_idx[0]]['test_cm'][0]"
   ]
  },
  {
   "cell_type": "code",
   "execution_count": 43,
   "metadata": {},
   "outputs": [
    {
     "data": {
      "text/plain": [
       "<module 'matplotlib.pyplot' from 'c:\\\\Users\\\\vibal\\\\PycharmProjects\\\\text-games\\\\venv\\\\lib\\\\site-packages\\\\matplotlib\\\\pyplot.py'>"
      ]
     },
     "execution_count": 43,
     "metadata": {},
     "output_type": "execute_result"
    },
    {
     "data": {
      "image/png": "[encoded data removed]",
      "text/plain": [
       "<Figure size 1080x720 with 2 Axes>"
      ]
     },
     "metadata": {
      "needs_background": "light"
     },
     "output_type": "display_data"
    }
   ],
   "source": [
    "cm.visualize()"
   ]
  },
  {
   "cell_type": "code",
   "execution_count": 44,
   "metadata": {},
   "outputs": [
    {
     "data": {
      "text/plain": [
       "tensor([1.0000, 1.0000])"
      ]
     },
     "execution_count": 44,
     "metadata": {},
     "output_type": "execute_result"
    }
   ],
   "source": [
    "cm.class_accuracy"
   ]
  },
  {
   "cell_type": "markdown",
   "metadata": {},
   "source": [
    "## BERT balanced_actions"
   ]
  },
  {
   "cell_type": "code",
   "execution_count": 45,
   "metadata": {},
   "outputs": [],
   "source": [
    "save_model = f'{save_path}_balanced'\n",
    "log_dir = f'{log_path}_balanced'\n",
    "\n",
    "dict_model = dict(\n",
    "    shared_out_dim=[125,75,200],\n",
    "    state_layers=[[20], [30]],\n",
    "    action_layers=[[20], [30]],\n",
    "    out_features=[1],\n",
    "    lstm_model=[False],\n",
    "    bert_name=[\"bert-base-multilingual-cased\"],\n",
    "    # training parameters\n",
    ")\n",
    "\n",
    "list_model = [dict(zip(dict_model.keys(), k)) for k in itertools.product(*dict_model.values())]"
   ]
  },
  {
   "cell_type": "code",
   "execution_count": 46,
   "metadata": {},
   "outputs": [],
   "source": [
    "if do_train:\n",
    "    for d in tqdm(list_model):\n",
    "        set_seed(seed)\n",
    "        d = d.copy()\n",
    "\n",
    "        train(\n",
    "            model=StateActionModel(**d),\n",
    "            dict_model=d,\n",
    "            log_dir=log_dir,\n",
    "            graph=graph,\n",
    "            save_path=save_model,\n",
    "            lr=1e-3,\n",
    "            optimizer_name=\"adamw\",\n",
    "            n_epochs=4500,\n",
    "            batch_size=8,\n",
    "            num_workers=0,\n",
    "            scheduler_mode='max_val_acc',\n",
    "            debug_mode=False,\n",
    "            steps_save=450,\n",
    "            use_cpu=False,\n",
    "            freeze_bert=True,\n",
    "            balanced_actions=True,\n",
    "            augment_negative=True,\n",
    "            scheduler_patience=450,\n",
    "        )"
   ]
  },
  {
   "cell_type": "markdown",
   "metadata": {},
   "source": [
    "#### Results"
   ]
  },
  {
   "cell_type": "code",
   "execution_count": 47,
   "metadata": {},
   "outputs": [
    {
     "name": "stderr",
     "output_type": "stream",
     "text": [
      "0it [00:00, ?it/s]\n"
     ]
    },
    {
     "ename": "NameError",
     "evalue": "name 'toast' is not defined",
     "output_type": "error",
     "traceback": [
      "\u001b[1;31m---------------------------------------------------------------------------\u001b[0m",
      "\u001b[1;31mNameError\u001b[0m                                 Traceback (most recent call last)",
      "\u001b[1;32mc:\\Users\\vibal\\PycharmProjects\\text-games\\notebooks\\models_training_full.ipynb Cell 57'\u001b[0m in \u001b[0;36m<module>\u001b[1;34m\u001b[0m\n\u001b[0;32m      <a href='vscode-notebook-cell:/c%3A/Users/vibal/PycharmProjects/text-games/notebooks/models_training_full.ipynb#ch0000056?line=0'>1</a>\u001b[0m res_test \u001b[39m=\u001b[39m test(\n\u001b[0;32m      <a href='vscode-notebook-cell:/c%3A/Users/vibal/PycharmProjects/text-games/notebooks/models_training_full.ipynb#ch0000056?line=1'>2</a>\u001b[0m     graph\u001b[39m=\u001b[39mgraph,\n\u001b[0;32m      <a href='vscode-notebook-cell:/c%3A/Users/vibal/PycharmProjects/text-games/notebooks/models_training_full.ipynb#ch0000056?line=2'>3</a>\u001b[0m     save_path\u001b[39m=\u001b[39msave_model,\n\u001b[1;32m   (...)\u001b[0m\n\u001b[0;32m      <a href='vscode-notebook-cell:/c%3A/Users/vibal/PycharmProjects/text-games/notebooks/models_training_full.ipynb#ch0000056?line=8'>9</a>\u001b[0m     save\u001b[39m=\u001b[39m\u001b[39mTrue\u001b[39;00m,\n\u001b[0;32m     <a href='vscode-notebook-cell:/c%3A/Users/vibal/PycharmProjects/text-games/notebooks/models_training_full.ipynb#ch0000056?line=9'>10</a>\u001b[0m )\n\u001b[1;32m---> <a href='vscode-notebook-cell:/c%3A/Users/vibal/PycharmProjects/text-games/notebooks/models_training_full.ipynb#ch0000056?line=11'>12</a>\u001b[0m toast\u001b[39m.\u001b[39mshow_toast(\u001b[39m\"\u001b[39m\u001b[39mDone\u001b[39m\u001b[39m\"\u001b[39m)\n",
      "\u001b[1;31mNameError\u001b[0m: name 'toast' is not defined"
     ]
    }
   ],
   "source": [
    "res_test = test(\n",
    "    graph=graph,\n",
    "    save_path=save_model,\n",
    "    n_runs=1,\n",
    "    batch_size=64,\n",
    "    num_workers=0,\n",
    "    debug_mode=False,\n",
    "    use_cpu=False,\n",
    "    save=True,\n",
    ")\n",
    "\n",
    "toast.show_toast(\"Done\")"
   ]
  },
  {
   "cell_type": "code",
   "execution_count": null,
   "metadata": {},
   "outputs": [],
   "source": [
    "res_test[0]"
   ]
  },
  {
   "cell_type": "code",
   "execution_count": null,
   "metadata": {},
   "outputs": [],
   "source": [
    "all = res_test\n",
    "# ascending order\n",
    "sort_idx = np.argsort([k['dict'][metric_filter_1] for k in all])[::-1]\n",
    "all[sort_idx[0]]['dict']"
   ]
  },
  {
   "cell_type": "code",
   "execution_count": null,
   "metadata": {},
   "outputs": [],
   "source": [
    "all = res_test\n",
    "# ascending order\n",
    "sort_idx = np.argsort([k['dict'][metric_filter_2] for k in all])[::-1]\n",
    "all[sort_idx[0]]['dict']"
   ]
  },
  {
   "cell_type": "markdown",
   "metadata": {},
   "source": [
    "#### cm"
   ]
  },
  {
   "cell_type": "code",
   "execution_count": null,
   "metadata": {},
   "outputs": [],
   "source": [
    "cm = all[sort_idx[0]]['test_cm'][0]"
   ]
  },
  {
   "cell_type": "code",
   "execution_count": null,
   "metadata": {},
   "outputs": [],
   "source": [
    "cm.visualize()"
   ]
  },
  {
   "cell_type": "code",
   "execution_count": null,
   "metadata": {},
   "outputs": [],
   "source": [
    "cm.class_accuracy"
   ]
  },
  {
   "cell_type": "code",
   "execution_count": null,
   "metadata": {},
   "outputs": [],
   "source": []
  }
 ],
 "metadata": {
  "interpreter": {
   "hash": "cb0a178ae3a89bc5606c5ff8111f45e24760a82322ae520972dc26f0653faace"
  },
  "kernelspec": {
   "display_name": "Python 3.9.5 ('venv': venv)",
   "language": "python",
   "name": "python3"
  },
  "language_info": {
   "codemirror_mode": {
    "name": "ipython",
    "version": 3
   },
   "file_extension": ".py",
   "mimetype": "text/x-python",
   "name": "python",
   "nbconvert_exporter": "python",
   "pygments_lexer": "ipython3",
   "version": "3.9.5"
  },
  "orig_nbformat": 4
 },
 "nbformat": 4,
 "nbformat_minor": 2
}
