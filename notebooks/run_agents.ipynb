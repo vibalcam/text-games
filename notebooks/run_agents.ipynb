{
 "cells": [
  {
   "cell_type": "code",
   "execution_count": 1,
   "metadata": {},
   "outputs": [],
   "source": [
    "import sys\n",
    "sys.path.append('../')"
   ]
  },
  {
   "cell_type": "code",
   "execution_count": 2,
   "metadata": {},
   "outputs": [],
   "source": [
    "import game.agent as ag\n",
    "from game.run import run\n",
    "from game.simulator import load_simulator_yarn, GraphSimulator\n",
    "from pathlib import Path\n",
    "from tqdm.auto import trange\n",
    "import pandas as pd\n",
    "# import itertools\n",
    "import mpire"
   ]
  },
  {
   "cell_type": "code",
   "execution_count": 3,
   "metadata": {},
   "outputs": [],
   "source": [
    "n_runs = int(1e3)\n",
    "seed = None"
   ]
  },
  {
   "cell_type": "code",
   "execution_count": 4,
   "metadata": {},
   "outputs": [],
   "source": [
    "simulator = load_simulator_yarn('../yarnScripts')"
   ]
  },
  {
   "cell_type": "code",
   "execution_count": 5,
   "metadata": {},
   "outputs": [],
   "source": [
    "def get_agent():\n",
    "    return ag.RandomAgent(None)\n",
    "    # return ag.TorchRAgent(\n",
    "    #     model_path=Path('./models/tmp/saved_good/adamw_max_val_acc_8_False_125,[20],[20]_0.001'),\n",
    "    #     rand=0,\n",
    "# )"
   ]
  },
  {
   "cell_type": "code",
   "execution_count": 8,
   "metadata": {},
   "outputs": [
    {
     "name": "stderr",
     "output_type": "stream",
     "text": [
      "100%|██████████| 1000/1000 [00:00<00:00, 1828.05it/s]\n"
     ]
    }
   ],
   "source": [
    "df = run(get_agent, simulator, n_runs)"
   ]
  },
  {
   "cell_type": "code",
   "execution_count": 9,
   "metadata": {},
   "outputs": [
    {
     "name": "stdout",
     "output_type": "stream",
     "text": [
      "            title kind\n",
      "0      MaloAmigos    0\n",
      "1    MaloSilencio    0\n",
      "2      MaloAmanda    0\n",
      "3      MaloAmigos    0\n",
      "4    MaloSilencio    0\n",
      "..            ...  ...\n",
      "995    MaloAmigos    0\n",
      "996    MaloAmigos    0\n",
      "997  MaloSilencio    0\n",
      "998  MaloSilencio    0\n",
      "999    MaloAmigos    0\n",
      "\n",
      "[1000 rows x 2 columns]\n"
     ]
    }
   ],
   "source": [
    "print(df)"
   ]
  },
  {
   "cell_type": "code",
   "execution_count": 10,
   "metadata": {},
   "outputs": [],
   "source": [
    "df.to_csv('endings.csv')"
   ]
  },
  {
   "cell_type": "code",
   "execution_count": null,
   "metadata": {},
   "outputs": [],
   "source": [
    "df['kind'].value_counts(normalize=True)"
   ]
  },
  {
   "cell_type": "code",
   "execution_count": 12,
   "metadata": {},
   "outputs": [
    {
     "data": {
      "text/plain": [
       "<AxesSubplot:>"
      ]
     },
     "execution_count": 12,
     "metadata": {},
     "output_type": "execute_result"
    },
    {
     "data": {
      "image/png": "[encoded data removed]",
      "text/plain": [
       "<Figure size 432x288 with 1 Axes>"
      ]
     },
     "metadata": {
      "needs_background": "light"
     },
     "output_type": "display_data"
    }
   ],
   "source": [
    "df['kind'].value_counts(normalize=True).plot.bar()"
   ]
  },
  {
   "cell_type": "markdown",
   "metadata": {},
   "source": [
    "# Multiprocessing (does not work)"
   ]
  },
  {
   "cell_type": "code",
   "execution_count": null,
   "metadata": {
    "collapsed": false,
    "pycharm": {
     "name": "#%%\n"
    }
   },
   "outputs": [],
   "source": [
    "def init_func(worker_state):\n",
    "    # Initialize a counter for each worker\n",
    "    worker_state['count_even'] = 0\n",
    "    pass\n",
    "\n",
    "def square_and_count_even(worker_state, x):\n",
    "    # Count number of even numbers and return the square\n",
    "    if x % 2 == 0:\n",
    "        worker_state['count_even'] += 1\n",
    "    return x * x\n",
    "    pass\n",
    "\n",
    "def exit_func(worker_state):\n",
    "    # Return the counter\n",
    "    return worker_state['count_even']\n",
    "    pass\n",
    "\n",
    "with mpire.WorkerPool(n_jobs=4, use_worker_state=True, start_method=\"spawn\") as pool:\n",
    "    pool.map(square_and_count_even, range(100), worker_init=init_func, worker_exit=exit_func, progress_bar=True)\n",
    "    print(pool.get_exit_results())  # Output, e.g.: [13, 13, 12, 12]\n",
    "    print(sum(pool.get_exit_results()))  # Output: 50\n"
   ]
  },
  {
   "cell_type": "code",
   "execution_count": null,
   "metadata": {},
   "outputs": [],
   "source": []
  }
 ],
 "metadata": {
  "interpreter": {
   "hash": "30a9296f74094b00332d5d787bc4db866c51beed76e8f2587c2dc5f3774742e1"
  },
  "kernelspec": {
   "display_name": "Python 3.9.7 ('venv': venv)",
   "language": "python",
   "name": "python3"
  },
  "language_info": {
   "codemirror_mode": {
    "name": "ipython",
    "version": 3
   },
   "file_extension": ".py",
   "mimetype": "text/x-python",
   "name": "python",
   "nbconvert_exporter": "python",
   "pygments_lexer": "ipython3",
   "version": "3.9.7"
  },
  "orig_nbformat": 4
 },
 "nbformat": 4,
 "nbformat_minor": 2
}
