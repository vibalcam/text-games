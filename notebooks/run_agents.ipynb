{
 "cells": [
  {
   "cell_type": "code",
   "execution_count": 1,
   "metadata": {
    "pycharm": {
     "name": "#%%\n"
    }
   },
   "outputs": [],
   "source": [
    "import sys\n",
    "sys.path.append('../')"
   ]
  },
  {
   "cell_type": "code",
   "execution_count": 2,
   "metadata": {
    "collapsed": false,
    "pycharm": {
     "name": "#%%\n"
    }
   },
   "outputs": [],
   "source": [
    "import game.agent as ag\n",
    "from game.run import run\n",
    "from game.simulator import load_simulator_yarn, GraphSimulator\n",
    "from pathlib import Path\n",
    "from tqdm.auto import trange\n",
    "import pandas as pd\n",
    "# import mpire\n",
    "import torch"
   ]
  },
  {
   "cell_type": "markdown",
   "metadata": {},
   "source": [
    "## Description"
   ]
  },
  {
   "cell_type": "markdown",
   "metadata": {},
   "source": [
    "This game only has one personality trait, which is safety (no risk).\n",
    "\n",
    "Therefore, a 1 implies a safe action (without risk), and a 0 implies a risky action."
   ]
  },
  {
   "cell_type": "code",
   "execution_count": 3,
   "metadata": {
    "collapsed": false,
    "pycharm": {
     "name": "#%%\n"
    }
   },
   "outputs": [],
   "source": [
    "# n_runs = int(1e4)\n",
    "n_runs = int(100)\n",
    "seed = None"
   ]
  },
  {
   "cell_type": "markdown",
   "metadata": {},
   "source": [
    "## Simulator"
   ]
  },
  {
   "cell_type": "code",
   "execution_count": 4,
   "metadata": {
    "collapsed": false,
    "pycharm": {
     "name": "#%%\n"
    }
   },
   "outputs": [],
   "source": [
    "simulator = load_simulator_yarn('../yarnScripts', graph_file_sfx='_graph_transformed.pickle')"
   ]
  },
  {
   "cell_type": "markdown",
   "metadata": {},
   "source": [
    "## Agents"
   ]
  },
  {
   "cell_type": "code",
   "execution_count": 5,
   "metadata": {},
   "outputs": [],
   "source": [
    "# label_predictor=ag.TorchLabelPredictor(\n",
    "#             model_path=Path('./saved_bert/200_[20]_[30]_1_False_bert-base-multilingual-cased_0.001_adamw_8_max_val_mcc_False_False_100'),\n",
    "#             use_cpu=False,\n",
    "#         )\n",
    "\n",
    "def get_linear_agent(a: torch.Tensor):\n",
    "    \"\"\"\n",
    "    Gets an agent with a BehavioralDecisionMaker that has a linear function\n",
    "\n",
    "    :param torch.Tensor a: matrix A that characterizes the behavior profile\n",
    "    \"\"\"\n",
    "    return ag.LabelDecisorAgent(\n",
    "        label_predictor=ag.GraphLabelLoader(\n",
    "            simulator=simulator,\n",
    "        ),\n",
    "        decision_maker=ag.BehavioralDecisionMaker(\n",
    "            weight_funcs=[\n",
    "                lambda x: (a*x).sum()\n",
    "            ],\n",
    "            memory_steps=a.shape[0]-1,\n",
    "            seed=None,\n",
    "            deterministic=False,\n",
    "        )\n",
    "    )"
   ]
  },
  {
   "cell_type": "code",
   "execution_count": 6,
   "metadata": {},
   "outputs": [],
   "source": [
    "def get_random_agent():\n",
    "    return ag.RandomAgent(None)\n",
    "\n",
    "\n",
    "# def get_r_agent():\n",
    "#     return ag.LabelDecisorAgent(\n",
    "#         label_predictor=ag.GraphLabelLoader(\n",
    "#             simulator=simulator,\n",
    "#         ),\n",
    "#         decision_maker=ag.RDecisionMaker(\n",
    "#             rand=0.4,\n",
    "#             seed=None,\n",
    "#         )\n",
    "#     )\n",
    "\n",
    "\n",
    "def get_risky_agent():\n",
    "    return get_linear_agent(torch.as_tensor([\n",
    "        [2]\n",
    "    ], dtype=torch.float))\n",
    "\n",
    "\n",
    "def get_risky_agent():\n",
    "    return get_linear_agent(torch.as_tensor([\n",
    "        [-2]\n",
    "    ], dtype=torch.float))\n",
    "\n",
    "\n",
    "def get_risky_ntm_agent():\n",
    "    return get_linear_agent(torch.as_tensor([\n",
    "        [0.4],\n",
    "        [-0.4],\n",
    "        [-0.3],\n",
    "    ], dtype=torch.float))\n",
    "\n",
    "\n",
    "# def get_mc_agent():\n",
    "#     return ag.LabelDecisorAgent(\n",
    "#         label_predictor=ag.GraphLabelLoader(\n",
    "#             simulator=simulator,\n",
    "#         ),\n",
    "#         decisor=ag.MarkovChainAgent(\n",
    "#             rand=0.4,\n",
    "#             seed=None,\n",
    "#         )\n",
    "#     )"
   ]
  },
  {
   "cell_type": "code",
   "execution_count": 7,
   "metadata": {
    "collapsed": false,
    "pycharm": {
     "name": "#%%\n"
    }
   },
   "outputs": [],
   "source": [
    "# def get_random_agent():\n",
    "#     return ag.RandomAgent(None)\n",
    "\n",
    "\n",
    "# # def get_r_agent():\n",
    "# #     return ag.LabelDecisorAgent(\n",
    "# #         label_predictor=ag.GraphLabelLoader(\n",
    "# #             simulator=simulator,\n",
    "# #         ),\n",
    "# #         decision_maker=ag.RDecisionMaker(\n",
    "# #             rand=0.4,\n",
    "# #             seed=None,\n",
    "# #         )\n",
    "# #     )\n",
    "\n",
    "\n",
    "# def get_risky_agent():\n",
    "#     return ag.LabelDecisorAgent(\n",
    "#         label_predictor=ag.GraphLabelLoader(\n",
    "#             simulator=simulator,\n",
    "#         ),\n",
    "#         decision_maker=ag.BehavioralDecisionMaker(\n",
    "#             weight_funcs=[\n",
    "#                 lambda x: x\n",
    "#             ],\n",
    "#             memory_steps=0,\n",
    "#             seed=None,\n",
    "#         )\n",
    "#     )\n",
    "\n",
    "\n",
    "# def get_risky_agent():\n",
    "#     return ag.LabelDecisorAgent(\n",
    "#         label_predictor=ag.GraphLabelLoader(\n",
    "#             simulator=simulator,\n",
    "#         ),\n",
    "#         decision_maker=ag.BehavioralDecisionMaker(\n",
    "#             weight_funcs=[\n",
    "#                 lambda x: x\n",
    "#             ],\n",
    "#             memory_steps=0,\n",
    "#             seed=None,\n",
    "#         )\n",
    "#     )\n",
    "\n",
    "\n",
    "# def get_risky_ntm_agent():\n",
    "#     return ag.LabelDecisorAgent(\n",
    "#         label_predictor=ag.GraphLabelLoader(\n",
    "#             simulator=simulator,\n",
    "#         ),\n",
    "#         decision_maker=ag.BehavioralDecisionMaker(\n",
    "#             weight_funcs=[\n",
    "#                 lambda x: 0.5*x,\n",
    "#                 lambda x: -0.3*x,\n",
    "#                 lambda x: -0.3*x,\n",
    "#             ],\n",
    "#             memory_steps=3,\n",
    "#             seed=None,\n",
    "#         )\n",
    "#     )\n",
    "\n",
    "\n",
    "# # def get_mc_agent():\n",
    "# #     return ag.LabelDecisorAgent(\n",
    "# #         label_predictor=ag.GraphLabelLoader(\n",
    "# #             simulator=simulator,\n",
    "# #         ),\n",
    "# #         decisor=ag.MarkovChainAgent(\n",
    "# #             rand=0.4,\n",
    "# #             seed=None,\n",
    "# #         )\n",
    "# #     )"
   ]
  },
  {
   "cell_type": "markdown",
   "metadata": {},
   "source": [
    "## Run"
   ]
  },
  {
   "cell_type": "markdown",
   "metadata": {
    "collapsed": false,
    "pycharm": {
     "name": "#%% md\n"
    }
   },
   "source": [
    "### Random Agent"
   ]
  },
  {
   "cell_type": "code",
   "execution_count": 8,
   "metadata": {
    "collapsed": false,
    "pycharm": {
     "name": "#%%\n"
    }
   },
   "outputs": [
    {
     "name": "stderr",
     "output_type": "stream",
     "text": [
      "100%|██████████| 100/100 [00:00<00:00, 4941.80it/s]\n"
     ]
    }
   ],
   "source": [
    "df = run(get_random_agent, simulator, n_runs)"
   ]
  },
  {
   "cell_type": "code",
   "execution_count": 9,
   "metadata": {
    "collapsed": false,
    "pycharm": {
     "name": "#%%\n"
    }
   },
   "outputs": [],
   "source": [
    "# df.to_csv('endings.csv')"
   ]
  },
  {
   "cell_type": "code",
   "execution_count": 10,
   "metadata": {
    "collapsed": false,
    "pycharm": {
     "name": "#%%\n"
    }
   },
   "outputs": [
    {
     "data": {
      "text/html": [
       "<div>\n",
       "<style scoped>\n",
       "    .dataframe tbody tr th:only-of-type {\n",
       "        vertical-align: middle;\n",
       "    }\n",
       "\n",
       "    .dataframe tbody tr th {\n",
       "        vertical-align: top;\n",
       "    }\n",
       "\n",
       "    .dataframe thead th {\n",
       "        text-align: right;\n",
       "    }\n",
       "</style>\n",
       "<table border=\"1\" class=\"dataframe\">\n",
       "  <thead>\n",
       "    <tr style=\"text-align: right;\">\n",
       "      <th></th>\n",
       "      <th>run</th>\n",
       "      <th>title</th>\n",
       "      <th>kind</th>\n",
       "    </tr>\n",
       "  </thead>\n",
       "  <tbody>\n",
       "    <tr>\n",
       "      <th>0</th>\n",
       "      <td>0</td>\n",
       "      <td>MaloAmigos</td>\n",
       "      <td>0</td>\n",
       "    </tr>\n",
       "    <tr>\n",
       "      <th>1</th>\n",
       "      <td>1</td>\n",
       "      <td>MaloSilencio</td>\n",
       "      <td>0</td>\n",
       "    </tr>\n",
       "    <tr>\n",
       "      <th>2</th>\n",
       "      <td>2</td>\n",
       "      <td>MaloAmigos</td>\n",
       "      <td>0</td>\n",
       "    </tr>\n",
       "    <tr>\n",
       "      <th>3</th>\n",
       "      <td>3</td>\n",
       "      <td>MaloSilencio</td>\n",
       "      <td>0</td>\n",
       "    </tr>\n",
       "    <tr>\n",
       "      <th>4</th>\n",
       "      <td>4</td>\n",
       "      <td>MaloSilencio</td>\n",
       "      <td>0</td>\n",
       "    </tr>\n",
       "    <tr>\n",
       "      <th>...</th>\n",
       "      <td>...</td>\n",
       "      <td>...</td>\n",
       "      <td>...</td>\n",
       "    </tr>\n",
       "    <tr>\n",
       "      <th>95</th>\n",
       "      <td>95</td>\n",
       "      <td>MaloAmanda</td>\n",
       "      <td>0</td>\n",
       "    </tr>\n",
       "    <tr>\n",
       "      <th>96</th>\n",
       "      <td>96</td>\n",
       "      <td>MaloSilencio</td>\n",
       "      <td>0</td>\n",
       "    </tr>\n",
       "    <tr>\n",
       "      <th>97</th>\n",
       "      <td>97</td>\n",
       "      <td>MaloPadres</td>\n",
       "      <td>0</td>\n",
       "    </tr>\n",
       "    <tr>\n",
       "      <th>98</th>\n",
       "      <td>98</td>\n",
       "      <td>MaloSilencio</td>\n",
       "      <td>0</td>\n",
       "    </tr>\n",
       "    <tr>\n",
       "      <th>99</th>\n",
       "      <td>99</td>\n",
       "      <td>MaloSilencio</td>\n",
       "      <td>0</td>\n",
       "    </tr>\n",
       "  </tbody>\n",
       "</table>\n",
       "<p>100 rows × 3 columns</p>\n",
       "</div>"
      ],
      "text/plain": [
       "    run         title kind\n",
       "0     0    MaloAmigos    0\n",
       "1     1  MaloSilencio    0\n",
       "2     2    MaloAmigos    0\n",
       "3     3  MaloSilencio    0\n",
       "4     4  MaloSilencio    0\n",
       "..  ...           ...  ...\n",
       "95   95    MaloAmanda    0\n",
       "96   96  MaloSilencio    0\n",
       "97   97    MaloPadres    0\n",
       "98   98  MaloSilencio    0\n",
       "99   99  MaloSilencio    0\n",
       "\n",
       "[100 rows x 3 columns]"
      ]
     },
     "execution_count": 10,
     "metadata": {},
     "output_type": "execute_result"
    }
   ],
   "source": [
    "df['endings']"
   ]
  },
  {
   "cell_type": "code",
   "execution_count": 11,
   "metadata": {},
   "outputs": [
    {
     "data": {
      "text/html": [
       "<div>\n",
       "<style scoped>\n",
       "    .dataframe tbody tr th:only-of-type {\n",
       "        vertical-align: middle;\n",
       "    }\n",
       "\n",
       "    .dataframe tbody tr th {\n",
       "        vertical-align: top;\n",
       "    }\n",
       "\n",
       "    .dataframe thead th {\n",
       "        text-align: right;\n",
       "    }\n",
       "</style>\n",
       "<table border=\"1\" class=\"dataframe\">\n",
       "  <thead>\n",
       "    <tr style=\"text-align: right;\">\n",
       "      <th></th>\n",
       "      <th>run</th>\n",
       "      <th>num</th>\n",
       "      <th>qid</th>\n",
       "      <th>choice</th>\n",
       "      <th>label</th>\n",
       "    </tr>\n",
       "  </thead>\n",
       "  <tbody>\n",
       "    <tr>\n",
       "      <th>0</th>\n",
       "      <td>0</td>\n",
       "      <td>0</td>\n",
       "      <td>1.0</td>\n",
       "      <td>1</td>\n",
       "      <td>NaN</td>\n",
       "    </tr>\n",
       "    <tr>\n",
       "      <th>1</th>\n",
       "      <td>0</td>\n",
       "      <td>1</td>\n",
       "      <td>2.0</td>\n",
       "      <td>1</td>\n",
       "      <td>1.0</td>\n",
       "    </tr>\n",
       "    <tr>\n",
       "      <th>3</th>\n",
       "      <td>0</td>\n",
       "      <td>3</td>\n",
       "      <td>3.0</td>\n",
       "      <td>0</td>\n",
       "      <td>NaN</td>\n",
       "    </tr>\n",
       "    <tr>\n",
       "      <th>5</th>\n",
       "      <td>0</td>\n",
       "      <td>5</td>\n",
       "      <td>4.0</td>\n",
       "      <td>0</td>\n",
       "      <td>1.0</td>\n",
       "    </tr>\n",
       "    <tr>\n",
       "      <th>6</th>\n",
       "      <td>0</td>\n",
       "      <td>6</td>\n",
       "      <td>5.0</td>\n",
       "      <td>1</td>\n",
       "      <td>1.0</td>\n",
       "    </tr>\n",
       "    <tr>\n",
       "      <th>...</th>\n",
       "      <td>...</td>\n",
       "      <td>...</td>\n",
       "      <td>...</td>\n",
       "      <td>...</td>\n",
       "      <td>...</td>\n",
       "    </tr>\n",
       "    <tr>\n",
       "      <th>1983</th>\n",
       "      <td>99</td>\n",
       "      <td>9</td>\n",
       "      <td>8.0</td>\n",
       "      <td>0</td>\n",
       "      <td>0.0</td>\n",
       "    </tr>\n",
       "    <tr>\n",
       "      <th>1985</th>\n",
       "      <td>99</td>\n",
       "      <td>11</td>\n",
       "      <td>9.0</td>\n",
       "      <td>1</td>\n",
       "      <td>0.0</td>\n",
       "    </tr>\n",
       "    <tr>\n",
       "      <th>1986</th>\n",
       "      <td>99</td>\n",
       "      <td>12</td>\n",
       "      <td>10.0</td>\n",
       "      <td>1</td>\n",
       "      <td>0.0</td>\n",
       "    </tr>\n",
       "    <tr>\n",
       "      <th>1987</th>\n",
       "      <td>99</td>\n",
       "      <td>13</td>\n",
       "      <td>11.0</td>\n",
       "      <td>1</td>\n",
       "      <td>0.0</td>\n",
       "    </tr>\n",
       "    <tr>\n",
       "      <th>1989</th>\n",
       "      <td>99</td>\n",
       "      <td>15</td>\n",
       "      <td>12.0</td>\n",
       "      <td>0</td>\n",
       "      <td>0.0</td>\n",
       "    </tr>\n",
       "  </tbody>\n",
       "</table>\n",
       "<p>1210 rows × 5 columns</p>\n",
       "</div>"
      ],
      "text/plain": [
       "      run  num   qid  choice  label\n",
       "0       0    0   1.0       1    NaN\n",
       "1       0    1   2.0       1    1.0\n",
       "3       0    3   3.0       0    NaN\n",
       "5       0    5   4.0       0    1.0\n",
       "6       0    6   5.0       1    1.0\n",
       "...   ...  ...   ...     ...    ...\n",
       "1983   99    9   8.0       0    0.0\n",
       "1985   99   11   9.0       1    0.0\n",
       "1986   99   12  10.0       1    0.0\n",
       "1987   99   13  11.0       1    0.0\n",
       "1989   99   15  12.0       0    0.0\n",
       "\n",
       "[1210 rows x 5 columns]"
      ]
     },
     "execution_count": 11,
     "metadata": {},
     "output_type": "execute_result"
    }
   ],
   "source": [
    "t = df['decisions'].loc[df['decisions']['qid'] != -1,:]\n",
    "t"
   ]
  },
  {
   "cell_type": "code",
   "execution_count": 12,
   "metadata": {},
   "outputs": [],
   "source": [
    "# t.pivot(index='run', columns='qid', values='label')['label']"
   ]
  },
  {
   "cell_type": "code",
   "execution_count": 13,
   "metadata": {
    "collapsed": false,
    "pycharm": {
     "name": "#%%\n"
    }
   },
   "outputs": [
    {
     "data": {
      "text/html": [
       "<div>\n",
       "<style scoped>\n",
       "    .dataframe tbody tr th:only-of-type {\n",
       "        vertical-align: middle;\n",
       "    }\n",
       "\n",
       "    .dataframe tbody tr th {\n",
       "        vertical-align: top;\n",
       "    }\n",
       "\n",
       "    .dataframe thead th {\n",
       "        text-align: right;\n",
       "    }\n",
       "</style>\n",
       "<table border=\"1\" class=\"dataframe\">\n",
       "  <thead>\n",
       "    <tr style=\"text-align: right;\">\n",
       "      <th></th>\n",
       "      <th>run</th>\n",
       "      <th>num</th>\n",
       "      <th>choice</th>\n",
       "      <th>label</th>\n",
       "    </tr>\n",
       "    <tr>\n",
       "      <th>qid</th>\n",
       "      <th></th>\n",
       "      <th></th>\n",
       "      <th></th>\n",
       "      <th></th>\n",
       "    </tr>\n",
       "  </thead>\n",
       "  <tbody>\n",
       "    <tr>\n",
       "      <th>-1.0</th>\n",
       "      <td>49.568878</td>\n",
       "      <td>11.973214</td>\n",
       "      <td>0.000000</td>\n",
       "      <td>NaN</td>\n",
       "    </tr>\n",
       "    <tr>\n",
       "      <th>1.0</th>\n",
       "      <td>49.500000</td>\n",
       "      <td>0.000000</td>\n",
       "      <td>0.540000</td>\n",
       "      <td>NaN</td>\n",
       "    </tr>\n",
       "    <tr>\n",
       "      <th>2.0</th>\n",
       "      <td>49.500000</td>\n",
       "      <td>1.000000</td>\n",
       "      <td>0.610000</td>\n",
       "      <td>0.610000</td>\n",
       "    </tr>\n",
       "    <tr>\n",
       "      <th>3.0</th>\n",
       "      <td>49.500000</td>\n",
       "      <td>3.000000</td>\n",
       "      <td>0.500000</td>\n",
       "      <td>NaN</td>\n",
       "    </tr>\n",
       "    <tr>\n",
       "      <th>4.0</th>\n",
       "      <td>49.500000</td>\n",
       "      <td>5.000000</td>\n",
       "      <td>0.580000</td>\n",
       "      <td>0.420000</td>\n",
       "    </tr>\n",
       "    <tr>\n",
       "      <th>5.0</th>\n",
       "      <td>49.500000</td>\n",
       "      <td>6.000000</td>\n",
       "      <td>0.590000</td>\n",
       "      <td>0.590000</td>\n",
       "    </tr>\n",
       "    <tr>\n",
       "      <th>6.0</th>\n",
       "      <td>52.237288</td>\n",
       "      <td>7.000000</td>\n",
       "      <td>0.593220</td>\n",
       "      <td>0.593220</td>\n",
       "    </tr>\n",
       "    <tr>\n",
       "      <th>7.0</th>\n",
       "      <td>49.500000</td>\n",
       "      <td>7.590000</td>\n",
       "      <td>0.490000</td>\n",
       "      <td>0.490000</td>\n",
       "    </tr>\n",
       "    <tr>\n",
       "      <th>8.0</th>\n",
       "      <td>53.285714</td>\n",
       "      <td>8.551020</td>\n",
       "      <td>0.489796</td>\n",
       "      <td>0.489796</td>\n",
       "    </tr>\n",
       "    <tr>\n",
       "      <th>9.0</th>\n",
       "      <td>49.500000</td>\n",
       "      <td>10.080000</td>\n",
       "      <td>0.440000</td>\n",
       "      <td>0.560000</td>\n",
       "    </tr>\n",
       "    <tr>\n",
       "      <th>10.0</th>\n",
       "      <td>49.500000</td>\n",
       "      <td>11.080000</td>\n",
       "      <td>0.480000</td>\n",
       "      <td>0.520000</td>\n",
       "    </tr>\n",
       "    <tr>\n",
       "      <th>11.0</th>\n",
       "      <td>49.500000</td>\n",
       "      <td>12.080000</td>\n",
       "      <td>0.590000</td>\n",
       "      <td>0.410000</td>\n",
       "    </tr>\n",
       "    <tr>\n",
       "      <th>12.0</th>\n",
       "      <td>49.500000</td>\n",
       "      <td>14.080000</td>\n",
       "      <td>0.040000</td>\n",
       "      <td>0.040000</td>\n",
       "    </tr>\n",
       "    <tr>\n",
       "      <th>14.0</th>\n",
       "      <td>44.811321</td>\n",
       "      <td>15.962264</td>\n",
       "      <td>0.471698</td>\n",
       "      <td>0.528302</td>\n",
       "    </tr>\n",
       "    <tr>\n",
       "      <th>15.0</th>\n",
       "      <td>44.437500</td>\n",
       "      <td>18.187500</td>\n",
       "      <td>0.250000</td>\n",
       "      <td>0.750000</td>\n",
       "    </tr>\n",
       "    <tr>\n",
       "      <th>17.0</th>\n",
       "      <td>52.060606</td>\n",
       "      <td>17.333333</td>\n",
       "      <td>0.515152</td>\n",
       "      <td>0.484848</td>\n",
       "    </tr>\n",
       "  </tbody>\n",
       "</table>\n",
       "</div>"
      ],
      "text/plain": [
       "             run        num    choice     label\n",
       "qid                                            \n",
       "-1.0   49.568878  11.973214  0.000000       NaN\n",
       " 1.0   49.500000   0.000000  0.540000       NaN\n",
       " 2.0   49.500000   1.000000  0.610000  0.610000\n",
       " 3.0   49.500000   3.000000  0.500000       NaN\n",
       " 4.0   49.500000   5.000000  0.580000  0.420000\n",
       " 5.0   49.500000   6.000000  0.590000  0.590000\n",
       " 6.0   52.237288   7.000000  0.593220  0.593220\n",
       " 7.0   49.500000   7.590000  0.490000  0.490000\n",
       " 8.0   53.285714   8.551020  0.489796  0.489796\n",
       " 9.0   49.500000  10.080000  0.440000  0.560000\n",
       " 10.0  49.500000  11.080000  0.480000  0.520000\n",
       " 11.0  49.500000  12.080000  0.590000  0.410000\n",
       " 12.0  49.500000  14.080000  0.040000  0.040000\n",
       " 14.0  44.811321  15.962264  0.471698  0.528302\n",
       " 15.0  44.437500  18.187500  0.250000  0.750000\n",
       " 17.0  52.060606  17.333333  0.515152  0.484848"
      ]
     },
     "execution_count": 13,
     "metadata": {},
     "output_type": "execute_result"
    }
   ],
   "source": [
    "df['decisions'].groupby(['qid']).mean()\n",
    "# diferencia entre estos valores y los otros nos dice si tiene predilección por label o no"
   ]
  },
  {
   "cell_type": "code",
   "execution_count": null,
   "metadata": {},
   "outputs": [],
   "source": []
  },
  {
   "cell_type": "code",
   "execution_count": 14,
   "metadata": {},
   "outputs": [],
   "source": [
    "rand = df['decisions'].groupby(['num']).mean()\n",
    "rand['m'] = 0"
   ]
  },
  {
   "cell_type": "markdown",
   "metadata": {},
   "source": [
    "### Risky Agent"
   ]
  },
  {
   "cell_type": "code",
   "execution_count": 15,
   "metadata": {},
   "outputs": [
    {
     "name": "stderr",
     "output_type": "stream",
     "text": [
      "  0%|          | 0/100 [00:00<?, ?it/s]c:\\Users\\vibal\\PycharmProjects\\text-games\\notebooks\\..\\game\\agent.py:238: UserWarning: Implicit dimension choice for softmax has been deprecated. Change the call to include dim=X as an argument.\n",
      "  self._p = F.softmax((pred * self.w[None, :]).sum(1)) # (actions, labels) -> (actions)\n",
      "100%|██████████| 100/100 [00:00<00:00, 248.57it/s]\n"
     ]
    }
   ],
   "source": [
    "df = run(get_risky_agent, simulator, n_runs)"
   ]
  },
  {
   "cell_type": "code",
   "execution_count": 16,
   "metadata": {
    "collapsed": false,
    "pycharm": {
     "name": "#%%\n"
    }
   },
   "outputs": [
    {
     "data": {
      "text/html": [
       "<div>\n",
       "<style scoped>\n",
       "    .dataframe tbody tr th:only-of-type {\n",
       "        vertical-align: middle;\n",
       "    }\n",
       "\n",
       "    .dataframe tbody tr th {\n",
       "        vertical-align: top;\n",
       "    }\n",
       "\n",
       "    .dataframe thead th {\n",
       "        text-align: right;\n",
       "    }\n",
       "</style>\n",
       "<table border=\"1\" class=\"dataframe\">\n",
       "  <thead>\n",
       "    <tr style=\"text-align: right;\">\n",
       "      <th></th>\n",
       "      <th>run</th>\n",
       "      <th>title</th>\n",
       "      <th>kind</th>\n",
       "    </tr>\n",
       "  </thead>\n",
       "  <tbody>\n",
       "    <tr>\n",
       "      <th>0</th>\n",
       "      <td>0</td>\n",
       "      <td>MaloSilencio</td>\n",
       "      <td>0</td>\n",
       "    </tr>\n",
       "    <tr>\n",
       "      <th>1</th>\n",
       "      <td>1</td>\n",
       "      <td>MaloSilencio</td>\n",
       "      <td>0</td>\n",
       "    </tr>\n",
       "    <tr>\n",
       "      <th>2</th>\n",
       "      <td>2</td>\n",
       "      <td>MaloSilencio</td>\n",
       "      <td>0</td>\n",
       "    </tr>\n",
       "    <tr>\n",
       "      <th>3</th>\n",
       "      <td>3</td>\n",
       "      <td>MaloSilencio</td>\n",
       "      <td>0</td>\n",
       "    </tr>\n",
       "    <tr>\n",
       "      <th>4</th>\n",
       "      <td>4</td>\n",
       "      <td>MaloSilencio</td>\n",
       "      <td>0</td>\n",
       "    </tr>\n",
       "    <tr>\n",
       "      <th>...</th>\n",
       "      <td>...</td>\n",
       "      <td>...</td>\n",
       "      <td>...</td>\n",
       "    </tr>\n",
       "    <tr>\n",
       "      <th>95</th>\n",
       "      <td>95</td>\n",
       "      <td>MaloSilencio</td>\n",
       "      <td>0</td>\n",
       "    </tr>\n",
       "    <tr>\n",
       "      <th>96</th>\n",
       "      <td>96</td>\n",
       "      <td>MaloSilencio</td>\n",
       "      <td>0</td>\n",
       "    </tr>\n",
       "    <tr>\n",
       "      <th>97</th>\n",
       "      <td>97</td>\n",
       "      <td>MaloSilencio</td>\n",
       "      <td>0</td>\n",
       "    </tr>\n",
       "    <tr>\n",
       "      <th>98</th>\n",
       "      <td>98</td>\n",
       "      <td>MaloSilencio</td>\n",
       "      <td>0</td>\n",
       "    </tr>\n",
       "    <tr>\n",
       "      <th>99</th>\n",
       "      <td>99</td>\n",
       "      <td>MaloSilencio</td>\n",
       "      <td>0</td>\n",
       "    </tr>\n",
       "  </tbody>\n",
       "</table>\n",
       "<p>100 rows × 3 columns</p>\n",
       "</div>"
      ],
      "text/plain": [
       "    run         title kind\n",
       "0     0  MaloSilencio    0\n",
       "1     1  MaloSilencio    0\n",
       "2     2  MaloSilencio    0\n",
       "3     3  MaloSilencio    0\n",
       "4     4  MaloSilencio    0\n",
       "..  ...           ...  ...\n",
       "95   95  MaloSilencio    0\n",
       "96   96  MaloSilencio    0\n",
       "97   97  MaloSilencio    0\n",
       "98   98  MaloSilencio    0\n",
       "99   99  MaloSilencio    0\n",
       "\n",
       "[100 rows x 3 columns]"
      ]
     },
     "execution_count": 16,
     "metadata": {},
     "output_type": "execute_result"
    }
   ],
   "source": [
    "df['endings']"
   ]
  },
  {
   "cell_type": "code",
   "execution_count": null,
   "metadata": {
    "collapsed": false,
    "pycharm": {
     "name": "#%%\n"
    }
   },
   "outputs": [],
   "source": [
    "df['decisions'].groupby(['num']).mean()\n",
    "# diferencia entre estos valores y los otros nos dice si tiene predilección por label o no"
   ]
  },
  {
   "cell_type": "code",
   "execution_count": null,
   "metadata": {},
   "outputs": [],
   "source": [
    "df['decisions'].groupby(['num']).mean()['choice'].plot()"
   ]
  },
  {
   "cell_type": "code",
   "execution_count": null,
   "metadata": {},
   "outputs": [],
   "source": [
    "risk = df['decisions'].groupby(['num']).mean()\n",
    "risk['m'] = 1"
   ]
  },
  {
   "cell_type": "code",
   "execution_count": null,
   "metadata": {},
   "outputs": [],
   "source": []
  },
  {
   "cell_type": "markdown",
   "metadata": {},
   "source": [
    "### Risky But Not So Much Agent"
   ]
  },
  {
   "cell_type": "code",
   "execution_count": null,
   "metadata": {},
   "outputs": [],
   "source": [
    "df = run(get_risky_ntm_agent, simulator, n_runs)"
   ]
  },
  {
   "cell_type": "code",
   "execution_count": null,
   "metadata": {
    "collapsed": false,
    "pycharm": {
     "name": "#%%\n"
    }
   },
   "outputs": [],
   "source": [
    "df['endings']"
   ]
  },
  {
   "cell_type": "code",
   "execution_count": null,
   "metadata": {
    "collapsed": false,
    "pycharm": {
     "name": "#%%\n"
    }
   },
   "outputs": [],
   "source": [
    "df['decisions'].groupby(['num']).mean()\n",
    "# diferencia entre estos valores y los otros nos dice si tiene predilección por label o no"
   ]
  },
  {
   "cell_type": "code",
   "execution_count": null,
   "metadata": {},
   "outputs": [],
   "source": [
    "df['decisions'].groupby(['num']).mean()['choice'].plot()"
   ]
  },
  {
   "cell_type": "code",
   "execution_count": null,
   "metadata": {},
   "outputs": [],
   "source": [
    "risk_ntm = df['decisions'].groupby(['num']).mean()\n",
    "risk_ntm['m'] = 1"
   ]
  },
  {
   "cell_type": "markdown",
   "metadata": {},
   "source": [
    "## Data Analysis"
   ]
  },
  {
   "cell_type": "code",
   "execution_count": null,
   "metadata": {},
   "outputs": [],
   "source": [
    "from sklearn.tree import DecisionTreeClassifier\n",
    "from sklearn.linear_model import LogisticRegression\n",
    "from sklearn.model_selection import train_test_split"
   ]
  },
  {
   "cell_type": "code",
   "execution_count": null,
   "metadata": {},
   "outputs": [],
   "source": [
    "df = pd.concat([rand,risk])\n",
    "df = df.reset_index()\n",
    "df = df.dropna()\n",
    "\n",
    "df_train,df_test = train_test_split(df, test_size=0.3)"
   ]
  },
  {
   "cell_type": "code",
   "execution_count": null,
   "metadata": {},
   "outputs": [],
   "source": [
    "dt = DecisionTreeClassifier()\n",
    "dt.fit(df_train.loc[:,df.columns!='m'], df_train['m'])\n",
    "\n",
    "lr = LogisticRegression()\n",
    "lr.fit(df_train.loc[:,df.columns!='m'], df_train['m'])"
   ]
  },
  {
   "cell_type": "code",
   "execution_count": null,
   "metadata": {},
   "outputs": [],
   "source": [
    "dt.score(df_test.loc[:,df.columns!='m'], df_test['m'])"
   ]
  },
  {
   "cell_type": "code",
   "execution_count": null,
   "metadata": {},
   "outputs": [],
   "source": [
    "lr.score(df_test.loc[:,df.columns!='m'], df_test['m'])"
   ]
  }
 ],
 "metadata": {
  "interpreter": {
   "hash": "cb0a178ae3a89bc5606c5ff8111f45e24760a82322ae520972dc26f0653faace"
  },
  "kernelspec": {
   "display_name": "Python 3.9.5 ('venv': venv)",
   "language": "python",
   "name": "python3"
  },
  "language_info": {
   "codemirror_mode": {
    "name": "ipython",
    "version": 3
   },
   "file_extension": ".py",
   "mimetype": "text/x-python",
   "name": "python",
   "nbconvert_exporter": "python",
   "pygments_lexer": "ipython3",
   "version": "3.9.5"
  },
  "orig_nbformat": 4
 },
 "nbformat": 4,
 "nbformat_minor": 2
}
