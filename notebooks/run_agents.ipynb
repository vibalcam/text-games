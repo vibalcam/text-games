{
 "cells": [
  {
   "cell_type": "code",
   "execution_count": 1,
   "metadata": {},
   "outputs": [],
   "source": [
    "import sys\n",
    "sys.path.append('../')"
   ]
  },
  {
   "cell_type": "code",
   "execution_count": 2,
   "metadata": {},
   "outputs": [
    {
     "ename": "ImportError",
     "evalue": "cannot import name 'load_pickle' from partially initialized module 'models.utils' (most likely due to a circular import) (c:\\Users\\vibal\\PycharmProjects\\text-games\\notebooks\\..\\models\\utils.py)",
     "output_type": "error",
     "traceback": [
      "\u001b[1;31m---------------------------------------------------------------------------\u001b[0m",
      "\u001b[1;31mImportError\u001b[0m                               Traceback (most recent call last)",
      "\u001b[1;32mc:\\Users\\vibal\\PycharmProjects\\text-games\\notebooks\\run_agents.ipynb Cell 2'\u001b[0m in \u001b[0;36m<module>\u001b[1;34m\u001b[0m\n\u001b[1;32m----> <a href='vscode-notebook-cell:/c%3A/Users/vibal/PycharmProjects/text-games/notebooks/run_agents.ipynb#ch0000001?line=0'>1</a>\u001b[0m \u001b[39mfrom\u001b[39;00m \u001b[39mgame\u001b[39;00m\u001b[39m.\u001b[39;00m\u001b[39magent\u001b[39;00m \u001b[39mimport\u001b[39;00m RandomAgent\n\u001b[0;32m      <a href='vscode-notebook-cell:/c%3A/Users/vibal/PycharmProjects/text-games/notebooks/run_agents.ipynb#ch0000001?line=1'>2</a>\u001b[0m \u001b[39mfrom\u001b[39;00m \u001b[39mgame\u001b[39;00m\u001b[39m.\u001b[39;00m\u001b[39msimulator\u001b[39;00m \u001b[39mimport\u001b[39;00m YarnSimulator\n\u001b[0;32m      <a href='vscode-notebook-cell:/c%3A/Users/vibal/PycharmProjects/text-games/notebooks/run_agents.ipynb#ch0000001?line=2'>3</a>\u001b[0m \u001b[39mfrom\u001b[39;00m \u001b[39mpathlib\u001b[39;00m \u001b[39mimport\u001b[39;00m Path\n",
      "File \u001b[1;32mc:\\Users\\vibal\\PycharmProjects\\text-games\\notebooks\\..\\game\\agent.py:8\u001b[0m, in \u001b[0;36m<module>\u001b[1;34m\u001b[0m\n\u001b[0;32m      <a href='file:///c%3A/Users/vibal/PycharmProjects/text-games/notebooks/../game/agent.py?line=3'>4</a>\u001b[0m \u001b[39mfrom\u001b[39;00m \u001b[39mtyping\u001b[39;00m \u001b[39mimport\u001b[39;00m Sequence, TypeVar, List\n\u001b[0;32m      <a href='file:///c%3A/Users/vibal/PycharmProjects/text-games/notebooks/../game/agent.py?line=5'>6</a>\u001b[0m \u001b[39mimport\u001b[39;00m \u001b[39mtorch\u001b[39;00m\n\u001b[1;32m----> <a href='file:///c%3A/Users/vibal/PycharmProjects/text-games/notebooks/../game/agent.py?line=7'>8</a>\u001b[0m \u001b[39mfrom\u001b[39;00m \u001b[39mmodels\u001b[39;00m\u001b[39m.\u001b[39;00m\u001b[39mmodels\u001b[39;00m \u001b[39mimport\u001b[39;00m load_model\n\u001b[0;32m     <a href='file:///c%3A/Users/vibal/PycharmProjects/text-games/notebooks/../game/agent.py?line=9'>10</a>\u001b[0m T \u001b[39m=\u001b[39m TypeVar(\u001b[39m'\u001b[39m\u001b[39mT\u001b[39m\u001b[39m'\u001b[39m)\n\u001b[0;32m     <a href='file:///c%3A/Users/vibal/PycharmProjects/text-games/notebooks/../game/agent.py?line=12'>13</a>\u001b[0m \u001b[39mclass\u001b[39;00m \u001b[39mAgent\u001b[39;00m(ABC):\n",
      "File \u001b[1;32mc:\\Users\\vibal\\PycharmProjects\\text-games\\notebooks\\..\\models\\models.py:7\u001b[0m, in \u001b[0;36m<module>\u001b[1;34m\u001b[0m\n\u001b[0;32m      <a href='file:///c%3A/Users/vibal/PycharmProjects/text-games/notebooks/../models/models.py?line=3'>4</a>\u001b[0m \u001b[39mimport\u001b[39;00m \u001b[39mtorch\u001b[39;00m\n\u001b[0;32m      <a href='file:///c%3A/Users/vibal/PycharmProjects/text-games/notebooks/../models/models.py?line=4'>5</a>\u001b[0m \u001b[39mfrom\u001b[39;00m \u001b[39mtransformers\u001b[39;00m \u001b[39mimport\u001b[39;00m BertConfig, BertTokenizerFast, BertModel\n\u001b[1;32m----> <a href='file:///c%3A/Users/vibal/PycharmProjects/text-games/notebooks/../models/models.py?line=6'>7</a>\u001b[0m \u001b[39mfrom\u001b[39;00m \u001b[39mmodels\u001b[39;00m\u001b[39m.\u001b[39;00m\u001b[39mutils\u001b[39;00m \u001b[39mimport\u001b[39;00m load_dict, save_dict\n\u001b[0;32m     <a href='file:///c%3A/Users/vibal/PycharmProjects/text-games/notebooks/../models/models.py?line=9'>10</a>\u001b[0m \u001b[39mclass\u001b[39;00m \u001b[39mStateActionModel\u001b[39;00m(torch\u001b[39m.\u001b[39mnn\u001b[39m.\u001b[39mModule):\n\u001b[0;32m     <a href='file:///c%3A/Users/vibal/PycharmProjects/text-games/notebooks/../models/models.py?line=10'>11</a>\u001b[0m     \u001b[39m\"\"\"\u001b[39;00m\n\u001b[0;32m     <a href='file:///c%3A/Users/vibal/PycharmProjects/text-games/notebooks/../models/models.py?line=11'>12</a>\u001b[0m \u001b[39m    Model to be used to make decisions given a state and action\u001b[39;00m\n\u001b[0;32m     <a href='file:///c%3A/Users/vibal/PycharmProjects/text-games/notebooks/../models/models.py?line=12'>13</a>\u001b[0m \u001b[39m    \"\"\"\u001b[39;00m\n",
      "File \u001b[1;32mc:\\Users\\vibal\\PycharmProjects\\text-games\\notebooks\\..\\models\\utils.py:14\u001b[0m, in \u001b[0;36m<module>\u001b[1;34m\u001b[0m\n\u001b[0;32m     <a href='file:///c%3A/Users/vibal/PycharmProjects/text-games/notebooks/../models/utils.py?line=10'>11</a>\u001b[0m \u001b[39mfrom\u001b[39;00m \u001b[39msklearn\u001b[39;00m\u001b[39m.\u001b[39;00m\u001b[39mmetrics\u001b[39;00m \u001b[39mimport\u001b[39;00m matthews_corrcoef, mean_squared_error\n\u001b[0;32m     <a href='file:///c%3A/Users/vibal/PycharmProjects/text-games/notebooks/../models/utils.py?line=11'>12</a>\u001b[0m \u001b[39mimport\u001b[39;00m \u001b[39mnetworkx\u001b[39;00m \u001b[39mas\u001b[39;00m \u001b[39mnx\u001b[39;00m\n\u001b[1;32m---> <a href='file:///c%3A/Users/vibal/PycharmProjects/text-games/notebooks/../models/utils.py?line=13'>14</a>\u001b[0m \u001b[39mfrom\u001b[39;00m \u001b[39mgame\u001b[39;00m\u001b[39m.\u001b[39;00m\u001b[39msimulator\u001b[39;00m \u001b[39mimport\u001b[39;00m YarnSimulator, Simulator\n\u001b[0;32m     <a href='file:///c%3A/Users/vibal/PycharmProjects/text-games/notebooks/../models/utils.py?line=16'>17</a>\u001b[0m \u001b[39m# Labels for the actions\u001b[39;00m\n\u001b[0;32m     <a href='file:///c%3A/Users/vibal/PycharmProjects/text-games/notebooks/../models/utils.py?line=17'>18</a>\u001b[0m LABELS \u001b[39m=\u001b[39m [\u001b[39m'\u001b[39m\u001b[39mbad\u001b[39m\u001b[39m'\u001b[39m, \u001b[39m'\u001b[39m\u001b[39mgood\u001b[39m\u001b[39m'\u001b[39m]\n",
      "File \u001b[1;32mc:\\Users\\vibal\\PycharmProjects\\text-games\\notebooks\\..\\game\\simulator.py:13\u001b[0m, in \u001b[0;36m<module>\u001b[1;34m\u001b[0m\n\u001b[0;32m     <a href='file:///c%3A/Users/vibal/PycharmProjects/text-games/notebooks/../game/simulator.py?line=10'>11</a>\u001b[0m \u001b[39mimport\u001b[39;00m \u001b[39mnetworkx\u001b[39;00m \u001b[39mas\u001b[39;00m \u001b[39mnx\u001b[39;00m\n\u001b[0;32m     <a href='file:///c%3A/Users/vibal/PycharmProjects/text-games/notebooks/../game/simulator.py?line=11'>12</a>\u001b[0m \u001b[39mfrom\u001b[39;00m \u001b[39mdominate\u001b[39;00m\u001b[39m.\u001b[39;00m\u001b[39mtags\u001b[39;00m \u001b[39mimport\u001b[39;00m \u001b[39m*\u001b[39m\n\u001b[1;32m---> <a href='file:///c%3A/Users/vibal/PycharmProjects/text-games/notebooks/../game/simulator.py?line=12'>13</a>\u001b[0m \u001b[39mfrom\u001b[39;00m \u001b[39mmodels\u001b[39;00m\u001b[39m.\u001b[39;00m\u001b[39mutils\u001b[39;00m \u001b[39mimport\u001b[39;00m load_pickle, save_pickle\n\u001b[0;32m     <a href='file:///c%3A/Users/vibal/PycharmProjects/text-games/notebooks/../game/simulator.py?line=14'>15</a>\u001b[0m \u001b[39mfrom\u001b[39;00m \u001b[39myarnPygame\u001b[39;00m\u001b[39m.\u001b[39;00m\u001b[39msrc\u001b[39;00m\u001b[39m.\u001b[39;00m\u001b[39myarn\u001b[39;00m \u001b[39mimport\u001b[39;00m YarnController\n\u001b[0;32m     <a href='file:///c%3A/Users/vibal/PycharmProjects/text-games/notebooks/../game/simulator.py?line=17'>18</a>\u001b[0m \u001b[39mclass\u001b[39;00m \u001b[39mSimulator\u001b[39;00m(ABC, EnforceOverrides):\n",
      "\u001b[1;31mImportError\u001b[0m: cannot import name 'load_pickle' from partially initialized module 'models.utils' (most likely due to a circular import) (c:\\Users\\vibal\\PycharmProjects\\text-games\\notebooks\\..\\models\\utils.py)"
     ]
    }
   ],
   "source": [
    "from game.agent import RandomAgent\n",
    "from game.simulator import YarnSimulator\n",
    "from pathlib import Path\n",
    "from tqdm.auto import trange\n",
    "import pandas as pd\n",
    "# import itertools\n",
    "import mpire"
   ]
  },
  {
   "cell_type": "code",
   "execution_count": null,
   "metadata": {},
   "outputs": [],
   "source": [
    "n_runs = int(1e6)\n",
    "seed = None"
   ]
  },
  {
   "cell_type": "code",
   "execution_count": null,
   "metadata": {},
   "outputs": [],
   "source": [
    "graph = YarnSimulator(text_unk_macro=\"\", yarn='../yarnScripts').get_decision_graph()[0]"
   ]
  },
  {
   "cell_type": "code",
   "execution_count": null,
   "metadata": {},
   "outputs": [],
   "source": []
  },
  {
   "cell_type": "code",
   "execution_count": null,
   "metadata": {},
   "outputs": [],
   "source": []
  },
  {
   "cell_type": "code",
   "execution_count": null,
   "metadata": {},
   "outputs": [],
   "source": []
  },
  {
   "cell_type": "code",
   "execution_count": null,
   "metadata": {},
   "outputs": [],
   "source": [
    "endings = []\n",
    "\n",
    "def init_run(worker_state):\n",
    "    # Create simulator\n",
    "    worker_state['simulator'] = YarnSimulator(text_unk_macro=\"\", yarn='../yarnScripts')\n",
    "    # worker_state['endings'] = []\n",
    "    pass\n",
    "\n",
    "def run_game(worker_state, run):\n",
    "    simulator = worker_state['simulator']\n",
    "    simulator.restart()\n",
    "    # simulator = YarnSimulator(text_unk_macro=\"\", yarn='../yarnScripts')\n",
    "    agent = RandomAgent(seed=seed)\n",
    "    \n",
    "    final = None\n",
    "    # run simulator\n",
    "    state, choices, extras = simulator.read()\n",
    "    while not simulator.is_finished():\n",
    "        # print(extras)\n",
    "        # print(simulator.controller.state.attr)\n",
    "\n",
    "        if (tmp := simulator.controller.state.attr.get('final', None)) is not None:\n",
    "            final = (simulator.controller.state.title, tmp)\n",
    "\n",
    "        choice = agent.act(state, choices)\n",
    "        state, choices, extras = simulator.transition(choice)\n",
    "    \n",
    "    # worker_state['endings'] = worker_state['endings'].append(final)\n",
    "    # worker_state['endings'].append(final)\n",
    "    endings.append(final)\n",
    "    return final\n",
    "\n",
    "def exit_func(worker_state):\n",
    "    # Return the list\n",
    "    # return worker_state['endings']\n",
    "    pass\n",
    "\n",
    "with mpire.WorkerPool(n_jobs=None, use_worker_state=True, start_method=\"threading\") as pool:\n",
    "    pool.map(run_game, range(n_runs), worker_init=init_run)#, worker_exit=exit_func)\n",
    "    # print(pool.get_exit_results())\n",
    "    # endings = list(itertools.chain.from_iterable(pool.get_exit_results()))\n",
    "    df = pd.DataFrame(data=endings, columns=['title', 'kind'])\n",
    "    print(df)\n",
    "    # df.write_excel('results.xlsx')\n"
   ]
  },
  {
   "cell_type": "markdown",
   "metadata": {},
   "source": [
    "## Random Agent"
   ]
  },
  {
   "cell_type": "code",
   "execution_count": null,
   "metadata": {},
   "outputs": [],
   "source": [
    "simulator = YarnSimulator(text_unk_macro=\"\", yarn='../yarnScripts')\n",
    "\n",
    "endings = []\n",
    "for k in trange(int(n_runs)):\n",
    "    # reset simulator and agent\n",
    "    simulator.restart()\n",
    "    agent = RandomAgent(seed=seed)\n",
    "    # agent = TorchModelAgent(\n",
    "    #     model_path=Path('../tmp/adamw_max_val_acc_8_False_125,[20],[20]_0.001'),\n",
    "    #     rand=0,\n",
    "    #     use_cpu=False,\n",
    "    #     seed=seed,\n",
    "    # )\n",
    "\n",
    "    final = None\n",
    "    # run simulator\n",
    "    state, choices, extras = simulator.read()\n",
    "    while not simulator.is_finished():\n",
    "        # print(extras)\n",
    "        # print(simulator.controller.state.attr)\n",
    "\n",
    "        if (tmp := simulator.controller.state.attr.get('final', None)) is not None:\n",
    "            final = (simulator.controller.state.title, tmp)\n",
    "\n",
    "        choice = agent.act(state, choices)\n",
    "        state, choices, extras = simulator.transition(choice)\n",
    "    \n",
    "    endings.append(final)\n",
    "\n",
    "df = pd.DataFrame(data=endings, columns=['title', 'kind'])\n",
    "        \n",
    "print(df)\n"
   ]
  },
  {
   "cell_type": "code",
   "execution_count": null,
   "metadata": {},
   "outputs": [],
   "source": [
    "df.to_csv('endings.csv')"
   ]
  },
  {
   "cell_type": "code",
   "execution_count": null,
   "metadata": {},
   "outputs": [],
   "source": []
  },
  {
   "cell_type": "code",
   "execution_count": null,
   "metadata": {},
   "outputs": [],
   "source": [
    "df['kind'].value_counts(normalize=True)"
   ]
  },
  {
   "cell_type": "code",
   "execution_count": null,
   "metadata": {},
   "outputs": [],
   "source": []
  },
  {
   "cell_type": "code",
   "execution_count": null,
   "metadata": {},
   "outputs": [],
   "source": [
    "def init_func(worker_state):\n",
    "    # Initialize a counter for each worker\n",
    "    # worker_state['count_even'] = 0\n",
    "    pass\n",
    "\n",
    "def square_and_count_even(worker_state, x):\n",
    "    # Count number of even numbers and return the square\n",
    "    # if x % 2 == 0:\n",
    "    #     worker_state['count_even'] += 1\n",
    "    # return x * x\n",
    "    pass\n",
    "\n",
    "def exit_func(worker_state):\n",
    "    # Return the counter\n",
    "    # return worker_state['count_even']\n",
    "    pass\n",
    "\n",
    "with mpire.WorkerPool(n_jobs=4, use_worker_state=True, start_method=\"spawn\") as pool:\n",
    "    pool.map(square_and_count_even, range(100), worker_init=init_func, worker_exit=exit_func, progress_bar=True)\n",
    "    print(pool.get_exit_results())  # Output, e.g.: [13, 13, 12, 12]\n",
    "    print(sum(pool.get_exit_results()))  # Output: 50\n"
   ]
  },
  {
   "cell_type": "code",
   "execution_count": null,
   "metadata": {},
   "outputs": [],
   "source": []
  },
  {
   "cell_type": "markdown",
   "metadata": {},
   "source": [
    "## Model Agent"
   ]
  },
  {
   "cell_type": "code",
   "execution_count": 10,
   "metadata": {},
   "outputs": [],
   "source": [
    "graph = YarnSimulator(text_unk_macro=\"\", yarn='../yarnScripts').get_decision_graph()[0]"
   ]
  },
  {
   "cell_type": "code",
   "execution_count": 27,
   "metadata": {},
   "outputs": [
    {
     "data": {
      "text/plain": [
       "OutEdgeDataView([('Start$sub78_{}', \"Start$con$sub76_{'jugarTarde'= True}\", {'action': 'Seguir jugando', 'extras': {'r': '0'}}), ('Start$sub78_{}', \"Start$con$sub81_{'jugarTarde'= False}\", {'action': 'Ir a dormir', 'extras': {'r': '1'}})])"
      ]
     },
     "execution_count": 27,
     "metadata": {},
     "output_type": "execute_result"
    }
   ],
   "source": [
    "graph.out_edges('Start$sub78_{}', data=True)"
   ]
  },
  {
   "cell_type": "code",
   "execution_count": 36,
   "metadata": {},
   "outputs": [
    {
     "data": {
      "text/plain": [
       "AtlasView({\"Start$con$sub76_{'jugarTarde'= True}\": {'action': 'Seguir jugando', 'extras': {'r': '0'}}, \"Start$con$sub81_{'jugarTarde'= False}\": {'action': 'Ir a dormir', 'extras': {'r': '1'}}})"
      ]
     },
     "execution_count": 36,
     "metadata": {},
     "output_type": "execute_result"
    }
   ],
   "source": [
    "graph['Start$sub78_{}']"
   ]
  },
  {
   "cell_type": "code",
   "execution_count": 39,
   "metadata": {},
   "outputs": [
    {
     "data": {
      "text/plain": [
       "{'Seguir jugando': {'node': \"Start$con$sub76_{'jugarTarde'= True}\",\n",
       "  'extras': {'r': '0'}},\n",
       " 'Ir a dormir': {'node': \"Start$con$sub81_{'jugarTarde'= False}\",\n",
       "  'extras': {'r': '1'}}}"
      ]
     },
     "execution_count": 39,
     "metadata": {},
     "output_type": "execute_result"
    }
   ],
   "source": [
    "# {v:k for k,v in graph['Start$sub78_{}'].items()}\n",
    "\n",
    "{v['action']:{'node':k, 'extras':v['extras']} for k,v in graph['Start$sub78_{}'].items()}"
   ]
  },
  {
   "cell_type": "code",
   "execution_count": 30,
   "metadata": {},
   "outputs": [
    {
     "data": {
      "text/plain": [
       "2"
      ]
     },
     "execution_count": 30,
     "metadata": {},
     "output_type": "execute_result"
    }
   ],
   "source": [
    "graph.out_degree['Start']"
   ]
  },
  {
   "cell_type": "code",
   "execution_count": 20,
   "metadata": {},
   "outputs": [
    {
     "data": {
      "text/plain": [
       "{'state': <yarnPygame.src.yarn.controller.YarnState at 0x24cdd5340a0>,\n",
       " 'text': ' \\n  \\nUser:...\\n \\n???: ...cumpleaños feliz...\\n???: ...cumpleaños feliz...\\n???: ...te deseamos todos...\\n???: ...¡Cumpleaños feliz!\\n \\n???: ¡Rápido, sopla las velas!\\n \\n???: No te olvides de pedir un deseo\\n \\n// DIBUJO VELAS APAGADAS\\n \\n \\n \\n \\nMamá: Rápido, rápido, abre tu regalo.\\n \\nPapá: Tu madre y yo hemos preparado algo muy especial.\\n \\n// \\nPapá: Sabemos que el cambio de ciudad ha sido muy duro para ti.\\nPapá: Sobre todo en el colegio y teniendo que hacer nuevos amigos...\\n \\n//\\nMamá: Ya sabes [name] que tu padre y yo sentimos lo de la mudanza\\nMamá: Pero no teníamos otra opción.\\n \\nUser: Lo entiendo perfectamente.\\nUser: Mamá tu nuevo trabajo es muchísimo mejor que el anterior.\\nUser: Además, ¡¿habéis visto esta casa?!\\nUser: ¡Mi nuevo cuarto es enorme!\\n \\n// \\nPapá: Cómo no, sólo piensas en el cuarto...\\n\\nUser: Y mi nuevo colegio está bastante bien.\\nUser: La gente es muy maja y los profesores me están ayudando mucho.\\nUser: Estoy bien, de verdad.\\n \\n// \\nMamá: Me alegro mucho, [name].\\n \\n// \\nMamá: Aun así, queremos recompensarte por tu duro trabajo.\\n \\nPapá: Vamos, ¡Ábrelo, ábrelo!\\n \\n// REGALO EN LA MESA\\n// ORDENADOR EN LA MESA\\n \\nUser: ¡¿UN PORTÁTIL?!\\n \\nMamá: ¡Sorpresa!\\n \\nUser: Pero, pero...\\n \\nPapá: Es el último modelo. Ya eres lo suficiente mayor como para que tengas el tuyo propio\\nPapá: Ahora podrás hacer todos tus deberes sin tener que usar el nuestro.\\n \\n// \\nPapá: Pero no es un juguete.\\nPapá: Quiero que sepas que confiamos plenamente en ti y sabemos que lo usarás de manera responsable\\nPapá: En el colegio ya te habrán enseñado cómo usarlo pero, aun así...\\n \\n// \\nMamá: Lo que tu padre te quiere decir es que no vamos a estar vigilándote.\\nMamá: Estos últimos meses nos has demostrado lo responsable que eres y sabemos que no vas a tener ningún problema\\nMamá: De todas formas, ten mucho cuidado\\n '}"
      ]
     },
     "execution_count": 20,
     "metadata": {},
     "output_type": "execute_result"
    }
   ],
   "source": [
    "graph.nodes(data=True)['Start']"
   ]
  }
 ],
 "metadata": {
  "interpreter": {
   "hash": "30a9296f74094b00332d5d787bc4db866c51beed76e8f2587c2dc5f3774742e1"
  },
  "kernelspec": {
   "display_name": "Python 3.9.7 ('venv': venv)",
   "language": "python",
   "name": "python3"
  },
  "language_info": {
   "codemirror_mode": {
    "name": "ipython",
    "version": 3
   },
   "file_extension": ".py",
   "mimetype": "text/x-python",
   "name": "python",
   "nbconvert_exporter": "python",
   "pygments_lexer": "ipython3",
   "version": "3.9.5"
  },
  "orig_nbformat": 4
 },
 "nbformat": 4,
 "nbformat_minor": 2
}
