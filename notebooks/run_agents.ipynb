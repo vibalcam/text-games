{
 "cells": [
  {
   "cell_type": "code",
   "execution_count": null,
   "metadata": {},
   "outputs": [],
   "source": [
    "import sys\n",
    "sys.path.append('../')"
   ]
  },
  {
   "cell_type": "code",
   "execution_count": null,
   "metadata": {},
   "outputs": [],
   "source": [
    "from game.agent import RandomAgent\n",
    "from game.simulator import YarnSimulator\n",
    "from pathlib import Path\n",
    "from tqdm.auto import trange\n",
    "import pandas as pd\n",
    "# import itertools\n",
    "import mpire"
   ]
  },
  {
   "cell_type": "code",
   "execution_count": null,
   "metadata": {},
   "outputs": [],
   "source": [
    "n_runs = int(1e6)\n",
    "seed = None"
   ]
  },
  {
   "cell_type": "code",
   "execution_count": null,
   "metadata": {},
   "outputs": [],
   "source": [
    "graph = YarnSimulator(text_unk_macro=\"\", yarn='../yarnScripts').get_decision_graph()[0]"
   ]
  },
  {
   "cell_type": "code",
   "execution_count": null,
   "metadata": {},
   "outputs": [],
   "source": []
  },
  {
   "cell_type": "code",
   "execution_count": null,
   "metadata": {},
   "outputs": [],
   "source": []
  },
  {
   "cell_type": "code",
   "execution_count": null,
   "metadata": {},
   "outputs": [],
   "source": []
  },
  {
   "cell_type": "code",
   "execution_count": null,
   "metadata": {},
   "outputs": [],
   "source": [
    "endings = []\n",
    "\n",
    "def init_run(worker_state):\n",
    "    # Create simulator\n",
    "    worker_state['simulator'] = YarnSimulator(text_unk_macro=\"\", yarn='../yarnScripts')\n",
    "    # worker_state['endings'] = []\n",
    "    pass\n",
    "\n",
    "def run_game(worker_state, run):\n",
    "    simulator = worker_state['simulator']\n",
    "    simulator.restart()\n",
    "    # simulator = YarnSimulator(text_unk_macro=\"\", yarn='../yarnScripts')\n",
    "    agent = RandomAgent(seed=seed)\n",
    "    \n",
    "    final = None\n",
    "    # run simulator\n",
    "    state, choices, extras = simulator.read()\n",
    "    while not simulator.is_finished():\n",
    "        # print(extras)\n",
    "        # print(simulator.controller.state.attr)\n",
    "\n",
    "        if (tmp := simulator.controller.state.attr.get('final', None)) is not None:\n",
    "            final = (simulator.controller.state.title, tmp)\n",
    "\n",
    "        choice = agent.act(state, choices)\n",
    "        state, choices, extras = simulator.transition(choice)\n",
    "    \n",
    "    # worker_state['endings'] = worker_state['endings'].append(final)\n",
    "    # worker_state['endings'].append(final)\n",
    "    endings.append(final)\n",
    "    return final\n",
    "\n",
    "def exit_func(worker_state):\n",
    "    # Return the list\n",
    "    # return worker_state['endings']\n",
    "    pass\n",
    "\n",
    "with mpire.WorkerPool(n_jobs=None, use_worker_state=True, start_method=\"threading\") as pool:\n",
    "    pool.map(run_game, range(n_runs), worker_init=init_run)#, worker_exit=exit_func)\n",
    "    # print(pool.get_exit_results())\n",
    "    # endings = list(itertools.chain.from_iterable(pool.get_exit_results()))\n",
    "    df = pd.DataFrame(data=endings, columns=['title', 'kind'])\n",
    "    print(df)\n",
    "    # df.write_excel('results.xlsx')\n"
   ]
  },
  {
   "cell_type": "markdown",
   "metadata": {},
   "source": [
    "## Random Agent"
   ]
  },
  {
   "cell_type": "code",
   "execution_count": null,
   "metadata": {},
   "outputs": [],
   "source": [
    "simulator = YarnSimulator(text_unk_macro=\"\", yarn='../yarnScripts')\n",
    "\n",
    "endings = []\n",
    "for k in trange(int(n_runs)):\n",
    "    # reset simulator and agent\n",
    "    simulator.restart()\n",
    "    agent = RandomAgent(seed=seed)\n",
    "    # agent = TorchModelAgent(\n",
    "    #     model_path=Path('../tmp/adamw_max_val_acc_8_False_125,[20],[20]_0.001'),\n",
    "    #     rand=0,\n",
    "    #     use_cpu=False,\n",
    "    #     seed=seed,\n",
    "    # )\n",
    "\n",
    "    final = None\n",
    "    # run simulator\n",
    "    state, choices, extras = simulator.read()\n",
    "    while not simulator.is_finished():\n",
    "        # print(extras)\n",
    "        # print(simulator.controller.state.attr)\n",
    "\n",
    "        if (tmp := simulator.controller.state.attr.get('final', None)) is not None:\n",
    "            final = (simulator.controller.state.title, tmp)\n",
    "\n",
    "        choice = agent.act(state, choices)\n",
    "        state, choices, extras = simulator.transition(choice)\n",
    "    \n",
    "    endings.append(final)\n",
    "\n",
    "df = pd.DataFrame(data=endings, columns=['title', 'kind'])\n",
    "        \n",
    "print(df)\n"
   ]
  },
  {
   "cell_type": "code",
   "execution_count": null,
   "metadata": {},
   "outputs": [],
   "source": [
    "df.to_csv('endings.csv')"
   ]
  },
  {
   "cell_type": "code",
   "execution_count": null,
   "metadata": {},
   "outputs": [],
   "source": []
  },
  {
   "cell_type": "code",
   "execution_count": null,
   "metadata": {},
   "outputs": [],
   "source": [
    "df['kind'].value_counts(normalize=True)"
   ]
  },
  {
   "cell_type": "code",
   "execution_count": null,
   "metadata": {},
   "outputs": [],
   "source": []
  },
  {
   "cell_type": "code",
   "execution_count": null,
   "metadata": {},
   "outputs": [],
   "source": [
    "def init_func(worker_state):\n",
    "    # Initialize a counter for each worker\n",
    "    # worker_state['count_even'] = 0\n",
    "    pass\n",
    "\n",
    "def square_and_count_even(worker_state, x):\n",
    "    # Count number of even numbers and return the square\n",
    "    # if x % 2 == 0:\n",
    "    #     worker_state['count_even'] += 1\n",
    "    # return x * x\n",
    "    pass\n",
    "\n",
    "def exit_func(worker_state):\n",
    "    # Return the counter\n",
    "    # return worker_state['count_even']\n",
    "    pass\n",
    "\n",
    "with mpire.WorkerPool(n_jobs=4, use_worker_state=True, start_method=\"spawn\") as pool:\n",
    "    pool.map(square_and_count_even, range(100), worker_init=init_func, worker_exit=exit_func, progress_bar=True)\n",
    "    print(pool.get_exit_results())  # Output, e.g.: [13, 13, 12, 12]\n",
    "    print(sum(pool.get_exit_results()))  # Output: 50\n"
   ]
  },
  {
   "cell_type": "code",
   "execution_count": null,
   "metadata": {},
   "outputs": [],
   "source": []
  },
  {
   "cell_type": "markdown",
   "metadata": {},
   "source": [
    "## Model Agent"
   ]
  },
  {
   "cell_type": "code",
   "execution_count": null,
   "metadata": {},
   "outputs": [],
   "source": [
    "graph = YarnSimulator(text_unk_macro=\"\", yarn='../yarnScripts').get_decision_graph()[0]"
   ]
  },
  {
   "cell_type": "code",
   "execution_count": null,
   "metadata": {},
   "outputs": [],
   "source": [
    "graph.out_edges('Start$sub78_{}', data=True)"
   ]
  },
  {
   "cell_type": "code",
   "execution_count": null,
   "metadata": {},
   "outputs": [],
   "source": [
    "graph['Start$sub78_{}']"
   ]
  },
  {
   "cell_type": "code",
   "execution_count": null,
   "metadata": {},
   "outputs": [],
   "source": [
    "# {v:k for k,v in graph['Start$sub78_{}'].items()}\n",
    "\n",
    "{v['action']:{'node':k, 'extras':v['extras']} for k,v in graph['Start$sub78_{}'].items()}"
   ]
  },
  {
   "cell_type": "code",
   "execution_count": null,
   "metadata": {},
   "outputs": [],
   "source": [
    "graph.out_degree['Start']"
   ]
  },
  {
   "cell_type": "code",
   "execution_count": null,
   "metadata": {},
   "outputs": [],
   "source": [
    "graph.nodes(data=True)['Start']"
   ]
  }
 ],
 "metadata": {
  "interpreter": {
   "hash": "30a9296f74094b00332d5d787bc4db866c51beed76e8f2587c2dc5f3774742e1"
  },
  "kernelspec": {
   "display_name": "Python 3.9.7 ('venv': venv)",
   "language": "python",
   "name": "python3"
  },
  "language_info": {
   "codemirror_mode": {
    "name": "ipython",
    "version": 3
   },
   "file_extension": ".py",
   "mimetype": "text/x-python",
   "name": "python",
   "nbconvert_exporter": "python",
   "pygments_lexer": "ipython3",
   "version": "3.9.5"
  },
  "orig_nbformat": 4
 },
 "nbformat": 4,
 "nbformat_minor": 2
}
