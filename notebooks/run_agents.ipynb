{
 "cells": [
  {
   "cell_type": "code",
   "execution_count": 17,
   "metadata": {
    "pycharm": {
     "name": "#%%\n"
    }
   },
   "outputs": [],
   "source": [
    "import sys\n",
    "sys.path.append('../')"
   ]
  },
  {
   "cell_type": "code",
   "execution_count": 18,
   "metadata": {
    "collapsed": false,
    "pycharm": {
     "name": "#%%\n"
    }
   },
   "outputs": [],
   "source": [
    "import game.agent as ag\n",
    "from game.run import run\n",
    "from game.simulator import load_simulator_yarn, GraphSimulator\n",
    "from pathlib import Path\n",
    "from tqdm.auto import trange\n",
    "import pandas as pd\n",
    "# import mpire\n",
    "import torch"
   ]
  },
  {
   "cell_type": "code",
   "execution_count": 19,
   "metadata": {
    "collapsed": false,
    "pycharm": {
     "name": "#%%\n"
    }
   },
   "outputs": [],
   "source": [
    "n_runs = int(1e4)\n",
    "# n_runs = int(100)\n",
    "seed = None"
   ]
  },
  {
   "cell_type": "code",
   "execution_count": 20,
   "metadata": {
    "collapsed": false,
    "pycharm": {
     "name": "#%%\n"
    }
   },
   "outputs": [],
   "source": [
    "simulator = load_simulator_yarn('../yarnScripts', graph_file_sfx='_graph_transformed.pickle')"
   ]
  },
  {
   "cell_type": "code",
   "execution_count": 21,
   "metadata": {
    "collapsed": false,
    "pycharm": {
     "name": "#%%\n"
    }
   },
   "outputs": [],
   "source": [
    "# label_predictor=ag.TorchLabelPredictor(\n",
    "#             model_path=Path('./saved_bert/200_[20]_[30]_1_False_bert-base-multilingual-cased_0.001_adamw_8_max_val_mcc_False_False_100'),\n",
    "#             use_cpu=False,\n",
    "#         )\n",
    "\n",
    "def get_random_agent():\n",
    "    return ag.RandomAgent(None)\n",
    "\n",
    "# def get_r_agent():\n",
    "#     return ag.LabelDecisorAgent(\n",
    "#         label_predictor=ag.GraphLabelLoader(\n",
    "#             simulator=simulator,\n",
    "#         ),\n",
    "#         decision_maker=ag.RDecisionMaker(\n",
    "#             rand=0.4,\n",
    "#             seed=None,\n",
    "#         )\n",
    "#     )\n",
    "\n",
    "def get_risky_agent():\n",
    "    return ag.LabelDecisorAgent(\n",
    "        label_predictor=ag.GraphLabelLoader(\n",
    "            simulator=simulator,\n",
    "        ),\n",
    "        decision_maker=ag.BehavioralDecisionMaker(\n",
    "            weight_funcs=[\n",
    "                lambda x: x\n",
    "            ],\n",
    "            memory_steps=0,\n",
    "            seed=None,\n",
    "        )\n",
    "    )\n",
    "\n",
    "\n",
    "def get_risky_agent():\n",
    "    return ag.LabelDecisorAgent(\n",
    "        label_predictor=ag.GraphLabelLoader(\n",
    "            simulator=simulator,\n",
    "        ),\n",
    "        decision_maker=ag.BehavioralDecisionMaker(\n",
    "            weight_funcs=[\n",
    "                lambda x: x\n",
    "            ],\n",
    "            memory_steps=0,\n",
    "            seed=None,\n",
    "        )\n",
    "    )\n",
    "\n",
    "\n",
    "def get_risky_ntm_agent():\n",
    "    return ag.LabelDecisorAgent(\n",
    "        label_predictor=ag.GraphLabelLoader(\n",
    "            simulator=simulator,\n",
    "        ),\n",
    "        decision_maker=ag.BehavioralDecisionMaker(\n",
    "            weight_funcs=[\n",
    "                lambda x: 0.5*x,\n",
    "                lambda x: -0.3*x,\n",
    "                lambda x: -0.3*x,\n",
    "            ],\n",
    "            memory_steps=3,\n",
    "            seed=None,\n",
    "        )\n",
    "    )\n",
    "\n",
    "\n",
    "\n",
    "# def get_mc_agent():\n",
    "#     return ag.LabelDecisorAgent(\n",
    "#         label_predictor=ag.GraphLabelLoader(\n",
    "#             simulator=simulator,\n",
    "#         ),\n",
    "#         decisor=ag.MarkovChainAgent(\n",
    "#             rand=0.4,\n",
    "#             seed=None,\n",
    "#         )\n",
    "#     )"
   ]
  },
  {
   "cell_type": "markdown",
   "metadata": {
    "collapsed": false,
    "pycharm": {
     "name": "#%% md\n"
    }
   },
   "source": [
    "## Random Agent"
   ]
  },
  {
   "cell_type": "code",
   "execution_count": 22,
   "metadata": {
    "collapsed": false,
    "pycharm": {
     "name": "#%%\n"
    }
   },
   "outputs": [
    {
     "name": "stderr",
     "output_type": "stream",
     "text": [
      "100%|██████████| 10000/10000 [00:01<00:00, 5461.12it/s]\n"
     ]
    }
   ],
   "source": [
    "df = run(get_random_agent, simulator, n_runs)"
   ]
  },
  {
   "cell_type": "code",
   "execution_count": 23,
   "metadata": {
    "collapsed": false,
    "pycharm": {
     "name": "#%%\n"
    }
   },
   "outputs": [],
   "source": [
    "# df.to_csv('endings.csv')"
   ]
  },
  {
   "cell_type": "code",
   "execution_count": 24,
   "metadata": {
    "collapsed": false,
    "pycharm": {
     "name": "#%%\n"
    }
   },
   "outputs": [
    {
     "data": {
      "text/html": [
       "<div>\n",
       "<style scoped>\n",
       "    .dataframe tbody tr th:only-of-type {\n",
       "        vertical-align: middle;\n",
       "    }\n",
       "\n",
       "    .dataframe tbody tr th {\n",
       "        vertical-align: top;\n",
       "    }\n",
       "\n",
       "    .dataframe thead th {\n",
       "        text-align: right;\n",
       "    }\n",
       "</style>\n",
       "<table border=\"1\" class=\"dataframe\">\n",
       "  <thead>\n",
       "    <tr style=\"text-align: right;\">\n",
       "      <th></th>\n",
       "      <th>run</th>\n",
       "      <th>title</th>\n",
       "      <th>kind</th>\n",
       "    </tr>\n",
       "  </thead>\n",
       "  <tbody>\n",
       "    <tr>\n",
       "      <th>0</th>\n",
       "      <td>0</td>\n",
       "      <td>MaloAmigos</td>\n",
       "      <td>0</td>\n",
       "    </tr>\n",
       "    <tr>\n",
       "      <th>1</th>\n",
       "      <td>1</td>\n",
       "      <td>MaloAmigos</td>\n",
       "      <td>0</td>\n",
       "    </tr>\n",
       "    <tr>\n",
       "      <th>2</th>\n",
       "      <td>2</td>\n",
       "      <td>MaloAmigos</td>\n",
       "      <td>0</td>\n",
       "    </tr>\n",
       "    <tr>\n",
       "      <th>3</th>\n",
       "      <td>3</td>\n",
       "      <td>MaloPadres</td>\n",
       "      <td>0</td>\n",
       "    </tr>\n",
       "    <tr>\n",
       "      <th>4</th>\n",
       "      <td>4</td>\n",
       "      <td>MaloSilencio</td>\n",
       "      <td>0</td>\n",
       "    </tr>\n",
       "    <tr>\n",
       "      <th>...</th>\n",
       "      <td>...</td>\n",
       "      <td>...</td>\n",
       "      <td>...</td>\n",
       "    </tr>\n",
       "    <tr>\n",
       "      <th>9995</th>\n",
       "      <td>9995</td>\n",
       "      <td>MaloSilencio</td>\n",
       "      <td>0</td>\n",
       "    </tr>\n",
       "    <tr>\n",
       "      <th>9996</th>\n",
       "      <td>9996</td>\n",
       "      <td>MaloPadres</td>\n",
       "      <td>0</td>\n",
       "    </tr>\n",
       "    <tr>\n",
       "      <th>9997</th>\n",
       "      <td>9997</td>\n",
       "      <td>MaloSilencio</td>\n",
       "      <td>0</td>\n",
       "    </tr>\n",
       "    <tr>\n",
       "      <th>9998</th>\n",
       "      <td>9998</td>\n",
       "      <td>BuenoPadres</td>\n",
       "      <td>1</td>\n",
       "    </tr>\n",
       "    <tr>\n",
       "      <th>9999</th>\n",
       "      <td>9999</td>\n",
       "      <td>MaloAmigos</td>\n",
       "      <td>0</td>\n",
       "    </tr>\n",
       "  </tbody>\n",
       "</table>\n",
       "<p>10000 rows × 3 columns</p>\n",
       "</div>"
      ],
      "text/plain": [
       "       run         title kind\n",
       "0        0    MaloAmigos    0\n",
       "1        1    MaloAmigos    0\n",
       "2        2    MaloAmigos    0\n",
       "3        3    MaloPadres    0\n",
       "4        4  MaloSilencio    0\n",
       "...    ...           ...  ...\n",
       "9995  9995  MaloSilencio    0\n",
       "9996  9996    MaloPadres    0\n",
       "9997  9997  MaloSilencio    0\n",
       "9998  9998   BuenoPadres    1\n",
       "9999  9999    MaloAmigos    0\n",
       "\n",
       "[10000 rows x 3 columns]"
      ]
     },
     "execution_count": 24,
     "metadata": {},
     "output_type": "execute_result"
    }
   ],
   "source": [
    "df['endings']"
   ]
  },
  {
   "cell_type": "code",
   "execution_count": 25,
   "metadata": {},
   "outputs": [
    {
     "data": {
      "text/html": [
       "<div>\n",
       "<style scoped>\n",
       "    .dataframe tbody tr th:only-of-type {\n",
       "        vertical-align: middle;\n",
       "    }\n",
       "\n",
       "    .dataframe tbody tr th {\n",
       "        vertical-align: top;\n",
       "    }\n",
       "\n",
       "    .dataframe thead th {\n",
       "        text-align: right;\n",
       "    }\n",
       "</style>\n",
       "<table border=\"1\" class=\"dataframe\">\n",
       "  <thead>\n",
       "    <tr style=\"text-align: right;\">\n",
       "      <th></th>\n",
       "      <th>run</th>\n",
       "      <th>num</th>\n",
       "      <th>qid</th>\n",
       "      <th>choice</th>\n",
       "      <th>label</th>\n",
       "    </tr>\n",
       "  </thead>\n",
       "  <tbody>\n",
       "    <tr>\n",
       "      <th>0</th>\n",
       "      <td>0</td>\n",
       "      <td>0</td>\n",
       "      <td>1.0</td>\n",
       "      <td>0</td>\n",
       "      <td>NaN</td>\n",
       "    </tr>\n",
       "    <tr>\n",
       "      <th>1</th>\n",
       "      <td>0</td>\n",
       "      <td>1</td>\n",
       "      <td>2.0</td>\n",
       "      <td>0</td>\n",
       "      <td>0.0</td>\n",
       "    </tr>\n",
       "    <tr>\n",
       "      <th>3</th>\n",
       "      <td>0</td>\n",
       "      <td>3</td>\n",
       "      <td>3.0</td>\n",
       "      <td>1</td>\n",
       "      <td>NaN</td>\n",
       "    </tr>\n",
       "    <tr>\n",
       "      <th>5</th>\n",
       "      <td>0</td>\n",
       "      <td>5</td>\n",
       "      <td>4.0</td>\n",
       "      <td>0</td>\n",
       "      <td>1.0</td>\n",
       "    </tr>\n",
       "    <tr>\n",
       "      <th>6</th>\n",
       "      <td>0</td>\n",
       "      <td>6</td>\n",
       "      <td>5.0</td>\n",
       "      <td>0</td>\n",
       "      <td>0.0</td>\n",
       "    </tr>\n",
       "    <tr>\n",
       "      <th>...</th>\n",
       "      <td>...</td>\n",
       "      <td>...</td>\n",
       "      <td>...</td>\n",
       "      <td>...</td>\n",
       "      <td>...</td>\n",
       "    </tr>\n",
       "    <tr>\n",
       "      <th>198924</th>\n",
       "      <td>9999</td>\n",
       "      <td>12</td>\n",
       "      <td>10.0</td>\n",
       "      <td>0</td>\n",
       "      <td>1.0</td>\n",
       "    </tr>\n",
       "    <tr>\n",
       "      <th>198925</th>\n",
       "      <td>9999</td>\n",
       "      <td>13</td>\n",
       "      <td>11.0</td>\n",
       "      <td>0</td>\n",
       "      <td>1.0</td>\n",
       "    </tr>\n",
       "    <tr>\n",
       "      <th>198927</th>\n",
       "      <td>9999</td>\n",
       "      <td>15</td>\n",
       "      <td>12.0</td>\n",
       "      <td>0</td>\n",
       "      <td>0.0</td>\n",
       "    </tr>\n",
       "    <tr>\n",
       "      <th>198929</th>\n",
       "      <td>9999</td>\n",
       "      <td>17</td>\n",
       "      <td>14.0</td>\n",
       "      <td>0</td>\n",
       "      <td>1.0</td>\n",
       "    </tr>\n",
       "    <tr>\n",
       "      <th>198931</th>\n",
       "      <td>9999</td>\n",
       "      <td>19</td>\n",
       "      <td>15.0</td>\n",
       "      <td>1</td>\n",
       "      <td>0.0</td>\n",
       "    </tr>\n",
       "  </tbody>\n",
       "</table>\n",
       "<p>119823 rows × 5 columns</p>\n",
       "</div>"
      ],
      "text/plain": [
       "         run  num   qid  choice  label\n",
       "0          0    0   1.0       0    NaN\n",
       "1          0    1   2.0       0    0.0\n",
       "3          0    3   3.0       1    NaN\n",
       "5          0    5   4.0       0    1.0\n",
       "6          0    6   5.0       0    0.0\n",
       "...      ...  ...   ...     ...    ...\n",
       "198924  9999   12  10.0       0    1.0\n",
       "198925  9999   13  11.0       0    1.0\n",
       "198927  9999   15  12.0       0    0.0\n",
       "198929  9999   17  14.0       0    1.0\n",
       "198931  9999   19  15.0       1    0.0\n",
       "\n",
       "[119823 rows x 5 columns]"
      ]
     },
     "execution_count": 25,
     "metadata": {},
     "output_type": "execute_result"
    }
   ],
   "source": [
    "t = df['decisions'].loc[df['decisions']['qid'] != -1,:]\n",
    "t"
   ]
  },
  {
   "cell_type": "code",
   "execution_count": 26,
   "metadata": {},
   "outputs": [],
   "source": [
    "# t.pivot(index='run', columns='qid', values='label')['label']"
   ]
  },
  {
   "cell_type": "code",
   "execution_count": 27,
   "metadata": {
    "collapsed": false,
    "pycharm": {
     "name": "#%%\n"
    }
   },
   "outputs": [
    {
     "data": {
      "text/html": [
       "<div>\n",
       "<style scoped>\n",
       "    .dataframe tbody tr th:only-of-type {\n",
       "        vertical-align: middle;\n",
       "    }\n",
       "\n",
       "    .dataframe tbody tr th {\n",
       "        vertical-align: top;\n",
       "    }\n",
       "\n",
       "    .dataframe thead th {\n",
       "        text-align: right;\n",
       "    }\n",
       "</style>\n",
       "<table border=\"1\" class=\"dataframe\">\n",
       "  <thead>\n",
       "    <tr style=\"text-align: right;\">\n",
       "      <th></th>\n",
       "      <th>run</th>\n",
       "      <th>num</th>\n",
       "      <th>choice</th>\n",
       "      <th>label</th>\n",
       "    </tr>\n",
       "    <tr>\n",
       "      <th>qid</th>\n",
       "      <th></th>\n",
       "      <th></th>\n",
       "      <th></th>\n",
       "      <th></th>\n",
       "    </tr>\n",
       "  </thead>\n",
       "  <tbody>\n",
       "    <tr>\n",
       "      <th>-1.0</th>\n",
       "      <td>5000.257297</td>\n",
       "      <td>11.977930</td>\n",
       "      <td>0.000000</td>\n",
       "      <td>NaN</td>\n",
       "    </tr>\n",
       "    <tr>\n",
       "      <th>1.0</th>\n",
       "      <td>4999.500000</td>\n",
       "      <td>0.000000</td>\n",
       "      <td>0.498300</td>\n",
       "      <td>NaN</td>\n",
       "    </tr>\n",
       "    <tr>\n",
       "      <th>2.0</th>\n",
       "      <td>4999.500000</td>\n",
       "      <td>1.000000</td>\n",
       "      <td>0.494400</td>\n",
       "      <td>0.494400</td>\n",
       "    </tr>\n",
       "    <tr>\n",
       "      <th>3.0</th>\n",
       "      <td>4999.500000</td>\n",
       "      <td>3.000000</td>\n",
       "      <td>0.506300</td>\n",
       "      <td>NaN</td>\n",
       "    </tr>\n",
       "    <tr>\n",
       "      <th>4.0</th>\n",
       "      <td>4999.500000</td>\n",
       "      <td>5.000000</td>\n",
       "      <td>0.492300</td>\n",
       "      <td>0.507700</td>\n",
       "    </tr>\n",
       "    <tr>\n",
       "      <th>5.0</th>\n",
       "      <td>4999.500000</td>\n",
       "      <td>6.000000</td>\n",
       "      <td>0.509300</td>\n",
       "      <td>0.509300</td>\n",
       "    </tr>\n",
       "    <tr>\n",
       "      <th>6.0</th>\n",
       "      <td>5020.731985</td>\n",
       "      <td>7.000000</td>\n",
       "      <td>0.498135</td>\n",
       "      <td>0.498135</td>\n",
       "    </tr>\n",
       "    <tr>\n",
       "      <th>7.0</th>\n",
       "      <td>4999.500000</td>\n",
       "      <td>7.509300</td>\n",
       "      <td>0.505300</td>\n",
       "      <td>0.505300</td>\n",
       "    </tr>\n",
       "    <tr>\n",
       "      <th>8.0</th>\n",
       "      <td>5002.482090</td>\n",
       "      <td>8.506630</td>\n",
       "      <td>0.506828</td>\n",
       "      <td>0.506828</td>\n",
       "    </tr>\n",
       "    <tr>\n",
       "      <th>9.0</th>\n",
       "      <td>4999.500000</td>\n",
       "      <td>10.014600</td>\n",
       "      <td>0.500200</td>\n",
       "      <td>0.499800</td>\n",
       "    </tr>\n",
       "    <tr>\n",
       "      <th>10.0</th>\n",
       "      <td>4999.500000</td>\n",
       "      <td>11.014600</td>\n",
       "      <td>0.501100</td>\n",
       "      <td>0.498900</td>\n",
       "    </tr>\n",
       "    <tr>\n",
       "      <th>11.0</th>\n",
       "      <td>4999.500000</td>\n",
       "      <td>12.014600</td>\n",
       "      <td>0.492100</td>\n",
       "      <td>0.507900</td>\n",
       "    </tr>\n",
       "    <tr>\n",
       "      <th>12.0</th>\n",
       "      <td>4999.500000</td>\n",
       "      <td>14.014600</td>\n",
       "      <td>0.029600</td>\n",
       "      <td>0.029600</td>\n",
       "    </tr>\n",
       "    <tr>\n",
       "      <th>14.0</th>\n",
       "      <td>5009.165736</td>\n",
       "      <td>15.980757</td>\n",
       "      <td>0.492655</td>\n",
       "      <td>0.507345</td>\n",
       "    </tr>\n",
       "    <tr>\n",
       "      <th>15.0</th>\n",
       "      <td>4935.212252</td>\n",
       "      <td>17.969802</td>\n",
       "      <td>0.488352</td>\n",
       "      <td>0.511648</td>\n",
       "    </tr>\n",
       "    <tr>\n",
       "      <th>17.0</th>\n",
       "      <td>4961.708005</td>\n",
       "      <td>17.324288</td>\n",
       "      <td>0.512347</td>\n",
       "      <td>0.487653</td>\n",
       "    </tr>\n",
       "  </tbody>\n",
       "</table>\n",
       "</div>"
      ],
      "text/plain": [
       "               run        num    choice     label\n",
       "qid                                              \n",
       "-1.0   5000.257297  11.977930  0.000000       NaN\n",
       " 1.0   4999.500000   0.000000  0.498300       NaN\n",
       " 2.0   4999.500000   1.000000  0.494400  0.494400\n",
       " 3.0   4999.500000   3.000000  0.506300       NaN\n",
       " 4.0   4999.500000   5.000000  0.492300  0.507700\n",
       " 5.0   4999.500000   6.000000  0.509300  0.509300\n",
       " 6.0   5020.731985   7.000000  0.498135  0.498135\n",
       " 7.0   4999.500000   7.509300  0.505300  0.505300\n",
       " 8.0   5002.482090   8.506630  0.506828  0.506828\n",
       " 9.0   4999.500000  10.014600  0.500200  0.499800\n",
       " 10.0  4999.500000  11.014600  0.501100  0.498900\n",
       " 11.0  4999.500000  12.014600  0.492100  0.507900\n",
       " 12.0  4999.500000  14.014600  0.029600  0.029600\n",
       " 14.0  5009.165736  15.980757  0.492655  0.507345\n",
       " 15.0  4935.212252  17.969802  0.488352  0.511648\n",
       " 17.0  4961.708005  17.324288  0.512347  0.487653"
      ]
     },
     "execution_count": 27,
     "metadata": {},
     "output_type": "execute_result"
    }
   ],
   "source": [
    "df['decisions'].groupby(['qid']).mean()\n",
    "# diferencia entre estos valores y los otros nos dice si tiene predilección por label o no"
   ]
  },
  {
   "cell_type": "code",
   "execution_count": null,
   "metadata": {},
   "outputs": [],
   "source": []
  },
  {
   "cell_type": "code",
   "execution_count": 28,
   "metadata": {},
   "outputs": [],
   "source": [
    "rand = df['decisions'].groupby(['num']).mean()\n",
    "rand['m'] = 0"
   ]
  },
  {
   "cell_type": "markdown",
   "metadata": {},
   "source": [
    "## Risky Agent"
   ]
  },
  {
   "cell_type": "code",
   "execution_count": 30,
   "metadata": {},
   "outputs": [
    {
     "name": "stderr",
     "output_type": "stream",
     "text": [
      "  0%|          | 0/10000 [00:00<?, ?it/s]c:\\Users\\vibal\\PycharmProjects\\text-games\\notebooks\\..\\game\\agent.py:235: UserWarning: Implicit dimension choice for softmax has been deprecated. Change the call to include dim=X as an argument.\n",
      "  self._p = F.softmax((pred * w[None, :]).sum(1)) # (actions, labels) -> (actions)\n",
      "100%|██████████| 10000/10000 [00:33<00:00, 295.96it/s]\n"
     ]
    }
   ],
   "source": [
    "df = run(get_risky_agent, simulator, n_runs)"
   ]
  },
  {
   "cell_type": "code",
   "execution_count": 31,
   "metadata": {
    "collapsed": false,
    "pycharm": {
     "name": "#%%\n"
    }
   },
   "outputs": [
    {
     "data": {
      "text/html": [
       "<div>\n",
       "<style scoped>\n",
       "    .dataframe tbody tr th:only-of-type {\n",
       "        vertical-align: middle;\n",
       "    }\n",
       "\n",
       "    .dataframe tbody tr th {\n",
       "        vertical-align: top;\n",
       "    }\n",
       "\n",
       "    .dataframe thead th {\n",
       "        text-align: right;\n",
       "    }\n",
       "</style>\n",
       "<table border=\"1\" class=\"dataframe\">\n",
       "  <thead>\n",
       "    <tr style=\"text-align: right;\">\n",
       "      <th></th>\n",
       "      <th>run</th>\n",
       "      <th>title</th>\n",
       "      <th>kind</th>\n",
       "    </tr>\n",
       "  </thead>\n",
       "  <tbody>\n",
       "    <tr>\n",
       "      <th>0</th>\n",
       "      <td>0</td>\n",
       "      <td>MaloSilencio</td>\n",
       "      <td>0</td>\n",
       "    </tr>\n",
       "    <tr>\n",
       "      <th>1</th>\n",
       "      <td>1</td>\n",
       "      <td>MaloAmanda</td>\n",
       "      <td>0</td>\n",
       "    </tr>\n",
       "    <tr>\n",
       "      <th>2</th>\n",
       "      <td>2</td>\n",
       "      <td>MaloSilencio</td>\n",
       "      <td>0</td>\n",
       "    </tr>\n",
       "    <tr>\n",
       "      <th>3</th>\n",
       "      <td>3</td>\n",
       "      <td>MaloSilencio</td>\n",
       "      <td>0</td>\n",
       "    </tr>\n",
       "    <tr>\n",
       "      <th>4</th>\n",
       "      <td>4</td>\n",
       "      <td>MaloSilencio</td>\n",
       "      <td>0</td>\n",
       "    </tr>\n",
       "    <tr>\n",
       "      <th>...</th>\n",
       "      <td>...</td>\n",
       "      <td>...</td>\n",
       "      <td>...</td>\n",
       "    </tr>\n",
       "    <tr>\n",
       "      <th>9995</th>\n",
       "      <td>9995</td>\n",
       "      <td>MaloPadres</td>\n",
       "      <td>0</td>\n",
       "    </tr>\n",
       "    <tr>\n",
       "      <th>9996</th>\n",
       "      <td>9996</td>\n",
       "      <td>MaloSilencio</td>\n",
       "      <td>0</td>\n",
       "    </tr>\n",
       "    <tr>\n",
       "      <th>9997</th>\n",
       "      <td>9997</td>\n",
       "      <td>MaloSilencio</td>\n",
       "      <td>0</td>\n",
       "    </tr>\n",
       "    <tr>\n",
       "      <th>9998</th>\n",
       "      <td>9998</td>\n",
       "      <td>MaloPadres</td>\n",
       "      <td>0</td>\n",
       "    </tr>\n",
       "    <tr>\n",
       "      <th>9999</th>\n",
       "      <td>9999</td>\n",
       "      <td>MaloSilencio</td>\n",
       "      <td>0</td>\n",
       "    </tr>\n",
       "  </tbody>\n",
       "</table>\n",
       "<p>10000 rows × 3 columns</p>\n",
       "</div>"
      ],
      "text/plain": [
       "       run         title kind\n",
       "0        0  MaloSilencio    0\n",
       "1        1    MaloAmanda    0\n",
       "2        2  MaloSilencio    0\n",
       "3        3  MaloSilencio    0\n",
       "4        4  MaloSilencio    0\n",
       "...    ...           ...  ...\n",
       "9995  9995    MaloPadres    0\n",
       "9996  9996  MaloSilencio    0\n",
       "9997  9997  MaloSilencio    0\n",
       "9998  9998    MaloPadres    0\n",
       "9999  9999  MaloSilencio    0\n",
       "\n",
       "[10000 rows x 3 columns]"
      ]
     },
     "execution_count": 31,
     "metadata": {},
     "output_type": "execute_result"
    }
   ],
   "source": [
    "df['endings']"
   ]
  },
  {
   "cell_type": "code",
   "execution_count": 32,
   "metadata": {
    "collapsed": false,
    "pycharm": {
     "name": "#%%\n"
    }
   },
   "outputs": [
    {
     "data": {
      "text/html": [
       "<div>\n",
       "<style scoped>\n",
       "    .dataframe tbody tr th:only-of-type {\n",
       "        vertical-align: middle;\n",
       "    }\n",
       "\n",
       "    .dataframe tbody tr th {\n",
       "        vertical-align: top;\n",
       "    }\n",
       "\n",
       "    .dataframe thead th {\n",
       "        text-align: right;\n",
       "    }\n",
       "</style>\n",
       "<table border=\"1\" class=\"dataframe\">\n",
       "  <thead>\n",
       "    <tr style=\"text-align: right;\">\n",
       "      <th></th>\n",
       "      <th>run</th>\n",
       "      <th>qid</th>\n",
       "      <th>choice</th>\n",
       "      <th>label</th>\n",
       "    </tr>\n",
       "    <tr>\n",
       "      <th>num</th>\n",
       "      <th></th>\n",
       "      <th></th>\n",
       "      <th></th>\n",
       "      <th></th>\n",
       "    </tr>\n",
       "  </thead>\n",
       "  <tbody>\n",
       "    <tr>\n",
       "      <th>0</th>\n",
       "      <td>4999.500000</td>\n",
       "      <td>1.000000</td>\n",
       "      <td>0.500400</td>\n",
       "      <td>NaN</td>\n",
       "    </tr>\n",
       "    <tr>\n",
       "      <th>1</th>\n",
       "      <td>4999.500000</td>\n",
       "      <td>2.000000</td>\n",
       "      <td>0.493000</td>\n",
       "      <td>0.493000</td>\n",
       "    </tr>\n",
       "    <tr>\n",
       "      <th>2</th>\n",
       "      <td>4999.500000</td>\n",
       "      <td>-1.000000</td>\n",
       "      <td>0.000000</td>\n",
       "      <td>NaN</td>\n",
       "    </tr>\n",
       "    <tr>\n",
       "      <th>3</th>\n",
       "      <td>4999.500000</td>\n",
       "      <td>3.000000</td>\n",
       "      <td>0.509900</td>\n",
       "      <td>NaN</td>\n",
       "    </tr>\n",
       "    <tr>\n",
       "      <th>4</th>\n",
       "      <td>4999.500000</td>\n",
       "      <td>-1.000000</td>\n",
       "      <td>0.000000</td>\n",
       "      <td>NaN</td>\n",
       "    </tr>\n",
       "    <tr>\n",
       "      <th>5</th>\n",
       "      <td>4999.500000</td>\n",
       "      <td>4.000000</td>\n",
       "      <td>0.497800</td>\n",
       "      <td>0.502200</td>\n",
       "    </tr>\n",
       "    <tr>\n",
       "      <th>6</th>\n",
       "      <td>4999.500000</td>\n",
       "      <td>5.000000</td>\n",
       "      <td>0.498900</td>\n",
       "      <td>0.498900</td>\n",
       "    </tr>\n",
       "    <tr>\n",
       "      <th>7</th>\n",
       "      <td>4999.500000</td>\n",
       "      <td>6.501100</td>\n",
       "      <td>0.500300</td>\n",
       "      <td>0.500300</td>\n",
       "    </tr>\n",
       "    <tr>\n",
       "      <th>8</th>\n",
       "      <td>4999.500000</td>\n",
       "      <td>5.215100</td>\n",
       "      <td>0.370800</td>\n",
       "      <td>0.497051</td>\n",
       "    </tr>\n",
       "    <tr>\n",
       "      <th>9</th>\n",
       "      <td>4999.500000</td>\n",
       "      <td>3.804400</td>\n",
       "      <td>0.256200</td>\n",
       "      <td>0.494066</td>\n",
       "    </tr>\n",
       "    <tr>\n",
       "      <th>10</th>\n",
       "      <td>4999.500000</td>\n",
       "      <td>6.738000</td>\n",
       "      <td>0.375500</td>\n",
       "      <td>0.498263</td>\n",
       "    </tr>\n",
       "    <tr>\n",
       "      <th>11</th>\n",
       "      <td>4999.500000</td>\n",
       "      <td>10.002400</td>\n",
       "      <td>0.495700</td>\n",
       "      <td>0.504300</td>\n",
       "    </tr>\n",
       "    <tr>\n",
       "      <th>12</th>\n",
       "      <td>4999.500000</td>\n",
       "      <td>7.700400</td>\n",
       "      <td>0.372300</td>\n",
       "      <td>0.500938</td>\n",
       "    </tr>\n",
       "    <tr>\n",
       "      <th>13</th>\n",
       "      <td>4999.500000</td>\n",
       "      <td>5.321200</td>\n",
       "      <td>0.124900</td>\n",
       "      <td>0.250593</td>\n",
       "    </tr>\n",
       "    <tr>\n",
       "      <th>14</th>\n",
       "      <td>4999.500000</td>\n",
       "      <td>5.427200</td>\n",
       "      <td>0.000000</td>\n",
       "      <td>0.000000</td>\n",
       "    </tr>\n",
       "    <tr>\n",
       "      <th>15</th>\n",
       "      <td>4999.500000</td>\n",
       "      <td>4.127800</td>\n",
       "      <td>0.096100</td>\n",
       "      <td>0.245871</td>\n",
       "    </tr>\n",
       "    <tr>\n",
       "      <th>16</th>\n",
       "      <td>4999.500000</td>\n",
       "      <td>3.884600</td>\n",
       "      <td>0.157700</td>\n",
       "      <td>0.495844</td>\n",
       "    </tr>\n",
       "    <tr>\n",
       "      <th>17</th>\n",
       "      <td>4999.500000</td>\n",
       "      <td>3.863300</td>\n",
       "      <td>0.145500</td>\n",
       "      <td>0.500000</td>\n",
       "    </tr>\n",
       "    <tr>\n",
       "      <th>18</th>\n",
       "      <td>4998.112420</td>\n",
       "      <td>2.366167</td>\n",
       "      <td>0.097859</td>\n",
       "      <td>0.496973</td>\n",
       "    </tr>\n",
       "    <tr>\n",
       "      <th>19</th>\n",
       "      <td>4977.426654</td>\n",
       "      <td>0.358926</td>\n",
       "      <td>0.038702</td>\n",
       "      <td>0.515625</td>\n",
       "    </tr>\n",
       "    <tr>\n",
       "      <th>20</th>\n",
       "      <td>4938.530588</td>\n",
       "      <td>-1.000000</td>\n",
       "      <td>0.000000</td>\n",
       "      <td>NaN</td>\n",
       "    </tr>\n",
       "    <tr>\n",
       "      <th>21</th>\n",
       "      <td>5035.510695</td>\n",
       "      <td>-1.000000</td>\n",
       "      <td>0.000000</td>\n",
       "      <td>NaN</td>\n",
       "    </tr>\n",
       "  </tbody>\n",
       "</table>\n",
       "</div>"
      ],
      "text/plain": [
       "             run        qid    choice     label\n",
       "num                                            \n",
       "0    4999.500000   1.000000  0.500400       NaN\n",
       "1    4999.500000   2.000000  0.493000  0.493000\n",
       "2    4999.500000  -1.000000  0.000000       NaN\n",
       "3    4999.500000   3.000000  0.509900       NaN\n",
       "4    4999.500000  -1.000000  0.000000       NaN\n",
       "5    4999.500000   4.000000  0.497800  0.502200\n",
       "6    4999.500000   5.000000  0.498900  0.498900\n",
       "7    4999.500000   6.501100  0.500300  0.500300\n",
       "8    4999.500000   5.215100  0.370800  0.497051\n",
       "9    4999.500000   3.804400  0.256200  0.494066\n",
       "10   4999.500000   6.738000  0.375500  0.498263\n",
       "11   4999.500000  10.002400  0.495700  0.504300\n",
       "12   4999.500000   7.700400  0.372300  0.500938\n",
       "13   4999.500000   5.321200  0.124900  0.250593\n",
       "14   4999.500000   5.427200  0.000000  0.000000\n",
       "15   4999.500000   4.127800  0.096100  0.245871\n",
       "16   4999.500000   3.884600  0.157700  0.495844\n",
       "17   4999.500000   3.863300  0.145500  0.500000\n",
       "18   4998.112420   2.366167  0.097859  0.496973\n",
       "19   4977.426654   0.358926  0.038702  0.515625\n",
       "20   4938.530588  -1.000000  0.000000       NaN\n",
       "21   5035.510695  -1.000000  0.000000       NaN"
      ]
     },
     "execution_count": 32,
     "metadata": {},
     "output_type": "execute_result"
    }
   ],
   "source": [
    "df['decisions'].groupby(['num']).mean()\n",
    "# diferencia entre estos valores y los otros nos dice si tiene predilección por label o no"
   ]
  },
  {
   "cell_type": "code",
   "execution_count": 33,
   "metadata": {},
   "outputs": [
    {
     "data": {
      "text/plain": [
       "<AxesSubplot:xlabel='num'>"
      ]
     },
     "execution_count": 33,
     "metadata": {},
     "output_type": "execute_result"
    },
    {
     "data": {
      "image/png": "[encoded data removed]",
      "text/plain": [
       "<Figure size 432x288 with 1 Axes>"
      ]
     },
     "metadata": {
      "needs_background": "light"
     },
     "output_type": "display_data"
    }
   ],
   "source": [
    "df['decisions'].groupby(['num']).mean()['choice'].plot()"
   ]
  },
  {
   "cell_type": "code",
   "execution_count": 34,
   "metadata": {},
   "outputs": [],
   "source": [
    "risk = df['decisions'].groupby(['num']).mean()\n",
    "risk['m'] = 1"
   ]
  },
  {
   "cell_type": "code",
   "execution_count": null,
   "metadata": {},
   "outputs": [],
   "source": []
  },
  {
   "cell_type": "markdown",
   "metadata": {},
   "source": [
    "## Risky But Not So Much Agent"
   ]
  },
  {
   "cell_type": "code",
   "execution_count": 35,
   "metadata": {},
   "outputs": [
    {
     "name": "stderr",
     "output_type": "stream",
     "text": [
      "  0%|          | 0/10000 [00:00<?, ?it/s]\n"
     ]
    },
    {
     "ename": "ValueError",
     "evalue": "only one element tensors can be converted to Python scalars",
     "output_type": "error",
     "traceback": [
      "\u001b[1;31m---------------------------------------------------------------------------\u001b[0m",
      "\u001b[1;31mValueError\u001b[0m                                Traceback (most recent call last)",
      "\u001b[1;32mc:\\Users\\vibal\\PycharmProjects\\text-games\\notebooks\\run_agents.ipynb Cell 25'\u001b[0m in \u001b[0;36m<module>\u001b[1;34m\u001b[0m\n\u001b[1;32m----> <a href='vscode-notebook-cell:/c%3A/Users/vibal/PycharmProjects/text-games/notebooks/run_agents.ipynb#ch0000042?line=0'>1</a>\u001b[0m df \u001b[39m=\u001b[39m run(get_risky_ntm_agent, simulator, n_runs)\n",
      "File \u001b[1;32mc:\\Users\\vibal\\PycharmProjects\\text-games\\notebooks\\..\\game\\run.py:50\u001b[0m, in \u001b[0;36mrun\u001b[1;34m(get_agent, simulator, n_runs, reward_key, question_id_key, ending_key, filename, **kwargs)\u001b[0m\n\u001b[0;32m     <a href='file:///c%3A/Users/vibal/PycharmProjects/text-games/notebooks/../game/run.py?line=46'>47</a>\u001b[0m \u001b[39mif\u001b[39;00m (tmp \u001b[39m:=\u001b[39m simulator\u001b[39m.\u001b[39mget_current_node_attr()\u001b[39m.\u001b[39mget(ending_key, \u001b[39mNone\u001b[39;00m)) \u001b[39mis\u001b[39;00m \u001b[39mnot\u001b[39;00m \u001b[39mNone\u001b[39;00m:\n\u001b[0;32m     <a href='file:///c%3A/Users/vibal/PycharmProjects/text-games/notebooks/../game/run.py?line=47'>48</a>\u001b[0m     final \u001b[39m=\u001b[39m (k, simulator\u001b[39m.\u001b[39mget_current_node_attr()[GraphSimulator\u001b[39m.\u001b[39mATTR_TITLE], tmp)\n\u001b[1;32m---> <a href='file:///c%3A/Users/vibal/PycharmProjects/text-games/notebooks/../game/run.py?line=49'>50</a>\u001b[0m choice \u001b[39m=\u001b[39m agent\u001b[39m.\u001b[39;49mact(state\u001b[39m=\u001b[39;49mstate, actions\u001b[39m=\u001b[39;49mchoices)\n\u001b[0;32m     <a href='file:///c%3A/Users/vibal/PycharmProjects/text-games/notebooks/../game/run.py?line=50'>51</a>\u001b[0m choice_num \u001b[39m=\u001b[39m choice \u001b[39mif\u001b[39;00m \u001b[39misinstance\u001b[39m(choice, \u001b[39mint\u001b[39m) \u001b[39melse\u001b[39;00m choices\u001b[39m.\u001b[39mindex(choice)\n\u001b[0;32m     <a href='file:///c%3A/Users/vibal/PycharmProjects/text-games/notebooks/../game/run.py?line=51'>52</a>\u001b[0m state, choices, extras \u001b[39m=\u001b[39m simulator\u001b[39m.\u001b[39mtransition(choice)\n",
      "File \u001b[1;32mc:\\Users\\vibal\\PycharmProjects\\text-games\\notebooks\\..\\game\\agent.py:113\u001b[0m, in \u001b[0;36mLabelDecisorAgent.act\u001b[1;34m(self, state, actions, **kwargs)\u001b[0m\n\u001b[0;32m    <a href='file:///c%3A/Users/vibal/PycharmProjects/text-games/notebooks/../game/agent.py?line=110'>111</a>\u001b[0m \u001b[39m@overrides\u001b[39m(check_signature\u001b[39m=\u001b[39m\u001b[39mFalse\u001b[39;00m)\n\u001b[0;32m    <a href='file:///c%3A/Users/vibal/PycharmProjects/text-games/notebooks/../game/agent.py?line=111'>112</a>\u001b[0m \u001b[39mdef\u001b[39;00m \u001b[39mact\u001b[39m(\u001b[39mself\u001b[39m, state:\u001b[39mstr\u001b[39m, actions: List[\u001b[39mstr\u001b[39m], \u001b[39m*\u001b[39m\u001b[39m*\u001b[39mkwargs):\n\u001b[1;32m--> <a href='file:///c%3A/Users/vibal/PycharmProjects/text-games/notebooks/../game/agent.py?line=112'>113</a>\u001b[0m     \u001b[39mreturn\u001b[39;00m \u001b[39mself\u001b[39m\u001b[39m.\u001b[39mdecision_maker\u001b[39m.\u001b[39mdecide(\u001b[39mself\u001b[39m\u001b[39m.\u001b[39mlabel_predictor\u001b[39m.\u001b[39mpredict_label(state\u001b[39m=\u001b[39mstate, actions\u001b[39m=\u001b[39mactions), \u001b[39m*\u001b[39m\u001b[39m*\u001b[39mkwargs)\n",
      "File \u001b[1;32mc:\\Users\\vibal\\PycharmProjects\\text-games\\notebooks\\..\\game\\agent.py:233\u001b[0m, in \u001b[0;36mBehavioralDecisionMaker.decide\u001b[1;34m(self, pred, **kwargs)\u001b[0m\n\u001b[0;32m    <a href='file:///c%3A/Users/vibal/PycharmProjects/text-games/notebooks/../game/agent.py?line=229'>230</a>\u001b[0m \u001b[39m@overrides\u001b[39m(check_signature\u001b[39m=\u001b[39m\u001b[39mFalse\u001b[39;00m)\n\u001b[0;32m    <a href='file:///c%3A/Users/vibal/PycharmProjects/text-games/notebooks/../game/agent.py?line=230'>231</a>\u001b[0m \u001b[39mdef\u001b[39;00m \u001b[39mdecide\u001b[39m(\u001b[39mself\u001b[39m, pred:torch\u001b[39m.\u001b[39mTensor, \u001b[39m*\u001b[39m\u001b[39m*\u001b[39mkwargs) \u001b[39m-\u001b[39m\u001b[39m>\u001b[39m \u001b[39mint\u001b[39m:\n\u001b[0;32m    <a href='file:///c%3A/Users/vibal/PycharmProjects/text-games/notebooks/../game/agent.py?line=231'>232</a>\u001b[0m     \u001b[39m# obtain weights for labels\u001b[39;00m\n\u001b[1;32m--> <a href='file:///c%3A/Users/vibal/PycharmProjects/text-games/notebooks/../game/agent.py?line=232'>233</a>\u001b[0m     w \u001b[39m=\u001b[39m torch\u001b[39m.\u001b[39;49mas_tensor([f(\u001b[39mself\u001b[39;49m\u001b[39m.\u001b[39;49mmemory[:,idx]) \u001b[39mfor\u001b[39;49;00m idx,f \u001b[39min\u001b[39;49;00m \u001b[39menumerate\u001b[39;49m(\u001b[39mself\u001b[39;49m\u001b[39m.\u001b[39;49mweight_funcs)], dtype\u001b[39m=\u001b[39;49mtorch\u001b[39m.\u001b[39;49mfloat)\n\u001b[0;32m    <a href='file:///c%3A/Users/vibal/PycharmProjects/text-games/notebooks/../game/agent.py?line=233'>234</a>\u001b[0m     \u001b[39m# obtain scores and convert them to probabilities using softmax\u001b[39;00m\n\u001b[0;32m    <a href='file:///c%3A/Users/vibal/PycharmProjects/text-games/notebooks/../game/agent.py?line=234'>235</a>\u001b[0m     \u001b[39mself\u001b[39m\u001b[39m.\u001b[39m_p \u001b[39m=\u001b[39m F\u001b[39m.\u001b[39msoftmax((pred \u001b[39m*\u001b[39m w[\u001b[39mNone\u001b[39;00m, :])\u001b[39m.\u001b[39msum(\u001b[39m1\u001b[39m)) \u001b[39m# (actions, labels) -> (actions)\u001b[39;00m\n",
      "\u001b[1;31mValueError\u001b[0m: only one element tensors can be converted to Python scalars"
     ]
    }
   ],
   "source": [
    "df = run(get_risky_ntm_agent, simulator, n_runs)"
   ]
  },
  {
   "cell_type": "code",
   "execution_count": null,
   "metadata": {
    "collapsed": false,
    "pycharm": {
     "name": "#%%\n"
    }
   },
   "outputs": [],
   "source": [
    "df['endings']"
   ]
  },
  {
   "cell_type": "code",
   "execution_count": null,
   "metadata": {
    "collapsed": false,
    "pycharm": {
     "name": "#%%\n"
    }
   },
   "outputs": [],
   "source": [
    "df['decisions'].groupby(['num']).mean()\n",
    "# diferencia entre estos valores y los otros nos dice si tiene predilección por label o no"
   ]
  },
  {
   "cell_type": "code",
   "execution_count": null,
   "metadata": {},
   "outputs": [],
   "source": [
    "df['decisions'].groupby(['num']).mean()['choice'].plot()"
   ]
  },
  {
   "cell_type": "code",
   "execution_count": null,
   "metadata": {},
   "outputs": [],
   "source": [
    "risk_ntm = df['decisions'].groupby(['num']).mean()\n",
    "risk_ntm['m'] = 1"
   ]
  },
  {
   "cell_type": "markdown",
   "metadata": {},
   "source": [
    "# Other"
   ]
  },
  {
   "cell_type": "code",
   "execution_count": null,
   "metadata": {},
   "outputs": [],
   "source": [
    "from sklearn.tree import DecisionTreeClassifier\n",
    "from sklearn.linear_model import LogisticRegression\n",
    "from sklearn.model_selection import train_test_split"
   ]
  },
  {
   "cell_type": "code",
   "execution_count": null,
   "metadata": {},
   "outputs": [],
   "source": [
    "df = pd.concat([rand,risk])\n",
    "df = df.reset_index()\n",
    "df = df.dropna()\n",
    "\n",
    "df_train,df_test = train_test_split(df, test_size=0.3)"
   ]
  },
  {
   "cell_type": "code",
   "execution_count": null,
   "metadata": {},
   "outputs": [],
   "source": [
    "dt = DecisionTreeClassifier()\n",
    "dt.fit(df_train.loc[:,df.columns!='m'], df_train['m'])\n",
    "\n",
    "lr = LogisticRegression()\n",
    "lr.fit(df_train.loc[:,df.columns!='m'], df_train['m'])"
   ]
  },
  {
   "cell_type": "code",
   "execution_count": null,
   "metadata": {},
   "outputs": [],
   "source": [
    "dt.score(df_test.loc[:,df.columns!='m'], df_test['m'])"
   ]
  },
  {
   "cell_type": "code",
   "execution_count": null,
   "metadata": {},
   "outputs": [],
   "source": [
    "lr.score(df_test.loc[:,df.columns!='m'], df_test['m'])"
   ]
  },
  {
   "cell_type": "markdown",
   "metadata": {},
   "source": [
    "## Risky Agent"
   ]
  },
  {
   "cell_type": "code",
   "execution_count": null,
   "metadata": {},
   "outputs": [],
   "source": [
    "df = run(get_not_risky_agent, simulator, n_runs)"
   ]
  },
  {
   "cell_type": "markdown",
   "metadata": {},
   "source": [
    "## More risk choices, less risky Agent"
   ]
  },
  {
   "cell_type": "code",
   "execution_count": null,
   "metadata": {},
   "outputs": [],
   "source": [
    "df = run(get_b_agent, simulator, n_runs)"
   ]
  },
  {
   "cell_type": "markdown",
   "metadata": {},
   "source": [
    "## Markov Chain Agents"
   ]
  },
  {
   "cell_type": "code",
   "execution_count": null,
   "metadata": {},
   "outputs": [],
   "source": []
  }
 ],
 "metadata": {
  "interpreter": {
   "hash": "cb0a178ae3a89bc5606c5ff8111f45e24760a82322ae520972dc26f0653faace"
  },
  "kernelspec": {
   "display_name": "Python 3.9.5 ('venv': venv)",
   "language": "python",
   "name": "python3"
  },
  "language_info": {
   "codemirror_mode": {
    "name": "ipython",
    "version": 3
   },
   "file_extension": ".py",
   "mimetype": "text/x-python",
   "name": "python",
   "nbconvert_exporter": "python",
   "pygments_lexer": "ipython3",
   "version": "3.9.5"
  },
  "orig_nbformat": 4
 },
 "nbformat": 4,
 "nbformat_minor": 2
}
