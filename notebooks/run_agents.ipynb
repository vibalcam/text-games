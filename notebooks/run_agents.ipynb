{
 "cells": [
  {
   "cell_type": "code",
   "execution_count": 1,
   "metadata": {},
   "outputs": [],
   "source": [
    "import sys\n",
    "sys.path.append('../')"
   ]
  },
  {
   "cell_type": "code",
   "execution_count": 2,
   "metadata": {},
   "outputs": [],
   "source": [
    "from agent import RandomAgent, TorchModelAgent\n",
    "from simulator import YarnSimulator\n",
    "from pathlib import Path\n",
    "from tqdm.auto import trange\n",
    "import pandas as pd\n",
    "# import itertools\n",
    "import mpire"
   ]
  },
  {
   "cell_type": "code",
   "execution_count": 3,
   "metadata": {},
   "outputs": [],
   "source": [
    "n_runs = int(1e6)\n",
    "seed = None"
   ]
  },
  {
   "cell_type": "code",
   "execution_count": 4,
   "metadata": {},
   "outputs": [
    {
     "name": "stdout",
     "output_type": "stream",
     "text": [
      "           title kind\n",
      "0   MaloSilencio    0\n",
      "1     MaloAmigos    0\n",
      "2   MaloSilencio    0\n",
      "3   MaloSilencio    0\n",
      "4     MaloPadres    0\n",
      "..           ...  ...\n",
      "95  MaloSilencio    0\n",
      "96  MaloSilencio    0\n",
      "97    MaloAmigos    0\n",
      "98    MaloAmanda    0\n",
      "99  MaloSilencio    0\n",
      "\n",
      "[100 rows x 2 columns]\n"
     ]
    }
   ],
   "source": [
    "endings = []\n",
    "\n",
    "def init_run(worker_state):\n",
    "    # Create simulator\n",
    "    worker_state['simulator'] = YarnSimulator(text_unk_macro=\"\", yarn='../yarnScripts')\n",
    "    # worker_state['endings'] = []\n",
    "    pass\n",
    "\n",
    "def run_game(worker_state, run):\n",
    "    simulator = worker_state['simulator']\n",
    "    simulator.restart()\n",
    "    # simulator = YarnSimulator(text_unk_macro=\"\", yarn='../yarnScripts')\n",
    "    agent = RandomAgent(seed=seed)\n",
    "    \n",
    "    final = None\n",
    "    # run simulator\n",
    "    state, choices, extras = simulator.read()\n",
    "    while not simulator.is_finished():\n",
    "        # print(extras)\n",
    "        # print(simulator.controller.state.attr)\n",
    "\n",
    "        if (tmp := simulator.controller.state.attr.get('final', None)) is not None:\n",
    "            final = (simulator.controller.state.title, tmp)\n",
    "\n",
    "        choice = agent.act(state, choices)\n",
    "        state, choices, extras = simulator.transition(choice)\n",
    "    \n",
    "    # worker_state['endings'] = worker_state['endings'].append(final)\n",
    "    # worker_state['endings'].append(final)\n",
    "    endings.append(final)\n",
    "    return final\n",
    "\n",
    "def exit_func(worker_state):\n",
    "    # Return the list\n",
    "    # return worker_state['endings']\n",
    "    pass\n",
    "\n",
    "with mpire.WorkerPool(n_jobs=None, use_worker_state=True, start_method=\"threading\") as pool:\n",
    "    pool.map(run_game, range(n_runs), worker_init=init_run)#, worker_exit=exit_func)\n",
    "    # print(pool.get_exit_results())\n",
    "    # endings = list(itertools.chain.from_iterable(pool.get_exit_results()))\n",
    "    df = pd.DataFrame(data=endings, columns=['title', 'kind'])\n",
    "    print(df)\n",
    "    # df.write_excel('results.xlsx')\n"
   ]
  },
  {
   "cell_type": "markdown",
   "metadata": {},
   "source": [
    "## Random Agent"
   ]
  },
  {
   "cell_type": "code",
   "execution_count": 6,
   "metadata": {},
   "outputs": [
    {
     "name": "stderr",
     "output_type": "stream",
     "text": [
      "100%|██████████| 1000000/1000000 [3:24:11<00:00, 81.62it/s]    \n"
     ]
    },
    {
     "name": "stdout",
     "output_type": "stream",
     "text": [
      "               title kind\n",
      "0       MaloSilencio    0\n",
      "1       MaloSilencio    0\n",
      "2         MaloPadres    0\n",
      "3       MaloSilencio    0\n",
      "4         MaloAmigos    0\n",
      "...              ...  ...\n",
      "999995  MaloSilencio    0\n",
      "999996  MaloSilencio    0\n",
      "999997  MaloSilencio    0\n",
      "999998  MaloSilencio    0\n",
      "999999  MaloSilencio    0\n",
      "\n",
      "[1000000 rows x 2 columns]\n"
     ]
    },
    {
     "ename": "AttributeError",
     "evalue": "'DataFrame' object has no attribute 'write_excel'",
     "output_type": "error",
     "traceback": [
      "\u001b[1;31m---------------------------------------------------------------------------\u001b[0m",
      "\u001b[1;31mAttributeError\u001b[0m                            Traceback (most recent call last)",
      "\u001b[1;32mc:\\Users\\vibal\\VPortatil NoSync\\PyCharm\\text-games\\notebooks\\run_agents.ipynb Cell 7'\u001b[0m in \u001b[0;36m<cell line: 33>\u001b[1;34m()\u001b[0m\n\u001b[0;32m     <a href='vscode-notebook-cell:/c%3A/Users/vibal/VPortatil%20NoSync/PyCharm/text-games/notebooks/run_agents.ipynb#ch0000006?line=29'>30</a>\u001b[0m df \u001b[39m=\u001b[39m pd\u001b[39m.\u001b[39mDataFrame(data\u001b[39m=\u001b[39mendings, columns\u001b[39m=\u001b[39m[\u001b[39m'\u001b[39m\u001b[39mtitle\u001b[39m\u001b[39m'\u001b[39m, \u001b[39m'\u001b[39m\u001b[39mkind\u001b[39m\u001b[39m'\u001b[39m])\n\u001b[0;32m     <a href='vscode-notebook-cell:/c%3A/Users/vibal/VPortatil%20NoSync/PyCharm/text-games/notebooks/run_agents.ipynb#ch0000006?line=31'>32</a>\u001b[0m \u001b[39mprint\u001b[39m(df)\n\u001b[1;32m---> <a href='vscode-notebook-cell:/c%3A/Users/vibal/VPortatil%20NoSync/PyCharm/text-games/notebooks/run_agents.ipynb#ch0000006?line=32'>33</a>\u001b[0m df\u001b[39m.\u001b[39;49mwrite_excel(\u001b[39m'\u001b[39m\u001b[39mresults.xlsx\u001b[39m\u001b[39m'\u001b[39m)\n",
      "File \u001b[1;32mc:\\Users\\vibal\\VPortatil NoSync\\PyCharm\\text-games\\venv\\lib\\site-packages\\pandas\\core\\generic.py:5583\u001b[0m, in \u001b[0;36mNDFrame.__getattr__\u001b[1;34m(self, name)\u001b[0m\n\u001b[0;32m   <a href='file:///c%3A/Users/vibal/VPortatil%20NoSync/PyCharm/text-games/venv/lib/site-packages/pandas/core/generic.py?line=5575'>5576</a>\u001b[0m \u001b[39mif\u001b[39;00m (\n\u001b[0;32m   <a href='file:///c%3A/Users/vibal/VPortatil%20NoSync/PyCharm/text-games/venv/lib/site-packages/pandas/core/generic.py?line=5576'>5577</a>\u001b[0m     name \u001b[39mnot\u001b[39;00m \u001b[39min\u001b[39;00m \u001b[39mself\u001b[39m\u001b[39m.\u001b[39m_internal_names_set\n\u001b[0;32m   <a href='file:///c%3A/Users/vibal/VPortatil%20NoSync/PyCharm/text-games/venv/lib/site-packages/pandas/core/generic.py?line=5577'>5578</a>\u001b[0m     \u001b[39mand\u001b[39;00m name \u001b[39mnot\u001b[39;00m \u001b[39min\u001b[39;00m \u001b[39mself\u001b[39m\u001b[39m.\u001b[39m_metadata\n\u001b[0;32m   <a href='file:///c%3A/Users/vibal/VPortatil%20NoSync/PyCharm/text-games/venv/lib/site-packages/pandas/core/generic.py?line=5578'>5579</a>\u001b[0m     \u001b[39mand\u001b[39;00m name \u001b[39mnot\u001b[39;00m \u001b[39min\u001b[39;00m \u001b[39mself\u001b[39m\u001b[39m.\u001b[39m_accessors\n\u001b[0;32m   <a href='file:///c%3A/Users/vibal/VPortatil%20NoSync/PyCharm/text-games/venv/lib/site-packages/pandas/core/generic.py?line=5579'>5580</a>\u001b[0m     \u001b[39mand\u001b[39;00m \u001b[39mself\u001b[39m\u001b[39m.\u001b[39m_info_axis\u001b[39m.\u001b[39m_can_hold_identifiers_and_holds_name(name)\n\u001b[0;32m   <a href='file:///c%3A/Users/vibal/VPortatil%20NoSync/PyCharm/text-games/venv/lib/site-packages/pandas/core/generic.py?line=5580'>5581</a>\u001b[0m ):\n\u001b[0;32m   <a href='file:///c%3A/Users/vibal/VPortatil%20NoSync/PyCharm/text-games/venv/lib/site-packages/pandas/core/generic.py?line=5581'>5582</a>\u001b[0m     \u001b[39mreturn\u001b[39;00m \u001b[39mself\u001b[39m[name]\n\u001b[1;32m-> <a href='file:///c%3A/Users/vibal/VPortatil%20NoSync/PyCharm/text-games/venv/lib/site-packages/pandas/core/generic.py?line=5582'>5583</a>\u001b[0m \u001b[39mreturn\u001b[39;00m \u001b[39mobject\u001b[39;49m\u001b[39m.\u001b[39;49m\u001b[39m__getattribute__\u001b[39;49m(\u001b[39mself\u001b[39;49m, name)\n",
      "\u001b[1;31mAttributeError\u001b[0m: 'DataFrame' object has no attribute 'write_excel'"
     ]
    }
   ],
   "source": [
    "simulator = YarnSimulator(text_unk_macro=\"\", yarn='../yarnScripts')\n",
    "\n",
    "endings = []\n",
    "for k in trange(int(n_runs)):\n",
    "    # reset simulator and agent\n",
    "    simulator.restart()\n",
    "    agent = RandomAgent(seed=seed)\n",
    "    # agent = TorchModelAgent(\n",
    "    #     model_path=Path('../tmp/adamw_max_val_acc_8_False_125,[20],[20]_0.001'),\n",
    "    #     rand=0,\n",
    "    #     use_cpu=False,\n",
    "    #     seed=seed,\n",
    "    # )\n",
    "\n",
    "    final = None\n",
    "    # run simulator\n",
    "    state, choices, extras = simulator.read()\n",
    "    while not simulator.is_finished():\n",
    "        # print(extras)\n",
    "        # print(simulator.controller.state.attr)\n",
    "\n",
    "        if (tmp := simulator.controller.state.attr.get('final', None)) is not None:\n",
    "            final = (simulator.controller.state.title, tmp)\n",
    "\n",
    "        choice = agent.act(state, choices)\n",
    "        state, choices, extras = simulator.transition(choice)\n",
    "    \n",
    "    endings.append(final)\n",
    "\n",
    "df = pd.DataFrame(data=endings, columns=['title', 'kind'])\n",
    "        \n",
    "print(df)\n"
   ]
  },
  {
   "cell_type": "code",
   "execution_count": 12,
   "metadata": {},
   "outputs": [],
   "source": [
    "df.to_csv('endings.csv')"
   ]
  },
  {
   "cell_type": "code",
   "execution_count": null,
   "metadata": {},
   "outputs": [],
   "source": []
  },
  {
   "cell_type": "code",
   "execution_count": 10,
   "metadata": {},
   "outputs": [
    {
     "data": {
      "text/plain": [
       "0    0.968608\n",
       "1    0.031392\n",
       "Name: kind, dtype: float64"
      ]
     },
     "execution_count": 10,
     "metadata": {},
     "output_type": "execute_result"
    }
   ],
   "source": [
    "df['kind'].value_counts(normalize=True)"
   ]
  },
  {
   "cell_type": "code",
   "execution_count": null,
   "metadata": {},
   "outputs": [],
   "source": []
  },
  {
   "cell_type": "code",
   "execution_count": 15,
   "metadata": {},
   "outputs": [
    {
     "name": "stderr",
     "output_type": "stream",
     "text": [
      "Exception occurred, terminating ... :   0%|          | 0/100 [00:08<?, ?it/s]\n"
     ]
    },
    {
     "ename": "KeyboardInterrupt",
     "evalue": "",
     "output_type": "error",
     "traceback": [
      "\u001b[1;31m---------------------------------------------------------------------------\u001b[0m",
      "\u001b[1;31mKeyboardInterrupt\u001b[0m                         Traceback (most recent call last)",
      "File \u001b[1;32mc:\\Users\\vibal\\VPortatil NoSync\\PyCharm\\text-games\\venv\\lib\\site-packages\\mpire\\pool.py:529\u001b[0m, in \u001b[0;36mWorkerPool.imap_unordered\u001b[1;34m(self, func, iterable_of_args, iterable_len, max_tasks_active, chunk_size, n_splits, worker_lifespan, progress_bar, progress_bar_position, enable_insights, worker_init, worker_exit)\u001b[0m\n\u001b[0;32m    <a href='file:///c%3A/Users/vibal/VPortatil%20NoSync/PyCharm/text-games/venv/lib/site-packages/mpire/pool.py?line=527'>528</a>\u001b[0m \u001b[39mtry\u001b[39;00m:\n\u001b[1;32m--> <a href='file:///c%3A/Users/vibal/VPortatil%20NoSync/PyCharm/text-games/venv/lib/site-packages/mpire/pool.py?line=528'>529</a>\u001b[0m     \u001b[39myield from\u001b[39;00m \u001b[39mself\u001b[39;49m\u001b[39m.\u001b[39;49m_worker_comms\u001b[39m.\u001b[39;49mget_results(block\u001b[39m=\u001b[39;49m\u001b[39mFalse\u001b[39;49;00m)\n\u001b[0;32m    <a href='file:///c%3A/Users/vibal/VPortatil%20NoSync/PyCharm/text-games/venv/lib/site-packages/mpire/pool.py?line=529'>530</a>\u001b[0m     n_active \u001b[39m-\u001b[39m\u001b[39m=\u001b[39m \u001b[39m1\u001b[39m\n",
      "File \u001b[1;32mc:\\Users\\vibal\\VPortatil NoSync\\PyCharm\\text-games\\venv\\lib\\site-packages\\mpire\\comms.py:314\u001b[0m, in \u001b[0;36mWorkerComms.get_results\u001b[1;34m(self, block, timeout, in_thread)\u001b[0m\n\u001b[0;32m    <a href='file:///c%3A/Users/vibal/VPortatil%20NoSync/PyCharm/text-games/venv/lib/site-packages/mpire/comms.py?line=312'>313</a>\u001b[0m     \u001b[39mexcept\u001b[39;00m queue\u001b[39m.\u001b[39mEmpty \u001b[39mas\u001b[39;00m e:\n\u001b[1;32m--> <a href='file:///c%3A/Users/vibal/VPortatil%20NoSync/PyCharm/text-games/venv/lib/site-packages/mpire/comms.py?line=313'>314</a>\u001b[0m         queue_empty_error \u001b[39m=\u001b[39m e\n\u001b[0;32m    <a href='file:///c%3A/Users/vibal/VPortatil%20NoSync/PyCharm/text-games/venv/lib/site-packages/mpire/comms.py?line=314'>315</a>\u001b[0m \u001b[39mif\u001b[39;00m queue_empty_error \u001b[39mis\u001b[39;00m \u001b[39mnot\u001b[39;00m \u001b[39mNone\u001b[39;00m:\n",
      "File \u001b[1;32mc:\\Users\\vibal\\VPortatil NoSync\\PyCharm\\text-games\\venv\\lib\\site-packages\\mpire\\signal.py:29\u001b[0m, in \u001b[0;36mDelayedKeyboardInterrupt.__exit__\u001b[1;34m(self, exc_type, exc_val, exc_tb)\u001b[0m\n\u001b[0;32m     <a href='file:///c%3A/Users/vibal/VPortatil%20NoSync/PyCharm/text-games/venv/lib/site-packages/mpire/signal.py?line=27'>28</a>\u001b[0m \u001b[39mif\u001b[39;00m \u001b[39mself\u001b[39m\u001b[39m.\u001b[39msignal_received:\n\u001b[1;32m---> <a href='file:///c%3A/Users/vibal/VPortatil%20NoSync/PyCharm/text-games/venv/lib/site-packages/mpire/signal.py?line=28'>29</a>\u001b[0m     \u001b[39mself\u001b[39;49m\u001b[39m.\u001b[39;49mold_handler(\u001b[39m*\u001b[39;49m\u001b[39mself\u001b[39;49m\u001b[39m.\u001b[39;49msignal_received)\n",
      "\u001b[1;31mKeyboardInterrupt\u001b[0m: ",
      "\nDuring handling of the above exception, another exception occurred:\n",
      "\u001b[1;31mKeyboardInterrupt\u001b[0m                         Traceback (most recent call last)",
      "\u001b[1;32mc:\\Users\\vibal\\VPortatil NoSync\\PyCharm\\text-games\\notebooks\\run_agents.ipynb Cell 11'\u001b[0m in \u001b[0;36m<cell line: 18>\u001b[1;34m()\u001b[0m\n\u001b[0;32m     <a href='vscode-notebook-cell:/c%3A/Users/vibal/VPortatil%20NoSync/PyCharm/text-games/notebooks/run_agents.ipynb#ch0000011?line=15'>16</a>\u001b[0m     \u001b[39mpass\u001b[39;00m\n\u001b[0;32m     <a href='vscode-notebook-cell:/c%3A/Users/vibal/VPortatil%20NoSync/PyCharm/text-games/notebooks/run_agents.ipynb#ch0000011?line=17'>18</a>\u001b[0m \u001b[39mwith\u001b[39;00m mpire\u001b[39m.\u001b[39mWorkerPool(n_jobs\u001b[39m=\u001b[39m\u001b[39m4\u001b[39m, use_worker_state\u001b[39m=\u001b[39m\u001b[39mTrue\u001b[39;00m, start_method\u001b[39m=\u001b[39m\u001b[39m\"\u001b[39m\u001b[39mspawn\u001b[39m\u001b[39m\"\u001b[39m) \u001b[39mas\u001b[39;00m pool:\n\u001b[1;32m---> <a href='vscode-notebook-cell:/c%3A/Users/vibal/VPortatil%20NoSync/PyCharm/text-games/notebooks/run_agents.ipynb#ch0000011?line=18'>19</a>\u001b[0m     pool\u001b[39m.\u001b[39;49mmap(square_and_count_even, \u001b[39mrange\u001b[39;49m(\u001b[39m100\u001b[39;49m), worker_init\u001b[39m=\u001b[39;49minit_func, worker_exit\u001b[39m=\u001b[39;49mexit_func, progress_bar\u001b[39m=\u001b[39;49m\u001b[39mTrue\u001b[39;49;00m)\n\u001b[0;32m     <a href='vscode-notebook-cell:/c%3A/Users/vibal/VPortatil%20NoSync/PyCharm/text-games/notebooks/run_agents.ipynb#ch0000011?line=19'>20</a>\u001b[0m     \u001b[39mprint\u001b[39m(pool\u001b[39m.\u001b[39mget_exit_results())  \u001b[39m# Output, e.g.: [13, 13, 12, 12]\u001b[39;00m\n\u001b[0;32m     <a href='vscode-notebook-cell:/c%3A/Users/vibal/VPortatil%20NoSync/PyCharm/text-games/notebooks/run_agents.ipynb#ch0000011?line=20'>21</a>\u001b[0m     \u001b[39mprint\u001b[39m(\u001b[39msum\u001b[39m(pool\u001b[39m.\u001b[39mget_exit_results()))\n",
      "File \u001b[1;32mc:\\Users\\vibal\\VPortatil NoSync\\PyCharm\\text-games\\venv\\lib\\site-packages\\mpire\\pool.py:265\u001b[0m, in \u001b[0;36mWorkerPool.map\u001b[1;34m(self, func, iterable_of_args, iterable_len, max_tasks_active, chunk_size, n_splits, worker_lifespan, progress_bar, progress_bar_position, concatenate_numpy_output, enable_insights, worker_init, worker_exit)\u001b[0m\n\u001b[0;32m    <a href='file:///c%3A/Users/vibal/VPortatil%20NoSync/PyCharm/text-games/venv/lib/site-packages/mpire/pool.py?line=262'>263</a>\u001b[0m \u001b[39mif\u001b[39;00m iterable_len \u001b[39mis\u001b[39;00m \u001b[39mNone\u001b[39;00m \u001b[39mand\u001b[39;00m \u001b[39mhasattr\u001b[39m(iterable_of_args, \u001b[39m'\u001b[39m\u001b[39m__len__\u001b[39m\u001b[39m'\u001b[39m):\n\u001b[0;32m    <a href='file:///c%3A/Users/vibal/VPortatil%20NoSync/PyCharm/text-games/venv/lib/site-packages/mpire/pool.py?line=263'>264</a>\u001b[0m     iterable_len \u001b[39m=\u001b[39m \u001b[39mlen\u001b[39m(iterable_of_args)\n\u001b[1;32m--> <a href='file:///c%3A/Users/vibal/VPortatil%20NoSync/PyCharm/text-games/venv/lib/site-packages/mpire/pool.py?line=264'>265</a>\u001b[0m results \u001b[39m=\u001b[39m \u001b[39mself\u001b[39;49m\u001b[39m.\u001b[39;49mmap_unordered(func, ((args_idx, args) \u001b[39mfor\u001b[39;49;00m args_idx, args \u001b[39min\u001b[39;49;00m \u001b[39menumerate\u001b[39;49m(iterable_of_args)),\n\u001b[0;32m    <a href='file:///c%3A/Users/vibal/VPortatil%20NoSync/PyCharm/text-games/venv/lib/site-packages/mpire/pool.py?line=265'>266</a>\u001b[0m                              iterable_len, max_tasks_active, chunk_size, n_splits, worker_lifespan,\n\u001b[0;32m    <a href='file:///c%3A/Users/vibal/VPortatil%20NoSync/PyCharm/text-games/venv/lib/site-packages/mpire/pool.py?line=266'>267</a>\u001b[0m                              progress_bar, progress_bar_position, enable_insights, worker_init, worker_exit)\n\u001b[0;32m    <a href='file:///c%3A/Users/vibal/VPortatil%20NoSync/PyCharm/text-games/venv/lib/site-packages/mpire/pool.py?line=268'>269</a>\u001b[0m \u001b[39m# Notify workers to forget about order\u001b[39;00m\n\u001b[0;32m    <a href='file:///c%3A/Users/vibal/VPortatil%20NoSync/PyCharm/text-games/venv/lib/site-packages/mpire/pool.py?line=269'>270</a>\u001b[0m \u001b[39mself\u001b[39m\u001b[39m.\u001b[39m_worker_comms\u001b[39m.\u001b[39mclear_keep_order()\n",
      "File \u001b[1;32mc:\\Users\\vibal\\VPortatil NoSync\\PyCharm\\text-games\\venv\\lib\\site-packages\\mpire\\pool.py:324\u001b[0m, in \u001b[0;36mWorkerPool.map_unordered\u001b[1;34m(self, func, iterable_of_args, iterable_len, max_tasks_active, chunk_size, n_splits, worker_lifespan, progress_bar, progress_bar_position, enable_insights, worker_init, worker_exit)\u001b[0m\n\u001b[0;32m    <a href='file:///c%3A/Users/vibal/VPortatil%20NoSync/PyCharm/text-games/venv/lib/site-packages/mpire/pool.py?line=284'>285</a>\u001b[0m \u001b[39m\"\"\"\u001b[39;00m\n\u001b[0;32m    <a href='file:///c%3A/Users/vibal/VPortatil%20NoSync/PyCharm/text-games/venv/lib/site-packages/mpire/pool.py?line=285'>286</a>\u001b[0m \u001b[39mSame as ``multiprocessing.map()``, but unordered. Also allows a user to set the maximum number of tasks\u001b[39;00m\n\u001b[0;32m    <a href='file:///c%3A/Users/vibal/VPortatil%20NoSync/PyCharm/text-games/venv/lib/site-packages/mpire/pool.py?line=286'>287</a>\u001b[0m \u001b[39mavailable in the queue.\u001b[39;00m\n\u001b[1;32m   (...)\u001b[0m\n\u001b[0;32m    <a href='file:///c%3A/Users/vibal/VPortatil%20NoSync/PyCharm/text-games/venv/lib/site-packages/mpire/pool.py?line=320'>321</a>\u001b[0m \u001b[39m:return: List with unordered results\u001b[39;00m\n\u001b[0;32m    <a href='file:///c%3A/Users/vibal/VPortatil%20NoSync/PyCharm/text-games/venv/lib/site-packages/mpire/pool.py?line=321'>322</a>\u001b[0m \u001b[39m\"\"\"\u001b[39;00m\n\u001b[0;32m    <a href='file:///c%3A/Users/vibal/VPortatil%20NoSync/PyCharm/text-games/venv/lib/site-packages/mpire/pool.py?line=322'>323</a>\u001b[0m \u001b[39m# Simply call imap and cast it to a list. This make sure all elements are there before returning\u001b[39;00m\n\u001b[1;32m--> <a href='file:///c%3A/Users/vibal/VPortatil%20NoSync/PyCharm/text-games/venv/lib/site-packages/mpire/pool.py?line=323'>324</a>\u001b[0m \u001b[39mreturn\u001b[39;00m \u001b[39mlist\u001b[39;49m(\u001b[39mself\u001b[39;49m\u001b[39m.\u001b[39;49mimap_unordered(func, iterable_of_args, iterable_len, max_tasks_active, chunk_size,\n\u001b[0;32m    <a href='file:///c%3A/Users/vibal/VPortatil%20NoSync/PyCharm/text-games/venv/lib/site-packages/mpire/pool.py?line=324'>325</a>\u001b[0m                                 n_splits, worker_lifespan, progress_bar, progress_bar_position,\n\u001b[0;32m    <a href='file:///c%3A/Users/vibal/VPortatil%20NoSync/PyCharm/text-games/venv/lib/site-packages/mpire/pool.py?line=325'>326</a>\u001b[0m                                 enable_insights, worker_init, worker_exit))\n",
      "File \u001b[1;32mc:\\Users\\vibal\\VPortatil NoSync\\PyCharm\\text-games\\venv\\lib\\site-packages\\mpire\\pool.py:556\u001b[0m, in \u001b[0;36mWorkerPool.imap_unordered\u001b[1;34m(self, func, iterable_of_args, iterable_len, max_tasks_active, chunk_size, n_splits, worker_lifespan, progress_bar, progress_bar_position, enable_insights, worker_init, worker_exit)\u001b[0m\n\u001b[0;32m    <a href='file:///c%3A/Users/vibal/VPortatil%20NoSync/PyCharm/text-games/venv/lib/site-packages/mpire/pool.py?line=552'>553</a>\u001b[0m         \u001b[39mself\u001b[39m\u001b[39m.\u001b[39mstop_and_join(progress_bar_handler, keep_alive\u001b[39m=\u001b[39m\u001b[39mself\u001b[39m\u001b[39m.\u001b[39mpool_params\u001b[39m.\u001b[39mkeep_alive)\n\u001b[0;32m    <a href='file:///c%3A/Users/vibal/VPortatil%20NoSync/PyCharm/text-games/venv/lib/site-packages/mpire/pool.py?line=554'>555</a>\u001b[0m     \u001b[39mexcept\u001b[39;00m \u001b[39mKeyboardInterrupt\u001b[39;00m:\n\u001b[1;32m--> <a href='file:///c%3A/Users/vibal/VPortatil%20NoSync/PyCharm/text-games/venv/lib/site-packages/mpire/pool.py?line=555'>556</a>\u001b[0m         \u001b[39mself\u001b[39;49m\u001b[39m.\u001b[39;49m_handle_exception(progress_bar_handler)\n\u001b[0;32m    <a href='file:///c%3A/Users/vibal/VPortatil%20NoSync/PyCharm/text-games/venv/lib/site-packages/mpire/pool.py?line=557'>558</a>\u001b[0m \u001b[39m# Join exception queue, if it hasn't already\u001b[39;00m\n\u001b[0;32m    <a href='file:///c%3A/Users/vibal/VPortatil%20NoSync/PyCharm/text-games/venv/lib/site-packages/mpire/pool.py?line=558'>559</a>\u001b[0m logger\u001b[39m.\u001b[39mdebug(\u001b[39m\"\u001b[39m\u001b[39mJoining exception queue\u001b[39m\u001b[39m\"\u001b[39m)\n",
      "File \u001b[1;32mc:\\Users\\vibal\\VPortatil NoSync\\PyCharm\\text-games\\venv\\lib\\site-packages\\mpire\\pool.py:615\u001b[0m, in \u001b[0;36mWorkerPool._handle_exception\u001b[1;34m(self, progress_bar_handler)\u001b[0m\n\u001b[0;32m    <a href='file:///c%3A/Users/vibal/VPortatil%20NoSync/PyCharm/text-games/venv/lib/site-packages/mpire/pool.py?line=612'>613</a>\u001b[0m \u001b[39m# Raise\u001b[39;00m\n\u001b[0;32m    <a href='file:///c%3A/Users/vibal/VPortatil%20NoSync/PyCharm/text-games/venv/lib/site-packages/mpire/pool.py?line=613'>614</a>\u001b[0m logger\u001b[39m.\u001b[39mdebug(\u001b[39m\"\u001b[39m\u001b[39mRe-raising obtained exception\u001b[39m\u001b[39m\"\u001b[39m)\n\u001b[1;32m--> <a href='file:///c%3A/Users/vibal/VPortatil%20NoSync/PyCharm/text-games/venv/lib/site-packages/mpire/pool.py?line=614'>615</a>\u001b[0m \u001b[39mraise\u001b[39;00m err(traceback_str)\n",
      "\u001b[1;31mKeyboardInterrupt\u001b[0m: "
     ]
    }
   ],
   "source": [
    "def init_func(worker_state):\n",
    "    # Initialize a counter for each worker\n",
    "    # worker_state['count_even'] = 0\n",
    "    pass\n",
    "\n",
    "def square_and_count_even(worker_state, x):\n",
    "    # Count number of even numbers and return the square\n",
    "    # if x % 2 == 0:\n",
    "    #     worker_state['count_even'] += 1\n",
    "    # return x * x\n",
    "    pass\n",
    "\n",
    "def exit_func(worker_state):\n",
    "    # Return the counter\n",
    "    # return worker_state['count_even']\n",
    "    pass\n",
    "\n",
    "with mpire.WorkerPool(n_jobs=4, use_worker_state=True, start_method=\"spawn\") as pool:\n",
    "    pool.map(square_and_count_even, range(100), worker_init=init_func, worker_exit=exit_func, progress_bar=True)\n",
    "    print(pool.get_exit_results())  # Output, e.g.: [13, 13, 12, 12]\n",
    "    print(sum(pool.get_exit_results()))  # Output: 50\n"
   ]
  },
  {
   "cell_type": "code",
   "execution_count": null,
   "metadata": {},
   "outputs": [],
   "source": []
  },
  {
   "cell_type": "markdown",
   "metadata": {},
   "source": [
    "## Model Agent"
   ]
  },
  {
   "cell_type": "code",
   "execution_count": null,
   "metadata": {},
   "outputs": [],
   "source": []
  }
 ],
 "metadata": {
  "interpreter": {
   "hash": "30a9296f74094b00332d5d787bc4db866c51beed76e8f2587c2dc5f3774742e1"
  },
  "kernelspec": {
   "display_name": "Python 3.9.7 ('venv': venv)",
   "language": "python",
   "name": "python3"
  },
  "language_info": {
   "codemirror_mode": {
    "name": "ipython",
    "version": 3
   },
   "file_extension": ".py",
   "mimetype": "text/x-python",
   "name": "python",
   "nbconvert_exporter": "python",
   "pygments_lexer": "ipython3",
   "version": "3.9.7"
  },
  "orig_nbformat": 4
 },
 "nbformat": 4,
 "nbformat_minor": 2
}
