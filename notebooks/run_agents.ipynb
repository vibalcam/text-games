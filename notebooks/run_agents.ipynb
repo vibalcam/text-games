{
 "cells": [
  {
   "cell_type": "code",
   "execution_count": 1,
   "metadata": {
    "pycharm": {
     "name": "#%%\n"
    }
   },
   "outputs": [],
   "source": [
    "import sys\n",
    "sys.path.append('../')"
   ]
  },
  {
   "cell_type": "code",
   "execution_count": 2,
   "metadata": {
    "collapsed": false,
    "pycharm": {
     "name": "#%%\n"
    }
   },
   "outputs": [],
   "source": [
    "import game.agent as ag\n",
    "from game.run import run\n",
    "from game.simulator import load_simulator_yarn, GraphSimulator\n",
    "from pathlib import Path\n",
    "from tqdm.auto import trange\n",
    "import pandas as pd\n",
    "import torch"
   ]
  },
  {
   "cell_type": "code",
   "execution_count": 3,
   "metadata": {},
   "outputs": [],
   "source": [
    "class color:\n",
    "   PURPLE = '\\033[95m'\n",
    "   CYAN = '\\033[96m'\n",
    "   DARKCYAN = '\\033[36m'\n",
    "   BLUE = '\\033[94m'\n",
    "   GREEN = '\\033[92m'\n",
    "   YELLOW = '\\033[93m'\n",
    "   RED = '\\033[91m'\n",
    "   BOLD = '\\033[1m'\n",
    "   UNDERLINE = '\\033[4m'\n",
    "   END = '\\033[0m'"
   ]
  },
  {
   "cell_type": "markdown",
   "metadata": {},
   "source": [
    "## Description"
   ]
  },
  {
   "cell_type": "markdown",
   "metadata": {},
   "source": [
    "This game only has one personality trait, which is safety (no risk).\n",
    "\n",
    "Therefore, a 1 implies a safe action (without risk), and a 0 implies a risky action.\n",
    "\n"
   ]
  },
  {
   "cell_type": "code",
   "execution_count": 4,
   "metadata": {
    "collapsed": false,
    "pycharm": {
     "name": "#%%\n"
    }
   },
   "outputs": [],
   "source": [
    "n_runs = int(1e5)\n",
    "# n_runs = int(100)\n",
    "seed = None"
   ]
  },
  {
   "cell_type": "markdown",
   "metadata": {},
   "source": [
    "## Simulator"
   ]
  },
  {
   "cell_type": "code",
   "execution_count": 5,
   "metadata": {
    "collapsed": false,
    "pycharm": {
     "name": "#%%\n"
    }
   },
   "outputs": [],
   "source": [
    "simulator = load_simulator_yarn('../yarnScripts', graph_file_sfx='_graph_transformed.pickle')"
   ]
  },
  {
   "cell_type": "markdown",
   "metadata": {},
   "source": [
    "## Agents"
   ]
  },
  {
   "cell_type": "markdown",
   "metadata": {},
   "source": [
    "Values greater than 0 imply favoring safety\n",
    "\n",
    "Values lower than 0 imply not favoring safety (favoring risk)"
   ]
  },
  {
   "cell_type": "code",
   "execution_count": 6,
   "metadata": {},
   "outputs": [],
   "source": [
    "# label_predictor=ag.TorchLabelPredictor(\n",
    "#             model_path=Path('./saved_bert/200_[20]_[30]_1_False_bert-base-multilingual-cased_0.001_adamw_8_max_val_mcc_False_False_100'),\n",
    "#             use_cpu=False,\n",
    "#         )\n",
    "\n",
    "def get_linear_agent(a: torch.Tensor):\n",
    "    \"\"\"\n",
    "    Gets an agent with a BehavioralDecisionMaker that has a linear function\n",
    "\n",
    "    :param torch.Tensor a: matrix A that characterizes the behavior profile\n",
    "    \"\"\"\n",
    "    return ag.LabelDecisorAgent(\n",
    "        label_predictor=ag.GraphLabelLoader(\n",
    "            simulator=simulator,\n",
    "        ),\n",
    "        decision_maker=ag.BehavioralDecisionMaker(\n",
    "            weight_funcs=[\n",
    "                lambda x: (a*x).sum()\n",
    "            ],\n",
    "            memory_steps=a.shape[0]-1,\n",
    "            seed=None,\n",
    "            deterministic=False,\n",
    "        )\n",
    "    )"
   ]
  },
  {
   "cell_type": "code",
   "execution_count": 7,
   "metadata": {},
   "outputs": [],
   "source": [
    "def get_random_agent():\n",
    "    return ag.RandomAgent(None)\n",
    "\n",
    "\n",
    "# def get_r_agent():\n",
    "#     return ag.LabelDecisorAgent(\n",
    "#         label_predictor=ag.GraphLabelLoader(\n",
    "#             simulator=simulator,\n",
    "#         ),\n",
    "#         decision_maker=ag.RDecisionMaker(\n",
    "#             rand=0.4,\n",
    "#             seed=None,\n",
    "#         )\n",
    "#     )\n",
    "\n",
    "\n",
    "def get_risky_agent():\n",
    "    return get_linear_agent(torch.as_tensor([\n",
    "        [-2]\n",
    "    ], dtype=torch.float))\n",
    "\n",
    "\n",
    "def get_safe_agent():\n",
    "    return get_linear_agent(torch.as_tensor([\n",
    "        [2]\n",
    "    ], dtype=torch.float))\n",
    "\n",
    "\n",
    "def get_risky_ntm_agent():\n",
    "    return get_linear_agent(torch.as_tensor([\n",
    "        [-8],\n",
    "        [8],\n",
    "        [6],\n",
    "    ], dtype=torch.float))\n",
    "\n",
    "def get_safe_ntm_agent():\n",
    "    return get_linear_agent(torch.as_tensor([\n",
    "        [8],\n",
    "        [-8],\n",
    "        [-6],\n",
    "    ], dtype=torch.float))\n",
    "\n",
    "\n",
    "# def get_mc_agent():\n",
    "#     return ag.LabelDecisorAgent(\n",
    "#         label_predictor=ag.GraphLabelLoader(\n",
    "#             simulator=simulator,\n",
    "#         ),\n",
    "#         decisor=ag.MarkovChainAgent(\n",
    "#             rand=0.4,\n",
    "#             seed=None,\n",
    "#         )\n",
    "#     )"
   ]
  },
  {
   "cell_type": "code",
   "execution_count": 8,
   "metadata": {
    "collapsed": false,
    "pycharm": {
     "name": "#%%\n"
    }
   },
   "outputs": [],
   "source": [
    "# def get_random_agent():\n",
    "#     return ag.RandomAgent(None)\n",
    "\n",
    "\n",
    "# # def get_r_agent():\n",
    "# #     return ag.LabelDecisorAgent(\n",
    "# #         label_predictor=ag.GraphLabelLoader(\n",
    "# #             simulator=simulator,\n",
    "# #         ),\n",
    "# #         decision_maker=ag.RDecisionMaker(\n",
    "# #             rand=0.4,\n",
    "# #             seed=None,\n",
    "# #         )\n",
    "# #     )\n",
    "\n",
    "\n",
    "# def get_risky_agent():\n",
    "#     return ag.LabelDecisorAgent(\n",
    "#         label_predictor=ag.GraphLabelLoader(\n",
    "#             simulator=simulator,\n",
    "#         ),\n",
    "#         decision_maker=ag.BehavioralDecisionMaker(\n",
    "#             weight_funcs=[\n",
    "#                 lambda x: x\n",
    "#             ],\n",
    "#             memory_steps=0,\n",
    "#             seed=None,\n",
    "#         )\n",
    "#     )\n",
    "\n",
    "\n",
    "# def get_risky_agent():\n",
    "#     return ag.LabelDecisorAgent(\n",
    "#         label_predictor=ag.GraphLabelLoader(\n",
    "#             simulator=simulator,\n",
    "#         ),\n",
    "#         decision_maker=ag.BehavioralDecisionMaker(\n",
    "#             weight_funcs=[\n",
    "#                 lambda x: x\n",
    "#             ],\n",
    "#             memory_steps=0,\n",
    "#             seed=None,\n",
    "#         )\n",
    "#     )\n",
    "\n",
    "\n",
    "# def get_risky_ntm_agent():\n",
    "#     return ag.LabelDecisorAgent(\n",
    "#         label_predictor=ag.GraphLabelLoader(\n",
    "#             simulator=simulator,\n",
    "#         ),\n",
    "#         decision_maker=ag.BehavioralDecisionMaker(\n",
    "#             weight_funcs=[\n",
    "#                 lambda x: 0.5*x,\n",
    "#                 lambda x: -0.3*x,\n",
    "#                 lambda x: -0.3*x,\n",
    "#             ],\n",
    "#             memory_steps=3,\n",
    "#             seed=None,\n",
    "#         )\n",
    "#     )\n",
    "\n",
    "\n",
    "# # def get_mc_agent():\n",
    "# #     return ag.LabelDecisorAgent(\n",
    "# #         label_predictor=ag.GraphLabelLoader(\n",
    "# #             simulator=simulator,\n",
    "# #         ),\n",
    "# #         decisor=ag.MarkovChainAgent(\n",
    "# #             rand=0.4,\n",
    "# #             seed=None,\n",
    "# #         )\n",
    "# #     )"
   ]
  },
  {
   "cell_type": "markdown",
   "metadata": {},
   "source": [
    "## Run"
   ]
  },
  {
   "cell_type": "code",
   "execution_count": 9,
   "metadata": {},
   "outputs": [],
   "source": [
    "data = []\n",
    "models = {\n",
    "    'Random':0,\n",
    "    'Risky':1,\n",
    "    'Safe':2,\n",
    "    'Risky NTM':3,\n",
    "    'Safe NTM':4,\n",
    "}"
   ]
  },
  {
   "cell_type": "markdown",
   "metadata": {
    "collapsed": false,
    "pycharm": {
     "name": "#%% md\n"
    }
   },
   "source": [
    "### Random Agent"
   ]
  },
  {
   "cell_type": "code",
   "execution_count": null,
   "metadata": {
    "collapsed": false,
    "pycharm": {
     "name": "#%%\n"
    }
   },
   "outputs": [],
   "source": [
    "df_r = run(get_random_agent, simulator, n_runs)"
   ]
  },
  {
   "cell_type": "code",
   "execution_count": null,
   "metadata": {},
   "outputs": [],
   "source": [
    "df = df_r"
   ]
  },
  {
   "cell_type": "code",
   "execution_count": null,
   "metadata": {
    "collapsed": false,
    "pycharm": {
     "name": "#%%\n"
    }
   },
   "outputs": [],
   "source": [
    "df['endings']"
   ]
  },
  {
   "cell_type": "code",
   "execution_count": null,
   "metadata": {
    "collapsed": false,
    "pycharm": {
     "name": "#%%\n"
    }
   },
   "outputs": [],
   "source": [
    "df['decisions'].groupby(['qid']).mean()\n",
    "# diferencia entre estos valores y los otros nos dice si tiene predilección por label o no"
   ]
  },
  {
   "cell_type": "code",
   "execution_count": null,
   "metadata": {},
   "outputs": [],
   "source": [
    "dec = df['decisions'].loc[df['decisions']['qid'] != -1,:]\n",
    "dec"
   ]
  },
  {
   "cell_type": "code",
   "execution_count": null,
   "metadata": {},
   "outputs": [],
   "source": [
    "dec = dec[['run','qid','label']].pivot(index='run', columns='qid', values='label').fillna(-1)\n",
    "dec['m'] = models['Random']\n",
    "data.append(dec)\n",
    "dec"
   ]
  },
  {
   "cell_type": "markdown",
   "metadata": {},
   "source": [
    "### Risky Agent"
   ]
  },
  {
   "cell_type": "code",
   "execution_count": null,
   "metadata": {},
   "outputs": [],
   "source": [
    "df_risk = run(get_risky_agent, simulator, n_runs)"
   ]
  },
  {
   "cell_type": "code",
   "execution_count": null,
   "metadata": {},
   "outputs": [],
   "source": [
    "df = df_risk"
   ]
  },
  {
   "cell_type": "code",
   "execution_count": null,
   "metadata": {
    "collapsed": false,
    "pycharm": {
     "name": "#%%\n"
    }
   },
   "outputs": [],
   "source": [
    "df['endings']"
   ]
  },
  {
   "cell_type": "code",
   "execution_count": null,
   "metadata": {
    "collapsed": false,
    "pycharm": {
     "name": "#%%\n"
    }
   },
   "outputs": [],
   "source": [
    "df['decisions'].groupby(['qid']).mean()\n",
    "# diferencia entre estos valores y los otros nos dice si tiene predilección por label o no"
   ]
  },
  {
   "cell_type": "code",
   "execution_count": null,
   "metadata": {},
   "outputs": [],
   "source": [
    "dec = df['decisions'].loc[df['decisions']['qid'] != -1,:]\n",
    "dec"
   ]
  },
  {
   "cell_type": "code",
   "execution_count": null,
   "metadata": {},
   "outputs": [],
   "source": [
    "dec = dec[['run','qid','label']].pivot(index='run', columns='qid', values='label').fillna(-1)\n",
    "dec['m'] = models['Risky']\n",
    "data.append(dec)\n",
    "dec"
   ]
  },
  {
   "cell_type": "code",
   "execution_count": null,
   "metadata": {},
   "outputs": [],
   "source": []
  },
  {
   "cell_type": "markdown",
   "metadata": {},
   "source": [
    "### Risk Aversion (Safe) Agent"
   ]
  },
  {
   "cell_type": "code",
   "execution_count": null,
   "metadata": {},
   "outputs": [],
   "source": [
    "df_no_risky = run(get_safe_agent, simulator, n_runs)"
   ]
  },
  {
   "cell_type": "code",
   "execution_count": null,
   "metadata": {},
   "outputs": [],
   "source": [
    "df = df_no_risky"
   ]
  },
  {
   "cell_type": "code",
   "execution_count": null,
   "metadata": {
    "collapsed": false,
    "pycharm": {
     "name": "#%%\n"
    }
   },
   "outputs": [],
   "source": [
    "df['endings']"
   ]
  },
  {
   "cell_type": "code",
   "execution_count": null,
   "metadata": {
    "collapsed": false,
    "pycharm": {
     "name": "#%%\n"
    }
   },
   "outputs": [],
   "source": [
    "df['decisions'].groupby(['qid']).mean()\n",
    "# diferencia entre estos valores y los otros nos dice si tiene predilección por label o no"
   ]
  },
  {
   "cell_type": "code",
   "execution_count": null,
   "metadata": {},
   "outputs": [],
   "source": [
    "dec = df['decisions'].loc[df['decisions']['qid'] != -1,:]\n",
    "dec"
   ]
  },
  {
   "cell_type": "code",
   "execution_count": null,
   "metadata": {},
   "outputs": [],
   "source": [
    "dec = dec[['run','qid','label']].pivot(index='run', columns='qid', values='label').fillna(-1)\n",
    "dec['m'] = models['No Risky']\n",
    "data.append(dec)\n",
    "dec"
   ]
  },
  {
   "cell_type": "code",
   "execution_count": null,
   "metadata": {},
   "outputs": [],
   "source": []
  },
  {
   "cell_type": "markdown",
   "metadata": {},
   "source": [
    "### Risky But Not Too Much Agent"
   ]
  },
  {
   "cell_type": "code",
   "execution_count": null,
   "metadata": {},
   "outputs": [],
   "source": [
    "df_risk_ntm = run(get_risky_ntm_agent, simulator, n_runs)"
   ]
  },
  {
   "cell_type": "code",
   "execution_count": null,
   "metadata": {},
   "outputs": [],
   "source": [
    "df = df_risk_ntm"
   ]
  },
  {
   "cell_type": "code",
   "execution_count": null,
   "metadata": {
    "collapsed": false,
    "pycharm": {
     "name": "#%%\n"
    }
   },
   "outputs": [],
   "source": [
    "df['endings']"
   ]
  },
  {
   "cell_type": "code",
   "execution_count": null,
   "metadata": {
    "collapsed": false,
    "pycharm": {
     "name": "#%%\n"
    }
   },
   "outputs": [],
   "source": [
    "df['decisions'].groupby(['qid']).mean()\n",
    "# diferencia entre estos valores y los otros nos dice si tiene predilección por label o no"
   ]
  },
  {
   "cell_type": "code",
   "execution_count": null,
   "metadata": {},
   "outputs": [],
   "source": [
    "dec = df['decisions'].loc[df['decisions']['qid'] != -1,:]\n",
    "dec"
   ]
  },
  {
   "cell_type": "code",
   "execution_count": null,
   "metadata": {},
   "outputs": [],
   "source": [
    "dec = dec[['run','qid','label']].pivot(index='run', columns='qid', values='label').fillna(-1)\n",
    "dec['m'] = models['Risky NTM']\n",
    "data.append(dec)\n",
    "dec"
   ]
  },
  {
   "cell_type": "code",
   "execution_count": null,
   "metadata": {},
   "outputs": [],
   "source": []
  },
  {
   "cell_type": "markdown",
   "metadata": {},
   "source": [
    "### Safe But Not Too Much Agent"
   ]
  },
  {
   "cell_type": "code",
   "execution_count": null,
   "metadata": {},
   "outputs": [],
   "source": [
    "df_safe_ntm = run(get_safe_ntm_agent, simulator, n_runs)"
   ]
  },
  {
   "cell_type": "code",
   "execution_count": null,
   "metadata": {},
   "outputs": [],
   "source": [
    "df = df_safe_ntm"
   ]
  },
  {
   "cell_type": "code",
   "execution_count": null,
   "metadata": {
    "collapsed": false,
    "pycharm": {
     "name": "#%%\n"
    }
   },
   "outputs": [],
   "source": [
    "df['endings']"
   ]
  },
  {
   "cell_type": "code",
   "execution_count": null,
   "metadata": {
    "collapsed": false,
    "pycharm": {
     "name": "#%%\n"
    }
   },
   "outputs": [],
   "source": [
    "df['decisions'].groupby(['qid']).mean()\n",
    "# diferencia entre estos valores y los otros nos dice si tiene predilección por label o no"
   ]
  },
  {
   "cell_type": "code",
   "execution_count": null,
   "metadata": {},
   "outputs": [],
   "source": [
    "dec = df['decisions'].loc[df['decisions']['qid'] != -1,:]\n",
    "dec"
   ]
  },
  {
   "cell_type": "code",
   "execution_count": null,
   "metadata": {},
   "outputs": [],
   "source": [
    "dec = dec[['run','qid','label']].pivot(index='run', columns='qid', values='label').fillna(-1)\n",
    "dec['m'] = models['No Risky NTM']\n",
    "data.append(dec)\n",
    "dec"
   ]
  },
  {
   "cell_type": "code",
   "execution_count": null,
   "metadata": {},
   "outputs": [],
   "source": []
  },
  {
   "cell_type": "markdown",
   "metadata": {},
   "source": [
    "## Data Analysis"
   ]
  },
  {
   "cell_type": "code",
   "execution_count": 10,
   "metadata": {},
   "outputs": [],
   "source": [
    "from sklearn.tree import DecisionTreeClassifier\n",
    "from sklearn.linear_model import LogisticRegression\n",
    "from sklearn.model_selection import train_test_split\n",
    "from sklearn import metrics\n",
    "import numpy as np\n",
    "import pandas as pd\n",
    "import matplotlib.pyplot as plt\n",
    "from matplotlib.colors import ListedColormap\n",
    "from sklearn.preprocessing import StandardScaler\n",
    "from sklearn.datasets import make_moons, make_circles, make_classification\n",
    "# from sklearn.neural_network import MLPClassifier\n",
    "from sklearn.neighbors import KNeighborsClassifier\n",
    "from sklearn.svm import SVC\n",
    "from sklearn.gaussian_process import GaussianProcessClassifier\n",
    "from sklearn.gaussian_process.kernels import RBF\n",
    "from sklearn.tree import DecisionTreeClassifier\n",
    "from sklearn.ensemble import RandomForestClassifier, AdaBoostClassifier\n",
    "from sklearn.naive_bayes import GaussianNB\n",
    "# from sklearn.discriminant_analysis import QuadraticDiscriminantAnalysis\n",
    "# from sklearn.inspection import DecisionBoundaryDisplay\n",
    "from tqdm.auto import tqdm"
   ]
  },
  {
   "cell_type": "code",
   "execution_count": 11,
   "metadata": {},
   "outputs": [
    {
     "data": {
      "text/html": [
       "<div>\n",
       "<style scoped>\n",
       "    .dataframe tbody tr th:only-of-type {\n",
       "        vertical-align: middle;\n",
       "    }\n",
       "\n",
       "    .dataframe tbody tr th {\n",
       "        vertical-align: top;\n",
       "    }\n",
       "\n",
       "    .dataframe thead th {\n",
       "        text-align: right;\n",
       "    }\n",
       "</style>\n",
       "<table border=\"1\" class=\"dataframe\">\n",
       "  <thead>\n",
       "    <tr style=\"text-align: right;\">\n",
       "      <th></th>\n",
       "      <th>1.0</th>\n",
       "      <th>2.0</th>\n",
       "      <th>3.0</th>\n",
       "      <th>4.0</th>\n",
       "      <th>5.0</th>\n",
       "      <th>6.0</th>\n",
       "      <th>7.0</th>\n",
       "      <th>8.0</th>\n",
       "      <th>9.0</th>\n",
       "      <th>10.0</th>\n",
       "      <th>11.0</th>\n",
       "      <th>12.0</th>\n",
       "      <th>14.0</th>\n",
       "      <th>15.0</th>\n",
       "      <th>17.0</th>\n",
       "      <th>m</th>\n",
       "    </tr>\n",
       "  </thead>\n",
       "  <tbody>\n",
       "    <tr>\n",
       "      <th>0</th>\n",
       "      <td>-1.0</td>\n",
       "      <td>0.0</td>\n",
       "      <td>-1.0</td>\n",
       "      <td>1.0</td>\n",
       "      <td>1.0</td>\n",
       "      <td>1.0</td>\n",
       "      <td>1.0</td>\n",
       "      <td>0.0</td>\n",
       "      <td>0.0</td>\n",
       "      <td>1.0</td>\n",
       "      <td>0.0</td>\n",
       "      <td>0.0</td>\n",
       "      <td>-1.0</td>\n",
       "      <td>-1.0</td>\n",
       "      <td>0.0</td>\n",
       "      <td>0</td>\n",
       "    </tr>\n",
       "    <tr>\n",
       "      <th>1</th>\n",
       "      <td>-1.0</td>\n",
       "      <td>0.0</td>\n",
       "      <td>-1.0</td>\n",
       "      <td>1.0</td>\n",
       "      <td>1.0</td>\n",
       "      <td>1.0</td>\n",
       "      <td>0.0</td>\n",
       "      <td>-1.0</td>\n",
       "      <td>0.0</td>\n",
       "      <td>1.0</td>\n",
       "      <td>1.0</td>\n",
       "      <td>0.0</td>\n",
       "      <td>-1.0</td>\n",
       "      <td>-1.0</td>\n",
       "      <td>1.0</td>\n",
       "      <td>0</td>\n",
       "    </tr>\n",
       "    <tr>\n",
       "      <th>2</th>\n",
       "      <td>-1.0</td>\n",
       "      <td>1.0</td>\n",
       "      <td>-1.0</td>\n",
       "      <td>1.0</td>\n",
       "      <td>0.0</td>\n",
       "      <td>-1.0</td>\n",
       "      <td>1.0</td>\n",
       "      <td>1.0</td>\n",
       "      <td>1.0</td>\n",
       "      <td>0.0</td>\n",
       "      <td>1.0</td>\n",
       "      <td>0.0</td>\n",
       "      <td>1.0</td>\n",
       "      <td>-1.0</td>\n",
       "      <td>-1.0</td>\n",
       "      <td>0</td>\n",
       "    </tr>\n",
       "    <tr>\n",
       "      <th>3</th>\n",
       "      <td>-1.0</td>\n",
       "      <td>0.0</td>\n",
       "      <td>-1.0</td>\n",
       "      <td>1.0</td>\n",
       "      <td>0.0</td>\n",
       "      <td>-1.0</td>\n",
       "      <td>1.0</td>\n",
       "      <td>1.0</td>\n",
       "      <td>1.0</td>\n",
       "      <td>1.0</td>\n",
       "      <td>1.0</td>\n",
       "      <td>0.0</td>\n",
       "      <td>0.0</td>\n",
       "      <td>-1.0</td>\n",
       "      <td>1.0</td>\n",
       "      <td>0</td>\n",
       "    </tr>\n",
       "    <tr>\n",
       "      <th>4</th>\n",
       "      <td>-1.0</td>\n",
       "      <td>0.0</td>\n",
       "      <td>-1.0</td>\n",
       "      <td>1.0</td>\n",
       "      <td>0.0</td>\n",
       "      <td>-1.0</td>\n",
       "      <td>1.0</td>\n",
       "      <td>0.0</td>\n",
       "      <td>1.0</td>\n",
       "      <td>1.0</td>\n",
       "      <td>1.0</td>\n",
       "      <td>0.0</td>\n",
       "      <td>1.0</td>\n",
       "      <td>1.0</td>\n",
       "      <td>-1.0</td>\n",
       "      <td>0</td>\n",
       "    </tr>\n",
       "    <tr>\n",
       "      <th>...</th>\n",
       "      <td>...</td>\n",
       "      <td>...</td>\n",
       "      <td>...</td>\n",
       "      <td>...</td>\n",
       "      <td>...</td>\n",
       "      <td>...</td>\n",
       "      <td>...</td>\n",
       "      <td>...</td>\n",
       "      <td>...</td>\n",
       "      <td>...</td>\n",
       "      <td>...</td>\n",
       "      <td>...</td>\n",
       "      <td>...</td>\n",
       "      <td>...</td>\n",
       "      <td>...</td>\n",
       "      <td>...</td>\n",
       "    </tr>\n",
       "    <tr>\n",
       "      <th>499995</th>\n",
       "      <td>-1.0</td>\n",
       "      <td>0.0</td>\n",
       "      <td>-1.0</td>\n",
       "      <td>1.0</td>\n",
       "      <td>1.0</td>\n",
       "      <td>1.0</td>\n",
       "      <td>1.0</td>\n",
       "      <td>1.0</td>\n",
       "      <td>0.0</td>\n",
       "      <td>0.0</td>\n",
       "      <td>0.0</td>\n",
       "      <td>0.0</td>\n",
       "      <td>-1.0</td>\n",
       "      <td>-1.0</td>\n",
       "      <td>-1.0</td>\n",
       "      <td>4</td>\n",
       "    </tr>\n",
       "    <tr>\n",
       "      <th>499996</th>\n",
       "      <td>-1.0</td>\n",
       "      <td>0.0</td>\n",
       "      <td>-1.0</td>\n",
       "      <td>1.0</td>\n",
       "      <td>1.0</td>\n",
       "      <td>1.0</td>\n",
       "      <td>1.0</td>\n",
       "      <td>0.0</td>\n",
       "      <td>0.0</td>\n",
       "      <td>0.0</td>\n",
       "      <td>0.0</td>\n",
       "      <td>0.0</td>\n",
       "      <td>-1.0</td>\n",
       "      <td>-1.0</td>\n",
       "      <td>-1.0</td>\n",
       "      <td>4</td>\n",
       "    </tr>\n",
       "    <tr>\n",
       "      <th>499997</th>\n",
       "      <td>-1.0</td>\n",
       "      <td>0.0</td>\n",
       "      <td>-1.0</td>\n",
       "      <td>0.0</td>\n",
       "      <td>0.0</td>\n",
       "      <td>-1.0</td>\n",
       "      <td>0.0</td>\n",
       "      <td>-1.0</td>\n",
       "      <td>0.0</td>\n",
       "      <td>0.0</td>\n",
       "      <td>0.0</td>\n",
       "      <td>0.0</td>\n",
       "      <td>-1.0</td>\n",
       "      <td>-1.0</td>\n",
       "      <td>-1.0</td>\n",
       "      <td>4</td>\n",
       "    </tr>\n",
       "    <tr>\n",
       "      <th>499998</th>\n",
       "      <td>-1.0</td>\n",
       "      <td>0.0</td>\n",
       "      <td>-1.0</td>\n",
       "      <td>0.0</td>\n",
       "      <td>1.0</td>\n",
       "      <td>0.0</td>\n",
       "      <td>0.0</td>\n",
       "      <td>-1.0</td>\n",
       "      <td>0.0</td>\n",
       "      <td>0.0</td>\n",
       "      <td>0.0</td>\n",
       "      <td>0.0</td>\n",
       "      <td>-1.0</td>\n",
       "      <td>-1.0</td>\n",
       "      <td>-1.0</td>\n",
       "      <td>4</td>\n",
       "    </tr>\n",
       "    <tr>\n",
       "      <th>499999</th>\n",
       "      <td>-1.0</td>\n",
       "      <td>0.0</td>\n",
       "      <td>-1.0</td>\n",
       "      <td>1.0</td>\n",
       "      <td>1.0</td>\n",
       "      <td>1.0</td>\n",
       "      <td>1.0</td>\n",
       "      <td>1.0</td>\n",
       "      <td>1.0</td>\n",
       "      <td>1.0</td>\n",
       "      <td>1.0</td>\n",
       "      <td>1.0</td>\n",
       "      <td>-1.0</td>\n",
       "      <td>-1.0</td>\n",
       "      <td>-1.0</td>\n",
       "      <td>4</td>\n",
       "    </tr>\n",
       "  </tbody>\n",
       "</table>\n",
       "<p>500000 rows × 16 columns</p>\n",
       "</div>"
      ],
      "text/plain": [
       "        1.0  2.0  3.0  4.0  5.0  6.0  7.0  8.0  9.0  10.0  11.0  12.0  14.0  \\\n",
       "0      -1.0  0.0 -1.0  1.0  1.0  1.0  1.0  0.0  0.0   1.0   0.0   0.0  -1.0   \n",
       "1      -1.0  0.0 -1.0  1.0  1.0  1.0  0.0 -1.0  0.0   1.0   1.0   0.0  -1.0   \n",
       "2      -1.0  1.0 -1.0  1.0  0.0 -1.0  1.0  1.0  1.0   0.0   1.0   0.0   1.0   \n",
       "3      -1.0  0.0 -1.0  1.0  0.0 -1.0  1.0  1.0  1.0   1.0   1.0   0.0   0.0   \n",
       "4      -1.0  0.0 -1.0  1.0  0.0 -1.0  1.0  0.0  1.0   1.0   1.0   0.0   1.0   \n",
       "...     ...  ...  ...  ...  ...  ...  ...  ...  ...   ...   ...   ...   ...   \n",
       "499995 -1.0  0.0 -1.0  1.0  1.0  1.0  1.0  1.0  0.0   0.0   0.0   0.0  -1.0   \n",
       "499996 -1.0  0.0 -1.0  1.0  1.0  1.0  1.0  0.0  0.0   0.0   0.0   0.0  -1.0   \n",
       "499997 -1.0  0.0 -1.0  0.0  0.0 -1.0  0.0 -1.0  0.0   0.0   0.0   0.0  -1.0   \n",
       "499998 -1.0  0.0 -1.0  0.0  1.0  0.0  0.0 -1.0  0.0   0.0   0.0   0.0  -1.0   \n",
       "499999 -1.0  0.0 -1.0  1.0  1.0  1.0  1.0  1.0  1.0   1.0   1.0   1.0  -1.0   \n",
       "\n",
       "        15.0  17.0  m  \n",
       "0       -1.0   0.0  0  \n",
       "1       -1.0   1.0  0  \n",
       "2       -1.0  -1.0  0  \n",
       "3       -1.0   1.0  0  \n",
       "4        1.0  -1.0  0  \n",
       "...      ...   ... ..  \n",
       "499995  -1.0  -1.0  4  \n",
       "499996  -1.0  -1.0  4  \n",
       "499997  -1.0  -1.0  4  \n",
       "499998  -1.0  -1.0  4  \n",
       "499999  -1.0  -1.0  4  \n",
       "\n",
       "[500000 rows x 16 columns]"
      ]
     },
     "execution_count": 11,
     "metadata": {},
     "output_type": "execute_result"
    }
   ],
   "source": [
    "# df = pd.concat(data, ignore_index=True).fillna(-1)\n",
    "# df.to_csv('results.csv', index=False)\n",
    "df = pd.read_csv('results.csv')\n",
    "df"
   ]
  },
  {
   "cell_type": "code",
   "execution_count": 12,
   "metadata": {},
   "outputs": [],
   "source": [
    "n_classes = len(df['m'].unique())"
   ]
  },
  {
   "cell_type": "code",
   "execution_count": 13,
   "metadata": {},
   "outputs": [],
   "source": [
    "x_train, x_test, y_train, y_test = train_test_split(df.loc[:,df.columns!='m'], df['m'], test_size=0.3)"
   ]
  },
  {
   "cell_type": "code",
   "execution_count": 14,
   "metadata": {},
   "outputs": [
    {
     "data": {
      "text/plain": [
       "4    0.200251\n",
       "3    0.200234\n",
       "1    0.200060\n",
       "0    0.199926\n",
       "2    0.199529\n",
       "Name: m, dtype: float64"
      ]
     },
     "execution_count": 14,
     "metadata": {},
     "output_type": "execute_result"
    }
   ],
   "source": [
    "y_train.value_counts(normalize=True)"
   ]
  },
  {
   "cell_type": "code",
   "execution_count": 15,
   "metadata": {},
   "outputs": [
    {
     "data": {
      "text/plain": [
       "2    0.201100\n",
       "0    0.200173\n",
       "1    0.199860\n",
       "3    0.199453\n",
       "4    0.199413\n",
       "Name: m, dtype: float64"
      ]
     },
     "execution_count": 15,
     "metadata": {},
     "output_type": "execute_result"
    }
   ],
   "source": [
    "y_test.value_counts(normalize=True)"
   ]
  },
  {
   "cell_type": "code",
   "execution_count": 16,
   "metadata": {},
   "outputs": [],
   "source": [
    "x_train = x_train.to_numpy()\n",
    "y_train = y_train.to_numpy()\n",
    "x_test = x_test.to_numpy()\n",
    "y_test = y_test.to_numpy()"
   ]
  },
  {
   "cell_type": "code",
   "execution_count": 19,
   "metadata": {},
   "outputs": [
    {
     "data": {
      "text/plain": [
       "LogisticRegression(max_iter=500)"
      ]
     },
     "execution_count": 19,
     "metadata": {},
     "output_type": "execute_result"
    }
   ],
   "source": [
    "dt = DecisionTreeClassifier()\n",
    "dt.fit(x_train, y_train)\n",
    "\n",
    "lr = LogisticRegression(max_iter=500)\n",
    "lr.fit(x_train, y_train)"
   ]
  },
  {
   "cell_type": "code",
   "execution_count": 20,
   "metadata": {},
   "outputs": [
    {
     "data": {
      "text/plain": [
       "0.7466133333333334"
      ]
     },
     "execution_count": 20,
     "metadata": {},
     "output_type": "execute_result"
    }
   ],
   "source": [
    "dt.score(x_test,y_test)"
   ]
  },
  {
   "cell_type": "code",
   "execution_count": 21,
   "metadata": {},
   "outputs": [
    {
     "name": "stdout",
     "output_type": "stream",
     "text": [
      "              precision    recall  f1-score   support\n",
      "\n",
      "           0      0.615     0.511     0.558     29641\n",
      "           1      0.817     0.806     0.812     30115\n",
      "           2      0.664     0.843     0.743     30278\n",
      "           3      0.802     0.894     0.845     30030\n",
      "           4      0.852     0.674     0.753     29936\n",
      "\n",
      "    accuracy                          0.747    150000\n",
      "   macro avg      0.750     0.746     0.742    150000\n",
      "weighted avg      0.750     0.747     0.743    150000\n",
      "\n",
      "[[0.511 0.127 0.168 0.141 0.052]\n",
      " [0.091 0.806 0.001 0.068 0.034]\n",
      " [0.112 0.    0.843 0.013 0.031]\n",
      " [0.08  0.021 0.005 0.894 0.   ]\n",
      " [0.032 0.034 0.259 0.    0.674]]\n",
      "0.686\n"
     ]
    }
   ],
   "source": [
    "y_pred = dt.predict(x_test)\n",
    "print(metrics.classification_report(y_true=y_test,y_pred=y_pred, digits=3))\n",
    "print(metrics.confusion_matrix(y_true=y_test,y_pred=y_pred, normalize='true').round(3))\n",
    "print(metrics.matthews_corrcoef(y_true=y_test,y_pred=y_pred).round(3))"
   ]
  },
  {
   "cell_type": "code",
   "execution_count": 22,
   "metadata": {},
   "outputs": [
    {
     "data": {
      "text/plain": [
       "0.6773533333333334"
      ]
     },
     "execution_count": 22,
     "metadata": {},
     "output_type": "execute_result"
    }
   ],
   "source": [
    "lr.score(x_test,y_test)"
   ]
  },
  {
   "cell_type": "code",
   "execution_count": 23,
   "metadata": {},
   "outputs": [],
   "source": [
    "# https://scikit-learn.org/stable/auto_examples/classification/plot_classifier_comparison.html\n",
    "# https://scikit-learn.org/stable/auto_examples/neighbors/plot_nca_dim_reduction.html"
   ]
  },
  {
   "cell_type": "code",
   "execution_count": 24,
   "metadata": {},
   "outputs": [],
   "source": [
    "# x,y = x_test,y_test\n",
    "\n",
    "# pca = PCA(n_components=2)\n",
    "# Xreduced = pca.fit_transform(x)\n",
    "# c = DecisionTreeClassifier()\n",
    "# c.fit(Xreduced,y)\n",
    "\n",
    "# def make_meshgrid(x, y, h=.02):\n",
    "#     x_min, x_max = x.min() - 1, x.max() + 1\n",
    "#     y_min, y_max = y.min() - 1, y.max() + 1\n",
    "#     xx, yy = np.meshgrid(np.arange(x_min, x_max, h), np.arange(y_min, y_max, h))\n",
    "#     return xx, yy\n",
    "\n",
    "# def plot_contours(ax, clf, xx, yy, **params):\n",
    "#     Z = clf.predict(np.c_[xx.ravel(), yy.ravel()])\n",
    "#     Z = Z.reshape(xx.shape)\n",
    "#     out = ax.contourf(xx, yy, Z, **params)\n",
    "#     return out\n",
    "\n",
    "# fig, ax = plt.subplots(figsize=(15,15))\n",
    "# # title for the plots\n",
    "# title = ('Decision surface of linear SVC ')\n",
    "# # Set-up grid for plotting.\n",
    "# X0, X1 = Xreduced[:, 0], Xreduced[:, 1]\n",
    "# xx, yy = make_meshgrid(X0, X1)\n",
    "\n",
    "# plot_contours(ax, c, xx, yy, cmap=plt.cm.coolwarm, alpha=0.8)\n",
    "# ax.scatter(X0, X1, c=y, cmap=plt.cm.coolwarm, s=20, edgecolors='k')\n",
    "# ax.set_ylabel('PC2')\n",
    "# ax.set_xlabel('PC1')\n",
    "# ax.set_xticks(())\n",
    "# ax.set_yticks(())\n",
    "# ax.set_title('Decison surface using the PCA transformed/projected features')\n",
    "# ax.legend()\n",
    "# plt.show()"
   ]
  },
  {
   "cell_type": "code",
   "execution_count": null,
   "metadata": {},
   "outputs": [],
   "source": []
  },
  {
   "cell_type": "code",
   "execution_count": null,
   "metadata": {},
   "outputs": [],
   "source": []
  },
  {
   "cell_type": "code",
   "execution_count": 21,
   "metadata": {},
   "outputs": [],
   "source": [
    "c_names = [\n",
    "    'DT',\n",
    "    'LR',\n",
    "    'Ada',\n",
    "    'RF',\n",
    "    'KNN',\n",
    "    'SVC',\n",
    "]\n",
    "\n",
    "classifiers= [\n",
    "    lambda : DecisionTreeClassifier(),\n",
    "    lambda : LogisticRegression(max_iter=500),\n",
    "    lambda : AdaBoostClassifier(),\n",
    "    lambda : RandomForestClassifier(),\n",
    "    lambda : KNeighborsClassifier(n_neighbors=n_classes),\n",
    "    lambda : SVC(kernel='linear'),\n",
    "    # SVC(),    \n",
    "]"
   ]
  },
  {
   "cell_type": "code",
   "execution_count": 19,
   "metadata": {},
   "outputs": [
    {
     "name": "stderr",
     "output_type": "stream",
     "text": [
      "  0%|          | 0/5 [00:00<?, ?it/s]"
     ]
    },
    {
     "name": "stdout",
     "output_type": "stream",
     "text": [
      "\u001b[94m\u001b[1mClassifier <function <lambda> at 0x00000243CE5EC670>\u001b[0m\n"
     ]
    },
    {
     "name": "stderr",
     "output_type": "stream",
     "text": [
      " 20%|██        | 1/5 [00:02<00:10,  2.58s/it]"
     ]
    },
    {
     "name": "stdout",
     "output_type": "stream",
     "text": [
      "\u001b[94m\u001b[1mClassifier DecisionTreeClassifier()\u001b[0m\n"
     ]
    },
    {
     "name": "stderr",
     "output_type": "stream",
     "text": [
      " 40%|████      | 2/5 [01:09<02:01, 40.59s/it]"
     ]
    },
    {
     "name": "stdout",
     "output_type": "stream",
     "text": [
      "\u001b[94m\u001b[1mClassifier LogisticRegression(max_iter=500)\u001b[0m\n"
     ]
    },
    {
     "name": "stderr",
     "output_type": "stream",
     "text": [
      " 60%|██████    | 3/5 [01:45<01:16, 38.26s/it]"
     ]
    },
    {
     "name": "stdout",
     "output_type": "stream",
     "text": [
      "\u001b[94m\u001b[1mClassifier AdaBoostClassifier()\u001b[0m\n"
     ]
    },
    {
     "name": "stderr",
     "output_type": "stream",
     "text": [
      " 80%|████████  | 4/5 [02:30<00:40, 40.87s/it]"
     ]
    },
    {
     "name": "stdout",
     "output_type": "stream",
     "text": [
      "\u001b[94m\u001b[1mClassifier RandomForestClassifier()\u001b[0m\n"
     ]
    },
    {
     "name": "stderr",
     "output_type": "stream",
     "text": [
      "100%|██████████| 5/5 [05:44<00:00, 68.93s/it]\n"
     ]
    }
   ],
   "source": [
    "m = []\n",
    "for cf in tqdm(classifiers):\n",
    "    # print(f\"{color.BLUE}{color.BOLD}Classifier {c}{color.END}\")\n",
    "    \n",
    "    # train model\n",
    "    c = cf()\n",
    "    c.fit(x_train, y_train)\n",
    "    y_pred = c.predict(x_test)\n",
    "\n",
    "    # f1 scores\n",
    "    rep = metrics.classification_report(y_true=y_test,y_pred=y_pred, output_dict=True)\n",
    "    f1 = [rep[str(k)]['f1-score'] for k in models.values()] + [metrics.f1_score(y_true=y_test,y_pred=y_pred, average='weighted')]\n",
    "\n",
    "    # accuracy\n",
    "    cm = metrics.confusion_matrix(y_true=y_test,y_pred=y_pred, normalize='true')\n",
    "    acc = cm.diagonal().tolist() + [rep['accuracy']]\n",
    "\n",
    "    m.append(pd.DataFrame(data=[f1, acc], columns=list(models.keys()) + ['global'], index=['f1', 'accuracy']).round(3))\n",
    "    \n",
    "    # # get evaluation info\n",
    "    # y_pred = c.predict(x_test)\n",
    "    # print(metrics.classification_report(y_true=y_test,y_pred=y_pred, digits=3))\n",
    "    # print(metrics.confusion_matrix(y_true=y_test,y_pred=y_pred, normalize='true').round(3))\n",
    "    # print(metrics.f1_score(y_true=y_test,y_pred=y_pred, average='weighted').round(3))\n",
    "    # print(metrics.matthews_corrcoef(y_true=y_test,y_pred=y_pred).round(3))"
   ]
  },
  {
   "cell_type": "code",
   "execution_count": 24,
   "metadata": {},
   "outputs": [
    {
     "data": {
      "text/html": [
       "<div>\n",
       "<style scoped>\n",
       "    .dataframe tbody tr th:only-of-type {\n",
       "        vertical-align: middle;\n",
       "    }\n",
       "\n",
       "    .dataframe tbody tr th {\n",
       "        vertical-align: top;\n",
       "    }\n",
       "\n",
       "    .dataframe thead th {\n",
       "        text-align: right;\n",
       "    }\n",
       "</style>\n",
       "<table border=\"1\" class=\"dataframe\">\n",
       "  <thead>\n",
       "    <tr style=\"text-align: right;\">\n",
       "      <th></th>\n",
       "      <th></th>\n",
       "      <th>Random</th>\n",
       "      <th>Risky</th>\n",
       "      <th>No Risk</th>\n",
       "      <th>Risky NTM</th>\n",
       "      <th>No Risky NTM</th>\n",
       "      <th>global</th>\n",
       "    </tr>\n",
       "  </thead>\n",
       "  <tbody>\n",
       "    <tr>\n",
       "      <th rowspan=\"2\" valign=\"top\">DT</th>\n",
       "      <th>f1</th>\n",
       "      <td>0.557</td>\n",
       "      <td>0.809</td>\n",
       "      <td>0.744</td>\n",
       "      <td>0.843</td>\n",
       "      <td>0.758</td>\n",
       "      <td>0.742</td>\n",
       "    </tr>\n",
       "    <tr>\n",
       "      <th>accuracy</th>\n",
       "      <td>0.505</td>\n",
       "      <td>0.811</td>\n",
       "      <td>0.845</td>\n",
       "      <td>0.889</td>\n",
       "      <td>0.683</td>\n",
       "      <td>0.747</td>\n",
       "    </tr>\n",
       "    <tr>\n",
       "      <th rowspan=\"2\" valign=\"top\">LR</th>\n",
       "      <th>f1</th>\n",
       "      <td>0.438</td>\n",
       "      <td>0.785</td>\n",
       "      <td>0.716</td>\n",
       "      <td>0.760</td>\n",
       "      <td>0.654</td>\n",
       "      <td>0.670</td>\n",
       "    </tr>\n",
       "    <tr>\n",
       "      <th>accuracy</th>\n",
       "      <td>0.376</td>\n",
       "      <td>0.759</td>\n",
       "      <td>0.781</td>\n",
       "      <td>0.808</td>\n",
       "      <td>0.667</td>\n",
       "      <td>0.678</td>\n",
       "    </tr>\n",
       "    <tr>\n",
       "      <th rowspan=\"2\" valign=\"top\">Ada</th>\n",
       "      <th>f1</th>\n",
       "      <td>0.445</td>\n",
       "      <td>0.785</td>\n",
       "      <td>0.733</td>\n",
       "      <td>0.748</td>\n",
       "      <td>0.668</td>\n",
       "      <td>0.676</td>\n",
       "    </tr>\n",
       "    <tr>\n",
       "      <th>accuracy</th>\n",
       "      <td>0.388</td>\n",
       "      <td>0.757</td>\n",
       "      <td>0.823</td>\n",
       "      <td>0.799</td>\n",
       "      <td>0.650</td>\n",
       "      <td>0.684</td>\n",
       "    </tr>\n",
       "    <tr>\n",
       "      <th rowspan=\"2\" valign=\"top\">RF</th>\n",
       "      <th>f1</th>\n",
       "      <td>0.557</td>\n",
       "      <td>0.809</td>\n",
       "      <td>0.744</td>\n",
       "      <td>0.843</td>\n",
       "      <td>0.758</td>\n",
       "      <td>0.742</td>\n",
       "    </tr>\n",
       "    <tr>\n",
       "      <th>accuracy</th>\n",
       "      <td>0.505</td>\n",
       "      <td>0.810</td>\n",
       "      <td>0.845</td>\n",
       "      <td>0.889</td>\n",
       "      <td>0.683</td>\n",
       "      <td>0.747</td>\n",
       "    </tr>\n",
       "    <tr>\n",
       "      <th rowspan=\"2\" valign=\"top\">KNN</th>\n",
       "      <th>f1</th>\n",
       "      <td>0.518</td>\n",
       "      <td>0.772</td>\n",
       "      <td>0.720</td>\n",
       "      <td>0.812</td>\n",
       "      <td>0.747</td>\n",
       "      <td>0.714</td>\n",
       "    </tr>\n",
       "    <tr>\n",
       "      <th>accuracy</th>\n",
       "      <td>0.496</td>\n",
       "      <td>0.758</td>\n",
       "      <td>0.808</td>\n",
       "      <td>0.826</td>\n",
       "      <td>0.688</td>\n",
       "      <td>0.715</td>\n",
       "    </tr>\n",
       "  </tbody>\n",
       "</table>\n",
       "</div>"
      ],
      "text/plain": [
       "              Random  Risky  No Risk  Risky NTM  No Risky NTM  global\n",
       "DT  f1         0.557  0.809    0.744      0.843         0.758   0.742\n",
       "    accuracy   0.505  0.811    0.845      0.889         0.683   0.747\n",
       "LR  f1         0.438  0.785    0.716      0.760         0.654   0.670\n",
       "    accuracy   0.376  0.759    0.781      0.808         0.667   0.678\n",
       "Ada f1         0.445  0.785    0.733      0.748         0.668   0.676\n",
       "    accuracy   0.388  0.757    0.823      0.799         0.650   0.684\n",
       "RF  f1         0.557  0.809    0.744      0.843         0.758   0.742\n",
       "    accuracy   0.505  0.810    0.845      0.889         0.683   0.747\n",
       "KNN f1         0.518  0.772    0.720      0.812         0.747   0.714\n",
       "    accuracy   0.496  0.758    0.808      0.826         0.688   0.715"
      ]
     },
     "execution_count": 24,
     "metadata": {},
     "output_type": "execute_result"
    }
   ],
   "source": [
    "df_m = pd.concat(m, keys=c_names)\n",
    "# df_m.to_excel('results_metrics.xlsx')\n",
    "df_m"
   ]
  },
  {
   "cell_type": "code",
   "execution_count": null,
   "metadata": {},
   "outputs": [],
   "source": []
  }
 ],
 "metadata": {
  "kernelspec": {
   "display_name": "Python 3.9.7 ('venv': venv)",
   "language": "python",
   "name": "python3"
  },
  "language_info": {
   "codemirror_mode": {
    "name": "ipython",
    "version": 3
   },
   "file_extension": ".py",
   "mimetype": "text/x-python",
   "name": "python",
   "nbconvert_exporter": "python",
   "pygments_lexer": "ipython3",
   "version": "3.9.7"
  },
  "orig_nbformat": 4,
  "vscode": {
   "interpreter": {
    "hash": "8637d4f78556575f1ac156a7aea7b12bf6833eb7f4eeace8ba7eb852b5343aca"
   }
  }
 },
 "nbformat": 4,
 "nbformat_minor": 2
}
