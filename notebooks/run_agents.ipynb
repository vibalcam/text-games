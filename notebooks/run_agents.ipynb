{
 "cells": [
  {
   "cell_type": "code",
   "execution_count": 82,
   "metadata": {
    "pycharm": {
     "name": "#%%\n"
    }
   },
   "outputs": [],
   "source": [
    "import sys\n",
    "sys.path.append('../')"
   ]
  },
  {
   "cell_type": "code",
   "execution_count": 83,
   "metadata": {
    "collapsed": false,
    "pycharm": {
     "name": "#%%\n"
    }
   },
   "outputs": [],
   "source": [
    "import game.agent as ag\n",
    "from game.run import run\n",
    "from game.simulator import load_simulator_yarn, GraphSimulator\n",
    "from pathlib import Path\n",
    "from tqdm.auto import trange\n",
    "import pandas as pd\n",
    "# import mpire\n",
    "import torch"
   ]
  },
  {
   "cell_type": "code",
   "execution_count": 84,
   "metadata": {
    "collapsed": false,
    "pycharm": {
     "name": "#%%\n"
    }
   },
   "outputs": [],
   "source": [
    "n_runs = int(1e4)\n",
    "# n_runs = int(100)\n",
    "seed = None"
   ]
  },
  {
   "cell_type": "code",
   "execution_count": 85,
   "metadata": {
    "collapsed": false,
    "pycharm": {
     "name": "#%%\n"
    }
   },
   "outputs": [],
   "source": [
    "simulator = load_simulator_yarn('../yarnScripts', graph_file_sfx='_graph_transformed.pickle')"
   ]
  },
  {
   "cell_type": "code",
   "execution_count": 86,
   "metadata": {
    "collapsed": false,
    "pycharm": {
     "name": "#%%\n"
    }
   },
   "outputs": [],
   "source": [
    "# label_predictor=ag.TorchLabelPredictor(\n",
    "#             model_path=Path('./saved_bert/200_[20]_[30]_1_False_bert-base-multilingual-cased_0.001_adamw_8_max_val_mcc_False_False_100'),\n",
    "#             use_cpu=False,\n",
    "#         )\n",
    "\n",
    "def get_random_agent():\n",
    "    return ag.RandomAgent(None)\n",
    "\n",
    "# def get_r_agent():\n",
    "#     return ag.LabelDecisorAgent(\n",
    "#         label_predictor=ag.GraphLabelLoader(\n",
    "#             simulator=simulator,\n",
    "#         ),\n",
    "#         decision_maker=ag.RDecisionMaker(\n",
    "#             rand=0.4,\n",
    "#             seed=None,\n",
    "#         )\n",
    "#     )\n",
    "\n",
    "def get_risky_agent():\n",
    "    return ag.LabelDecisorAgent(\n",
    "        label_predictor=ag.GraphLabelLoader(\n",
    "            simulator=simulator,\n",
    "        ),\n",
    "        decision_maker=ag.BehavioralDecisionMaker(\n",
    "            weight_funcs=[\n",
    "                lambda x: x\n",
    "            ],\n",
    "            memory_steps=0,\n",
    "            seed=None,\n",
    "        )\n",
    "    )\n",
    "\n",
    "# def get_not_risky_agent():\n",
    "#     return ag.BehavioralDecisionMaker(\n",
    "#         weight_funcs=[\n",
    "#             lambda x: -x\n",
    "#         ],\n",
    "#         memory_steps=0,\n",
    "#         seed=None,\n",
    "#     )\n",
    "\n",
    "# def get_b_agent():\n",
    "#     return ag.BehavioralDecisionMaker(\n",
    "#         weight_funcs=[\n",
    "#             lambda x: x*torch.as_tensor([0.5, -0.4, -0.3, -0.2])\n",
    "#         ],\n",
    "#         memory_steps=3,\n",
    "#         seed=None,\n",
    "#     )\n",
    "\n",
    "# def get_mc_agent():\n",
    "#     return ag.LabelDecisorAgent(\n",
    "#         label_predictor=ag.GraphLabelLoader(\n",
    "#             simulator=simulator,\n",
    "#         ),\n",
    "#         decisor=ag.MarkovChainAgent(\n",
    "#             rand=0.4,\n",
    "#             seed=None,\n",
    "#         )\n",
    "#     )"
   ]
  },
  {
   "cell_type": "markdown",
   "metadata": {
    "collapsed": false,
    "pycharm": {
     "name": "#%% md\n"
    }
   },
   "source": [
    "## Random Agent"
   ]
  },
  {
   "cell_type": "code",
   "execution_count": 87,
   "metadata": {
    "collapsed": false,
    "pycharm": {
     "name": "#%%\n"
    }
   },
   "outputs": [
    {
     "name": "stderr",
     "output_type": "stream",
     "text": [
      "100%|██████████| 10000/10000 [00:01<00:00, 5522.08it/s]\n"
     ]
    }
   ],
   "source": [
    "df = run(get_random_agent, simulator, n_runs)"
   ]
  },
  {
   "cell_type": "code",
   "execution_count": 88,
   "metadata": {
    "collapsed": false,
    "pycharm": {
     "name": "#%%\n"
    }
   },
   "outputs": [
    {
     "name": "stdout",
     "output_type": "stream",
     "text": [
      "       run         title kind\n",
      "0        0    MaloPadres    0\n",
      "1        1    MaloPadres    0\n",
      "2        2  MaloSilencio    0\n",
      "3        3  MaloSilencio    0\n",
      "4        4   BuenoAmanda    1\n",
      "...    ...           ...  ...\n",
      "9995  9995    MaloAmigos    0\n",
      "9996  9996  MaloSilencio    0\n",
      "9997  9997    MaloAmigos    0\n",
      "9998  9998  MaloSilencio    0\n",
      "9999  9999    MaloPadres    0\n",
      "\n",
      "[10000 rows x 3 columns]\n"
     ]
    }
   ],
   "source": [
    "print(df['endings'])"
   ]
  },
  {
   "cell_type": "code",
   "execution_count": 89,
   "metadata": {
    "collapsed": false,
    "pycharm": {
     "name": "#%%\n"
    }
   },
   "outputs": [
    {
     "data": {
      "text/html": [
       "<div>\n",
       "<style scoped>\n",
       "    .dataframe tbody tr th:only-of-type {\n",
       "        vertical-align: middle;\n",
       "    }\n",
       "\n",
       "    .dataframe tbody tr th {\n",
       "        vertical-align: top;\n",
       "    }\n",
       "\n",
       "    .dataframe thead th {\n",
       "        text-align: right;\n",
       "    }\n",
       "</style>\n",
       "<table border=\"1\" class=\"dataframe\">\n",
       "  <thead>\n",
       "    <tr style=\"text-align: right;\">\n",
       "      <th></th>\n",
       "      <th>run</th>\n",
       "      <th>choice</th>\n",
       "      <th>label</th>\n",
       "    </tr>\n",
       "    <tr>\n",
       "      <th>num</th>\n",
       "      <th></th>\n",
       "      <th></th>\n",
       "      <th></th>\n",
       "    </tr>\n",
       "  </thead>\n",
       "  <tbody>\n",
       "    <tr>\n",
       "      <th>0</th>\n",
       "      <td>4999.500000</td>\n",
       "      <td>0.492800</td>\n",
       "      <td>NaN</td>\n",
       "    </tr>\n",
       "    <tr>\n",
       "      <th>1</th>\n",
       "      <td>4999.500000</td>\n",
       "      <td>0.501500</td>\n",
       "      <td>0.501500</td>\n",
       "    </tr>\n",
       "    <tr>\n",
       "      <th>2</th>\n",
       "      <td>4999.500000</td>\n",
       "      <td>0.000000</td>\n",
       "      <td>NaN</td>\n",
       "    </tr>\n",
       "    <tr>\n",
       "      <th>3</th>\n",
       "      <td>4999.500000</td>\n",
       "      <td>0.498000</td>\n",
       "      <td>NaN</td>\n",
       "    </tr>\n",
       "    <tr>\n",
       "      <th>4</th>\n",
       "      <td>4999.500000</td>\n",
       "      <td>0.000000</td>\n",
       "      <td>NaN</td>\n",
       "    </tr>\n",
       "    <tr>\n",
       "      <th>5</th>\n",
       "      <td>4999.500000</td>\n",
       "      <td>0.494000</td>\n",
       "      <td>0.506000</td>\n",
       "    </tr>\n",
       "    <tr>\n",
       "      <th>6</th>\n",
       "      <td>4999.500000</td>\n",
       "      <td>0.493100</td>\n",
       "      <td>0.493100</td>\n",
       "    </tr>\n",
       "    <tr>\n",
       "      <th>7</th>\n",
       "      <td>4999.500000</td>\n",
       "      <td>0.507800</td>\n",
       "      <td>0.507800</td>\n",
       "    </tr>\n",
       "    <tr>\n",
       "      <th>8</th>\n",
       "      <td>4999.500000</td>\n",
       "      <td>0.373800</td>\n",
       "      <td>0.500402</td>\n",
       "    </tr>\n",
       "    <tr>\n",
       "      <th>9</th>\n",
       "      <td>4999.500000</td>\n",
       "      <td>0.246900</td>\n",
       "      <td>0.499799</td>\n",
       "    </tr>\n",
       "    <tr>\n",
       "      <th>10</th>\n",
       "      <td>4999.500000</td>\n",
       "      <td>0.380700</td>\n",
       "      <td>0.496562</td>\n",
       "    </tr>\n",
       "    <tr>\n",
       "      <th>11</th>\n",
       "      <td>4999.500000</td>\n",
       "      <td>0.497300</td>\n",
       "      <td>0.502700</td>\n",
       "    </tr>\n",
       "    <tr>\n",
       "      <th>12</th>\n",
       "      <td>4999.500000</td>\n",
       "      <td>0.367400</td>\n",
       "      <td>0.508166</td>\n",
       "    </tr>\n",
       "    <tr>\n",
       "      <th>13</th>\n",
       "      <td>4999.500000</td>\n",
       "      <td>0.125100</td>\n",
       "      <td>0.238929</td>\n",
       "    </tr>\n",
       "    <tr>\n",
       "      <th>14</th>\n",
       "      <td>4999.500000</td>\n",
       "      <td>0.000000</td>\n",
       "      <td>0.000000</td>\n",
       "    </tr>\n",
       "    <tr>\n",
       "      <th>15</th>\n",
       "      <td>4999.500000</td>\n",
       "      <td>0.094200</td>\n",
       "      <td>0.251752</td>\n",
       "    </tr>\n",
       "    <tr>\n",
       "      <th>16</th>\n",
       "      <td>4999.500000</td>\n",
       "      <td>0.155400</td>\n",
       "      <td>0.505568</td>\n",
       "    </tr>\n",
       "    <tr>\n",
       "      <th>17</th>\n",
       "      <td>4999.500000</td>\n",
       "      <td>0.150200</td>\n",
       "      <td>0.487547</td>\n",
       "    </tr>\n",
       "    <tr>\n",
       "      <th>18</th>\n",
       "      <td>5001.356257</td>\n",
       "      <td>0.096257</td>\n",
       "      <td>0.500832</td>\n",
       "    </tr>\n",
       "    <tr>\n",
       "      <th>19</th>\n",
       "      <td>5034.400312</td>\n",
       "      <td>0.040437</td>\n",
       "      <td>0.511321</td>\n",
       "    </tr>\n",
       "    <tr>\n",
       "      <th>20</th>\n",
       "      <td>5078.306778</td>\n",
       "      <td>0.000000</td>\n",
       "      <td>NaN</td>\n",
       "    </tr>\n",
       "    <tr>\n",
       "      <th>21</th>\n",
       "      <td>5151.790404</td>\n",
       "      <td>0.000000</td>\n",
       "      <td>NaN</td>\n",
       "    </tr>\n",
       "  </tbody>\n",
       "</table>\n",
       "</div>"
      ],
      "text/plain": [
       "             run    choice     label\n",
       "num                                 \n",
       "0    4999.500000  0.492800       NaN\n",
       "1    4999.500000  0.501500  0.501500\n",
       "2    4999.500000  0.000000       NaN\n",
       "3    4999.500000  0.498000       NaN\n",
       "4    4999.500000  0.000000       NaN\n",
       "5    4999.500000  0.494000  0.506000\n",
       "6    4999.500000  0.493100  0.493100\n",
       "7    4999.500000  0.507800  0.507800\n",
       "8    4999.500000  0.373800  0.500402\n",
       "9    4999.500000  0.246900  0.499799\n",
       "10   4999.500000  0.380700  0.496562\n",
       "11   4999.500000  0.497300  0.502700\n",
       "12   4999.500000  0.367400  0.508166\n",
       "13   4999.500000  0.125100  0.238929\n",
       "14   4999.500000  0.000000  0.000000\n",
       "15   4999.500000  0.094200  0.251752\n",
       "16   4999.500000  0.155400  0.505568\n",
       "17   4999.500000  0.150200  0.487547\n",
       "18   5001.356257  0.096257  0.500832\n",
       "19   5034.400312  0.040437  0.511321\n",
       "20   5078.306778  0.000000       NaN\n",
       "21   5151.790404  0.000000       NaN"
      ]
     },
     "execution_count": 89,
     "metadata": {},
     "output_type": "execute_result"
    }
   ],
   "source": [
    "df['decisions'].groupby(['num']).mean()\n",
    "# diferencia entre estos valores y los otros nos dice si tiene predilección por label o no"
   ]
  },
  {
   "cell_type": "code",
   "execution_count": 90,
   "metadata": {},
   "outputs": [],
   "source": [
    "rand = df['decisions'].groupby(['num']).mean()\n",
    "rand['m'] = 0"
   ]
  },
  {
   "cell_type": "code",
   "execution_count": 91,
   "metadata": {
    "collapsed": false,
    "pycharm": {
     "name": "#%%\n"
    }
   },
   "outputs": [],
   "source": [
    "# df.to_csv('endings.csv')"
   ]
  },
  {
   "cell_type": "markdown",
   "metadata": {
    "collapsed": false,
    "pycharm": {
     "name": "#%% md\n"
    }
   },
   "source": [
    "## R Agent"
   ]
  },
  {
   "cell_type": "code",
   "execution_count": 92,
   "metadata": {
    "collapsed": false,
    "pycharm": {
     "name": "#%%\n"
    }
   },
   "outputs": [],
   "source": [
    "# df = run(get_r_agent, simulator, n_runs)"
   ]
  },
  {
   "cell_type": "markdown",
   "metadata": {},
   "source": [
    "## Risky Agent"
   ]
  },
  {
   "cell_type": "code",
   "execution_count": 103,
   "metadata": {},
   "outputs": [
    {
     "name": "stderr",
     "output_type": "stream",
     "text": [
      "  0%|          | 0/10000 [00:00<?, ?it/s]c:\\Users\\vibal\\PycharmProjects\\text-games\\notebooks\\..\\game\\agent.py:230: UserWarning: Implicit dimension choice for softmax has been deprecated. Change the call to include dim=X as an argument.\n",
      "  self._p = F.softmax((pred * w[None, :]).sum(1)) # (actions, labels) -> (actions)\n",
      "100%|██████████| 10000/10000 [00:34<00:00, 292.53it/s]\n"
     ]
    }
   ],
   "source": [
    "df = run(get_risky_agent, simulator, n_runs)"
   ]
  },
  {
   "cell_type": "code",
   "execution_count": 104,
   "metadata": {
    "collapsed": false,
    "pycharm": {
     "name": "#%%\n"
    }
   },
   "outputs": [
    {
     "name": "stdout",
     "output_type": "stream",
     "text": [
      "       run         title kind\n",
      "0        0    MaloPadres    0\n",
      "1        1    MaloAmanda    0\n",
      "2        2  MaloSilencio    0\n",
      "3        3  MaloSilencio    0\n",
      "4        4    MaloAmigos    0\n",
      "...    ...           ...  ...\n",
      "9995  9995  MaloSilencio    0\n",
      "9996  9996    MaloAmanda    0\n",
      "9997  9997    MaloPadres    0\n",
      "9998  9998  MaloSilencio    0\n",
      "9999  9999    MaloAmanda    0\n",
      "\n",
      "[10000 rows x 3 columns]\n"
     ]
    }
   ],
   "source": [
    "print(df['endings'])"
   ]
  },
  {
   "cell_type": "code",
   "execution_count": 105,
   "metadata": {
    "collapsed": false,
    "pycharm": {
     "name": "#%%\n"
    }
   },
   "outputs": [
    {
     "data": {
      "text/html": [
       "<div>\n",
       "<style scoped>\n",
       "    .dataframe tbody tr th:only-of-type {\n",
       "        vertical-align: middle;\n",
       "    }\n",
       "\n",
       "    .dataframe tbody tr th {\n",
       "        vertical-align: top;\n",
       "    }\n",
       "\n",
       "    .dataframe thead th {\n",
       "        text-align: right;\n",
       "    }\n",
       "</style>\n",
       "<table border=\"1\" class=\"dataframe\">\n",
       "  <thead>\n",
       "    <tr style=\"text-align: right;\">\n",
       "      <th></th>\n",
       "      <th>run</th>\n",
       "      <th>choice</th>\n",
       "      <th>label</th>\n",
       "    </tr>\n",
       "    <tr>\n",
       "      <th>num</th>\n",
       "      <th></th>\n",
       "      <th></th>\n",
       "      <th></th>\n",
       "    </tr>\n",
       "  </thead>\n",
       "  <tbody>\n",
       "    <tr>\n",
       "      <th>0</th>\n",
       "      <td>4999.500000</td>\n",
       "      <td>0.336400</td>\n",
       "      <td>NaN</td>\n",
       "    </tr>\n",
       "    <tr>\n",
       "      <th>1</th>\n",
       "      <td>4999.500000</td>\n",
       "      <td>0.588900</td>\n",
       "      <td>0.588900</td>\n",
       "    </tr>\n",
       "    <tr>\n",
       "      <th>2</th>\n",
       "      <td>4999.500000</td>\n",
       "      <td>0.000000</td>\n",
       "      <td>NaN</td>\n",
       "    </tr>\n",
       "    <tr>\n",
       "      <th>3</th>\n",
       "      <td>4999.500000</td>\n",
       "      <td>0.504700</td>\n",
       "      <td>NaN</td>\n",
       "    </tr>\n",
       "    <tr>\n",
       "      <th>4</th>\n",
       "      <td>4999.500000</td>\n",
       "      <td>0.000000</td>\n",
       "      <td>NaN</td>\n",
       "    </tr>\n",
       "    <tr>\n",
       "      <th>5</th>\n",
       "      <td>4999.500000</td>\n",
       "      <td>0.278100</td>\n",
       "      <td>0.721900</td>\n",
       "    </tr>\n",
       "    <tr>\n",
       "      <th>6</th>\n",
       "      <td>4999.500000</td>\n",
       "      <td>0.571800</td>\n",
       "      <td>0.571800</td>\n",
       "    </tr>\n",
       "    <tr>\n",
       "      <th>7</th>\n",
       "      <td>4999.500000</td>\n",
       "      <td>0.571600</td>\n",
       "      <td>0.571600</td>\n",
       "    </tr>\n",
       "    <tr>\n",
       "      <th>8</th>\n",
       "      <td>4999.500000</td>\n",
       "      <td>0.450700</td>\n",
       "      <td>0.553890</td>\n",
       "    </tr>\n",
       "    <tr>\n",
       "      <th>9</th>\n",
       "      <td>4999.500000</td>\n",
       "      <td>0.233100</td>\n",
       "      <td>0.598243</td>\n",
       "    </tr>\n",
       "    <tr>\n",
       "      <th>10</th>\n",
       "      <td>4999.500000</td>\n",
       "      <td>0.206900</td>\n",
       "      <td>0.698177</td>\n",
       "    </tr>\n",
       "    <tr>\n",
       "      <th>11</th>\n",
       "      <td>4999.500000</td>\n",
       "      <td>0.290900</td>\n",
       "      <td>0.709100</td>\n",
       "    </tr>\n",
       "    <tr>\n",
       "      <th>12</th>\n",
       "      <td>4999.500000</td>\n",
       "      <td>0.221900</td>\n",
       "      <td>0.727295</td>\n",
       "    </tr>\n",
       "    <tr>\n",
       "      <th>13</th>\n",
       "      <td>4999.500000</td>\n",
       "      <td>0.087300</td>\n",
       "      <td>0.453674</td>\n",
       "    </tr>\n",
       "    <tr>\n",
       "      <th>14</th>\n",
       "      <td>4999.500000</td>\n",
       "      <td>0.000000</td>\n",
       "      <td>0.000000</td>\n",
       "    </tr>\n",
       "    <tr>\n",
       "      <th>15</th>\n",
       "      <td>4999.500000</td>\n",
       "      <td>0.109900</td>\n",
       "      <td>0.300975</td>\n",
       "    </tr>\n",
       "    <tr>\n",
       "      <th>16</th>\n",
       "      <td>4999.500000</td>\n",
       "      <td>0.154600</td>\n",
       "      <td>0.599274</td>\n",
       "    </tr>\n",
       "    <tr>\n",
       "      <th>17</th>\n",
       "      <td>4999.500000</td>\n",
       "      <td>0.128200</td>\n",
       "      <td>0.659043</td>\n",
       "    </tr>\n",
       "    <tr>\n",
       "      <th>18</th>\n",
       "      <td>4998.573987</td>\n",
       "      <td>0.094443</td>\n",
       "      <td>0.698897</td>\n",
       "    </tr>\n",
       "    <tr>\n",
       "      <th>19</th>\n",
       "      <td>4980.197128</td>\n",
       "      <td>0.051044</td>\n",
       "      <td>0.685438</td>\n",
       "    </tr>\n",
       "    <tr>\n",
       "      <th>20</th>\n",
       "      <td>5012.353309</td>\n",
       "      <td>0.000000</td>\n",
       "      <td>NaN</td>\n",
       "    </tr>\n",
       "    <tr>\n",
       "      <th>21</th>\n",
       "      <td>5102.462687</td>\n",
       "      <td>0.000000</td>\n",
       "      <td>NaN</td>\n",
       "    </tr>\n",
       "  </tbody>\n",
       "</table>\n",
       "</div>"
      ],
      "text/plain": [
       "             run    choice     label\n",
       "num                                 \n",
       "0    4999.500000  0.336400       NaN\n",
       "1    4999.500000  0.588900  0.588900\n",
       "2    4999.500000  0.000000       NaN\n",
       "3    4999.500000  0.504700       NaN\n",
       "4    4999.500000  0.000000       NaN\n",
       "5    4999.500000  0.278100  0.721900\n",
       "6    4999.500000  0.571800  0.571800\n",
       "7    4999.500000  0.571600  0.571600\n",
       "8    4999.500000  0.450700  0.553890\n",
       "9    4999.500000  0.233100  0.598243\n",
       "10   4999.500000  0.206900  0.698177\n",
       "11   4999.500000  0.290900  0.709100\n",
       "12   4999.500000  0.221900  0.727295\n",
       "13   4999.500000  0.087300  0.453674\n",
       "14   4999.500000  0.000000  0.000000\n",
       "15   4999.500000  0.109900  0.300975\n",
       "16   4999.500000  0.154600  0.599274\n",
       "17   4999.500000  0.128200  0.659043\n",
       "18   4998.573987  0.094443  0.698897\n",
       "19   4980.197128  0.051044  0.685438\n",
       "20   5012.353309  0.000000       NaN\n",
       "21   5102.462687  0.000000       NaN"
      ]
     },
     "execution_count": 105,
     "metadata": {},
     "output_type": "execute_result"
    }
   ],
   "source": [
    "df['decisions'].groupby(['num']).mean()\n",
    "# diferencia entre estos valores y los otros nos dice si tiene predilección por label o no"
   ]
  },
  {
   "cell_type": "code",
   "execution_count": 107,
   "metadata": {},
   "outputs": [
    {
     "data": {
      "text/plain": [
       "<AxesSubplot:xlabel='num'>"
      ]
     },
     "execution_count": 107,
     "metadata": {},
     "output_type": "execute_result"
    },
    {
     "data": {
      "image/png": "[encoded data removed]",
      "text/plain": [
       "<Figure size 432x288 with 1 Axes>"
      ]
     },
     "metadata": {
      "needs_background": "light"
     },
     "output_type": "display_data"
    }
   ],
   "source": [
    "df['decisions'].groupby(['num']).mean()['choice'].plot()"
   ]
  },
  {
   "cell_type": "code",
   "execution_count": 96,
   "metadata": {},
   "outputs": [],
   "source": [
    "risk = df['decisions'].groupby(['num']).mean()\n",
    "risk['m'] = 1"
   ]
  },
  {
   "cell_type": "code",
   "execution_count": null,
   "metadata": {},
   "outputs": [],
   "source": []
  },
  {
   "cell_type": "code",
   "execution_count": 97,
   "metadata": {},
   "outputs": [],
   "source": [
    "from sklearn.tree import DecisionTreeClassifier\n",
    "from sklearn.linear_model import LogisticRegression\n",
    "from sklearn.model_selection import train_test_split"
   ]
  },
  {
   "cell_type": "code",
   "execution_count": 98,
   "metadata": {},
   "outputs": [],
   "source": [
    "df = pd.concat([rand,risk])\n",
    "df = df.reset_index()\n",
    "df = df.dropna()\n",
    "\n",
    "df_train,df_test = train_test_split(df, test_size=0.3)"
   ]
  },
  {
   "cell_type": "code",
   "execution_count": 99,
   "metadata": {},
   "outputs": [
    {
     "data": {
      "text/plain": [
       "LogisticRegression()"
      ]
     },
     "execution_count": 99,
     "metadata": {},
     "output_type": "execute_result"
    }
   ],
   "source": [
    "dt = DecisionTreeClassifier()\n",
    "dt.fit(df_train.loc[:,df.columns!='m'], df_train['m'])\n",
    "\n",
    "lr = LogisticRegression()\n",
    "lr.fit(df_train.loc[:,df.columns!='m'], df_train['m'])"
   ]
  },
  {
   "cell_type": "code",
   "execution_count": 100,
   "metadata": {},
   "outputs": [
    {
     "data": {
      "text/plain": [
       "0.9"
      ]
     },
     "execution_count": 100,
     "metadata": {},
     "output_type": "execute_result"
    }
   ],
   "source": [
    "dt.score(df_test.loc[:,df.columns!='m'], df_test['m'])"
   ]
  },
  {
   "cell_type": "code",
   "execution_count": 101,
   "metadata": {},
   "outputs": [
    {
     "data": {
      "text/plain": [
       "0.4"
      ]
     },
     "execution_count": 101,
     "metadata": {},
     "output_type": "execute_result"
    }
   ],
   "source": [
    "lr.score(df_test.loc[:,df.columns!='m'], df_test['m'])"
   ]
  },
  {
   "cell_type": "markdown",
   "metadata": {},
   "source": [
    "## Risky Agent"
   ]
  },
  {
   "cell_type": "code",
   "execution_count": null,
   "metadata": {},
   "outputs": [],
   "source": [
    "df = run(get_not_risky_agent, simulator, n_runs)"
   ]
  },
  {
   "cell_type": "markdown",
   "metadata": {},
   "source": [
    "## More risk choices, less risky Agent"
   ]
  },
  {
   "cell_type": "code",
   "execution_count": null,
   "metadata": {},
   "outputs": [],
   "source": [
    "df = run(get_b_agent, simulator, n_runs)"
   ]
  },
  {
   "cell_type": "markdown",
   "metadata": {},
   "source": [
    "## Markov Chain Agents"
   ]
  },
  {
   "cell_type": "code",
   "execution_count": null,
   "metadata": {},
   "outputs": [],
   "source": []
  }
 ],
 "metadata": {
  "interpreter": {
   "hash": "cb0a178ae3a89bc5606c5ff8111f45e24760a82322ae520972dc26f0653faace"
  },
  "kernelspec": {
   "display_name": "Python 3.9.5 ('venv': venv)",
   "language": "python",
   "name": "python3"
  },
  "language_info": {
   "codemirror_mode": {
    "name": "ipython",
    "version": 3
   },
   "file_extension": ".py",
   "mimetype": "text/x-python",
   "name": "python",
   "nbconvert_exporter": "python",
   "pygments_lexer": "ipython3",
   "version": "3.9.5"
  },
  "orig_nbformat": 4
 },
 "nbformat": 4,
 "nbformat_minor": 2
}
