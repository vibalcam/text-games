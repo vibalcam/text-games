{
 "cells": [
  {
   "cell_type": "code",
   "execution_count": 18,
   "metadata": {
    "pycharm": {
     "name": "#%%\n"
    }
   },
   "outputs": [],
   "source": [
    "import sys\n",
    "sys.path.append('../')"
   ]
  },
  {
   "cell_type": "code",
   "execution_count": 19,
   "metadata": {
    "collapsed": false,
    "pycharm": {
     "name": "#%%\n"
    }
   },
   "outputs": [],
   "source": [
    "import game.agent as ag\n",
    "from game.run import run\n",
    "from game.simulator import load_simulator_yarn, GraphSimulator\n",
    "from pathlib import Path\n",
    "from tqdm.auto import trange\n",
    "import pandas as pd\n",
    "# import mpire\n",
    "import torch"
   ]
  },
  {
   "cell_type": "code",
   "execution_count": 20,
   "metadata": {
    "collapsed": false,
    "pycharm": {
     "name": "#%%\n"
    }
   },
   "outputs": [],
   "source": [
    "# n_runs = int(1e3)\n",
    "n_runs = int(10)\n",
    "seed = None"
   ]
  },
  {
   "cell_type": "code",
   "execution_count": 21,
   "metadata": {
    "collapsed": false,
    "pycharm": {
     "name": "#%%\n"
    }
   },
   "outputs": [],
   "source": [
    "simulator = load_simulator_yarn('../yarnScripts', graph_file_sfx='_graph_transformed.pickle')"
   ]
  },
  {
   "cell_type": "code",
   "execution_count": 22,
   "metadata": {
    "collapsed": false,
    "pycharm": {
     "name": "#%%\n"
    }
   },
   "outputs": [],
   "source": [
    "# label_predictor=ag.TorchLabelPredictor(\n",
    "#             model_path=Path('./saved_bert/200_[20]_[30]_1_False_bert-base-multilingual-cased_0.001_adamw_8_max_val_mcc_False_False_100'),\n",
    "#             use_cpu=False,\n",
    "#         )\n",
    "\n",
    "def get_random_agent():\n",
    "    return ag.RandomAgent(None)\n",
    "\n",
    "def get_r_agent():\n",
    "    return ag.LabelDecisorAgent(\n",
    "        label_predictor=ag.GraphLabelLoader(\n",
    "            simulator=simulator,\n",
    "        ),\n",
    "        decision_maker=ag.RDecisionMaker(\n",
    "            rand=0.4,\n",
    "            seed=None,\n",
    "        )\n",
    "    )\n",
    "\n",
    "def get_risky_agent():\n",
    "    return ag.LabelDecisorAgent(\n",
    "        label_predictor=ag.GraphLabelLoader(\n",
    "            simulator=simulator,\n",
    "        ),\n",
    "        decision_maker=ag.BehavioralDecisionMaker(\n",
    "            weight_funcs=[\n",
    "                lambda x: x\n",
    "            ],\n",
    "            memory_steps=0,\n",
    "            seed=None,\n",
    "        )\n",
    "    )\n",
    "\n",
    "# def get_not_risky_agent():\n",
    "#     return ag.BehavioralDecisionMaker(\n",
    "#         weight_funcs=[\n",
    "#             lambda x: -x\n",
    "#         ],\n",
    "#         memory_steps=0,\n",
    "#         seed=None,\n",
    "#     )\n",
    "\n",
    "# def get_b_agent():\n",
    "#     return ag.BehavioralDecisionMaker(\n",
    "#         weight_funcs=[\n",
    "#             lambda x: x*torch.as_tensor([0.5, -0.4, -0.3, -0.2])\n",
    "#         ],\n",
    "#         memory_steps=3,\n",
    "#         seed=None,\n",
    "#     )\n",
    "\n",
    "# def get_mc_agent():\n",
    "#     return ag.LabelDecisorAgent(\n",
    "#         label_predictor=ag.GraphLabelLoader(\n",
    "#             simulator=simulator,\n",
    "#         ),\n",
    "#         decisor=ag.MarkovChainAgent(\n",
    "#             rand=0.4,\n",
    "#             seed=None,\n",
    "#         )\n",
    "#     )"
   ]
  },
  {
   "cell_type": "markdown",
   "metadata": {
    "collapsed": false,
    "pycharm": {
     "name": "#%% md\n"
    }
   },
   "source": [
    "## Random Agent"
   ]
  },
  {
   "cell_type": "code",
   "execution_count": 23,
   "metadata": {
    "collapsed": false,
    "pycharm": {
     "name": "#%%\n"
    }
   },
   "outputs": [
    {
     "name": "stderr",
     "output_type": "stream",
     "text": [
      "100%|██████████| 10/10 [00:00<00:00, 3342.07it/s]\n"
     ]
    }
   ],
   "source": [
    "df = run(get_random_agent, simulator, n_runs)"
   ]
  },
  {
   "cell_type": "code",
   "execution_count": 24,
   "metadata": {
    "collapsed": false,
    "pycharm": {
     "name": "#%%\n"
    }
   },
   "outputs": [
    {
     "name": "stdout",
     "output_type": "stream",
     "text": [
      "           title kind\n",
      "0     MaloPadres    0\n",
      "1     MaloAmigos    0\n",
      "2   MaloSilencio    0\n",
      "3  BuenoSilencio    1\n",
      "4   MaloSilencio    0\n",
      "5   MaloSilencio    0\n",
      "6     MaloPadres    0\n",
      "7     MaloPadres    0\n",
      "8   MaloSilencio    0\n",
      "9   MaloSilencio    0\n"
     ]
    }
   ],
   "source": [
    "print(df['endings'])"
   ]
  },
  {
   "cell_type": "code",
   "execution_count": 25,
   "metadata": {
    "collapsed": false,
    "pycharm": {
     "name": "#%%\n"
    }
   },
   "outputs": [
    {
     "data": {
      "text/plain": [
       "decision\n",
       "0.0         0.548077\n",
       "1.0         0.451923\n",
       "dtype: float64"
      ]
     },
     "execution_count": 25,
     "metadata": {},
     "output_type": "execute_result"
    }
   ],
   "source": [
    "df['decisions'].value_counts(normalize=True)"
   ]
  },
  {
   "cell_type": "code",
   "execution_count": 26,
   "metadata": {
    "collapsed": false,
    "pycharm": {
     "name": "#%%\n"
    }
   },
   "outputs": [],
   "source": [
    "# df.to_csv('endings.csv')"
   ]
  },
  {
   "cell_type": "code",
   "execution_count": 27,
   "metadata": {
    "collapsed": false,
    "pycharm": {
     "name": "#%%\n"
    }
   },
   "outputs": [],
   "source": [
    "# df['kind'].value_counts(normalize=True)"
   ]
  },
  {
   "cell_type": "code",
   "execution_count": 28,
   "metadata": {
    "collapsed": false,
    "pycharm": {
     "name": "#%%\n"
    }
   },
   "outputs": [],
   "source": [
    "# df['kind'].value_counts(normalize=True).plot.bar()"
   ]
  },
  {
   "cell_type": "markdown",
   "metadata": {
    "collapsed": false,
    "pycharm": {
     "name": "#%% md\n"
    }
   },
   "source": [
    "## R Agent"
   ]
  },
  {
   "cell_type": "code",
   "execution_count": 29,
   "metadata": {
    "collapsed": false,
    "pycharm": {
     "name": "#%%\n"
    }
   },
   "outputs": [
    {
     "name": "stderr",
     "output_type": "stream",
     "text": [
      "100%|██████████| 10/10 [00:00<00:00, 169.94it/s]\n"
     ]
    }
   ],
   "source": [
    "df = run(get_r_agent, simulator, n_runs)"
   ]
  },
  {
   "cell_type": "markdown",
   "metadata": {},
   "source": [
    "## Risky Agent"
   ]
  },
  {
   "cell_type": "code",
   "execution_count": 30,
   "metadata": {},
   "outputs": [
    {
     "name": "stderr",
     "output_type": "stream",
     "text": [
      "  0%|          | 0/10 [00:00<?, ?it/s]c:\\Users\\vibal\\PycharmProjects\\text-games\\notebooks\\..\\game\\agent.py:230: UserWarning: Implicit dimension choice for softmax has been deprecated. Change the call to include dim=X as an argument.\n",
      "  self._p = F.softmax((pred * w[None, :]).sum(1)) # (actions, labels) -> (actions)  # todo maybe just None check\n",
      "  0%|          | 0/10 [07:44<?, ?it/s]\n"
     ]
    },
    {
     "ename": "IndexError",
     "evalue": "index 1 is out of bounds for dimension 0 with size 1",
     "output_type": "error",
     "traceback": [
      "\u001b[1;31m---------------------------------------------------------------------------\u001b[0m",
      "\u001b[1;31mIndexError\u001b[0m                                Traceback (most recent call last)",
      "\u001b[1;32mc:\\Users\\vibal\\PycharmProjects\\text-games\\notebooks\\run_agents.ipynb Cell 16'\u001b[0m in \u001b[0;36m<module>\u001b[1;34m\u001b[0m\n\u001b[1;32m----> <a href='vscode-notebook-cell:/c%3A/Users/vibal/PycharmProjects/text-games/notebooks/run_agents.ipynb#ch0000021?line=0'>1</a>\u001b[0m df \u001b[39m=\u001b[39m run(get_risky_agent, simulator, n_runs)\n",
      "File \u001b[1;32mc:\\Users\\vibal\\PycharmProjects\\text-games\\notebooks\\..\\game\\run.py:48\u001b[0m, in \u001b[0;36mrun\u001b[1;34m(get_agent, simulator, n_runs, reward_key, ending_key, filename, **kwargs)\u001b[0m\n\u001b[0;32m     <a href='file:///c%3A/Users/vibal/PycharmProjects/text-games/notebooks/../game/run.py?line=44'>45</a>\u001b[0m \u001b[39mif\u001b[39;00m (tmp \u001b[39m:=\u001b[39m simulator\u001b[39m.\u001b[39mget_current_node_attr()\u001b[39m.\u001b[39mget(ending_key, \u001b[39mNone\u001b[39;00m)) \u001b[39mis\u001b[39;00m \u001b[39mnot\u001b[39;00m \u001b[39mNone\u001b[39;00m:\n\u001b[0;32m     <a href='file:///c%3A/Users/vibal/PycharmProjects/text-games/notebooks/../game/run.py?line=45'>46</a>\u001b[0m     final \u001b[39m=\u001b[39m (simulator\u001b[39m.\u001b[39mget_current_node_attr()[GraphSimulator\u001b[39m.\u001b[39mATTR_TITLE], tmp)\n\u001b[1;32m---> <a href='file:///c%3A/Users/vibal/PycharmProjects/text-games/notebooks/../game/run.py?line=47'>48</a>\u001b[0m choice \u001b[39m=\u001b[39m agent\u001b[39m.\u001b[39;49mact(state\u001b[39m=\u001b[39;49mstate, actions\u001b[39m=\u001b[39;49mchoices)\n\u001b[0;32m     <a href='file:///c%3A/Users/vibal/PycharmProjects/text-games/notebooks/../game/run.py?line=48'>49</a>\u001b[0m state, choices, extras \u001b[39m=\u001b[39m simulator\u001b[39m.\u001b[39mtransition(choice)\n\u001b[0;32m     <a href='file:///c%3A/Users/vibal/PycharmProjects/text-games/notebooks/../game/run.py?line=50'>51</a>\u001b[0m \u001b[39m# get extras from decision taken\u001b[39;00m\n",
      "File \u001b[1;32mc:\\Users\\vibal\\PycharmProjects\\text-games\\notebooks\\..\\game\\agent.py:113\u001b[0m, in \u001b[0;36mLabelDecisorAgent.act\u001b[1;34m(self, state, actions, **kwargs)\u001b[0m\n\u001b[0;32m    <a href='file:///c%3A/Users/vibal/PycharmProjects/text-games/notebooks/../game/agent.py?line=110'>111</a>\u001b[0m \u001b[39m@overrides\u001b[39m(check_signature\u001b[39m=\u001b[39m\u001b[39mFalse\u001b[39;00m)\n\u001b[0;32m    <a href='file:///c%3A/Users/vibal/PycharmProjects/text-games/notebooks/../game/agent.py?line=111'>112</a>\u001b[0m \u001b[39mdef\u001b[39;00m \u001b[39mact\u001b[39m(\u001b[39mself\u001b[39m, state:\u001b[39mstr\u001b[39m, actions: List[\u001b[39mstr\u001b[39m], \u001b[39m*\u001b[39m\u001b[39m*\u001b[39mkwargs):\n\u001b[1;32m--> <a href='file:///c%3A/Users/vibal/PycharmProjects/text-games/notebooks/../game/agent.py?line=112'>113</a>\u001b[0m     \u001b[39mreturn\u001b[39;00m \u001b[39mself\u001b[39m\u001b[39m.\u001b[39mdecision_maker\u001b[39m.\u001b[39mdecide(\u001b[39mself\u001b[39m\u001b[39m.\u001b[39mlabel_predictor\u001b[39m.\u001b[39mpredict_label(state\u001b[39m=\u001b[39mstate, actions\u001b[39m=\u001b[39mactions), \u001b[39m*\u001b[39m\u001b[39m*\u001b[39mkwargs)\n",
      "File \u001b[1;32mc:\\Users\\vibal\\PycharmProjects\\text-games\\notebooks\\..\\game\\agent.py:236\u001b[0m, in \u001b[0;36mBehavioralDecisionMaker.decide\u001b[1;34m(self, pred, **kwargs)\u001b[0m\n\u001b[0;32m    <a href='file:///c%3A/Users/vibal/PycharmProjects/text-games/notebooks/../game/agent.py?line=233'>234</a>\u001b[0m \u001b[39m# update memory\u001b[39;00m\n\u001b[0;32m    <a href='file:///c%3A/Users/vibal/PycharmProjects/text-games/notebooks/../game/agent.py?line=234'>235</a>\u001b[0m \u001b[39mself\u001b[39m\u001b[39m.\u001b[39mmemory[\u001b[39m2\u001b[39m:,\u001b[39m.\u001b[39m\u001b[39m.\u001b[39m\u001b[39m.\u001b[39m] \u001b[39m=\u001b[39m \u001b[39mself\u001b[39m\u001b[39m.\u001b[39mmemory[\u001b[39m1\u001b[39m:\u001b[39m-\u001b[39m\u001b[39m1\u001b[39m,\u001b[39m.\u001b[39m\u001b[39m.\u001b[39m\u001b[39m.\u001b[39m]\n\u001b[1;32m--> <a href='file:///c%3A/Users/vibal/PycharmProjects/text-games/notebooks/../game/agent.py?line=235'>236</a>\u001b[0m \u001b[39mself\u001b[39m\u001b[39m.\u001b[39mmemory[\u001b[39m1\u001b[39m,\u001b[39m.\u001b[39m\u001b[39m.\u001b[39m\u001b[39m.\u001b[39m] \u001b[39m=\u001b[39m pred[res,\u001b[39m.\u001b[39m\u001b[39m.\u001b[39m\u001b[39m.\u001b[39m]\n\u001b[0;32m    <a href='file:///c%3A/Users/vibal/PycharmProjects/text-games/notebooks/../game/agent.py?line=237'>238</a>\u001b[0m \u001b[39mreturn\u001b[39;00m res\n",
      "\u001b[1;31mIndexError\u001b[0m: index 1 is out of bounds for dimension 0 with size 1"
     ]
    }
   ],
   "source": [
    "df = run(get_risky_agent, simulator, n_runs)"
   ]
  },
  {
   "cell_type": "markdown",
   "metadata": {},
   "source": [
    "## Risky Agent"
   ]
  },
  {
   "cell_type": "code",
   "execution_count": null,
   "metadata": {},
   "outputs": [],
   "source": [
    "df = run(get_not_risky_agent, simulator, n_runs)"
   ]
  },
  {
   "cell_type": "markdown",
   "metadata": {},
   "source": [
    "## More risk choices, less risky Agent"
   ]
  },
  {
   "cell_type": "code",
   "execution_count": null,
   "metadata": {},
   "outputs": [],
   "source": [
    "df = run(get_b_agent, simulator, n_runs)"
   ]
  },
  {
   "cell_type": "markdown",
   "metadata": {},
   "source": [
    "## Markov Chain Agents"
   ]
  },
  {
   "cell_type": "code",
   "execution_count": null,
   "metadata": {},
   "outputs": [],
   "source": []
  }
 ],
 "metadata": {
  "interpreter": {
   "hash": "cb0a178ae3a89bc5606c5ff8111f45e24760a82322ae520972dc26f0653faace"
  },
  "kernelspec": {
   "display_name": "Python 3.9.5 ('venv': venv)",
   "language": "python",
   "name": "python3"
  },
  "language_info": {
   "codemirror_mode": {
    "name": "ipython",
    "version": 3
   },
   "file_extension": ".py",
   "mimetype": "text/x-python",
   "name": "python",
   "nbconvert_exporter": "python",
   "pygments_lexer": "ipython3",
   "version": "3.9.5"
  },
  "orig_nbformat": 4
 },
 "nbformat": 4,
 "nbformat_minor": 2
}
