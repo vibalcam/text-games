{
 "cells": [
  {
   "cell_type": "code",
   "execution_count": 1,
   "metadata": {},
   "outputs": [],
   "source": [
    "import sys\n",
    "sys.path.append('../')"
   ]
  },
  {
   "cell_type": "code",
   "execution_count": 2,
   "metadata": {},
   "outputs": [],
   "source": [
    "from win10toast import ToastNotifier\n",
    "toast = ToastNotifier()"
   ]
  },
  {
   "cell_type": "code",
   "execution_count": 3,
   "metadata": {},
   "outputs": [],
   "source": [
    "import torch\n",
    "import itertools\n",
    "import pandas as pd\n",
    "import numpy as np\n",
    "from tqdm.auto import tqdm, trange\n",
    "\n",
    "from models.train import train, test\n",
    "from models.models import StateActionModel\n",
    "from models.utils import set_seed\n",
    "\n",
    "from game.simulator import load_simulator_yarn"
   ]
  },
  {
   "cell_type": "code",
   "execution_count": 4,
   "metadata": {},
   "outputs": [],
   "source": [
    "def pretty(ld, indent=0):\n",
    "    with open('result.txt', 'w', encoding='utf-8') as file:\n",
    "        for d in tqdm(ld):\n",
    "            file.write('{' + '\\n')\n",
    "            for key, value in d.items():\n",
    "                file.write('\\t' * (indent+1) + str(key) + ':' + str(value) + '\\n')\n",
    "                # file.write('\\t' * (indent+1) + str(key) + '\\n')\n",
    "                # file.write('\\t' * (indent+2) + str(value) + '\\n')\n",
    "            file.write('},\\n')"
   ]
  },
  {
   "cell_type": "code",
   "execution_count": 5,
   "metadata": {},
   "outputs": [],
   "source": [
    "do_train = True\n",
    "\n",
    "seed = 4444\n",
    "\n",
    "metric_filter_1 = 'test_mcc'\n",
    "metric_filter_2 = 'val_mcc'\n",
    "\n",
    "data_dir = '../yarnScripts'\n",
    "log_path = './logs'\n",
    "save_path = './saved'\n",
    "\n",
    "graph = load_simulator_yarn('../yarnScripts').graph"
   ]
  },
  {
   "cell_type": "markdown",
   "metadata": {},
   "source": [
    "## BERT Fine-tuned"
   ]
  },
  {
   "cell_type": "code",
   "execution_count": 6,
   "metadata": {},
   "outputs": [],
   "source": [
    "save_model = f'{save_path}_bert'\n",
    "log_dir = f'{log_path}_bert'\n",
    "\n",
    "dict_model = dict(\n",
    "    shared_out_dim=[125,75,200],\n",
    "    state_layers=[[20], [30]],\n",
    "    action_layers=[[20], [30]],\n",
    "    out_features=[1],\n",
    "    lstm_model=[False],\n",
    "    bert_name=[\"bert-base-multilingual-cased\"],\n",
    "    # training parameters\n",
    ")\n",
    "\n",
    "list_model = [dict(zip(dict_model.keys(), k)) for k in itertools.product(*dict_model.values())]"
   ]
  },
  {
   "cell_type": "code",
   "execution_count": null,
   "metadata": {},
   "outputs": [],
   "source": [
    "if do_train:\n",
    "    for d in tqdm(list_model):\n",
    "        set_seed(seed)\n",
    "        d = d.copy()\n",
    "\n",
    "        train(\n",
    "            model=StateActionModel(**d),\n",
    "            dict_model=d,\n",
    "            log_dir=log_dir,\n",
    "            graph=graph,\n",
    "            save_path=save_model,\n",
    "            lr=1e-3,\n",
    "            optimizer_name=\"adamw\",\n",
    "            n_epochs=80,\n",
    "            batch_size=8,\n",
    "            num_workers=0,\n",
    "            scheduler_mode='max_val_acc',\n",
    "            debug_mode=False,\n",
    "            steps_save=20,\n",
    "            use_cpu=False,\n",
    "            freeze_bert=True,\n",
    "            balanced_actions=False,\n",
    "            scheduler_patience=20,\n",
    "        )"
   ]
  },
  {
   "cell_type": "markdown",
   "metadata": {},
   "source": [
    "#### Results"
   ]
  },
  {
   "cell_type": "code",
   "execution_count": 7,
   "metadata": {},
   "outputs": [
    {
     "name": "stderr",
     "output_type": "stream",
     "text": [
      "100%|██████████| 218/218 [4:09:54<00:00, 68.78s/it]  \n"
     ]
    },
    {
     "data": {
      "text/plain": [
       "True"
      ]
     },
     "execution_count": 7,
     "metadata": {},
     "output_type": "execute_result"
    }
   ],
   "source": [
    "res_test = test(\n",
    "    graph=graph,\n",
    "    save_path=save_model,\n",
    "    n_runs=1,\n",
    "    batch_size=32,\n",
    "    num_workers=0,\n",
    "    debug_mode=False,\n",
    "    use_cpu=False,\n",
    "    save=True,\n",
    ")\n",
    "\n",
    "toast.show_toast(\"Done\")"
   ]
  },
  {
   "cell_type": "code",
   "execution_count": 8,
   "metadata": {},
   "outputs": [
    {
     "data": {
      "text/plain": [
       "{'dict': {'shared_out_dim': 125,\n",
       "  'state_layers': [20],\n",
       "  'action_layers': [20],\n",
       "  'out_features': 1,\n",
       "  'lstm_model': False,\n",
       "  'bert_name': 'bert-base-multilingual-cased',\n",
       "  'train_lr': 0.001,\n",
       "  'train_optimizer_name': 'adamw',\n",
       "  'train_batch_size': 8,\n",
       "  'train_scheduler_mode': 'max_val_mcc',\n",
       "  'train_balanced_actions': False,\n",
       "  'train_augment_negative': False,\n",
       "  'epoch': 10,\n",
       "  'train_loss': 0.58715725,\n",
       "  'train_acc': 0.8504436016082764,\n",
       "  'val_acc': 0.8471336960792542,\n",
       "  'val_mcc': 0.7060012894938652,\n",
       "  'train_mcc': 0.7019989926701873,\n",
       "  'test_mcc': 0.6549151177748015,\n",
       "  'test_acc': 0.8301886320114136,\n",
       "  'path_name': 'c:\\\\Users\\\\vibal\\\\PycharmProjects\\\\text-games\\\\notebooks\\\\saved_bert\\\\125_[20]_[20]_1_False_bert-base-multilingual-cased_0.001_adamw_8_max_val_mcc_False_False_10'},\n",
       " 'train_cm': [array([[404.,  29.],\n",
       "         [ 89., 267.]], dtype=float32)],\n",
       " 'val_cm': [array([[78.,  4.],\n",
       "         [20., 55.]], dtype=float32)],\n",
       " 'test_cm': [array([[52.,  7.],\n",
       "         [11., 36.]], dtype=float32)]}"
      ]
     },
     "execution_count": 8,
     "metadata": {},
     "output_type": "execute_result"
    }
   ],
   "source": [
    "res_test[0]"
   ]
  },
  {
   "cell_type": "code",
   "execution_count": 9,
   "metadata": {},
   "outputs": [
    {
     "data": {
      "text/plain": [
       "{'shared_out_dim': 125,\n",
       " 'state_layers': [30],\n",
       " 'action_layers': [20],\n",
       " 'out_features': 1,\n",
       " 'lstm_model': False,\n",
       " 'bert_name': 'bert-base-multilingual-cased',\n",
       " 'train_lr': 0.001,\n",
       " 'train_optimizer_name': 'adamw',\n",
       " 'train_batch_size': 8,\n",
       " 'train_scheduler_mode': 'max_val_mcc',\n",
       " 'train_balanced_actions': False,\n",
       " 'train_augment_negative': False,\n",
       " 'epoch': 100,\n",
       " 'train_loss': 0.28085804,\n",
       " 'train_acc': 1.0,\n",
       " 'val_acc': 0.9999998807907104,\n",
       " 'val_mcc': 1.0,\n",
       " 'train_mcc': 1.0,\n",
       " 'test_mcc': 1.0,\n",
       " 'test_acc': 0.9999999403953552,\n",
       " 'path_name': 'c:\\\\Users\\\\vibal\\\\PycharmProjects\\\\text-games\\\\notebooks\\\\saved_bert\\\\125_[30]_[20]_1_False_bert-base-multilingual-cased_0.001_adamw_8_max_val_mcc_False_False_100'}"
      ]
     },
     "execution_count": 9,
     "metadata": {},
     "output_type": "execute_result"
    }
   ],
   "source": [
    "all = res_test\n",
    "# ascending order\n",
    "sort_idx = np.argsort([k['dict'][metric_filter_1] for k in all])[::-1]\n",
    "all[sort_idx[0]]['dict']"
   ]
  },
  {
   "cell_type": "code",
   "execution_count": 10,
   "metadata": {},
   "outputs": [
    {
     "data": {
      "text/plain": [
       "{'shared_out_dim': 125,\n",
       " 'state_layers': [30],\n",
       " 'action_layers': [20],\n",
       " 'out_features': 1,\n",
       " 'lstm_model': False,\n",
       " 'bert_name': 'bert-base-multilingual-cased',\n",
       " 'train_lr': 0.001,\n",
       " 'train_optimizer_name': 'adamw',\n",
       " 'train_batch_size': 8,\n",
       " 'train_scheduler_mode': 'max_val_mcc',\n",
       " 'train_balanced_actions': False,\n",
       " 'train_augment_negative': False,\n",
       " 'epoch': 100,\n",
       " 'train_loss': 0.28085804,\n",
       " 'train_acc': 1.0,\n",
       " 'val_acc': 0.9999998807907104,\n",
       " 'val_mcc': 1.0,\n",
       " 'train_mcc': 1.0,\n",
       " 'test_mcc': 1.0,\n",
       " 'test_acc': 0.9999999403953552,\n",
       " 'path_name': 'c:\\\\Users\\\\vibal\\\\PycharmProjects\\\\text-games\\\\notebooks\\\\saved_bert\\\\125_[30]_[20]_1_False_bert-base-multilingual-cased_0.001_adamw_8_max_val_mcc_False_False_100'}"
      ]
     },
     "execution_count": 10,
     "metadata": {},
     "output_type": "execute_result"
    }
   ],
   "source": [
    "all = res_test\n",
    "# ascending order\n",
    "sort_idx = np.argsort([k['dict'][metric_filter_2] for k in all])[::-1]\n",
    "all[sort_idx[0]]['dict']"
   ]
  },
  {
   "cell_type": "markdown",
   "metadata": {},
   "source": [
    "#### cm"
   ]
  },
  {
   "cell_type": "code",
   "execution_count": 11,
   "metadata": {},
   "outputs": [],
   "source": [
    "cm = all[sort_idx[0]]['test_cm'][0]"
   ]
  },
  {
   "cell_type": "code",
   "execution_count": 12,
   "metadata": {},
   "outputs": [
    {
     "data": {
      "text/plain": [
       "<module 'matplotlib.pyplot' from 'c:\\\\Users\\\\vibal\\\\PycharmProjects\\\\text-games\\\\venv\\\\lib\\\\site-packages\\\\matplotlib\\\\pyplot.py'>"
      ]
     },
     "execution_count": 12,
     "metadata": {},
     "output_type": "execute_result"
    },
    {
     "data": {
      "image/png": "[encoded data removed]",
      "text/plain": [
       "<Figure size 1080x720 with 2 Axes>"
      ]
     },
     "metadata": {
      "needs_background": "light"
     },
     "output_type": "display_data"
    }
   ],
   "source": [
    "cm.visualize()"
   ]
  },
  {
   "cell_type": "code",
   "execution_count": 13,
   "metadata": {},
   "outputs": [
    {
     "data": {
      "text/plain": [
       "tensor([1.0000, 1.0000])"
      ]
     },
     "execution_count": 13,
     "metadata": {},
     "output_type": "execute_result"
    }
   ],
   "source": [
    "cm.class_accuracy"
   ]
  },
  {
   "cell_type": "markdown",
   "metadata": {},
   "source": [
    "## BERT Fine-tuned augment negatives"
   ]
  },
  {
   "cell_type": "code",
   "execution_count": 21,
   "metadata": {},
   "outputs": [],
   "source": [
    "save_model = f'{save_path}_neg_nf'\n",
    "log_dir = f'{log_path}_neg_nf'\n",
    "\n",
    "dict_model = dict(\n",
    "    shared_out_dim=[128,64,256],\n",
    "    state_layers=[[20], [30]],\n",
    "    action_layers=[[20], [30]],\n",
    "    # shared_out_dim=[75],\n",
    "    # state_layers=[[30]],\n",
    "    # action_layers=[[30]],\n",
    "    out_features=[1],\n",
    "    lstm_model=[False],\n",
    "    bert_name=[\"bert-base-multilingual-cased\"],\n",
    "    # training parameters\n",
    ")\n",
    "\n",
    "list_model = [dict(zip(dict_model.keys(), k)) for k in itertools.product(*dict_model.values())]"
   ]
  },
  {
   "cell_type": "code",
   "execution_count": null,
   "metadata": {},
   "outputs": [],
   "source": [
    "if do_train:\n",
    "    for d in tqdm(list_model):\n",
    "        set_seed(seed)\n",
    "        d = d.copy()\n",
    "\n",
    "        train(\n",
    "            model=StateActionModel(**d),\n",
    "            dict_model=d,\n",
    "            log_dir=log_dir,\n",
    "            graph=graph,\n",
    "            save_path=save_model,\n",
    "            lr=1e-3,\n",
    "            optimizer_name=\"adamw\",\n",
    "            n_epochs=120,\n",
    "            batch_size=16,\n",
    "            num_workers=0,\n",
    "            scheduler_mode='max_val_mcc',\n",
    "            debug_mode=False,\n",
    "            steps_save=25,\n",
    "            use_cpu=False,\n",
    "            freeze_bert=True,\n",
    "            balanced_actions=False,\n",
    "            augment_negative=True,\n",
    "            scheduler_patience=15,\n",
    "        )"
   ]
  },
  {
   "cell_type": "markdown",
   "metadata": {},
   "source": [
    "#### Results"
   ]
  },
  {
   "cell_type": "code",
   "execution_count": 13,
   "metadata": {},
   "outputs": [
    {
     "name": "stderr",
     "output_type": "stream",
     "text": [
      "100%|██████████| 52/52 [44:03<00:00, 50.83s/it]\n"
     ]
    },
    {
     "data": {
      "text/plain": [
       "True"
      ]
     },
     "execution_count": 13,
     "metadata": {},
     "output_type": "execute_result"
    }
   ],
   "source": [
    "res_test = test(\n",
    "    graph=graph,\n",
    "    save_path=save_model,\n",
    "    n_runs=1,\n",
    "    batch_size=64,\n",
    "    num_workers=0,\n",
    "    debug_mode=False,\n",
    "    use_cpu=False,\n",
    "    save=True,\n",
    ")\n",
    "\n",
    "toast.show_toast(\"Done\")"
   ]
  },
  {
   "cell_type": "code",
   "execution_count": 14,
   "metadata": {},
   "outputs": [
    {
     "data": {
      "text/plain": [
       "{'dict': {'shared_out_dim': 125,\n",
       "  'state_layers': [20],\n",
       "  'action_layers': [20],\n",
       "  'out_features': 1,\n",
       "  'lstm_model': False,\n",
       "  'bert_name': 'bert-base-multilingual-cased',\n",
       "  'train_lr': 0.001,\n",
       "  'train_optimizer_name': 'adamw',\n",
       "  'train_batch_size': 16,\n",
       "  'train_scheduler_mode': 'max_val_acc',\n",
       "  'train_balanced_actions': False,\n",
       "  'train_augment_negative': True,\n",
       "  'train_scheduler_patience': 15,\n",
       "  'epoch': 100,\n",
       "  'train_loss': 0.55674917,\n",
       "  'train_acc': 0.7579213976860046,\n",
       "  'val_acc': 0.7834393978118896,\n",
       "  'val_mcc': 0.5819756820944954,\n",
       "  'path_name': 'saved_neg\\\\125_[20]_[20]_1_False_bert-base-multilingual-cased_0.001_adamw_16_max_val_acc_False_True_15_100',\n",
       "  'train_mcc': 0.5488043981095888,\n",
       "  'test_mcc': 0.6164802220221751,\n",
       "  'test_acc': 0.7830188274383545},\n",
       " 'train_cm': [array([[279., 154.],\n",
       "         [ 37., 319.]], dtype=float32)],\n",
       " 'val_cm': [array([[57., 25.],\n",
       "         [ 9., 66.]], dtype=float32)],\n",
       " 'test_cm': [array([[38., 21.],\n",
       "         [ 2., 45.]], dtype=float32)]}"
      ]
     },
     "execution_count": 14,
     "metadata": {},
     "output_type": "execute_result"
    }
   ],
   "source": [
    "res_test[0]"
   ]
  },
  {
   "cell_type": "code",
   "execution_count": 15,
   "metadata": {},
   "outputs": [
    {
     "data": {
      "text/plain": [
       "{'shared_out_dim': 125,\n",
       " 'state_layers': [20],\n",
       " 'action_layers': [20],\n",
       " 'out_features': 1,\n",
       " 'lstm_model': False,\n",
       " 'bert_name': 'bert-base-multilingual-cased',\n",
       " 'train_lr': 0.001,\n",
       " 'train_optimizer_name': 'adamw',\n",
       " 'train_batch_size': 16,\n",
       " 'train_scheduler_mode': 'max_val_acc',\n",
       " 'train_balanced_actions': False,\n",
       " 'train_augment_negative': True,\n",
       " 'train_scheduler_patience': 15,\n",
       " 'epoch': 50,\n",
       " 'train_loss': 0.59630173,\n",
       " 'train_acc': 0.8821292519569397,\n",
       " 'val_acc': 0.9044585227966309,\n",
       " 'val_mcc': 0.8088043734960404,\n",
       " 'path_name': 'saved_neg\\\\125_[20]_[20]_1_False_bert-base-multilingual-cased_0.001_adamw_16_max_val_acc_False_True_15_50',\n",
       " 'train_mcc': 0.7640110776323683,\n",
       " 'test_mcc': 0.7834478150981965,\n",
       " 'test_acc': 0.8867923617362976}"
      ]
     },
     "execution_count": 15,
     "metadata": {},
     "output_type": "execute_result"
    }
   ],
   "source": [
    "all = res_test\n",
    "# ascending order\n",
    "sort_idx = np.argsort([k['dict'][metric_filter_1] for k in all])[::-1]\n",
    "all[sort_idx[0]]['dict']"
   ]
  },
  {
   "cell_type": "code",
   "execution_count": 16,
   "metadata": {},
   "outputs": [
    {
     "data": {
      "text/plain": [
       "{'shared_out_dim': 125,\n",
       " 'state_layers': [20],\n",
       " 'action_layers': [20],\n",
       " 'out_features': 1,\n",
       " 'lstm_model': False,\n",
       " 'bert_name': 'bert-base-multilingual-cased',\n",
       " 'train_lr': 0.001,\n",
       " 'train_optimizer_name': 'adamw',\n",
       " 'train_batch_size': 16,\n",
       " 'train_scheduler_mode': 'max_val_acc',\n",
       " 'train_balanced_actions': False,\n",
       " 'train_augment_negative': True,\n",
       " 'train_scheduler_patience': 15,\n",
       " 'epoch': 50,\n",
       " 'train_loss': 0.59630173,\n",
       " 'train_acc': 0.8821292519569397,\n",
       " 'val_acc': 0.9044585227966309,\n",
       " 'val_mcc': 0.8088043734960404,\n",
       " 'path_name': 'saved_neg\\\\125_[20]_[20]_1_False_bert-base-multilingual-cased_0.001_adamw_16_max_val_acc_False_True_15_50',\n",
       " 'train_mcc': 0.7640110776323683,\n",
       " 'test_mcc': 0.7834478150981965,\n",
       " 'test_acc': 0.8867923617362976}"
      ]
     },
     "execution_count": 16,
     "metadata": {},
     "output_type": "execute_result"
    }
   ],
   "source": [
    "all = res_test\n",
    "# ascending order\n",
    "sort_idx = np.argsort([k['dict'][metric_filter_2] for k in all])[::-1]\n",
    "all[sort_idx[0]]['dict']"
   ]
  },
  {
   "cell_type": "markdown",
   "metadata": {},
   "source": [
    "#### cm"
   ]
  },
  {
   "cell_type": "code",
   "execution_count": 17,
   "metadata": {},
   "outputs": [],
   "source": [
    "cm = all[sort_idx[0]]['test_cm'][0]"
   ]
  },
  {
   "cell_type": "code",
   "execution_count": 18,
   "metadata": {},
   "outputs": [
    {
     "data": {
      "text/plain": [
       "<module 'matplotlib.pyplot' from 'c:\\\\Users\\\\vibal\\\\PycharmProjects\\\\text-games\\\\venv\\\\lib\\\\site-packages\\\\matplotlib\\\\pyplot.py'>"
      ]
     },
     "execution_count": 18,
     "metadata": {},
     "output_type": "execute_result"
    },
    {
     "data": {
      "image/png": "[encoded data removed]",
      "text/plain": [
       "<Figure size 1080x720 with 2 Axes>"
      ]
     },
     "metadata": {
      "needs_background": "light"
     },
     "output_type": "display_data"
    }
   ],
   "source": [
    "cm.visualize()"
   ]
  },
  {
   "cell_type": "code",
   "execution_count": 19,
   "metadata": {},
   "outputs": [
    {
     "data": {
      "text/plain": [
       "tensor([0.8305, 0.9574])"
      ]
     },
     "execution_count": 19,
     "metadata": {},
     "output_type": "execute_result"
    }
   ],
   "source": [
    "cm.class_accuracy"
   ]
  },
  {
   "cell_type": "markdown",
   "metadata": {},
   "source": [
    "## BERT Fine-tuned balanced_actions"
   ]
  },
  {
   "cell_type": "code",
   "execution_count": 14,
   "metadata": {},
   "outputs": [],
   "source": [
    "save_model = f'{save_path}_balanced'\n",
    "log_dir = f'{log_path}_balanced'\n",
    "\n",
    "dict_model = dict(\n",
    "    shared_out_dim=[125,75,200],\n",
    "    state_layers=[[20], [30]],\n",
    "    action_layers=[[20], [30]],\n",
    "    out_features=[1],\n",
    "    lstm_model=[False],\n",
    "    bert_name=[\"bert-base-multilingual-cased\"],\n",
    "    # training parameters\n",
    ")\n",
    "\n",
    "list_model = [dict(zip(dict_model.keys(), k)) for k in itertools.product(*dict_model.values())]"
   ]
  },
  {
   "cell_type": "code",
   "execution_count": 16,
   "metadata": {},
   "outputs": [
    {
     "name": "stderr",
     "output_type": "stream",
     "text": [
      "  0%|          | 0/12 [00:00<?, ?it/s]Some weights of the model checkpoint at bert-base-multilingual-cased were not used when initializing BertModel: ['cls.predictions.transform.LayerNorm.weight', 'cls.predictions.transform.dense.bias', 'cls.predictions.transform.dense.weight', 'cls.seq_relationship.weight', 'cls.predictions.bias', 'cls.seq_relationship.bias', 'cls.predictions.decoder.weight', 'cls.predictions.transform.LayerNorm.bias']\n",
      "- This IS expected if you are initializing BertModel from the checkpoint of a model trained on another task or with another architecture (e.g. initializing a BertForSequenceClassification model from a BertForPreTraining model).\n",
      "- This IS NOT expected if you are initializing BertModel from the checkpoint of a model that you expect to be exactly identical (initializing a BertForSequenceClassification model from a BertForSequenceClassification model).\n",
      "shared_out_dim=125/state_layers=[20]/action_layers=[20]/out_features=1/lstm_model=False/bert_name=bert-base-multilingual-cased/train_lr=0.001/train_optimizer_name=adamw/train_batch_size=8/train_scheduler_mode=max_val_acc/train_balanced_actions=True/train_augment_negative=True/train_scheduler_patience=450 -> 0:   0%|          | 0/4500 [00:00<?, ?it/s]\n",
      "  0%|          | 0/12 [00:07<?, ?it/s]\n"
     ]
    },
    {
     "ename": "RuntimeError",
     "evalue": "Deterministic behavior was enabled with either `torch.use_deterministic_algorithms(True)` or `at::Context::setDeterministicAlgorithms(true)`, but this operation is not deterministic because it uses CuBLAS and you have CUDA >= 10.2. To enable deterministic behavior in this case, you must set an environment variable before running your PyTorch application: CUBLAS_WORKSPACE_CONFIG=:4096:8 or CUBLAS_WORKSPACE_CONFIG=:16:8. For more information, go to https://docs.nvidia.com/cuda/cublas/index.html#cublasApi_reproducibility",
     "output_type": "error",
     "traceback": [
      "\u001b[1;31m---------------------------------------------------------------------------\u001b[0m",
      "\u001b[1;31mRuntimeError\u001b[0m                              Traceback (most recent call last)",
      "\u001b[1;32mc:\\Users\\vibal\\PycharmProjects\\text-games\\notebooks\\models_training.ipynb Cell 32'\u001b[0m in \u001b[0;36m<module>\u001b[1;34m\u001b[0m\n\u001b[0;32m      <a href='vscode-notebook-cell:/c%3A/Users/vibal/PycharmProjects/text-games/notebooks/models_training.ipynb#ch0000031?line=2'>3</a>\u001b[0m set_seed(seed)\n\u001b[0;32m      <a href='vscode-notebook-cell:/c%3A/Users/vibal/PycharmProjects/text-games/notebooks/models_training.ipynb#ch0000031?line=3'>4</a>\u001b[0m d \u001b[39m=\u001b[39m d\u001b[39m.\u001b[39mcopy()\n\u001b[1;32m----> <a href='vscode-notebook-cell:/c%3A/Users/vibal/PycharmProjects/text-games/notebooks/models_training.ipynb#ch0000031?line=5'>6</a>\u001b[0m train(\n\u001b[0;32m      <a href='vscode-notebook-cell:/c%3A/Users/vibal/PycharmProjects/text-games/notebooks/models_training.ipynb#ch0000031?line=6'>7</a>\u001b[0m     model\u001b[39m=\u001b[39;49mStateActionModel(\u001b[39m*\u001b[39;49m\u001b[39m*\u001b[39;49md),\n\u001b[0;32m      <a href='vscode-notebook-cell:/c%3A/Users/vibal/PycharmProjects/text-games/notebooks/models_training.ipynb#ch0000031?line=7'>8</a>\u001b[0m     dict_model\u001b[39m=\u001b[39;49md,\n\u001b[0;32m      <a href='vscode-notebook-cell:/c%3A/Users/vibal/PycharmProjects/text-games/notebooks/models_training.ipynb#ch0000031?line=8'>9</a>\u001b[0m     log_dir\u001b[39m=\u001b[39;49mlog_dir,\n\u001b[0;32m     <a href='vscode-notebook-cell:/c%3A/Users/vibal/PycharmProjects/text-games/notebooks/models_training.ipynb#ch0000031?line=9'>10</a>\u001b[0m     graph\u001b[39m=\u001b[39;49mgraph,\n\u001b[0;32m     <a href='vscode-notebook-cell:/c%3A/Users/vibal/PycharmProjects/text-games/notebooks/models_training.ipynb#ch0000031?line=10'>11</a>\u001b[0m     save_path\u001b[39m=\u001b[39;49msave_model,\n\u001b[0;32m     <a href='vscode-notebook-cell:/c%3A/Users/vibal/PycharmProjects/text-games/notebooks/models_training.ipynb#ch0000031?line=11'>12</a>\u001b[0m     lr\u001b[39m=\u001b[39;49m\u001b[39m1e-3\u001b[39;49m,\n\u001b[0;32m     <a href='vscode-notebook-cell:/c%3A/Users/vibal/PycharmProjects/text-games/notebooks/models_training.ipynb#ch0000031?line=12'>13</a>\u001b[0m     optimizer_name\u001b[39m=\u001b[39;49m\u001b[39m\"\u001b[39;49m\u001b[39madamw\u001b[39;49m\u001b[39m\"\u001b[39;49m,\n\u001b[0;32m     <a href='vscode-notebook-cell:/c%3A/Users/vibal/PycharmProjects/text-games/notebooks/models_training.ipynb#ch0000031?line=13'>14</a>\u001b[0m     n_epochs\u001b[39m=\u001b[39;49m\u001b[39m4500\u001b[39;49m,\n\u001b[0;32m     <a href='vscode-notebook-cell:/c%3A/Users/vibal/PycharmProjects/text-games/notebooks/models_training.ipynb#ch0000031?line=14'>15</a>\u001b[0m     batch_size\u001b[39m=\u001b[39;49m\u001b[39m8\u001b[39;49m,\n\u001b[0;32m     <a href='vscode-notebook-cell:/c%3A/Users/vibal/PycharmProjects/text-games/notebooks/models_training.ipynb#ch0000031?line=15'>16</a>\u001b[0m     num_workers\u001b[39m=\u001b[39;49m\u001b[39m0\u001b[39;49m,\n\u001b[0;32m     <a href='vscode-notebook-cell:/c%3A/Users/vibal/PycharmProjects/text-games/notebooks/models_training.ipynb#ch0000031?line=16'>17</a>\u001b[0m     scheduler_mode\u001b[39m=\u001b[39;49m\u001b[39m'\u001b[39;49m\u001b[39mmax_val_acc\u001b[39;49m\u001b[39m'\u001b[39;49m,\n\u001b[0;32m     <a href='vscode-notebook-cell:/c%3A/Users/vibal/PycharmProjects/text-games/notebooks/models_training.ipynb#ch0000031?line=17'>18</a>\u001b[0m     debug_mode\u001b[39m=\u001b[39;49m\u001b[39mFalse\u001b[39;49;00m,\n\u001b[0;32m     <a href='vscode-notebook-cell:/c%3A/Users/vibal/PycharmProjects/text-games/notebooks/models_training.ipynb#ch0000031?line=18'>19</a>\u001b[0m     steps_save\u001b[39m=\u001b[39;49m\u001b[39m450\u001b[39;49m,\n\u001b[0;32m     <a href='vscode-notebook-cell:/c%3A/Users/vibal/PycharmProjects/text-games/notebooks/models_training.ipynb#ch0000031?line=19'>20</a>\u001b[0m     use_cpu\u001b[39m=\u001b[39;49m\u001b[39mFalse\u001b[39;49;00m,\n\u001b[0;32m     <a href='vscode-notebook-cell:/c%3A/Users/vibal/PycharmProjects/text-games/notebooks/models_training.ipynb#ch0000031?line=20'>21</a>\u001b[0m     freeze_bert\u001b[39m=\u001b[39;49m\u001b[39mTrue\u001b[39;49;00m,\n\u001b[0;32m     <a href='vscode-notebook-cell:/c%3A/Users/vibal/PycharmProjects/text-games/notebooks/models_training.ipynb#ch0000031?line=21'>22</a>\u001b[0m     balanced_actions\u001b[39m=\u001b[39;49m\u001b[39mTrue\u001b[39;49;00m,\n\u001b[0;32m     <a href='vscode-notebook-cell:/c%3A/Users/vibal/PycharmProjects/text-games/notebooks/models_training.ipynb#ch0000031?line=22'>23</a>\u001b[0m     augment_negative\u001b[39m=\u001b[39;49m\u001b[39mTrue\u001b[39;49;00m,\n\u001b[0;32m     <a href='vscode-notebook-cell:/c%3A/Users/vibal/PycharmProjects/text-games/notebooks/models_training.ipynb#ch0000031?line=23'>24</a>\u001b[0m     scheduler_patience\u001b[39m=\u001b[39;49m\u001b[39m450\u001b[39;49m,\n\u001b[0;32m     <a href='vscode-notebook-cell:/c%3A/Users/vibal/PycharmProjects/text-games/notebooks/models_training.ipynb#ch0000031?line=24'>25</a>\u001b[0m )\n",
      "File \u001b[1;32mc:\\Users\\vibal\\PycharmProjects\\text-games\\notebooks\\..\\models\\train.py:155\u001b[0m, in \u001b[0;36mtrain\u001b[1;34m(model, dict_model, graph, log_dir, save_path, lr, optimizer_name, n_epochs, batch_size, num_workers, scheduler_mode, debug_mode, device, steps_save, use_cpu, freeze_bert, balanced_actions, augment_negative, scheduler_patience)\u001b[0m\n\u001b[0;32m    <a href='file:///c%3A/Users/vibal/PycharmProjects/text-games/notebooks/../models/train.py?line=151'>152</a>\u001b[0m model\u001b[39m.\u001b[39mfreeze_bert(freeze_bert)\n\u001b[0;32m    <a href='file:///c%3A/Users/vibal/PycharmProjects/text-games/notebooks/../models/train.py?line=152'>153</a>\u001b[0m \u001b[39mfor\u001b[39;00m state, action, reward \u001b[39min\u001b[39;00m loader_train:\n\u001b[0;32m    <a href='file:///c%3A/Users/vibal/PycharmProjects/text-games/notebooks/../models/train.py?line=153'>154</a>\u001b[0m     \u001b[39m# Compute loss and update parameters\u001b[39;00m\n\u001b[1;32m--> <a href='file:///c%3A/Users/vibal/PycharmProjects/text-games/notebooks/../models/train.py?line=154'>155</a>\u001b[0m     pred \u001b[39m=\u001b[39m model(state, action)[:, \u001b[39m0\u001b[39m]\n\u001b[0;32m    <a href='file:///c%3A/Users/vibal/PycharmProjects/text-games/notebooks/../models/train.py?line=155'>156</a>\u001b[0m     loss_val \u001b[39m=\u001b[39m loss(pred, reward)\n\u001b[0;32m    <a href='file:///c%3A/Users/vibal/PycharmProjects/text-games/notebooks/../models/train.py?line=157'>158</a>\u001b[0m     \u001b[39m# Do back propagation\u001b[39;00m\n",
      "File \u001b[1;32mc:\\Users\\vibal\\PycharmProjects\\text-games\\venv\\lib\\site-packages\\torch\\nn\\modules\\module.py:1102\u001b[0m, in \u001b[0;36mModule._call_impl\u001b[1;34m(self, *input, **kwargs)\u001b[0m\n\u001b[0;32m   <a href='file:///c%3A/Users/vibal/PycharmProjects/text-games/venv/lib/site-packages/torch/nn/modules/module.py?line=1097'>1098</a>\u001b[0m \u001b[39m# If we don't have any hooks, we want to skip the rest of the logic in\u001b[39;00m\n\u001b[0;32m   <a href='file:///c%3A/Users/vibal/PycharmProjects/text-games/venv/lib/site-packages/torch/nn/modules/module.py?line=1098'>1099</a>\u001b[0m \u001b[39m# this function, and just call forward.\u001b[39;00m\n\u001b[0;32m   <a href='file:///c%3A/Users/vibal/PycharmProjects/text-games/venv/lib/site-packages/torch/nn/modules/module.py?line=1099'>1100</a>\u001b[0m \u001b[39mif\u001b[39;00m \u001b[39mnot\u001b[39;00m (\u001b[39mself\u001b[39m\u001b[39m.\u001b[39m_backward_hooks \u001b[39mor\u001b[39;00m \u001b[39mself\u001b[39m\u001b[39m.\u001b[39m_forward_hooks \u001b[39mor\u001b[39;00m \u001b[39mself\u001b[39m\u001b[39m.\u001b[39m_forward_pre_hooks \u001b[39mor\u001b[39;00m _global_backward_hooks\n\u001b[0;32m   <a href='file:///c%3A/Users/vibal/PycharmProjects/text-games/venv/lib/site-packages/torch/nn/modules/module.py?line=1100'>1101</a>\u001b[0m         \u001b[39mor\u001b[39;00m _global_forward_hooks \u001b[39mor\u001b[39;00m _global_forward_pre_hooks):\n\u001b[1;32m-> <a href='file:///c%3A/Users/vibal/PycharmProjects/text-games/venv/lib/site-packages/torch/nn/modules/module.py?line=1101'>1102</a>\u001b[0m     \u001b[39mreturn\u001b[39;00m forward_call(\u001b[39m*\u001b[39m\u001b[39minput\u001b[39m, \u001b[39m*\u001b[39m\u001b[39m*\u001b[39mkwargs)\n\u001b[0;32m   <a href='file:///c%3A/Users/vibal/PycharmProjects/text-games/venv/lib/site-packages/torch/nn/modules/module.py?line=1102'>1103</a>\u001b[0m \u001b[39m# Do not call functions when jit is used\u001b[39;00m\n\u001b[0;32m   <a href='file:///c%3A/Users/vibal/PycharmProjects/text-games/venv/lib/site-packages/torch/nn/modules/module.py?line=1103'>1104</a>\u001b[0m full_backward_hooks, non_full_backward_hooks \u001b[39m=\u001b[39m [], []\n",
      "File \u001b[1;32mc:\\Users\\vibal\\PycharmProjects\\text-games\\notebooks\\..\\models\\models.py:275\u001b[0m, in \u001b[0;36mStateActionModel.forward\u001b[1;34m(self, state, action)\u001b[0m\n\u001b[0;32m    <a href='file:///c%3A/Users/vibal/PycharmProjects/text-games/notebooks/../models/models.py?line=267'>268</a>\u001b[0m \u001b[39mdef\u001b[39;00m \u001b[39mforward\u001b[39m(\u001b[39mself\u001b[39m, state: Dict[\u001b[39mstr\u001b[39m, torch\u001b[39m.\u001b[39mTensor], action: Dict[\u001b[39mstr\u001b[39m, torch\u001b[39m.\u001b[39mTensor]) \u001b[39m-\u001b[39m\u001b[39m>\u001b[39m torch\u001b[39m.\u001b[39mTensor:\n\u001b[0;32m    <a href='file:///c%3A/Users/vibal/PycharmProjects/text-games/notebooks/../models/models.py?line=268'>269</a>\u001b[0m     \u001b[39m\"\"\"\u001b[39;00m\n\u001b[0;32m    <a href='file:///c%3A/Users/vibal/PycharmProjects/text-games/notebooks/../models/models.py?line=269'>270</a>\u001b[0m \u001b[39m    Method which runs the given input through the classifier\u001b[39;00m\n\u001b[0;32m    <a href='file:///c%3A/Users/vibal/PycharmProjects/text-games/notebooks/../models/models.py?line=270'>271</a>\u001b[0m \u001b[39m    :param action: dict of torch.Tensor(B,input_size), output of the tokenizer\u001b[39;00m\n\u001b[0;32m    <a href='file:///c%3A/Users/vibal/PycharmProjects/text-games/notebooks/../models/models.py?line=271'>272</a>\u001b[0m \u001b[39m    :param state: dict of torch.Tensor(B,input_size), output of the tokenizer\u001b[39;00m\n\u001b[0;32m    <a href='file:///c%3A/Users/vibal/PycharmProjects/text-games/notebooks/../models/models.py?line=272'>273</a>\u001b[0m \u001b[39m    :return: torch.Tensor(B, out_features)\u001b[39;00m\n\u001b[0;32m    <a href='file:///c%3A/Users/vibal/PycharmProjects/text-games/notebooks/../models/models.py?line=273'>274</a>\u001b[0m \u001b[39m    \"\"\"\u001b[39;00m\n\u001b[1;32m--> <a href='file:///c%3A/Users/vibal/PycharmProjects/text-games/notebooks/../models/models.py?line=274'>275</a>\u001b[0m     state \u001b[39m=\u001b[39m \u001b[39mself\u001b[39m\u001b[39m.\u001b[39mstate(\u001b[39mself\u001b[39;49m\u001b[39m.\u001b[39;49mshared(state))\n\u001b[0;32m    <a href='file:///c%3A/Users/vibal/PycharmProjects/text-games/notebooks/../models/models.py?line=275'>276</a>\u001b[0m     action \u001b[39m=\u001b[39m \u001b[39mself\u001b[39m\u001b[39m.\u001b[39maction(\u001b[39mself\u001b[39m\u001b[39m.\u001b[39mshared(action))\n\u001b[0;32m    <a href='file:///c%3A/Users/vibal/PycharmProjects/text-games/notebooks/../models/models.py?line=276'>277</a>\u001b[0m     \u001b[39mreturn\u001b[39;00m \u001b[39mself\u001b[39m\u001b[39m.\u001b[39moutput(torch\u001b[39m.\u001b[39mconcat((state, action), \u001b[39m1\u001b[39m))\n",
      "File \u001b[1;32mc:\\Users\\vibal\\PycharmProjects\\text-games\\venv\\lib\\site-packages\\torch\\nn\\modules\\module.py:1102\u001b[0m, in \u001b[0;36mModule._call_impl\u001b[1;34m(self, *input, **kwargs)\u001b[0m\n\u001b[0;32m   <a href='file:///c%3A/Users/vibal/PycharmProjects/text-games/venv/lib/site-packages/torch/nn/modules/module.py?line=1097'>1098</a>\u001b[0m \u001b[39m# If we don't have any hooks, we want to skip the rest of the logic in\u001b[39;00m\n\u001b[0;32m   <a href='file:///c%3A/Users/vibal/PycharmProjects/text-games/venv/lib/site-packages/torch/nn/modules/module.py?line=1098'>1099</a>\u001b[0m \u001b[39m# this function, and just call forward.\u001b[39;00m\n\u001b[0;32m   <a href='file:///c%3A/Users/vibal/PycharmProjects/text-games/venv/lib/site-packages/torch/nn/modules/module.py?line=1099'>1100</a>\u001b[0m \u001b[39mif\u001b[39;00m \u001b[39mnot\u001b[39;00m (\u001b[39mself\u001b[39m\u001b[39m.\u001b[39m_backward_hooks \u001b[39mor\u001b[39;00m \u001b[39mself\u001b[39m\u001b[39m.\u001b[39m_forward_hooks \u001b[39mor\u001b[39;00m \u001b[39mself\u001b[39m\u001b[39m.\u001b[39m_forward_pre_hooks \u001b[39mor\u001b[39;00m _global_backward_hooks\n\u001b[0;32m   <a href='file:///c%3A/Users/vibal/PycharmProjects/text-games/venv/lib/site-packages/torch/nn/modules/module.py?line=1100'>1101</a>\u001b[0m         \u001b[39mor\u001b[39;00m _global_forward_hooks \u001b[39mor\u001b[39;00m _global_forward_pre_hooks):\n\u001b[1;32m-> <a href='file:///c%3A/Users/vibal/PycharmProjects/text-games/venv/lib/site-packages/torch/nn/modules/module.py?line=1101'>1102</a>\u001b[0m     \u001b[39mreturn\u001b[39;00m forward_call(\u001b[39m*\u001b[39m\u001b[39minput\u001b[39m, \u001b[39m*\u001b[39m\u001b[39m*\u001b[39mkwargs)\n\u001b[0;32m   <a href='file:///c%3A/Users/vibal/PycharmProjects/text-games/venv/lib/site-packages/torch/nn/modules/module.py?line=1102'>1103</a>\u001b[0m \u001b[39m# Do not call functions when jit is used\u001b[39;00m\n\u001b[0;32m   <a href='file:///c%3A/Users/vibal/PycharmProjects/text-games/venv/lib/site-packages/torch/nn/modules/module.py?line=1103'>1104</a>\u001b[0m full_backward_hooks, non_full_backward_hooks \u001b[39m=\u001b[39m [], []\n",
      "File \u001b[1;32mc:\\Users\\vibal\\PycharmProjects\\text-games\\notebooks\\..\\models\\models.py:128\u001b[0m, in \u001b[0;36mStateActionModel.BertSharedBlock.forward\u001b[1;34m(self, x)\u001b[0m\n\u001b[0;32m    <a href='file:///c%3A/Users/vibal/PycharmProjects/text-games/notebooks/../models/models.py?line=121'>122</a>\u001b[0m \u001b[39m\"\"\"\u001b[39;00m\n\u001b[0;32m    <a href='file:///c%3A/Users/vibal/PycharmProjects/text-games/notebooks/../models/models.py?line=122'>123</a>\u001b[0m \u001b[39mMethod which runs the given input through the block\u001b[39;00m\n\u001b[0;32m    <a href='file:///c%3A/Users/vibal/PycharmProjects/text-games/notebooks/../models/models.py?line=123'>124</a>\u001b[0m \u001b[39m:param x: dict of torch.Tensor(B,sequence_length), output of the tokenizer\u001b[39;00m\n\u001b[0;32m    <a href='file:///c%3A/Users/vibal/PycharmProjects/text-games/notebooks/../models/models.py?line=124'>125</a>\u001b[0m \u001b[39m:return: torch.Tensor(B,out_features)\u001b[39;00m\n\u001b[0;32m    <a href='file:///c%3A/Users/vibal/PycharmProjects/text-games/notebooks/../models/models.py?line=125'>126</a>\u001b[0m \u001b[39m\"\"\"\u001b[39;00m\n\u001b[0;32m    <a href='file:///c%3A/Users/vibal/PycharmProjects/text-games/notebooks/../models/models.py?line=126'>127</a>\u001b[0m \u001b[39m# z = self.bert(**x)\u001b[39;00m\n\u001b[1;32m--> <a href='file:///c%3A/Users/vibal/PycharmProjects/text-games/notebooks/../models/models.py?line=127'>128</a>\u001b[0m z \u001b[39m=\u001b[39m \u001b[39mself\u001b[39;49m\u001b[39m.\u001b[39;49mbert(input_ids\u001b[39m=\u001b[39;49mx[\u001b[39m'\u001b[39;49m\u001b[39minput_ids\u001b[39;49m\u001b[39m'\u001b[39;49m], token_type_ids\u001b[39m=\u001b[39;49mx[\u001b[39m'\u001b[39;49m\u001b[39mtoken_type_ids\u001b[39;49m\u001b[39m'\u001b[39;49m],\n\u001b[0;32m    <a href='file:///c%3A/Users/vibal/PycharmProjects/text-games/notebooks/../models/models.py?line=128'>129</a>\u001b[0m attention_mask\u001b[39m=\u001b[39;49mx[\u001b[39m'\u001b[39;49m\u001b[39mattention_mask\u001b[39;49m\u001b[39m'\u001b[39;49m])\n\u001b[0;32m    <a href='file:///c%3A/Users/vibal/PycharmProjects/text-games/notebooks/../models/models.py?line=129'>130</a>\u001b[0m \u001b[39mreturn\u001b[39;00m \u001b[39mself\u001b[39m\u001b[39m.\u001b[39mnet(z[\u001b[39m'\u001b[39m\u001b[39mpooler_output\u001b[39m\u001b[39m'\u001b[39m])\n",
      "File \u001b[1;32mc:\\Users\\vibal\\PycharmProjects\\text-games\\venv\\lib\\site-packages\\torch\\nn\\modules\\module.py:1102\u001b[0m, in \u001b[0;36mModule._call_impl\u001b[1;34m(self, *input, **kwargs)\u001b[0m\n\u001b[0;32m   <a href='file:///c%3A/Users/vibal/PycharmProjects/text-games/venv/lib/site-packages/torch/nn/modules/module.py?line=1097'>1098</a>\u001b[0m \u001b[39m# If we don't have any hooks, we want to skip the rest of the logic in\u001b[39;00m\n\u001b[0;32m   <a href='file:///c%3A/Users/vibal/PycharmProjects/text-games/venv/lib/site-packages/torch/nn/modules/module.py?line=1098'>1099</a>\u001b[0m \u001b[39m# this function, and just call forward.\u001b[39;00m\n\u001b[0;32m   <a href='file:///c%3A/Users/vibal/PycharmProjects/text-games/venv/lib/site-packages/torch/nn/modules/module.py?line=1099'>1100</a>\u001b[0m \u001b[39mif\u001b[39;00m \u001b[39mnot\u001b[39;00m (\u001b[39mself\u001b[39m\u001b[39m.\u001b[39m_backward_hooks \u001b[39mor\u001b[39;00m \u001b[39mself\u001b[39m\u001b[39m.\u001b[39m_forward_hooks \u001b[39mor\u001b[39;00m \u001b[39mself\u001b[39m\u001b[39m.\u001b[39m_forward_pre_hooks \u001b[39mor\u001b[39;00m _global_backward_hooks\n\u001b[0;32m   <a href='file:///c%3A/Users/vibal/PycharmProjects/text-games/venv/lib/site-packages/torch/nn/modules/module.py?line=1100'>1101</a>\u001b[0m         \u001b[39mor\u001b[39;00m _global_forward_hooks \u001b[39mor\u001b[39;00m _global_forward_pre_hooks):\n\u001b[1;32m-> <a href='file:///c%3A/Users/vibal/PycharmProjects/text-games/venv/lib/site-packages/torch/nn/modules/module.py?line=1101'>1102</a>\u001b[0m     \u001b[39mreturn\u001b[39;00m forward_call(\u001b[39m*\u001b[39m\u001b[39minput\u001b[39m, \u001b[39m*\u001b[39m\u001b[39m*\u001b[39mkwargs)\n\u001b[0;32m   <a href='file:///c%3A/Users/vibal/PycharmProjects/text-games/venv/lib/site-packages/torch/nn/modules/module.py?line=1102'>1103</a>\u001b[0m \u001b[39m# Do not call functions when jit is used\u001b[39;00m\n\u001b[0;32m   <a href='file:///c%3A/Users/vibal/PycharmProjects/text-games/venv/lib/site-packages/torch/nn/modules/module.py?line=1103'>1104</a>\u001b[0m full_backward_hooks, non_full_backward_hooks \u001b[39m=\u001b[39m [], []\n",
      "File \u001b[1;32mc:\\Users\\vibal\\PycharmProjects\\text-games\\venv\\lib\\site-packages\\transformers\\models\\bert\\modeling_bert.py:996\u001b[0m, in \u001b[0;36mBertModel.forward\u001b[1;34m(self, input_ids, attention_mask, token_type_ids, position_ids, head_mask, inputs_embeds, encoder_hidden_states, encoder_attention_mask, past_key_values, use_cache, output_attentions, output_hidden_states, return_dict)\u001b[0m\n\u001b[0;32m    <a href='file:///c%3A/Users/vibal/PycharmProjects/text-games/venv/lib/site-packages/transformers/models/bert/modeling_bert.py?line=986'>987</a>\u001b[0m head_mask \u001b[39m=\u001b[39m \u001b[39mself\u001b[39m\u001b[39m.\u001b[39mget_head_mask(head_mask, \u001b[39mself\u001b[39m\u001b[39m.\u001b[39mconfig\u001b[39m.\u001b[39mnum_hidden_layers)\n\u001b[0;32m    <a href='file:///c%3A/Users/vibal/PycharmProjects/text-games/venv/lib/site-packages/transformers/models/bert/modeling_bert.py?line=988'>989</a>\u001b[0m embedding_output \u001b[39m=\u001b[39m \u001b[39mself\u001b[39m\u001b[39m.\u001b[39membeddings(\n\u001b[0;32m    <a href='file:///c%3A/Users/vibal/PycharmProjects/text-games/venv/lib/site-packages/transformers/models/bert/modeling_bert.py?line=989'>990</a>\u001b[0m     input_ids\u001b[39m=\u001b[39minput_ids,\n\u001b[0;32m    <a href='file:///c%3A/Users/vibal/PycharmProjects/text-games/venv/lib/site-packages/transformers/models/bert/modeling_bert.py?line=990'>991</a>\u001b[0m     position_ids\u001b[39m=\u001b[39mposition_ids,\n\u001b[1;32m   (...)\u001b[0m\n\u001b[0;32m    <a href='file:///c%3A/Users/vibal/PycharmProjects/text-games/venv/lib/site-packages/transformers/models/bert/modeling_bert.py?line=993'>994</a>\u001b[0m     past_key_values_length\u001b[39m=\u001b[39mpast_key_values_length,\n\u001b[0;32m    <a href='file:///c%3A/Users/vibal/PycharmProjects/text-games/venv/lib/site-packages/transformers/models/bert/modeling_bert.py?line=994'>995</a>\u001b[0m )\n\u001b[1;32m--> <a href='file:///c%3A/Users/vibal/PycharmProjects/text-games/venv/lib/site-packages/transformers/models/bert/modeling_bert.py?line=995'>996</a>\u001b[0m encoder_outputs \u001b[39m=\u001b[39m \u001b[39mself\u001b[39;49m\u001b[39m.\u001b[39;49mencoder(\n\u001b[0;32m    <a href='file:///c%3A/Users/vibal/PycharmProjects/text-games/venv/lib/site-packages/transformers/models/bert/modeling_bert.py?line=996'>997</a>\u001b[0m     embedding_output,\n\u001b[0;32m    <a href='file:///c%3A/Users/vibal/PycharmProjects/text-games/venv/lib/site-packages/transformers/models/bert/modeling_bert.py?line=997'>998</a>\u001b[0m     attention_mask\u001b[39m=\u001b[39;49mextended_attention_mask,\n\u001b[0;32m    <a href='file:///c%3A/Users/vibal/PycharmProjects/text-games/venv/lib/site-packages/transformers/models/bert/modeling_bert.py?line=998'>999</a>\u001b[0m     head_mask\u001b[39m=\u001b[39;49mhead_mask,\n\u001b[0;32m   <a href='file:///c%3A/Users/vibal/PycharmProjects/text-games/venv/lib/site-packages/transformers/models/bert/modeling_bert.py?line=999'>1000</a>\u001b[0m     encoder_hidden_states\u001b[39m=\u001b[39;49mencoder_hidden_states,\n\u001b[0;32m   <a href='file:///c%3A/Users/vibal/PycharmProjects/text-games/venv/lib/site-packages/transformers/models/bert/modeling_bert.py?line=1000'>1001</a>\u001b[0m     encoder_attention_mask\u001b[39m=\u001b[39;49mencoder_extended_attention_mask,\n\u001b[0;32m   <a href='file:///c%3A/Users/vibal/PycharmProjects/text-games/venv/lib/site-packages/transformers/models/bert/modeling_bert.py?line=1001'>1002</a>\u001b[0m     past_key_values\u001b[39m=\u001b[39;49mpast_key_values,\n\u001b[0;32m   <a href='file:///c%3A/Users/vibal/PycharmProjects/text-games/venv/lib/site-packages/transformers/models/bert/modeling_bert.py?line=1002'>1003</a>\u001b[0m     use_cache\u001b[39m=\u001b[39;49muse_cache,\n\u001b[0;32m   <a href='file:///c%3A/Users/vibal/PycharmProjects/text-games/venv/lib/site-packages/transformers/models/bert/modeling_bert.py?line=1003'>1004</a>\u001b[0m     output_attentions\u001b[39m=\u001b[39;49moutput_attentions,\n\u001b[0;32m   <a href='file:///c%3A/Users/vibal/PycharmProjects/text-games/venv/lib/site-packages/transformers/models/bert/modeling_bert.py?line=1004'>1005</a>\u001b[0m     output_hidden_states\u001b[39m=\u001b[39;49moutput_hidden_states,\n\u001b[0;32m   <a href='file:///c%3A/Users/vibal/PycharmProjects/text-games/venv/lib/site-packages/transformers/models/bert/modeling_bert.py?line=1005'>1006</a>\u001b[0m     return_dict\u001b[39m=\u001b[39;49mreturn_dict,\n\u001b[0;32m   <a href='file:///c%3A/Users/vibal/PycharmProjects/text-games/venv/lib/site-packages/transformers/models/bert/modeling_bert.py?line=1006'>1007</a>\u001b[0m )\n\u001b[0;32m   <a href='file:///c%3A/Users/vibal/PycharmProjects/text-games/venv/lib/site-packages/transformers/models/bert/modeling_bert.py?line=1007'>1008</a>\u001b[0m sequence_output \u001b[39m=\u001b[39m encoder_outputs[\u001b[39m0\u001b[39m]\n\u001b[0;32m   <a href='file:///c%3A/Users/vibal/PycharmProjects/text-games/venv/lib/site-packages/transformers/models/bert/modeling_bert.py?line=1008'>1009</a>\u001b[0m pooled_output \u001b[39m=\u001b[39m \u001b[39mself\u001b[39m\u001b[39m.\u001b[39mpooler(sequence_output) \u001b[39mif\u001b[39;00m \u001b[39mself\u001b[39m\u001b[39m.\u001b[39mpooler \u001b[39mis\u001b[39;00m \u001b[39mnot\u001b[39;00m \u001b[39mNone\u001b[39;00m \u001b[39melse\u001b[39;00m \u001b[39mNone\u001b[39;00m\n",
      "File \u001b[1;32mc:\\Users\\vibal\\PycharmProjects\\text-games\\venv\\lib\\site-packages\\torch\\nn\\modules\\module.py:1102\u001b[0m, in \u001b[0;36mModule._call_impl\u001b[1;34m(self, *input, **kwargs)\u001b[0m\n\u001b[0;32m   <a href='file:///c%3A/Users/vibal/PycharmProjects/text-games/venv/lib/site-packages/torch/nn/modules/module.py?line=1097'>1098</a>\u001b[0m \u001b[39m# If we don't have any hooks, we want to skip the rest of the logic in\u001b[39;00m\n\u001b[0;32m   <a href='file:///c%3A/Users/vibal/PycharmProjects/text-games/venv/lib/site-packages/torch/nn/modules/module.py?line=1098'>1099</a>\u001b[0m \u001b[39m# this function, and just call forward.\u001b[39;00m\n\u001b[0;32m   <a href='file:///c%3A/Users/vibal/PycharmProjects/text-games/venv/lib/site-packages/torch/nn/modules/module.py?line=1099'>1100</a>\u001b[0m \u001b[39mif\u001b[39;00m \u001b[39mnot\u001b[39;00m (\u001b[39mself\u001b[39m\u001b[39m.\u001b[39m_backward_hooks \u001b[39mor\u001b[39;00m \u001b[39mself\u001b[39m\u001b[39m.\u001b[39m_forward_hooks \u001b[39mor\u001b[39;00m \u001b[39mself\u001b[39m\u001b[39m.\u001b[39m_forward_pre_hooks \u001b[39mor\u001b[39;00m _global_backward_hooks\n\u001b[0;32m   <a href='file:///c%3A/Users/vibal/PycharmProjects/text-games/venv/lib/site-packages/torch/nn/modules/module.py?line=1100'>1101</a>\u001b[0m         \u001b[39mor\u001b[39;00m _global_forward_hooks \u001b[39mor\u001b[39;00m _global_forward_pre_hooks):\n\u001b[1;32m-> <a href='file:///c%3A/Users/vibal/PycharmProjects/text-games/venv/lib/site-packages/torch/nn/modules/module.py?line=1101'>1102</a>\u001b[0m     \u001b[39mreturn\u001b[39;00m forward_call(\u001b[39m*\u001b[39m\u001b[39minput\u001b[39m, \u001b[39m*\u001b[39m\u001b[39m*\u001b[39mkwargs)\n\u001b[0;32m   <a href='file:///c%3A/Users/vibal/PycharmProjects/text-games/venv/lib/site-packages/torch/nn/modules/module.py?line=1102'>1103</a>\u001b[0m \u001b[39m# Do not call functions when jit is used\u001b[39;00m\n\u001b[0;32m   <a href='file:///c%3A/Users/vibal/PycharmProjects/text-games/venv/lib/site-packages/torch/nn/modules/module.py?line=1103'>1104</a>\u001b[0m full_backward_hooks, non_full_backward_hooks \u001b[39m=\u001b[39m [], []\n",
      "File \u001b[1;32mc:\\Users\\vibal\\PycharmProjects\\text-games\\venv\\lib\\site-packages\\transformers\\models\\bert\\modeling_bert.py:585\u001b[0m, in \u001b[0;36mBertEncoder.forward\u001b[1;34m(self, hidden_states, attention_mask, head_mask, encoder_hidden_states, encoder_attention_mask, past_key_values, use_cache, output_attentions, output_hidden_states, return_dict)\u001b[0m\n\u001b[0;32m    <a href='file:///c%3A/Users/vibal/PycharmProjects/text-games/venv/lib/site-packages/transformers/models/bert/modeling_bert.py?line=575'>576</a>\u001b[0m     layer_outputs \u001b[39m=\u001b[39m torch\u001b[39m.\u001b[39mutils\u001b[39m.\u001b[39mcheckpoint\u001b[39m.\u001b[39mcheckpoint(\n\u001b[0;32m    <a href='file:///c%3A/Users/vibal/PycharmProjects/text-games/venv/lib/site-packages/transformers/models/bert/modeling_bert.py?line=576'>577</a>\u001b[0m         create_custom_forward(layer_module),\n\u001b[0;32m    <a href='file:///c%3A/Users/vibal/PycharmProjects/text-games/venv/lib/site-packages/transformers/models/bert/modeling_bert.py?line=577'>578</a>\u001b[0m         hidden_states,\n\u001b[1;32m   (...)\u001b[0m\n\u001b[0;32m    <a href='file:///c%3A/Users/vibal/PycharmProjects/text-games/venv/lib/site-packages/transformers/models/bert/modeling_bert.py?line=581'>582</a>\u001b[0m         encoder_attention_mask,\n\u001b[0;32m    <a href='file:///c%3A/Users/vibal/PycharmProjects/text-games/venv/lib/site-packages/transformers/models/bert/modeling_bert.py?line=582'>583</a>\u001b[0m     )\n\u001b[0;32m    <a href='file:///c%3A/Users/vibal/PycharmProjects/text-games/venv/lib/site-packages/transformers/models/bert/modeling_bert.py?line=583'>584</a>\u001b[0m \u001b[39melse\u001b[39;00m:\n\u001b[1;32m--> <a href='file:///c%3A/Users/vibal/PycharmProjects/text-games/venv/lib/site-packages/transformers/models/bert/modeling_bert.py?line=584'>585</a>\u001b[0m     layer_outputs \u001b[39m=\u001b[39m layer_module(\n\u001b[0;32m    <a href='file:///c%3A/Users/vibal/PycharmProjects/text-games/venv/lib/site-packages/transformers/models/bert/modeling_bert.py?line=585'>586</a>\u001b[0m         hidden_states,\n\u001b[0;32m    <a href='file:///c%3A/Users/vibal/PycharmProjects/text-games/venv/lib/site-packages/transformers/models/bert/modeling_bert.py?line=586'>587</a>\u001b[0m         attention_mask,\n\u001b[0;32m    <a href='file:///c%3A/Users/vibal/PycharmProjects/text-games/venv/lib/site-packages/transformers/models/bert/modeling_bert.py?line=587'>588</a>\u001b[0m         layer_head_mask,\n\u001b[0;32m    <a href='file:///c%3A/Users/vibal/PycharmProjects/text-games/venv/lib/site-packages/transformers/models/bert/modeling_bert.py?line=588'>589</a>\u001b[0m         encoder_hidden_states,\n\u001b[0;32m    <a href='file:///c%3A/Users/vibal/PycharmProjects/text-games/venv/lib/site-packages/transformers/models/bert/modeling_bert.py?line=589'>590</a>\u001b[0m         encoder_attention_mask,\n\u001b[0;32m    <a href='file:///c%3A/Users/vibal/PycharmProjects/text-games/venv/lib/site-packages/transformers/models/bert/modeling_bert.py?line=590'>591</a>\u001b[0m         past_key_value,\n\u001b[0;32m    <a href='file:///c%3A/Users/vibal/PycharmProjects/text-games/venv/lib/site-packages/transformers/models/bert/modeling_bert.py?line=591'>592</a>\u001b[0m         output_attentions,\n\u001b[0;32m    <a href='file:///c%3A/Users/vibal/PycharmProjects/text-games/venv/lib/site-packages/transformers/models/bert/modeling_bert.py?line=592'>593</a>\u001b[0m     )\n\u001b[0;32m    <a href='file:///c%3A/Users/vibal/PycharmProjects/text-games/venv/lib/site-packages/transformers/models/bert/modeling_bert.py?line=594'>595</a>\u001b[0m hidden_states \u001b[39m=\u001b[39m layer_outputs[\u001b[39m0\u001b[39m]\n\u001b[0;32m    <a href='file:///c%3A/Users/vibal/PycharmProjects/text-games/venv/lib/site-packages/transformers/models/bert/modeling_bert.py?line=595'>596</a>\u001b[0m \u001b[39mif\u001b[39;00m use_cache:\n",
      "File \u001b[1;32mc:\\Users\\vibal\\PycharmProjects\\text-games\\venv\\lib\\site-packages\\torch\\nn\\modules\\module.py:1102\u001b[0m, in \u001b[0;36mModule._call_impl\u001b[1;34m(self, *input, **kwargs)\u001b[0m\n\u001b[0;32m   <a href='file:///c%3A/Users/vibal/PycharmProjects/text-games/venv/lib/site-packages/torch/nn/modules/module.py?line=1097'>1098</a>\u001b[0m \u001b[39m# If we don't have any hooks, we want to skip the rest of the logic in\u001b[39;00m\n\u001b[0;32m   <a href='file:///c%3A/Users/vibal/PycharmProjects/text-games/venv/lib/site-packages/torch/nn/modules/module.py?line=1098'>1099</a>\u001b[0m \u001b[39m# this function, and just call forward.\u001b[39;00m\n\u001b[0;32m   <a href='file:///c%3A/Users/vibal/PycharmProjects/text-games/venv/lib/site-packages/torch/nn/modules/module.py?line=1099'>1100</a>\u001b[0m \u001b[39mif\u001b[39;00m \u001b[39mnot\u001b[39;00m (\u001b[39mself\u001b[39m\u001b[39m.\u001b[39m_backward_hooks \u001b[39mor\u001b[39;00m \u001b[39mself\u001b[39m\u001b[39m.\u001b[39m_forward_hooks \u001b[39mor\u001b[39;00m \u001b[39mself\u001b[39m\u001b[39m.\u001b[39m_forward_pre_hooks \u001b[39mor\u001b[39;00m _global_backward_hooks\n\u001b[0;32m   <a href='file:///c%3A/Users/vibal/PycharmProjects/text-games/venv/lib/site-packages/torch/nn/modules/module.py?line=1100'>1101</a>\u001b[0m         \u001b[39mor\u001b[39;00m _global_forward_hooks \u001b[39mor\u001b[39;00m _global_forward_pre_hooks):\n\u001b[1;32m-> <a href='file:///c%3A/Users/vibal/PycharmProjects/text-games/venv/lib/site-packages/torch/nn/modules/module.py?line=1101'>1102</a>\u001b[0m     \u001b[39mreturn\u001b[39;00m forward_call(\u001b[39m*\u001b[39m\u001b[39minput\u001b[39m, \u001b[39m*\u001b[39m\u001b[39m*\u001b[39mkwargs)\n\u001b[0;32m   <a href='file:///c%3A/Users/vibal/PycharmProjects/text-games/venv/lib/site-packages/torch/nn/modules/module.py?line=1102'>1103</a>\u001b[0m \u001b[39m# Do not call functions when jit is used\u001b[39;00m\n\u001b[0;32m   <a href='file:///c%3A/Users/vibal/PycharmProjects/text-games/venv/lib/site-packages/torch/nn/modules/module.py?line=1103'>1104</a>\u001b[0m full_backward_hooks, non_full_backward_hooks \u001b[39m=\u001b[39m [], []\n",
      "File \u001b[1;32mc:\\Users\\vibal\\PycharmProjects\\text-games\\venv\\lib\\site-packages\\transformers\\models\\bert\\modeling_bert.py:472\u001b[0m, in \u001b[0;36mBertLayer.forward\u001b[1;34m(self, hidden_states, attention_mask, head_mask, encoder_hidden_states, encoder_attention_mask, past_key_value, output_attentions)\u001b[0m\n\u001b[0;32m    <a href='file:///c%3A/Users/vibal/PycharmProjects/text-games/venv/lib/site-packages/transformers/models/bert/modeling_bert.py?line=459'>460</a>\u001b[0m \u001b[39mdef\u001b[39;00m \u001b[39mforward\u001b[39m(\n\u001b[0;32m    <a href='file:///c%3A/Users/vibal/PycharmProjects/text-games/venv/lib/site-packages/transformers/models/bert/modeling_bert.py?line=460'>461</a>\u001b[0m     \u001b[39mself\u001b[39m,\n\u001b[0;32m    <a href='file:///c%3A/Users/vibal/PycharmProjects/text-games/venv/lib/site-packages/transformers/models/bert/modeling_bert.py?line=461'>462</a>\u001b[0m     hidden_states,\n\u001b[1;32m   (...)\u001b[0m\n\u001b[0;32m    <a href='file:///c%3A/Users/vibal/PycharmProjects/text-games/venv/lib/site-packages/transformers/models/bert/modeling_bert.py?line=468'>469</a>\u001b[0m ):\n\u001b[0;32m    <a href='file:///c%3A/Users/vibal/PycharmProjects/text-games/venv/lib/site-packages/transformers/models/bert/modeling_bert.py?line=469'>470</a>\u001b[0m     \u001b[39m# decoder uni-directional self-attention cached key/values tuple is at positions 1,2\u001b[39;00m\n\u001b[0;32m    <a href='file:///c%3A/Users/vibal/PycharmProjects/text-games/venv/lib/site-packages/transformers/models/bert/modeling_bert.py?line=470'>471</a>\u001b[0m     self_attn_past_key_value \u001b[39m=\u001b[39m past_key_value[:\u001b[39m2\u001b[39m] \u001b[39mif\u001b[39;00m past_key_value \u001b[39mis\u001b[39;00m \u001b[39mnot\u001b[39;00m \u001b[39mNone\u001b[39;00m \u001b[39melse\u001b[39;00m \u001b[39mNone\u001b[39;00m\n\u001b[1;32m--> <a href='file:///c%3A/Users/vibal/PycharmProjects/text-games/venv/lib/site-packages/transformers/models/bert/modeling_bert.py?line=471'>472</a>\u001b[0m     self_attention_outputs \u001b[39m=\u001b[39m \u001b[39mself\u001b[39;49m\u001b[39m.\u001b[39;49mattention(\n\u001b[0;32m    <a href='file:///c%3A/Users/vibal/PycharmProjects/text-games/venv/lib/site-packages/transformers/models/bert/modeling_bert.py?line=472'>473</a>\u001b[0m         hidden_states,\n\u001b[0;32m    <a href='file:///c%3A/Users/vibal/PycharmProjects/text-games/venv/lib/site-packages/transformers/models/bert/modeling_bert.py?line=473'>474</a>\u001b[0m         attention_mask,\n\u001b[0;32m    <a href='file:///c%3A/Users/vibal/PycharmProjects/text-games/venv/lib/site-packages/transformers/models/bert/modeling_bert.py?line=474'>475</a>\u001b[0m         head_mask,\n\u001b[0;32m    <a href='file:///c%3A/Users/vibal/PycharmProjects/text-games/venv/lib/site-packages/transformers/models/bert/modeling_bert.py?line=475'>476</a>\u001b[0m         output_attentions\u001b[39m=\u001b[39;49moutput_attentions,\n\u001b[0;32m    <a href='file:///c%3A/Users/vibal/PycharmProjects/text-games/venv/lib/site-packages/transformers/models/bert/modeling_bert.py?line=476'>477</a>\u001b[0m         past_key_value\u001b[39m=\u001b[39;49mself_attn_past_key_value,\n\u001b[0;32m    <a href='file:///c%3A/Users/vibal/PycharmProjects/text-games/venv/lib/site-packages/transformers/models/bert/modeling_bert.py?line=477'>478</a>\u001b[0m     )\n\u001b[0;32m    <a href='file:///c%3A/Users/vibal/PycharmProjects/text-games/venv/lib/site-packages/transformers/models/bert/modeling_bert.py?line=478'>479</a>\u001b[0m     attention_output \u001b[39m=\u001b[39m self_attention_outputs[\u001b[39m0\u001b[39m]\n\u001b[0;32m    <a href='file:///c%3A/Users/vibal/PycharmProjects/text-games/venv/lib/site-packages/transformers/models/bert/modeling_bert.py?line=480'>481</a>\u001b[0m     \u001b[39m# if decoder, the last output is tuple of self-attn cache\u001b[39;00m\n",
      "File \u001b[1;32mc:\\Users\\vibal\\PycharmProjects\\text-games\\venv\\lib\\site-packages\\torch\\nn\\modules\\module.py:1102\u001b[0m, in \u001b[0;36mModule._call_impl\u001b[1;34m(self, *input, **kwargs)\u001b[0m\n\u001b[0;32m   <a href='file:///c%3A/Users/vibal/PycharmProjects/text-games/venv/lib/site-packages/torch/nn/modules/module.py?line=1097'>1098</a>\u001b[0m \u001b[39m# If we don't have any hooks, we want to skip the rest of the logic in\u001b[39;00m\n\u001b[0;32m   <a href='file:///c%3A/Users/vibal/PycharmProjects/text-games/venv/lib/site-packages/torch/nn/modules/module.py?line=1098'>1099</a>\u001b[0m \u001b[39m# this function, and just call forward.\u001b[39;00m\n\u001b[0;32m   <a href='file:///c%3A/Users/vibal/PycharmProjects/text-games/venv/lib/site-packages/torch/nn/modules/module.py?line=1099'>1100</a>\u001b[0m \u001b[39mif\u001b[39;00m \u001b[39mnot\u001b[39;00m (\u001b[39mself\u001b[39m\u001b[39m.\u001b[39m_backward_hooks \u001b[39mor\u001b[39;00m \u001b[39mself\u001b[39m\u001b[39m.\u001b[39m_forward_hooks \u001b[39mor\u001b[39;00m \u001b[39mself\u001b[39m\u001b[39m.\u001b[39m_forward_pre_hooks \u001b[39mor\u001b[39;00m _global_backward_hooks\n\u001b[0;32m   <a href='file:///c%3A/Users/vibal/PycharmProjects/text-games/venv/lib/site-packages/torch/nn/modules/module.py?line=1100'>1101</a>\u001b[0m         \u001b[39mor\u001b[39;00m _global_forward_hooks \u001b[39mor\u001b[39;00m _global_forward_pre_hooks):\n\u001b[1;32m-> <a href='file:///c%3A/Users/vibal/PycharmProjects/text-games/venv/lib/site-packages/torch/nn/modules/module.py?line=1101'>1102</a>\u001b[0m     \u001b[39mreturn\u001b[39;00m forward_call(\u001b[39m*\u001b[39m\u001b[39minput\u001b[39m, \u001b[39m*\u001b[39m\u001b[39m*\u001b[39mkwargs)\n\u001b[0;32m   <a href='file:///c%3A/Users/vibal/PycharmProjects/text-games/venv/lib/site-packages/torch/nn/modules/module.py?line=1102'>1103</a>\u001b[0m \u001b[39m# Do not call functions when jit is used\u001b[39;00m\n\u001b[0;32m   <a href='file:///c%3A/Users/vibal/PycharmProjects/text-games/venv/lib/site-packages/torch/nn/modules/module.py?line=1103'>1104</a>\u001b[0m full_backward_hooks, non_full_backward_hooks \u001b[39m=\u001b[39m [], []\n",
      "File \u001b[1;32mc:\\Users\\vibal\\PycharmProjects\\text-games\\venv\\lib\\site-packages\\transformers\\models\\bert\\modeling_bert.py:402\u001b[0m, in \u001b[0;36mBertAttention.forward\u001b[1;34m(self, hidden_states, attention_mask, head_mask, encoder_hidden_states, encoder_attention_mask, past_key_value, output_attentions)\u001b[0m\n\u001b[0;32m    <a href='file:///c%3A/Users/vibal/PycharmProjects/text-games/venv/lib/site-packages/transformers/models/bert/modeling_bert.py?line=391'>392</a>\u001b[0m \u001b[39mdef\u001b[39;00m \u001b[39mforward\u001b[39m(\n\u001b[0;32m    <a href='file:///c%3A/Users/vibal/PycharmProjects/text-games/venv/lib/site-packages/transformers/models/bert/modeling_bert.py?line=392'>393</a>\u001b[0m     \u001b[39mself\u001b[39m,\n\u001b[0;32m    <a href='file:///c%3A/Users/vibal/PycharmProjects/text-games/venv/lib/site-packages/transformers/models/bert/modeling_bert.py?line=393'>394</a>\u001b[0m     hidden_states,\n\u001b[1;32m   (...)\u001b[0m\n\u001b[0;32m    <a href='file:///c%3A/Users/vibal/PycharmProjects/text-games/venv/lib/site-packages/transformers/models/bert/modeling_bert.py?line=399'>400</a>\u001b[0m     output_attentions\u001b[39m=\u001b[39m\u001b[39mFalse\u001b[39;00m,\n\u001b[0;32m    <a href='file:///c%3A/Users/vibal/PycharmProjects/text-games/venv/lib/site-packages/transformers/models/bert/modeling_bert.py?line=400'>401</a>\u001b[0m ):\n\u001b[1;32m--> <a href='file:///c%3A/Users/vibal/PycharmProjects/text-games/venv/lib/site-packages/transformers/models/bert/modeling_bert.py?line=401'>402</a>\u001b[0m     self_outputs \u001b[39m=\u001b[39m \u001b[39mself\u001b[39;49m\u001b[39m.\u001b[39;49mself(\n\u001b[0;32m    <a href='file:///c%3A/Users/vibal/PycharmProjects/text-games/venv/lib/site-packages/transformers/models/bert/modeling_bert.py?line=402'>403</a>\u001b[0m         hidden_states,\n\u001b[0;32m    <a href='file:///c%3A/Users/vibal/PycharmProjects/text-games/venv/lib/site-packages/transformers/models/bert/modeling_bert.py?line=403'>404</a>\u001b[0m         attention_mask,\n\u001b[0;32m    <a href='file:///c%3A/Users/vibal/PycharmProjects/text-games/venv/lib/site-packages/transformers/models/bert/modeling_bert.py?line=404'>405</a>\u001b[0m         head_mask,\n\u001b[0;32m    <a href='file:///c%3A/Users/vibal/PycharmProjects/text-games/venv/lib/site-packages/transformers/models/bert/modeling_bert.py?line=405'>406</a>\u001b[0m         encoder_hidden_states,\n\u001b[0;32m    <a href='file:///c%3A/Users/vibal/PycharmProjects/text-games/venv/lib/site-packages/transformers/models/bert/modeling_bert.py?line=406'>407</a>\u001b[0m         encoder_attention_mask,\n\u001b[0;32m    <a href='file:///c%3A/Users/vibal/PycharmProjects/text-games/venv/lib/site-packages/transformers/models/bert/modeling_bert.py?line=407'>408</a>\u001b[0m         past_key_value,\n\u001b[0;32m    <a href='file:///c%3A/Users/vibal/PycharmProjects/text-games/venv/lib/site-packages/transformers/models/bert/modeling_bert.py?line=408'>409</a>\u001b[0m         output_attentions,\n\u001b[0;32m    <a href='file:///c%3A/Users/vibal/PycharmProjects/text-games/venv/lib/site-packages/transformers/models/bert/modeling_bert.py?line=409'>410</a>\u001b[0m     )\n\u001b[0;32m    <a href='file:///c%3A/Users/vibal/PycharmProjects/text-games/venv/lib/site-packages/transformers/models/bert/modeling_bert.py?line=410'>411</a>\u001b[0m     attention_output \u001b[39m=\u001b[39m \u001b[39mself\u001b[39m\u001b[39m.\u001b[39moutput(self_outputs[\u001b[39m0\u001b[39m], hidden_states)\n\u001b[0;32m    <a href='file:///c%3A/Users/vibal/PycharmProjects/text-games/venv/lib/site-packages/transformers/models/bert/modeling_bert.py?line=411'>412</a>\u001b[0m     outputs \u001b[39m=\u001b[39m (attention_output,) \u001b[39m+\u001b[39m self_outputs[\u001b[39m1\u001b[39m:]  \u001b[39m# add attentions if we output them\u001b[39;00m\n",
      "File \u001b[1;32mc:\\Users\\vibal\\PycharmProjects\\text-games\\venv\\lib\\site-packages\\torch\\nn\\modules\\module.py:1102\u001b[0m, in \u001b[0;36mModule._call_impl\u001b[1;34m(self, *input, **kwargs)\u001b[0m\n\u001b[0;32m   <a href='file:///c%3A/Users/vibal/PycharmProjects/text-games/venv/lib/site-packages/torch/nn/modules/module.py?line=1097'>1098</a>\u001b[0m \u001b[39m# If we don't have any hooks, we want to skip the rest of the logic in\u001b[39;00m\n\u001b[0;32m   <a href='file:///c%3A/Users/vibal/PycharmProjects/text-games/venv/lib/site-packages/torch/nn/modules/module.py?line=1098'>1099</a>\u001b[0m \u001b[39m# this function, and just call forward.\u001b[39;00m\n\u001b[0;32m   <a href='file:///c%3A/Users/vibal/PycharmProjects/text-games/venv/lib/site-packages/torch/nn/modules/module.py?line=1099'>1100</a>\u001b[0m \u001b[39mif\u001b[39;00m \u001b[39mnot\u001b[39;00m (\u001b[39mself\u001b[39m\u001b[39m.\u001b[39m_backward_hooks \u001b[39mor\u001b[39;00m \u001b[39mself\u001b[39m\u001b[39m.\u001b[39m_forward_hooks \u001b[39mor\u001b[39;00m \u001b[39mself\u001b[39m\u001b[39m.\u001b[39m_forward_pre_hooks \u001b[39mor\u001b[39;00m _global_backward_hooks\n\u001b[0;32m   <a href='file:///c%3A/Users/vibal/PycharmProjects/text-games/venv/lib/site-packages/torch/nn/modules/module.py?line=1100'>1101</a>\u001b[0m         \u001b[39mor\u001b[39;00m _global_forward_hooks \u001b[39mor\u001b[39;00m _global_forward_pre_hooks):\n\u001b[1;32m-> <a href='file:///c%3A/Users/vibal/PycharmProjects/text-games/venv/lib/site-packages/torch/nn/modules/module.py?line=1101'>1102</a>\u001b[0m     \u001b[39mreturn\u001b[39;00m forward_call(\u001b[39m*\u001b[39m\u001b[39minput\u001b[39m, \u001b[39m*\u001b[39m\u001b[39m*\u001b[39mkwargs)\n\u001b[0;32m   <a href='file:///c%3A/Users/vibal/PycharmProjects/text-games/venv/lib/site-packages/torch/nn/modules/module.py?line=1102'>1103</a>\u001b[0m \u001b[39m# Do not call functions when jit is used\u001b[39;00m\n\u001b[0;32m   <a href='file:///c%3A/Users/vibal/PycharmProjects/text-games/venv/lib/site-packages/torch/nn/modules/module.py?line=1103'>1104</a>\u001b[0m full_backward_hooks, non_full_backward_hooks \u001b[39m=\u001b[39m [], []\n",
      "File \u001b[1;32mc:\\Users\\vibal\\PycharmProjects\\text-games\\venv\\lib\\site-packages\\transformers\\models\\bert\\modeling_bert.py:268\u001b[0m, in \u001b[0;36mBertSelfAttention.forward\u001b[1;34m(self, hidden_states, attention_mask, head_mask, encoder_hidden_states, encoder_attention_mask, past_key_value, output_attentions)\u001b[0m\n\u001b[0;32m    <a href='file:///c%3A/Users/vibal/PycharmProjects/text-games/venv/lib/site-packages/transformers/models/bert/modeling_bert.py?line=257'>258</a>\u001b[0m \u001b[39mdef\u001b[39;00m \u001b[39mforward\u001b[39m(\n\u001b[0;32m    <a href='file:///c%3A/Users/vibal/PycharmProjects/text-games/venv/lib/site-packages/transformers/models/bert/modeling_bert.py?line=258'>259</a>\u001b[0m     \u001b[39mself\u001b[39m,\n\u001b[0;32m    <a href='file:///c%3A/Users/vibal/PycharmProjects/text-games/venv/lib/site-packages/transformers/models/bert/modeling_bert.py?line=259'>260</a>\u001b[0m     hidden_states,\n\u001b[1;32m   (...)\u001b[0m\n\u001b[0;32m    <a href='file:///c%3A/Users/vibal/PycharmProjects/text-games/venv/lib/site-packages/transformers/models/bert/modeling_bert.py?line=265'>266</a>\u001b[0m     output_attentions\u001b[39m=\u001b[39m\u001b[39mFalse\u001b[39;00m,\n\u001b[0;32m    <a href='file:///c%3A/Users/vibal/PycharmProjects/text-games/venv/lib/site-packages/transformers/models/bert/modeling_bert.py?line=266'>267</a>\u001b[0m ):\n\u001b[1;32m--> <a href='file:///c%3A/Users/vibal/PycharmProjects/text-games/venv/lib/site-packages/transformers/models/bert/modeling_bert.py?line=267'>268</a>\u001b[0m     mixed_query_layer \u001b[39m=\u001b[39m \u001b[39mself\u001b[39;49m\u001b[39m.\u001b[39;49mquery(hidden_states)\n\u001b[0;32m    <a href='file:///c%3A/Users/vibal/PycharmProjects/text-games/venv/lib/site-packages/transformers/models/bert/modeling_bert.py?line=269'>270</a>\u001b[0m     \u001b[39m# If this is instantiated as a cross-attention module, the keys\u001b[39;00m\n\u001b[0;32m    <a href='file:///c%3A/Users/vibal/PycharmProjects/text-games/venv/lib/site-packages/transformers/models/bert/modeling_bert.py?line=270'>271</a>\u001b[0m     \u001b[39m# and values come from an encoder; the attention mask needs to be\u001b[39;00m\n\u001b[0;32m    <a href='file:///c%3A/Users/vibal/PycharmProjects/text-games/venv/lib/site-packages/transformers/models/bert/modeling_bert.py?line=271'>272</a>\u001b[0m     \u001b[39m# such that the encoder's padding tokens are not attended to.\u001b[39;00m\n\u001b[0;32m    <a href='file:///c%3A/Users/vibal/PycharmProjects/text-games/venv/lib/site-packages/transformers/models/bert/modeling_bert.py?line=272'>273</a>\u001b[0m     is_cross_attention \u001b[39m=\u001b[39m encoder_hidden_states \u001b[39mis\u001b[39;00m \u001b[39mnot\u001b[39;00m \u001b[39mNone\u001b[39;00m\n",
      "File \u001b[1;32mc:\\Users\\vibal\\PycharmProjects\\text-games\\venv\\lib\\site-packages\\torch\\nn\\modules\\module.py:1102\u001b[0m, in \u001b[0;36mModule._call_impl\u001b[1;34m(self, *input, **kwargs)\u001b[0m\n\u001b[0;32m   <a href='file:///c%3A/Users/vibal/PycharmProjects/text-games/venv/lib/site-packages/torch/nn/modules/module.py?line=1097'>1098</a>\u001b[0m \u001b[39m# If we don't have any hooks, we want to skip the rest of the logic in\u001b[39;00m\n\u001b[0;32m   <a href='file:///c%3A/Users/vibal/PycharmProjects/text-games/venv/lib/site-packages/torch/nn/modules/module.py?line=1098'>1099</a>\u001b[0m \u001b[39m# this function, and just call forward.\u001b[39;00m\n\u001b[0;32m   <a href='file:///c%3A/Users/vibal/PycharmProjects/text-games/venv/lib/site-packages/torch/nn/modules/module.py?line=1099'>1100</a>\u001b[0m \u001b[39mif\u001b[39;00m \u001b[39mnot\u001b[39;00m (\u001b[39mself\u001b[39m\u001b[39m.\u001b[39m_backward_hooks \u001b[39mor\u001b[39;00m \u001b[39mself\u001b[39m\u001b[39m.\u001b[39m_forward_hooks \u001b[39mor\u001b[39;00m \u001b[39mself\u001b[39m\u001b[39m.\u001b[39m_forward_pre_hooks \u001b[39mor\u001b[39;00m _global_backward_hooks\n\u001b[0;32m   <a href='file:///c%3A/Users/vibal/PycharmProjects/text-games/venv/lib/site-packages/torch/nn/modules/module.py?line=1100'>1101</a>\u001b[0m         \u001b[39mor\u001b[39;00m _global_forward_hooks \u001b[39mor\u001b[39;00m _global_forward_pre_hooks):\n\u001b[1;32m-> <a href='file:///c%3A/Users/vibal/PycharmProjects/text-games/venv/lib/site-packages/torch/nn/modules/module.py?line=1101'>1102</a>\u001b[0m     \u001b[39mreturn\u001b[39;00m forward_call(\u001b[39m*\u001b[39m\u001b[39minput\u001b[39m, \u001b[39m*\u001b[39m\u001b[39m*\u001b[39mkwargs)\n\u001b[0;32m   <a href='file:///c%3A/Users/vibal/PycharmProjects/text-games/venv/lib/site-packages/torch/nn/modules/module.py?line=1102'>1103</a>\u001b[0m \u001b[39m# Do not call functions when jit is used\u001b[39;00m\n\u001b[0;32m   <a href='file:///c%3A/Users/vibal/PycharmProjects/text-games/venv/lib/site-packages/torch/nn/modules/module.py?line=1103'>1104</a>\u001b[0m full_backward_hooks, non_full_backward_hooks \u001b[39m=\u001b[39m [], []\n",
      "File \u001b[1;32mc:\\Users\\vibal\\PycharmProjects\\text-games\\venv\\lib\\site-packages\\torch\\nn\\modules\\linear.py:103\u001b[0m, in \u001b[0;36mLinear.forward\u001b[1;34m(self, input)\u001b[0m\n\u001b[0;32m    <a href='file:///c%3A/Users/vibal/PycharmProjects/text-games/venv/lib/site-packages/torch/nn/modules/linear.py?line=101'>102</a>\u001b[0m \u001b[39mdef\u001b[39;00m \u001b[39mforward\u001b[39m(\u001b[39mself\u001b[39m, \u001b[39minput\u001b[39m: Tensor) \u001b[39m-\u001b[39m\u001b[39m>\u001b[39m Tensor:\n\u001b[1;32m--> <a href='file:///c%3A/Users/vibal/PycharmProjects/text-games/venv/lib/site-packages/torch/nn/modules/linear.py?line=102'>103</a>\u001b[0m     \u001b[39mreturn\u001b[39;00m F\u001b[39m.\u001b[39;49mlinear(\u001b[39minput\u001b[39;49m, \u001b[39mself\u001b[39;49m\u001b[39m.\u001b[39;49mweight, \u001b[39mself\u001b[39;49m\u001b[39m.\u001b[39;49mbias)\n",
      "File \u001b[1;32mc:\\Users\\vibal\\PycharmProjects\\text-games\\venv\\lib\\site-packages\\torch\\nn\\functional.py:1848\u001b[0m, in \u001b[0;36mlinear\u001b[1;34m(input, weight, bias)\u001b[0m\n\u001b[0;32m   <a href='file:///c%3A/Users/vibal/PycharmProjects/text-games/venv/lib/site-packages/torch/nn/functional.py?line=1845'>1846</a>\u001b[0m \u001b[39mif\u001b[39;00m has_torch_function_variadic(\u001b[39minput\u001b[39m, weight, bias):\n\u001b[0;32m   <a href='file:///c%3A/Users/vibal/PycharmProjects/text-games/venv/lib/site-packages/torch/nn/functional.py?line=1846'>1847</a>\u001b[0m     \u001b[39mreturn\u001b[39;00m handle_torch_function(linear, (\u001b[39minput\u001b[39m, weight, bias), \u001b[39minput\u001b[39m, weight, bias\u001b[39m=\u001b[39mbias)\n\u001b[1;32m-> <a href='file:///c%3A/Users/vibal/PycharmProjects/text-games/venv/lib/site-packages/torch/nn/functional.py?line=1847'>1848</a>\u001b[0m \u001b[39mreturn\u001b[39;00m torch\u001b[39m.\u001b[39;49m_C\u001b[39m.\u001b[39;49m_nn\u001b[39m.\u001b[39;49mlinear(\u001b[39minput\u001b[39;49m, weight, bias)\n",
      "\u001b[1;31mRuntimeError\u001b[0m: Deterministic behavior was enabled with either `torch.use_deterministic_algorithms(True)` or `at::Context::setDeterministicAlgorithms(true)`, but this operation is not deterministic because it uses CuBLAS and you have CUDA >= 10.2. To enable deterministic behavior in this case, you must set an environment variable before running your PyTorch application: CUBLAS_WORKSPACE_CONFIG=:4096:8 or CUBLAS_WORKSPACE_CONFIG=:16:8. For more information, go to https://docs.nvidia.com/cuda/cublas/index.html#cublasApi_reproducibility"
     ]
    }
   ],
   "source": [
    "if do_train:\n",
    "    for d in tqdm(list_model):\n",
    "        set_seed(seed)\n",
    "        d = d.copy()\n",
    "\n",
    "        train(\n",
    "            model=StateActionModel(**d),\n",
    "            dict_model=d,\n",
    "            log_dir=log_dir,\n",
    "            graph=graph,\n",
    "            save_path=save_model,\n",
    "            lr=1e-3,\n",
    "            optimizer_name=\"adamw\",\n",
    "            n_epochs=4500,\n",
    "            batch_size=8,\n",
    "            num_workers=0,\n",
    "            scheduler_mode='max_val_acc',\n",
    "            debug_mode=False,\n",
    "            steps_save=450,\n",
    "            use_cpu=False,\n",
    "            freeze_bert=True,\n",
    "            balanced_actions=True,\n",
    "            augment_negative=True,\n",
    "            scheduler_patience=450,\n",
    "        )"
   ]
  },
  {
   "cell_type": "markdown",
   "metadata": {},
   "source": [
    "#### Results"
   ]
  },
  {
   "cell_type": "code",
   "execution_count": null,
   "metadata": {},
   "outputs": [],
   "source": [
    "res_test = test(\n",
    "    graph=graph,\n",
    "    save_path=save_model,\n",
    "    n_runs=1,\n",
    "    batch_size=64,\n",
    "    num_workers=0,\n",
    "    debug_mode=False,\n",
    "    use_cpu=False,\n",
    "    save=True,\n",
    ")\n",
    "\n",
    "toast.show_toast(\"Done\")"
   ]
  },
  {
   "cell_type": "code",
   "execution_count": null,
   "metadata": {},
   "outputs": [],
   "source": [
    "res_test[0]"
   ]
  },
  {
   "cell_type": "code",
   "execution_count": null,
   "metadata": {},
   "outputs": [],
   "source": [
    "all = res_test\n",
    "# ascending order\n",
    "sort_idx = np.argsort([k['dict'][metric_filter_1] for k in all])[::-1]\n",
    "all[sort_idx[0]]['dict']"
   ]
  },
  {
   "cell_type": "code",
   "execution_count": null,
   "metadata": {},
   "outputs": [],
   "source": [
    "all = res_test\n",
    "# ascending order\n",
    "sort_idx = np.argsort([k['dict'][metric_filter_2] for k in all])[::-1]\n",
    "all[sort_idx[0]]['dict']"
   ]
  },
  {
   "cell_type": "markdown",
   "metadata": {},
   "source": [
    "#### cm"
   ]
  },
  {
   "cell_type": "code",
   "execution_count": null,
   "metadata": {},
   "outputs": [],
   "source": [
    "cm = all[sort_idx[0]]['test_cm'][0]"
   ]
  },
  {
   "cell_type": "code",
   "execution_count": null,
   "metadata": {},
   "outputs": [],
   "source": [
    "cm.visualize()"
   ]
  },
  {
   "cell_type": "code",
   "execution_count": null,
   "metadata": {},
   "outputs": [],
   "source": [
    "cm.class_accuracy"
   ]
  },
  {
   "cell_type": "code",
   "execution_count": null,
   "metadata": {},
   "outputs": [],
   "source": []
  }
 ],
 "metadata": {
  "interpreter": {
   "hash": "37be9487e307834247f9cc00a1ec46ceeb3f522b7edf17e3b2d74c6ce713e314"
  },
  "kernelspec": {
   "display_name": "Python 3.9.5 ('venv': venv)",
   "language": "python",
   "name": "python3"
  },
  "language_info": {
   "codemirror_mode": {
    "name": "ipython",
    "version": 3
   },
   "file_extension": ".py",
   "mimetype": "text/x-python",
   "name": "python",
   "nbconvert_exporter": "python",
   "pygments_lexer": "ipython3",
   "version": "3.9.5"
  },
  "orig_nbformat": 4
 },
 "nbformat": 4,
 "nbformat_minor": 2
}
